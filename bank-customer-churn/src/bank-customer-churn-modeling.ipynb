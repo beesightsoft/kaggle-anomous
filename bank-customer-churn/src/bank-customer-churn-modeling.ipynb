{
  "cells": [
    {
      "cell_type": "code",
      "source": [
        "# Basic Libraries\n",
        "import numpy as np\n",
        "import pandas as pd\n",
        "import re\n",
        "import warnings\n",
        "warnings.filterwarnings(\"ignore\")\n",
        "\n",
        "# Visualization\n",
        "import matplotlib.pyplot as plt\n",
        "import seaborn as sns\n",
        "from scipy import stats\n",
        "\n",
        "# Preprocessing\n",
        "from sklearn.preprocessing import LabelEncoder, MinMaxScaler \n",
        "\n",
        "# Evaluation\n",
        "from sklearn import metrics\n",
        "from sklearn import linear_model, datasets \n",
        "from sklearn.metrics import accuracy_score, log_loss\n",
        "from sklearn.metrics import confusion_matrix \n",
        "from sklearn.model_selection import StratifiedShuffleSplit\n",
        "from sklearn.model_selection import train_test_split, cross_val_score \n",
        "from sklearn.neighbors import LocalOutlierFactor\n",
        "\n",
        "# Classifier (machine learning algorithm) \n",
        "from sklearn.neighbors import KNeighborsClassifier\n",
        "from sklearn.svm import SVC, LinearSVC\n",
        "from sklearn.tree import DecisionTreeClassifier\n",
        "from sklearn.ensemble import RandomForestRegressor, RandomForestClassifier, AdaBoostClassifier, GradientBoostingClassifier\n",
        "from sklearn.naive_bayes import GaussianNB\n",
        "from sklearn.discriminant_analysis import LinearDiscriminantAnalysis, QuadraticDiscriminantAnalysis\n",
        "from sklearn.linear_model import LogisticRegression\n",
        "from sklearn.linear_model import Perceptron\n",
        "from sklearn.linear_model import SGDClassifier\n",
        "from sklearn.neural_network import MLPClassifier\n",
        "\n",
        "# Read data\n",
        "# https://www.kaggle.com/barelydedicated/bank-customer-churn-modeling\n",
        "dataset = pd.read_csv('../input/Churn_Modelling.csv', header = 0)\n",
        "\n",
        "# Tmp data\n",
        "dataset_tmp = dataset.copy()\n",
        "dataset_tmp.head()"
      ],
      "outputs": [
        {
          "output_type": "execute_result",
          "execution_count": 3,
          "data": {
            "text/plain": [
              "   RowNumber  CustomerId   Surname  CreditScore Geography  Gender  Age  \\\n",
              "0          1    15634602  Hargrave          619    France  Female   42   \n",
              "1          2    15647311      Hill          608     Spain  Female   41   \n",
              "2          3    15619304      Onio          502    France  Female   42   \n",
              "3          4    15701354      Boni          699    France  Female   39   \n",
              "4          5    15737888  Mitchell          850     Spain  Female   43   \n",
              "\n",
              "   Tenure    Balance  NumOfProducts  HasCrCard  IsActiveMember  \\\n",
              "0       2       0.00              1          1               1   \n",
              "1       1   83807.86              1          0               1   \n",
              "2       8  159660.80              3          1               0   \n",
              "3       1       0.00              2          0               0   \n",
              "4       2  125510.82              1          1               1   \n",
              "\n",
              "   EstimatedSalary  Exited  \n",
              "0        101348.88       1  \n",
              "1        112542.58       0  \n",
              "2        113931.57       1  \n",
              "3         93826.63       0  \n",
              "4         79084.10       0  "
            ],
            "text/html": [
              "<div>\n",
              "<style scoped>\n",
              "    .dataframe tbody tr th:only-of-type {\n",
              "        vertical-align: middle;\n",
              "    }\n",
              "\n",
              "    .dataframe tbody tr th {\n",
              "        vertical-align: top;\n",
              "    }\n",
              "\n",
              "    .dataframe thead th {\n",
              "        text-align: right;\n",
              "    }\n",
              "</style>\n",
              "<table border=\"1\" class=\"dataframe\">\n",
              "  <thead>\n",
              "    <tr style=\"text-align: right;\">\n",
              "      <th></th>\n",
              "      <th>RowNumber</th>\n",
              "      <th>CustomerId</th>\n",
              "      <th>Surname</th>\n",
              "      <th>CreditScore</th>\n",
              "      <th>Geography</th>\n",
              "      <th>Gender</th>\n",
              "      <th>Age</th>\n",
              "      <th>Tenure</th>\n",
              "      <th>Balance</th>\n",
              "      <th>NumOfProducts</th>\n",
              "      <th>HasCrCard</th>\n",
              "      <th>IsActiveMember</th>\n",
              "      <th>EstimatedSalary</th>\n",
              "      <th>Exited</th>\n",
              "    </tr>\n",
              "  </thead>\n",
              "  <tbody>\n",
              "    <tr>\n",
              "      <th>0</th>\n",
              "      <td>1</td>\n",
              "      <td>15634602</td>\n",
              "      <td>Hargrave</td>\n",
              "      <td>619</td>\n",
              "      <td>France</td>\n",
              "      <td>Female</td>\n",
              "      <td>42</td>\n",
              "      <td>2</td>\n",
              "      <td>0.00</td>\n",
              "      <td>1</td>\n",
              "      <td>1</td>\n",
              "      <td>1</td>\n",
              "      <td>101348.88</td>\n",
              "      <td>1</td>\n",
              "    </tr>\n",
              "    <tr>\n",
              "      <th>1</th>\n",
              "      <td>2</td>\n",
              "      <td>15647311</td>\n",
              "      <td>Hill</td>\n",
              "      <td>608</td>\n",
              "      <td>Spain</td>\n",
              "      <td>Female</td>\n",
              "      <td>41</td>\n",
              "      <td>1</td>\n",
              "      <td>83807.86</td>\n",
              "      <td>1</td>\n",
              "      <td>0</td>\n",
              "      <td>1</td>\n",
              "      <td>112542.58</td>\n",
              "      <td>0</td>\n",
              "    </tr>\n",
              "    <tr>\n",
              "      <th>2</th>\n",
              "      <td>3</td>\n",
              "      <td>15619304</td>\n",
              "      <td>Onio</td>\n",
              "      <td>502</td>\n",
              "      <td>France</td>\n",
              "      <td>Female</td>\n",
              "      <td>42</td>\n",
              "      <td>8</td>\n",
              "      <td>159660.80</td>\n",
              "      <td>3</td>\n",
              "      <td>1</td>\n",
              "      <td>0</td>\n",
              "      <td>113931.57</td>\n",
              "      <td>1</td>\n",
              "    </tr>\n",
              "    <tr>\n",
              "      <th>3</th>\n",
              "      <td>4</td>\n",
              "      <td>15701354</td>\n",
              "      <td>Boni</td>\n",
              "      <td>699</td>\n",
              "      <td>France</td>\n",
              "      <td>Female</td>\n",
              "      <td>39</td>\n",
              "      <td>1</td>\n",
              "      <td>0.00</td>\n",
              "      <td>2</td>\n",
              "      <td>0</td>\n",
              "      <td>0</td>\n",
              "      <td>93826.63</td>\n",
              "      <td>0</td>\n",
              "    </tr>\n",
              "    <tr>\n",
              "      <th>4</th>\n",
              "      <td>5</td>\n",
              "      <td>15737888</td>\n",
              "      <td>Mitchell</td>\n",
              "      <td>850</td>\n",
              "      <td>Spain</td>\n",
              "      <td>Female</td>\n",
              "      <td>43</td>\n",
              "      <td>2</td>\n",
              "      <td>125510.82</td>\n",
              "      <td>1</td>\n",
              "      <td>1</td>\n",
              "      <td>1</td>\n",
              "      <td>79084.10</td>\n",
              "      <td>0</td>\n",
              "    </tr>\n",
              "  </tbody>\n",
              "</table>\n",
              "</div>"
            ]
          },
          "metadata": {}
        }
      ],
      "execution_count": 3,
      "metadata": {
        "_uuid": "8f2839f25d086af736a60e9eeb907d3b93b6e0e5",
        "_cell_guid": "b1076dfc-b9ad-4769-8c92-a6c4dae69d19",
        "trusted": true
      }
    },
    {
      "cell_type": "markdown",
      "source": [
        "# Functions"
      ],
      "metadata": {
        "trusted": true,
        "_uuid": "b824c56132e97c261f857b8251aa6a1b0d89bc4b"
      }
    },
    {
      "cell_type": "code",
      "source": [
        "# Split Train and Test and check shape \n",
        "def SplitDataFrameToTrainAndTest(DataFrame, TrainDataRate, TargetAtt):\n",
        "    # gets a random TrainDataRate % of the entire set\n",
        "    training = DataFrame.sample(frac=TrainDataRate, random_state=1)\n",
        "    # gets the left out portion of the dataset\n",
        "    testing = DataFrame.loc[~DataFrame.index.isin(training.index)]\n",
        "\n",
        "    X_train = training.drop(TargetAtt, 1)\n",
        "    y_train = training[[TargetAtt]]\n",
        "    X_test = testing.drop(TargetAtt, 1)\n",
        "    y_test = testing[[TargetAtt]]\n",
        "\n",
        "    return X_train, y_train, X_test, y_test\n",
        "    \n",
        "def PrintTrainTestInformation(X_train, y_train, X_test, y_test):\n",
        "    print(\"Train rows and columns : \", X_train.shape)\n",
        "    print(\"Test rows and columns : \", X_test.shape)\n",
        "\n",
        "def DrawJointPlot(DataFrame, XAtt, yAtt, bins = 20):\n",
        "    sns.set(color_codes=True)\n",
        "    sns.distplot(data[XAtt], bins=bins);\n",
        "    df = pd.DataFrame(DataFrame, columns=[XAtt,yAtt])\n",
        "    df = df.reset_index(drop=True)\n",
        "    sns.jointplot(x=XAtt, y=yAtt, data=df)\n",
        "    \n",
        "def DrawBoxplot2(DataFrame, xAtt, yAtt, hAtt=\"N/A\"):\n",
        "    plt.figure()\n",
        "    if(hAtt == \"N/A\"):\n",
        "        sns.boxplot(x=xAtt, y=yAtt,  data=DataFrame)\n",
        "    else:\n",
        "        sns.boxplot(x=xAtt, y=yAtt,  hue=hAtt,  data=DataFrame)\n",
        "    plt.show()\n",
        "    \n",
        "def DrawBarplot(DataFrame, att):\n",
        "    Distribution = DataFrame[att].value_counts()\n",
        "    Distribution = pd.DataFrame({att:Distribution.index, 'Freq':Distribution.values})\n",
        "    Distribution = Distribution.sort_values(by=att, ascending=True)\n",
        "    plt.bar(Distribution[att], Distribution[\"Freq\"])\n",
        "    plt.xticks(Distribution[att])\n",
        "    plt.ylabel('Frequency')\n",
        "    plt.title('Barplot of ' + att)\n",
        "    plt.show()   \n",
        "    \n",
        "def DrawCountplot(DataFrame, att, hatt=\"N/A\"):\n",
        "    if(hatt == \"N/A\"):\n",
        "        sns.countplot(x=att, data=DataFrame)\n",
        "    else:\n",
        "        sns.countplot(x=att, hue=hatt, data=DataFrame)\n",
        "    plt.show()\n",
        "    \n",
        "def DrawHistogram(DataFrame, att):\n",
        "    plt.figure()\n",
        "    DataFrame[att].hist(edgecolor='black', bins=20)\n",
        "    plt.title(att)\n",
        "    plt.show()\n",
        "    \n",
        "def DetectOutlierByIQR(DataFrame, AttList, Rate = 3.0): #xac dinh diem bat thuong tren tung tieu chi\n",
        "    OutlierIdx = []\n",
        "    for att in AttList:\n",
        "        AttData = DataFrame.loc[:, att]\n",
        "        lowerq = AttData.quantile(0.25)\n",
        "        upperq = AttData.quantile(0.75)\n",
        "        IQR = upperq - lowerq\n",
        "        threshold_upper = (IQR * Rate) + upperq\n",
        "        threshold_lower = lowerq - (IQR * Rate)\n",
        "        AttOutlierIdx = set(AttData[AttData.apply(lambda x: x > threshold_upper\n",
        "                                                    or x < threshold_lower)].index.get_values())\n",
        "        OutlierIdx = set(OutlierIdx) | AttOutlierIdx\n",
        "\n",
        "        # print(\"Min, Max and IQR : %f, %f, and %f\" % (AttData.min(), AttData.max(), IQR))\n",
        "        # print(\"Upper Fence and Lower Fence : %f and %f\" % (threshold_lower, threshold_upper))\n",
        "        # print(\"OutlierIdx : \" + str(OutlierIdx))\n",
        "        # print(att + \" \"  + str(len(AttOutlierIdx)) + \" Outlier Idx : \" + str(AttOutlierIdx))\n",
        "\n",
        "    OutlierIdx = list(OutlierIdx)\n",
        "    OutlierIdx = sorted(OutlierIdx)\n",
        "    return OutlierIdx\n",
        "      \n",
        "def DetectOutlierByLOF(DataFrame, AttList, LOFThresh=3.0, neighbors = 10): #xac dinh diem bat thuong tren nhom tieu chi\n",
        "    clf = LocalOutlierFactor(n_neighbors=neighbors)\n",
        "    AttData = DataFrame.loc[:, AttList].values\n",
        "    y_pred = clf.fit_predict(AttData)\n",
        "    AttData_scores = -1 * clf.negative_outlier_factor_\n",
        "    LOFFactorData = pd.DataFrame(AttData_scores, columns=['LOF'])\n",
        "    LOFFactorData = LOFFactorData.sort_values('LOF', ascending=False)\n",
        "    LOFFactorData = LOFFactorData.reset_index(drop=False)\n",
        "    # print(LOFFactorData.loc[0:10, :])\n",
        "    OutlierThreshold = LOFThresh\n",
        "    SuspectOutlierData = LOFFactorData[LOFFactorData['LOF'].apply(lambda x: x > OutlierThreshold)]\n",
        "    OutlierIdx = SuspectOutlierData.loc[:, 'index'].tolist()\n",
        "    # print(\"OutlierIdx : \" + str(OutlierIdx))\n",
        "    return OutlierIdx, LOFFactorData\n",
        "      \n",
        "def RemoveRowsFromDataFrame(DataFrame, RowIdxList = []):\n",
        "    DataFrame = DataFrame.drop(RowIdxList)\n",
        "    DataFrame = DataFrame.reset_index(drop=True)\n",
        "    return DataFrame\n",
        "\n",
        "def NaiveBayesLearning(DataTrain, TargetTrain):\n",
        "    NBModel = GaussianNB()\n",
        "    NBModel.fit(DataTrain, TargetTrain.values.ravel())\n",
        "    return NBModel\n",
        "\n",
        "def NaiveBayesTesting(NBModel,DataTest, TargetTest):\n",
        "    PredictTest = NBModel.predict(DataTest)\n",
        "    Accuracy = accuracy_score(TargetTest, PredictTest)\n",
        "\n",
        "    return Accuracy, PredictTest\n",
        "\n",
        "def LogisticRegressionLearning(DataTrain, TargetTrain):\n",
        "    logreg = LogisticRegression()\n",
        "    # training by Logistic Regression\n",
        "    logreg.fit(DataTrain, TargetTrain.values.ravel())\n",
        "\n",
        "    return logreg\n",
        "\n",
        "def LogisticRegressionTesting(LRModel,DataTest, TargetTest):\n",
        "    logreg = LRModel\n",
        "    PredictTest = logreg.predict(DataTest)\n",
        "    Accuracy = accuracy_score(TargetTest, PredictTest)\n",
        "    # print('Logistic regression accuracy: {:.3f}'.format(Accuracy))\n",
        "\n",
        "    return Accuracy, PredictTest\n",
        "\n",
        "def RandomForestLearning(DataTrain, TargetTrain):\n",
        "    rf = RandomForestClassifier()\n",
        "    rf.fit(DataTrain, TargetTrain.values.ravel())\n",
        "\n",
        "    return rf\n",
        "\n",
        "def RandomForestTesting(RFModel,DataTest, TargetTest):\n",
        "    PredictTest = RFModel.predict(DataTest)\n",
        "    Accuracy = accuracy_score(TargetTest, PredictTest)\n",
        "    # print('Random Forest Accuracy: {:.3f}'.format(accuracy_score(TargetTest, PredictTest)))\n",
        "\n",
        "    return Accuracy, PredictTest\n",
        "\n",
        "def SVMLearning(DataTrain, TargetTrain, ClassifierType = \" \"):\n",
        "    if(ClassifierType == 'Linear'):\n",
        "        svc = SVC(kernel=\"linear\", C=0.025)\n",
        "        # print('SVM Linear processing')\n",
        "    # Radial basis function kernel\n",
        "    elif (ClassifierType == 'RBF'):\n",
        "        svc = SVC(gamma=2, C=1)\n",
        "        # print('SVM RBF processing')\n",
        "    else:\n",
        "        svc = SVC()\n",
        "        # print('SVM Default processing')\n",
        "    svc.fit(DataTrain, TargetTrain.values.ravel())\n",
        "    return svc\n",
        "\n",
        "def SVMTesting(SVMModel, DataTest, TargetTest):\n",
        "    PredictTest = SVMModel.predict(DataTest)\n",
        "    Accuracy = accuracy_score(TargetTest, PredictTest)\n",
        "    # print('Support Vector Machine Accuracy: {:.3f}'.format(accuracy_score(TargetTest, PredictTest)))\n",
        "    return Accuracy, PredictTest\n",
        "\n",
        "def KNNLearning(DataTrain, TargetTrain, K = 3):\n",
        "    neigh = KNeighborsClassifier(n_neighbors=K)\n",
        "    neigh.fit(DataTrain, TargetTrain.values.ravel())\n",
        "\n",
        "    return neigh\n",
        "\n",
        "def KNNTesting(KNNModel,DataTest, TargetTest):\n",
        "    PredictTest = KNNModel.predict(DataTest)\n",
        "    Accuracy = accuracy_score(TargetTest, PredictTest)\n",
        "    # print('KNN Accuracy: {:.3f}'.format(accuracy_score(TargetTest, PredictTest)))\n",
        "\n",
        "    return Accuracy, PredictTest\n",
        "\n",
        "def ANNLearning(DataTrain, TargetTrain):\n",
        "    ANNModel = MLPClassifier(alpha=1)\n",
        "    ANNModel.fit(DataTrain, TargetTrain.values.ravel())\n",
        "    return ANNModel\n",
        "\n",
        "def ANNTesting (ANNModel, DataTest, TargetTest):\n",
        "    PredictTest = ANNModel.predict(DataTest)\n",
        "    Accuracy = accuracy_score(TargetTest, PredictTest)\n",
        "    # print('Neural Net Accuracy: {:.3f}'.format(Accuracy))\n",
        "    return Accuracy, PredictTest\n",
        "\n",
        "# Continuous Data Plot\n",
        "def cont_plot(df, feature_name, target_name, palettemap, hue_order, feature_scale): \n",
        "    df['Counts'] = \"\" # A trick to skip using an axis (either x or y) on splitting violinplot\n",
        "    fig, [axis0,axis1] = plt.subplots(1,2,figsize=(10,5))\n",
        "    sns.distplot(df[feature_name], ax=axis0);\n",
        "    sns.violinplot(x=feature_name, y=\"Counts\", hue=target_name, hue_order=hue_order, data=df,\n",
        "                   palette=palettemap, split=True, orient='h', ax=axis1)\n",
        "    axis1.set_xticks(feature_scale)\n",
        "    plt.show()\n",
        "    # WARNING: This will leave Counts column in dataset if you continues to use this dataset\n",
        "\n",
        "# Categorical/Ordinal Data Plot\n",
        "def cat_plot(df, feature_name, target_name, palettemap): \n",
        "    fig, [axis0,axis1] = plt.subplots(1,2,figsize=(10,5))\n",
        "    df[feature_name].value_counts().plot.pie(autopct='%1.1f%%',ax=axis0)\n",
        "    sns.countplot(x=feature_name, hue=target_name, data=df,\n",
        "                  palette=palettemap,ax=axis1)\n",
        "    plt.show()\n"
      ],
      "outputs": [],
      "execution_count": 4,
      "metadata": {
        "trusted": true,
        "_uuid": "aac9ab3647f908d8cdbec972292be55222b0dd6e"
      }
    },
    {
      "cell_type": "markdown",
      "source": [
        "# Checking missing values\n",
        "\n- Fill missing value: Median / Mode, Label Encode / Dummies"
      ],
      "metadata": {
        "_uuid": "7e7dfaa9342954a93f8798d83d4c3d5e7540ade8"
      }
    },
    {
      "cell_type": "code",
      "source": [
        "# Checking the percentage of missing values in each variable\n",
        "(dataset.isnull().sum()/len(dataset)*100)"
      ],
      "outputs": [
        {
          "output_type": "execute_result",
          "execution_count": 5,
          "data": {
            "text/plain": [
              "RowNumber          0.0\n",
              "CustomerId         0.0\n",
              "Surname            0.0\n",
              "CreditScore        0.0\n",
              "Geography          0.0\n",
              "Gender             0.0\n",
              "Age                0.0\n",
              "Tenure             0.0\n",
              "Balance            0.0\n",
              "NumOfProducts      0.0\n",
              "HasCrCard          0.0\n",
              "IsActiveMember     0.0\n",
              "EstimatedSalary    0.0\n",
              "Exited             0.0\n",
              "dtype: float64"
            ]
          },
          "metadata": {}
        }
      ],
      "execution_count": 5,
      "metadata": {
        "trusted": true,
        "_uuid": "151176af8c354e451952c7085031aaff6c0633f2"
      }
    },
    {
      "cell_type": "markdown",
      "source": [
        "## **Preparation and EDA**"
      ],
      "metadata": {
        "_uuid": "8218d1b07a12fecc8f92b86656a5e03b687d381f"
      }
    },
    {
      "cell_type": "code",
      "source": [
        "# Split Train and Test and check shape \n",
        "data_train, target_train, data_test, target_test = SplitDataFrameToTrainAndTest(dataset, 0.6, 'Exited')\n",
        "PrintTrainTestInformation(data_train, target_train, data_test, target_test)"
      ],
      "outputs": [
        {
          "output_type": "stream",
          "name": "stdout",
          "text": [
            "Train rows and columns :  (6000, 13)\n",
            "Test rows and columns :  (4000, 13)\n"
          ]
        }
      ],
      "execution_count": 7,
      "metadata": {
        "trusted": true,
        "_uuid": "479d9687af231bc925b1afe28a93c84e58279594"
      }
    },
    {
      "cell_type": "code",
      "source": [
        "# Check column types\n",
        "data_train.info()"
      ],
      "outputs": [
        {
          "output_type": "stream",
          "name": "stdout",
          "text": [
            "<class 'pandas.core.frame.DataFrame'>\n",
            "Int64Index: 6000 entries, 9953 to 2374\n",
            "Data columns (total 13 columns):\n",
            "RowNumber          6000 non-null int64\n",
            "CustomerId         6000 non-null int64\n",
            "Surname            6000 non-null object\n",
            "CreditScore        6000 non-null int64\n",
            "Geography          6000 non-null object\n",
            "Gender             6000 non-null object\n",
            "Age                6000 non-null int64\n",
            "Tenure             6000 non-null int64\n",
            "Balance            6000 non-null float64\n",
            "NumOfProducts      6000 non-null int64\n",
            "HasCrCard          6000 non-null int64\n",
            "IsActiveMember     6000 non-null int64\n",
            "EstimatedSalary    6000 non-null float64\n",
            "dtypes: float64(2), int64(8), object(3)\n",
            "memory usage: 656.2+ KB\n"
          ]
        }
      ],
      "execution_count": 5,
      "metadata": {
        "outputHidden": false,
        "inputHidden": false,
        "trusted": true,
        "_uuid": "9be4b0f93e7204856a7bcc6564a3a694d57d4819"
      }
    },
    {
      "cell_type": "code",
      "source": [
        "print(\" List of unique values in Surname : \")\n",
        "print(dataset['Surname'].unique())\n",
        "print(\" List of unique values in Geography : \")\n",
        "print(dataset['Geography'].unique())\n",
        "print(\" List of unique values in Gender : \")\n",
        "print(dataset['Gender'].unique())\n",
        "\n",
        "#Special Field\n",
        "print(\" List of unique values in NumOfProducts : \")\n",
        "print(dataset['NumOfProducts'].unique())"
      ],
      "outputs": [
        {
          "output_type": "stream",
          "name": "stdout",
          "text": [
            " List of unique values in Surname : \n",
            "['Hargrave' 'Hill' 'Onio' ... 'Kashiwagi' 'Aldridge' 'Burbidge']\n",
            " List of unique values in Geography : \n",
            "['France' 'Spain' 'Germany']\n",
            " List of unique values in Gender : \n",
            "['Female' 'Male']\n",
            " List of unique values in NumOfProducts : \n",
            "[1 3 2 4]\n"
          ]
        }
      ],
      "execution_count": 6,
      "metadata": {
        "outputHidden": false,
        "inputHidden": false,
        "trusted": true,
        "_uuid": "cec8a3a0802480774ba701671b65866e93c5a96e"
      }
    },
    {
      "cell_type": "code",
      "source": [
        "# Numerical data distribution \n",
        "data_train.describe()"
      ],
      "outputs": [
        {
          "output_type": "execute_result",
          "execution_count": 7,
          "data": {
            "text/plain": [
              "         RowNumber    CustomerId  CreditScore          Age       Tenure  \\\n",
              "count  6000.000000  6.000000e+03  6000.000000  6000.000000  6000.000000   \n",
              "mean   5000.534667  1.569090e+07   652.017833    38.801333     5.021667   \n",
              "std    2877.924946  7.201902e+04    96.171969    10.409335     2.888469   \n",
              "min       4.000000  1.556570e+07   350.000000    18.000000     0.000000   \n",
              "25%    2501.250000  1.562812e+07   586.000000    32.000000     3.000000   \n",
              "50%    4995.500000  1.569189e+07   655.000000    37.000000     5.000000   \n",
              "75%    7483.500000  1.575351e+07   718.000000    44.000000     8.000000   \n",
              "max    9999.000000  1.581569e+07   850.000000    92.000000    10.000000   \n",
              "\n",
              "             Balance  NumOfProducts    HasCrCard  IsActiveMember  \\\n",
              "count    6000.000000    6000.000000  6000.000000     6000.000000   \n",
              "mean    76069.556590       1.524667     0.702333        0.521833   \n",
              "std     62709.267925       0.576582     0.457270        0.499565   \n",
              "min         0.000000       1.000000     0.000000        0.000000   \n",
              "25%         0.000000       1.000000     0.000000        0.000000   \n",
              "50%     96598.420000       1.000000     1.000000        1.000000   \n",
              "75%    127671.927500       2.000000     1.000000        1.000000   \n",
              "max    238387.560000       4.000000     1.000000        1.000000   \n",
              "\n",
              "       EstimatedSalary  \n",
              "count      6000.000000  \n",
              "mean      99470.172248  \n",
              "std       57622.657250  \n",
              "min          11.580000  \n",
              "25%       50343.395000  \n",
              "50%       99482.980000  \n",
              "75%      149170.417500  \n",
              "max      199992.480000  "
            ],
            "text/html": [
              "<div>\n",
              "<style scoped>\n",
              "    .dataframe tbody tr th:only-of-type {\n",
              "        vertical-align: middle;\n",
              "    }\n",
              "\n",
              "    .dataframe tbody tr th {\n",
              "        vertical-align: top;\n",
              "    }\n",
              "\n",
              "    .dataframe thead th {\n",
              "        text-align: right;\n",
              "    }\n",
              "</style>\n",
              "<table border=\"1\" class=\"dataframe\">\n",
              "  <thead>\n",
              "    <tr style=\"text-align: right;\">\n",
              "      <th></th>\n",
              "      <th>RowNumber</th>\n",
              "      <th>CustomerId</th>\n",
              "      <th>CreditScore</th>\n",
              "      <th>Age</th>\n",
              "      <th>Tenure</th>\n",
              "      <th>Balance</th>\n",
              "      <th>NumOfProducts</th>\n",
              "      <th>HasCrCard</th>\n",
              "      <th>IsActiveMember</th>\n",
              "      <th>EstimatedSalary</th>\n",
              "    </tr>\n",
              "  </thead>\n",
              "  <tbody>\n",
              "    <tr>\n",
              "      <th>count</th>\n",
              "      <td>6000.000000</td>\n",
              "      <td>6.000000e+03</td>\n",
              "      <td>6000.000000</td>\n",
              "      <td>6000.000000</td>\n",
              "      <td>6000.000000</td>\n",
              "      <td>6000.000000</td>\n",
              "      <td>6000.000000</td>\n",
              "      <td>6000.000000</td>\n",
              "      <td>6000.000000</td>\n",
              "      <td>6000.000000</td>\n",
              "    </tr>\n",
              "    <tr>\n",
              "      <th>mean</th>\n",
              "      <td>5000.534667</td>\n",
              "      <td>1.569090e+07</td>\n",
              "      <td>652.017833</td>\n",
              "      <td>38.801333</td>\n",
              "      <td>5.021667</td>\n",
              "      <td>76069.556590</td>\n",
              "      <td>1.524667</td>\n",
              "      <td>0.702333</td>\n",
              "      <td>0.521833</td>\n",
              "      <td>99470.172248</td>\n",
              "    </tr>\n",
              "    <tr>\n",
              "      <th>std</th>\n",
              "      <td>2877.924946</td>\n",
              "      <td>7.201902e+04</td>\n",
              "      <td>96.171969</td>\n",
              "      <td>10.409335</td>\n",
              "      <td>2.888469</td>\n",
              "      <td>62709.267925</td>\n",
              "      <td>0.576582</td>\n",
              "      <td>0.457270</td>\n",
              "      <td>0.499565</td>\n",
              "      <td>57622.657250</td>\n",
              "    </tr>\n",
              "    <tr>\n",
              "      <th>min</th>\n",
              "      <td>4.000000</td>\n",
              "      <td>1.556570e+07</td>\n",
              "      <td>350.000000</td>\n",
              "      <td>18.000000</td>\n",
              "      <td>0.000000</td>\n",
              "      <td>0.000000</td>\n",
              "      <td>1.000000</td>\n",
              "      <td>0.000000</td>\n",
              "      <td>0.000000</td>\n",
              "      <td>11.580000</td>\n",
              "    </tr>\n",
              "    <tr>\n",
              "      <th>25%</th>\n",
              "      <td>2501.250000</td>\n",
              "      <td>1.562812e+07</td>\n",
              "      <td>586.000000</td>\n",
              "      <td>32.000000</td>\n",
              "      <td>3.000000</td>\n",
              "      <td>0.000000</td>\n",
              "      <td>1.000000</td>\n",
              "      <td>0.000000</td>\n",
              "      <td>0.000000</td>\n",
              "      <td>50343.395000</td>\n",
              "    </tr>\n",
              "    <tr>\n",
              "      <th>50%</th>\n",
              "      <td>4995.500000</td>\n",
              "      <td>1.569189e+07</td>\n",
              "      <td>655.000000</td>\n",
              "      <td>37.000000</td>\n",
              "      <td>5.000000</td>\n",
              "      <td>96598.420000</td>\n",
              "      <td>1.000000</td>\n",
              "      <td>1.000000</td>\n",
              "      <td>1.000000</td>\n",
              "      <td>99482.980000</td>\n",
              "    </tr>\n",
              "    <tr>\n",
              "      <th>75%</th>\n",
              "      <td>7483.500000</td>\n",
              "      <td>1.575351e+07</td>\n",
              "      <td>718.000000</td>\n",
              "      <td>44.000000</td>\n",
              "      <td>8.000000</td>\n",
              "      <td>127671.927500</td>\n",
              "      <td>2.000000</td>\n",
              "      <td>1.000000</td>\n",
              "      <td>1.000000</td>\n",
              "      <td>149170.417500</td>\n",
              "    </tr>\n",
              "    <tr>\n",
              "      <th>max</th>\n",
              "      <td>9999.000000</td>\n",
              "      <td>1.581569e+07</td>\n",
              "      <td>850.000000</td>\n",
              "      <td>92.000000</td>\n",
              "      <td>10.000000</td>\n",
              "      <td>238387.560000</td>\n",
              "      <td>4.000000</td>\n",
              "      <td>1.000000</td>\n",
              "      <td>1.000000</td>\n",
              "      <td>199992.480000</td>\n",
              "    </tr>\n",
              "  </tbody>\n",
              "</table>\n",
              "</div>"
            ]
          },
          "metadata": {}
        }
      ],
      "execution_count": 7,
      "metadata": {
        "outputHidden": false,
        "inputHidden": false,
        "trusted": true,
        "_uuid": "27c554df83c23580d8ef251ce033605abba3a7b5"
      }
    },
    {
      "cell_type": "code",
      "source": [
        "data_train.describe(include=['O'])"
      ],
      "outputs": [
        {
          "output_type": "error",
          "ename": "NameError",
          "evalue": "name 'data_train' is not defined",
          "traceback": [
            "\u001b[0;31m---------------------------------------------------------------------------\u001b[0m",
            "\u001b[0;31mNameError\u001b[0m                                 Traceback (most recent call last)",
            "\u001b[0;32m<ipython-input-6-7e40120c4dc0>\u001b[0m in \u001b[0;36m<module>\u001b[0;34m\u001b[0m\n\u001b[0;32m----> 1\u001b[0;31m \u001b[0mdata_train\u001b[0m\u001b[0;34m.\u001b[0m\u001b[0mdescribe\u001b[0m\u001b[0;34m(\u001b[0m\u001b[0minclude\u001b[0m\u001b[0;34m=\u001b[0m\u001b[0;34m[\u001b[0m\u001b[0;34m'O'\u001b[0m\u001b[0;34m]\u001b[0m\u001b[0;34m)\u001b[0m\u001b[0;34m\u001b[0m\u001b[0m\n\u001b[0m",
            "\u001b[0;31mNameError\u001b[0m: name 'data_train' is not defined"
          ]
        }
      ],
      "execution_count": 6,
      "metadata": {
        "outputHidden": false,
        "inputHidden": false,
        "trusted": true,
        "_uuid": "487c4c1053bbefc6246850c207ab39e190e9fb0c"
      }
    },
    {
      "cell_type": "code",
      "source": [
        "dataset.hist(bins=10, figsize=(20,15))"
      ],
      "outputs": [
        {
          "output_type": "execute_result",
          "execution_count": 17,
          "data": {
            "text/plain": [
              "array([[<matplotlib.axes._subplots.AxesSubplot object at 0x12661bf60>,\n",
              "        <matplotlib.axes._subplots.AxesSubplot object at 0x129e47780>,\n",
              "        <matplotlib.axes._subplots.AxesSubplot object at 0x129e81c50>],\n",
              "       [<matplotlib.axes._subplots.AxesSubplot object at 0x129eb1208>,\n",
              "        <matplotlib.axes._subplots.AxesSubplot object at 0x129eda780>,\n",
              "        <matplotlib.axes._subplots.AxesSubplot object at 0x129f03cf8>],\n",
              "       [<matplotlib.axes._subplots.AxesSubplot object at 0x129f352b0>,\n",
              "        <matplotlib.axes._subplots.AxesSubplot object at 0x129f5a860>,\n",
              "        <matplotlib.axes._subplots.AxesSubplot object at 0x129f5a898>],\n",
              "       [<matplotlib.axes._subplots.AxesSubplot object at 0x12693e080>,\n",
              "        <matplotlib.axes._subplots.AxesSubplot object at 0x126771828>,\n",
              "        <matplotlib.axes._subplots.AxesSubplot object at 0x12677ba90>]],\n",
              "      dtype=object)"
            ]
          },
          "metadata": {}
        },
        {
          "output_type": "display_data",
          "data": {
            "text/plain": [
              "<Figure size 1440x1080 with 12 Axes>"
            ],
            "image/png": "[encoded data removed]"
          },
          "metadata": {
            "needs_background": "light"
          }
        }
      ],
      "execution_count": 17,
      "metadata": {
        "collapsed": false,
        "outputHidden": false,
        "inputHidden": false
      }
    },
    {
      "cell_type": "code",
      "source": [
        "DrawBarplot(data_train, 'Geography')"
      ],
      "outputs": [
        {
          "output_type": "display_data",
          "data": {
            "text/plain": [
              "<Figure size 432x288 with 1 Axes>"
            ],
            "image/png": "[encoded data removed]"
          },
          "metadata": {
            "needs_background": "light"
          }
        }
      ],
      "execution_count": 12,
      "metadata": {
        "outputHidden": false,
        "inputHidden": false,
        "trusted": true,
        "_uuid": "cb2119baf47aa259ce5d997ce091c3d2903d16ab"
      }
    },
    {
      "cell_type": "code",
      "source": [
        "DrawBoxplot2(dataset, xAtt = 'Exited', yAtt='CreditScore')\n",
        "DrawBoxplot2(dataset, xAtt = 'Exited', yAtt='CreditScore', hAtt='Gender')"
      ],
      "outputs": [
        {
          "output_type": "display_data",
          "data": {
            "text/plain": [
              "<Figure size 432x288 with 1 Axes>"
            ],
            "image/png": "[encoded data removed]"
          },
          "metadata": {
            "needs_background": "light"
          }
        },
        {
          "output_type": "display_data",
          "data": {
            "text/plain": [
              "<Figure size 432x288 with 1 Axes>"
            ],
            "image/png": "[encoded data removed]"
          },
          "metadata": {
            "needs_background": "light"
          }
        }
      ],
      "execution_count": 13,
      "metadata": {
        "outputHidden": false,
        "inputHidden": false,
        "trusted": true,
        "_uuid": "1af367bcb4e0023f5e93e8ddb6b9069201425857"
      }
    },
    {
      "cell_type": "code",
      "source": [
        "DrawCountplot(dataset, 'Geography', 'Exited')\n",
        "DrawCountplot(dataset, 'Age', 'Exited')"
      ],
      "outputs": [
        {
          "output_type": "display_data",
          "data": {
            "text/plain": [
              "<Figure size 432x288 with 1 Axes>"
            ],
            "image/png": "[encoded data removed]"
          },
          "metadata": {
            "needs_background": "light"
          }
        },
        {
          "output_type": "display_data",
          "data": {
            "text/plain": [
              "<Figure size 432x288 with 1 Axes>"
            ],
            "image/png": "[encoded data removed]"
          },
          "metadata": {
            "needs_background": "light"
          }
        }
      ],
      "execution_count": 15,
      "metadata": {
        "outputHidden": false,
        "inputHidden": false,
        "trusted": true,
        "_uuid": "f498fabe0f0dcd2651b35c2511d2b939288fb09c"
      }
    },
    {
      "cell_type": "code",
      "source": [
        "dataset['CategoricalCreditScore'] = pd.qcut(dataset['CreditScore'], 3)\n",
        "print (dataset[['CategoricalCreditScore', 'Exited']].groupby(['CategoricalCreditScore'], as_index=False).mean())"
      ],
      "outputs": [
        {
          "output_type": "stream",
          "name": "stdout",
          "text": [
            "  CategoricalCreditScore    Exited\n",
            "1         (608.0, 695.0]  0.197660\n",
            "2         (695.0, 850.0]  0.198002\n",
            "0       (349.999, 608.0]  0.215284\n"
          ]
        }
      ],
      "execution_count": 22,
      "metadata": {
        "collapsed": false,
        "outputHidden": false,
        "inputHidden": false
      }
    },
    {
      "cell_type": "code",
      "source": [
        "cont_plot(dataset[['Age','Exited']].copy().dropna(axis=0), \n",
        "          'Age', 'Exited', {0: \"black\", 1: \"orange\"} , [1, 0], range(0,100,10))\n",
        "\n",
        "dataset['CategoricalAge'] = pd.qcut(dataset['Age'], 5, duplicates='drop')\n",
        "print (dataset[['CategoricalAge', 'Exited']].groupby(['CategoricalAge'], as_index=False).mean())"
      ],
      "outputs": [
        {
          "output_type": "display_data",
          "data": {
            "text/plain": [
              "<Figure size 720x360 with 2 Axes>"
            ],
            "image/png": "[encoded data removed]"
          },
          "metadata": {
            "needs_background": "light"
          }
        },
        {
          "output_type": "stream",
          "name": "stdout",
          "text": [
            "   CategoricalAge    Exited\n",
            "0  (17.999, 31.0]  0.076307\n",
            "1    (31.0, 35.0]  0.093206\n",
            "2    (35.0, 40.0]  0.149603\n",
            "3    (40.0, 46.0]  0.285967\n",
            "4    (46.0, 92.0]  0.459416\n"
          ]
        }
      ],
      "execution_count": 61,
      "metadata": {
        "collapsed": false,
        "outputHidden": false,
        "inputHidden": false
      }
    },
    {
      "cell_type": "code",
      "source": [
        "cont_plot(dataset[['Balance','Exited']].copy().dropna(axis=0), \n",
        "          'Balance', 'Exited', {0: \"black\", 1: \"orange\"} , [1, 0], range(0,100,10))\n",
        "\n",
        "dataset['CategoricalBalance'] = pd.qcut(dataset['Balance'], 3, duplicates='drop')\n",
        "print (dataset[['CategoricalBalance', 'Exited']].groupby(['CategoricalBalance'], as_index=False).mean())\n"
      ],
      "outputs": [
        {
          "output_type": "display_data",
          "data": {
            "text/plain": [
              "<Figure size 720x360 with 2 Axes>"
            ],
            "image/png": "[encoded data removed]"
          },
          "metadata": {
            "needs_background": "light"
          }
        },
        {
          "output_type": "stream",
          "name": "stdout",
          "text": [
            "       CategoricalBalance    Exited\n",
            "0     (-0.001, 118100.59]  0.183441\n",
            "1  (118100.59, 250898.09]  0.244224\n"
          ]
        }
      ],
      "execution_count": 64,
      "metadata": {
        "collapsed": false,
        "outputHidden": false,
        "inputHidden": false
      }
    },
    {
      "cell_type": "code",
      "source": [
        "cont_plot(dataset[['Balance','EstimatedSalary']].copy().dropna(axis=0), \n",
        "          'Balance', 'EstimatedSalary', {0: \"black\", 1: \"orange\"} , [1, 0], range(0,100,10))\n",
        "cat_plot(dataset, 'Balance','EstimatedSalary', survival_palette)"
      ],
      "outputs": [
        {
          "output_type": "error",
          "ename": "NameError",
          "evalue": "name 'cont_plot' is not defined",
          "traceback": [
            "\u001b[0;31m---------------------------------------------------------------------------\u001b[0m",
            "\u001b[0;31mNameError\u001b[0m                                 Traceback (most recent call last)",
            "\u001b[0;32m<ipython-input-1-ea62ae8005cd>\u001b[0m in \u001b[0;36m<module>\u001b[0;34m\u001b[0m\n\u001b[0;32m----> 1\u001b[0;31m cont_plot(dataset[['Balance','EstimatedSalary']].copy().dropna(axis=0), \n\u001b[0m\u001b[1;32m      2\u001b[0m           'Balance', 'EstimatedSalary', {0: \"black\", 1: \"orange\"} , [1, 0], range(0,100,10))\n\u001b[1;32m      3\u001b[0m \u001b[0mcat_plot\u001b[0m\u001b[0;34m(\u001b[0m\u001b[0mdataset\u001b[0m\u001b[0;34m,\u001b[0m \u001b[0;34m'Balance'\u001b[0m\u001b[0;34m,\u001b[0m\u001b[0;34m'EstimatedSalary'\u001b[0m\u001b[0;34m,\u001b[0m \u001b[0msurvival_palette\u001b[0m\u001b[0;34m)\u001b[0m\u001b[0;34m\u001b[0m\u001b[0m\n",
            "\u001b[0;31mNameError\u001b[0m: name 'cont_plot' is not defined"
          ]
        }
      ],
      "execution_count": 1,
      "metadata": {
        "collapsed": false,
        "outputHidden": false,
        "inputHidden": false
      }
    },
    {
      "cell_type": "code",
      "source": [
        "Mean_Balance = dataset[['EstimatedSalary','Balance']].groupby(['EstimatedSalary'],as_index = False).mean().sort_values(by='Balance')\n",
        "sns.barplot(x='EstimatedSalary', y='Balance', data=Mean_Balance)\n",
        "print(Mean_Age)"
      ],
      "outputs": [
        {
          "output_type": "error",
          "ename": "NameError",
          "evalue": "name 'dataset' is not defined",
          "traceback": [
            "\u001b[0;31m---------------------------------------------------------------------------\u001b[0m",
            "\u001b[0;31mNameError\u001b[0m                                 Traceback (most recent call last)",
            "\u001b[0;32m<ipython-input-2-2de056befd78>\u001b[0m in \u001b[0;36m<module>\u001b[0;34m\u001b[0m\n\u001b[0;32m----> 1\u001b[0;31m \u001b[0mMean_Balance\u001b[0m \u001b[0;34m=\u001b[0m \u001b[0mdataset\u001b[0m\u001b[0;34m[\u001b[0m\u001b[0;34m[\u001b[0m\u001b[0;34m'EstimatedSalary'\u001b[0m\u001b[0;34m,\u001b[0m\u001b[0;34m'Balance'\u001b[0m\u001b[0;34m]\u001b[0m\u001b[0;34m]\u001b[0m\u001b[0;34m.\u001b[0m\u001b[0mgroupby\u001b[0m\u001b[0;34m(\u001b[0m\u001b[0;34m[\u001b[0m\u001b[0;34m'EstimatedSalary'\u001b[0m\u001b[0;34m]\u001b[0m\u001b[0;34m,\u001b[0m\u001b[0mas_index\u001b[0m \u001b[0;34m=\u001b[0m \u001b[0;32mFalse\u001b[0m\u001b[0;34m)\u001b[0m\u001b[0;34m.\u001b[0m\u001b[0mmean\u001b[0m\u001b[0;34m(\u001b[0m\u001b[0;34m)\u001b[0m\u001b[0;34m.\u001b[0m\u001b[0msort_values\u001b[0m\u001b[0;34m(\u001b[0m\u001b[0mby\u001b[0m\u001b[0;34m=\u001b[0m\u001b[0;34m'Balance'\u001b[0m\u001b[0;34m)\u001b[0m\u001b[0;34m\u001b[0m\u001b[0m\n\u001b[0m\u001b[1;32m      2\u001b[0m \u001b[0msns\u001b[0m\u001b[0;34m.\u001b[0m\u001b[0mbarplot\u001b[0m\u001b[0;34m(\u001b[0m\u001b[0mx\u001b[0m\u001b[0;34m=\u001b[0m\u001b[0;34m'EstimatedSalary'\u001b[0m\u001b[0;34m,\u001b[0m \u001b[0my\u001b[0m\u001b[0;34m=\u001b[0m\u001b[0;34m'Balance'\u001b[0m\u001b[0;34m,\u001b[0m \u001b[0mdata\u001b[0m\u001b[0;34m=\u001b[0m\u001b[0mMean_Balance\u001b[0m\u001b[0;34m)\u001b[0m\u001b[0;34m\u001b[0m\u001b[0m\n\u001b[1;32m      3\u001b[0m \u001b[0mprint\u001b[0m\u001b[0;34m(\u001b[0m\u001b[0mMean_Age\u001b[0m\u001b[0;34m)\u001b[0m\u001b[0;34m\u001b[0m\u001b[0m\n",
            "\u001b[0;31mNameError\u001b[0m: name 'dataset' is not defined"
          ]
        }
      ],
      "execution_count": 2,
      "metadata": {
        "collapsed": false,
        "outputHidden": false,
        "inputHidden": false
      }
    },
    {
      "cell_type": "code",
      "source": [
        "dataset.hist(bins=10, figsize=(20,15))"
      ],
      "outputs": [
        {
          "output_type": "execute_result",
          "execution_count": 67,
          "data": {
            "text/plain": [
              "array([[<matplotlib.axes._subplots.AxesSubplot object at 0x135aa4b70>,\n",
              "        <matplotlib.axes._subplots.AxesSubplot object at 0x135af6f98>,\n",
              "        <matplotlib.axes._subplots.AxesSubplot object at 0x135beb550>],\n",
              "       [<matplotlib.axes._subplots.AxesSubplot object at 0x135c12ac8>,\n",
              "        <matplotlib.axes._subplots.AxesSubplot object at 0x135c41080>,\n",
              "        <matplotlib.axes._subplots.AxesSubplot object at 0x135c6a5f8>],\n",
              "       [<matplotlib.axes._subplots.AxesSubplot object at 0x135c91b70>,\n",
              "        <matplotlib.axes._subplots.AxesSubplot object at 0x135cc3160>,\n",
              "        <matplotlib.axes._subplots.AxesSubplot object at 0x135cc3198>],\n",
              "       [<matplotlib.axes._subplots.AxesSubplot object at 0x135936d68>,\n",
              "        <matplotlib.axes._subplots.AxesSubplot object at 0x135ab4390>,\n",
              "        <matplotlib.axes._subplots.AxesSubplot object at 0x1358b1b38>]],\n",
              "      dtype=object)"
            ]
          },
          "metadata": {}
        },
        {
          "output_type": "display_data",
          "data": {
            "text/plain": [
              "<Figure size 1440x1080 with 12 Axes>"
            ],
            "image/png": "[encoded data removed]"
          },
          "metadata": {
            "needs_background": "light"
          }
        }
      ],
      "execution_count": 67,
      "metadata": {
        "collapsed": false,
        "outputHidden": false,
        "inputHidden": false
      }
    },
    {
      "cell_type": "markdown",
      "source": [
        "# **Encoder **"
      ],
      "metadata": {
        "_uuid": "31479301036d7bd6edcc1bccb55e9ae5c36f23ae"
      }
    },
    {
      "cell_type": "code",
      "source": [
        "data_encoder = dataset.copy()\n",
        "data_encoder['Geography'] = LabelEncoder().fit_transform(data_encoder['Geography'])\n",
        "# data_encoder['Surname'] = LabelEncoder().fit_transform(data_encoder['Surname'])\n",
        "# data_encoder['Gender'] = LabelEncoder().fit_transform(data_encoder['Gender'])\n",
        "data_encoder = data_encoder.join(pd.get_dummies(data_encoder['Gender'], prefix='Gender'))\n",
        "data_encoder = data_encoder.drop('Gender', axis=1)\n",
        "\n",
        "AttList = [\"Surname\", \"RowNumber\", \"CustomerId\"]\n",
        "data_encoder = data_encoder.drop(AttList, axis=1)\n",
        "data_encoder.head(10)"
      ],
      "outputs": [
        {
          "output_type": "execute_result",
          "execution_count": 11,
          "data": {
            "text/plain": [
              "   CreditScore  Geography  Age  Tenure    Balance  NumOfProducts  HasCrCard  \\\n",
              "0          619          0   42       2       0.00              1          1   \n",
              "1          608          2   41       1   83807.86              1          0   \n",
              "2          502          0   42       8  159660.80              3          1   \n",
              "3          699          0   39       1       0.00              2          0   \n",
              "4          850          2   43       2  125510.82              1          1   \n",
              "5          645          2   44       8  113755.78              2          1   \n",
              "6          822          0   50       7       0.00              2          1   \n",
              "7          376          1   29       4  115046.74              4          1   \n",
              "8          501          0   44       4  142051.07              2          0   \n",
              "9          684          0   27       2  134603.88              1          1   \n",
              "\n",
              "   IsActiveMember  EstimatedSalary  Exited CategoricalCreditScore  \\\n",
              "0               1        101348.88       1         (584.0, 652.0]   \n",
              "1               1        112542.58       0         (584.0, 652.0]   \n",
              "2               0        113931.57       1       (349.999, 584.0]   \n",
              "3               0         93826.63       0         (652.0, 718.0]   \n",
              "4               1         79084.10       0         (718.0, 850.0]   \n",
              "5               0        149756.71       1         (584.0, 652.0]   \n",
              "6               1         10062.80       0         (718.0, 850.0]   \n",
              "7               0        119346.88       1       (349.999, 584.0]   \n",
              "8               1         74940.50       0       (349.999, 584.0]   \n",
              "9               1         71725.73       0         (652.0, 718.0]   \n",
              "\n",
              "   Gender_Female  Gender_Male  \n",
              "0              1            0  \n",
              "1              1            0  \n",
              "2              1            0  \n",
              "3              1            0  \n",
              "4              1            0  \n",
              "5              0            1  \n",
              "6              0            1  \n",
              "7              1            0  \n",
              "8              0            1  \n",
              "9              0            1  "
            ],
            "text/html": [
              "<div>\n",
              "<style scoped>\n",
              "    .dataframe tbody tr th:only-of-type {\n",
              "        vertical-align: middle;\n",
              "    }\n",
              "\n",
              "    .dataframe tbody tr th {\n",
              "        vertical-align: top;\n",
              "    }\n",
              "\n",
              "    .dataframe thead th {\n",
              "        text-align: right;\n",
              "    }\n",
              "</style>\n",
              "<table border=\"1\" class=\"dataframe\">\n",
              "  <thead>\n",
              "    <tr style=\"text-align: right;\">\n",
              "      <th></th>\n",
              "      <th>CreditScore</th>\n",
              "      <th>Geography</th>\n",
              "      <th>Age</th>\n",
              "      <th>Tenure</th>\n",
              "      <th>Balance</th>\n",
              "      <th>NumOfProducts</th>\n",
              "      <th>HasCrCard</th>\n",
              "      <th>IsActiveMember</th>\n",
              "      <th>EstimatedSalary</th>\n",
              "      <th>Exited</th>\n",
              "      <th>CategoricalCreditScore</th>\n",
              "      <th>Gender_Female</th>\n",
              "      <th>Gender_Male</th>\n",
              "    </tr>\n",
              "  </thead>\n",
              "  <tbody>\n",
              "    <tr>\n",
              "      <th>0</th>\n",
              "      <td>619</td>\n",
              "      <td>0</td>\n",
              "      <td>42</td>\n",
              "      <td>2</td>\n",
              "      <td>0.00</td>\n",
              "      <td>1</td>\n",
              "      <td>1</td>\n",
              "      <td>1</td>\n",
              "      <td>101348.88</td>\n",
              "      <td>1</td>\n",
              "      <td>(584.0, 652.0]</td>\n",
              "      <td>1</td>\n",
              "      <td>0</td>\n",
              "    </tr>\n",
              "    <tr>\n",
              "      <th>1</th>\n",
              "      <td>608</td>\n",
              "      <td>2</td>\n",
              "      <td>41</td>\n",
              "      <td>1</td>\n",
              "      <td>83807.86</td>\n",
              "      <td>1</td>\n",
              "      <td>0</td>\n",
              "      <td>1</td>\n",
              "      <td>112542.58</td>\n",
              "      <td>0</td>\n",
              "      <td>(584.0, 652.0]</td>\n",
              "      <td>1</td>\n",
              "      <td>0</td>\n",
              "    </tr>\n",
              "    <tr>\n",
              "      <th>2</th>\n",
              "      <td>502</td>\n",
              "      <td>0</td>\n",
              "      <td>42</td>\n",
              "      <td>8</td>\n",
              "      <td>159660.80</td>\n",
              "      <td>3</td>\n",
              "      <td>1</td>\n",
              "      <td>0</td>\n",
              "      <td>113931.57</td>\n",
              "      <td>1</td>\n",
              "      <td>(349.999, 584.0]</td>\n",
              "      <td>1</td>\n",
              "      <td>0</td>\n",
              "    </tr>\n",
              "    <tr>\n",
              "      <th>3</th>\n",
              "      <td>699</td>\n",
              "      <td>0</td>\n",
              "      <td>39</td>\n",
              "      <td>1</td>\n",
              "      <td>0.00</td>\n",
              "      <td>2</td>\n",
              "      <td>0</td>\n",
              "      <td>0</td>\n",
              "      <td>93826.63</td>\n",
              "      <td>0</td>\n",
              "      <td>(652.0, 718.0]</td>\n",
              "      <td>1</td>\n",
              "      <td>0</td>\n",
              "    </tr>\n",
              "    <tr>\n",
              "      <th>4</th>\n",
              "      <td>850</td>\n",
              "      <td>2</td>\n",
              "      <td>43</td>\n",
              "      <td>2</td>\n",
              "      <td>125510.82</td>\n",
              "      <td>1</td>\n",
              "      <td>1</td>\n",
              "      <td>1</td>\n",
              "      <td>79084.10</td>\n",
              "      <td>0</td>\n",
              "      <td>(718.0, 850.0]</td>\n",
              "      <td>1</td>\n",
              "      <td>0</td>\n",
              "    </tr>\n",
              "    <tr>\n",
              "      <th>5</th>\n",
              "      <td>645</td>\n",
              "      <td>2</td>\n",
              "      <td>44</td>\n",
              "      <td>8</td>\n",
              "      <td>113755.78</td>\n",
              "      <td>2</td>\n",
              "      <td>1</td>\n",
              "      <td>0</td>\n",
              "      <td>149756.71</td>\n",
              "      <td>1</td>\n",
              "      <td>(584.0, 652.0]</td>\n",
              "      <td>0</td>\n",
              "      <td>1</td>\n",
              "    </tr>\n",
              "    <tr>\n",
              "      <th>6</th>\n",
              "      <td>822</td>\n",
              "      <td>0</td>\n",
              "      <td>50</td>\n",
              "      <td>7</td>\n",
              "      <td>0.00</td>\n",
              "      <td>2</td>\n",
              "      <td>1</td>\n",
              "      <td>1</td>\n",
              "      <td>10062.80</td>\n",
              "      <td>0</td>\n",
              "      <td>(718.0, 850.0]</td>\n",
              "      <td>0</td>\n",
              "      <td>1</td>\n",
              "    </tr>\n",
              "    <tr>\n",
              "      <th>7</th>\n",
              "      <td>376</td>\n",
              "      <td>1</td>\n",
              "      <td>29</td>\n",
              "      <td>4</td>\n",
              "      <td>115046.74</td>\n",
              "      <td>4</td>\n",
              "      <td>1</td>\n",
              "      <td>0</td>\n",
              "      <td>119346.88</td>\n",
              "      <td>1</td>\n",
              "      <td>(349.999, 584.0]</td>\n",
              "      <td>1</td>\n",
              "      <td>0</td>\n",
              "    </tr>\n",
              "    <tr>\n",
              "      <th>8</th>\n",
              "      <td>501</td>\n",
              "      <td>0</td>\n",
              "      <td>44</td>\n",
              "      <td>4</td>\n",
              "      <td>142051.07</td>\n",
              "      <td>2</td>\n",
              "      <td>0</td>\n",
              "      <td>1</td>\n",
              "      <td>74940.50</td>\n",
              "      <td>0</td>\n",
              "      <td>(349.999, 584.0]</td>\n",
              "      <td>0</td>\n",
              "      <td>1</td>\n",
              "    </tr>\n",
              "    <tr>\n",
              "      <th>9</th>\n",
              "      <td>684</td>\n",
              "      <td>0</td>\n",
              "      <td>27</td>\n",
              "      <td>2</td>\n",
              "      <td>134603.88</td>\n",
              "      <td>1</td>\n",
              "      <td>1</td>\n",
              "      <td>1</td>\n",
              "      <td>71725.73</td>\n",
              "      <td>0</td>\n",
              "      <td>(652.0, 718.0]</td>\n",
              "      <td>0</td>\n",
              "      <td>1</td>\n",
              "    </tr>\n",
              "  </tbody>\n",
              "</table>\n",
              "</div>"
            ]
          },
          "metadata": {}
        }
      ],
      "execution_count": 11,
      "metadata": {
        "outputHidden": false,
        "inputHidden": false,
        "trusted": true,
        "_uuid": "d82de983e2b715c863dde155ee9073bbb6240c61"
      }
    },
    {
      "cell_type": "code",
      "source": [
        "# Split Train and Test and check shape \n",
        "data_train_encoder, target_train_encoder, data_test_encoder, target_test_encoder = SplitDataFrameToTrainAndTest(data_encoder, 0.6, 'Exited')\n",
        "PrintTrainTestInformation(data_train_encoder, target_train_encoder, data_test_encoder, target_test_encoder)"
      ],
      "outputs": [],
      "execution_count": null,
      "metadata": {
        "outputHidden": false,
        "inputHidden": false,
        "trusted": true,
        "_uuid": "2e882daa4e3e1f47d8cea24cb2d2cc44dc3c400f"
      }
    },
    {
      "cell_type": "markdown",
      "source": [
        "## **Classification by trainditional models** "
      ],
      "metadata": {
        "_uuid": "30bf2de9231ca01c9eba87a523d772d8e321c57e"
      }
    },
    {
      "cell_type": "code",
      "source": [
        "X_train = data_train_encoder\n",
        "y_train = target_train_encoder\n",
        "X_test = data_test_encoder\n",
        "y_test = target_test_encoder"
      ],
      "outputs": [],
      "execution_count": null,
      "metadata": {
        "outputHidden": false,
        "inputHidden": false,
        "trusted": true,
        "_uuid": "eae9568a2caa8fbf9a1dc0588365e6c89355ce07"
      }
    },
    {
      "cell_type": "code",
      "source": [
        "NBModel = NaiveBayesLearning(X_train, y_train)\n",
        "NBAccuracy,NBPredictTest = NaiveBayesTesting(NBModel,X_test, y_test)\n",
        "print('Naive Bayes accuracy: {:.3f}'.format(NBAccuracy))\n",
        "\n",
        "print(NBModel.predict_proba(X_test)[1,:])\n",
        "print(NBPredictTest[1])\n",
        "print(NBModel.predict_proba(X_test)[0,:])\n",
        "print(NBPredictTest[0])"
      ],
      "outputs": [],
      "execution_count": null,
      "metadata": {
        "trusted": true,
        "_uuid": "59338539e0e38208fea735907258eb3b94c0149d"
      }
    },
    {
      "cell_type": "code",
      "source": [
        "LRModel = LogisticRegressionLearning(X_train, y_train)\n",
        "LRAccuracy,LRPredictTest = LogisticRegressionTesting(LRModel,X_test, y_test)\n",
        "print('Logistic Regression accuracy: {:.3f}'.format(LRAccuracy))\n",
        "\n",
        "print(LRModel.predict_proba(X_test)[1,:])\n",
        "print(LRPredictTest[1])\n",
        "print(LRModel.predict_proba(X_test)[0,:])\n",
        "print(LRPredictTest[0])"
      ],
      "outputs": [],
      "execution_count": null,
      "metadata": {
        "outputHidden": false,
        "inputHidden": false,
        "trusted": true,
        "_uuid": "98aa7df4d6daa2e116a8af0627f29745108f5782"
      }
    },
    {
      "cell_type": "code",
      "source": [
        "RFModel = RandomForestLearning(X_train, y_train)\n",
        "RFAccuracy,RFPredictTest = RandomForestTesting(RFModel,X_test, y_test)\n",
        "print('Random Forest accuracy: {:.6f}'.format(RFAccuracy))\n",
        "\n",
        "print(RFModel.predict_proba(X_test)[1,:])\n",
        "print(RFPredictTest[1])\n",
        "print(RFModel.predict_proba(X_test)[0,:])\n",
        "print(RFPredictTest[0])"
      ],
      "outputs": [],
      "execution_count": null,
      "metadata": {
        "outputHidden": false,
        "inputHidden": false,
        "trusted": true,
        "_uuid": "6f3e8db37d505780324ef7f04909f7896bef00c1"
      }
    },
    {
      "cell_type": "code",
      "source": [
        "LiSVMModel = SVMLearning(X_train, y_train)\n",
        "LiSVMAccuracy,LiSVMPredictTest = SVMTesting(LiSVMModel, X_test, y_test)\n",
        "print('Linear SVM accuracy: {:.6f}'.format(LiSVMAccuracy))\n",
        "\n",
        "RBFSVMModel = SVMLearning(X_train, y_train, 'RBF')\n",
        "RBFSVMAccuracy,RBFSVMPredictTest = SVMTesting(RBFSVMModel, X_test, y_test)\n",
        "print('RBF SVM accuracy: {:.6f}'.format(RBFSVMAccuracy))"
      ],
      "outputs": [],
      "execution_count": null,
      "metadata": {
        "outputHidden": false,
        "inputHidden": false,
        "trusted": true,
        "_uuid": "5e8cb85068ef22e9cc60201cd97f8323fc2d9cd2"
      }
    },
    {
      "cell_type": "code",
      "source": [
        "KNNModel = KNNLearning(X_train, y_train)\n",
        "KNNAccuracy,KNNPredictTest = KNNTesting(KNNModel,X_test, y_test)\n",
        "print('K Nearest Neighbor accuracy: {:.6f}'.format(KNNAccuracy))\n",
        "\n",
        "print(KNNModel.predict_proba(X_test)[1,:])\n",
        "print(KNNPredictTest[1])\n",
        "print(KNNModel.predict_proba(X_test)[0,:])\n",
        "print(KNNPredictTest[0])"
      ],
      "outputs": [],
      "execution_count": null,
      "metadata": {
        "outputHidden": false,
        "inputHidden": false,
        "trusted": true,
        "_uuid": "a7c14174f9535182a144fa89a6ed1d87ec95d873"
      }
    },
    {
      "cell_type": "code",
      "source": [
        "ANNModel = ANNLearning(X_train, y_train)\n",
        "ANNAccuracy, ANNPredictTest = ANNTesting(ANNModel, X_test, y_test)\n",
        "print('ANN accuracy: {:.6f}'.format(ANNAccuracy))\n",
        "\n",
        "print(ANNModel.predict_proba(X_test)[1,:])\n",
        "print(ANNPredictTest[1])\n",
        "print(ANNModel.predict_proba(X_test)[0,:])\n",
        "print(ANNPredictTest[0])"
      ],
      "outputs": [],
      "execution_count": null,
      "metadata": {
        "outputHidden": false,
        "inputHidden": false,
        "trusted": true,
        "_uuid": "0eb16a76edc511df160e4b3a8bb4ac7371fca1e8"
      }
    },
    {
      "cell_type": "markdown",
      "source": [
        "# **Approach 1 ** (Feature Selection)"
      ],
      "metadata": {
        "_uuid": "d9a515720b89a73a164bcc756686e4076e86e05f"
      }
    },
    {
      "cell_type": "markdown",
      "source": [
        "# Correlation"
      ],
      "metadata": {
        "_uuid": "b4cad55ca84f5a9472c22d411f6384ebdc7aa766"
      }
    },
    {
      "cell_type": "code",
      "source": [
        "## get the most important variables. \n",
        "corr = dataset.corr()**2\n",
        "corr.Exited.sort_values(ascending=False)"
      ],
      "outputs": [],
      "execution_count": null,
      "metadata": {
        "outputHidden": false,
        "inputHidden": false,
        "trusted": true,
        "_uuid": "caf656541f6d31a29f53a28af9fc3e8bd9e0872f"
      }
    },
    {
      "cell_type": "code",
      "source": [
        "## heatmeap to see the correlation between features. \n",
        "# Generate a mask for the upper triangle (taken from seaborn example gallery)\n",
        "mask = np.zeros_like(dataset.corr(), dtype=np.bool)\n",
        "mask[np.triu_indices_from(mask)] = True\n",
        "# plot\n",
        "plt.subplots(figsize = (10,8))\n",
        "sns.heatmap(dataset.corr(), annot=True, mask = mask, cmap = 'RdBu_r', linewidths=0.1, linecolor='white', vmax = .9, square=True)\n",
        "plt.title(\"Correlations Among Features\", y = 1.03,fontsize = 20);"
      ],
      "outputs": [],
      "execution_count": null,
      "metadata": {
        "outputHidden": false,
        "inputHidden": false,
        "trusted": true,
        "_uuid": "99d38e3d78e09364544f17b37ce2a087c1d290a9"
      }
    },
    {
      "cell_type": "code",
      "source": [
        "print(dataset[['NumOfProducts', 'Exited']].groupby(['NumOfProducts'], as_index=False).mean().sort_values(by='Exited', ascending=False))\n",
        "cat_plot(dataset, 'NumOfProducts','Exited', {0: \"black\", 1: \"orange\"} )"
      ],
      "outputs": [],
      "execution_count": null,
      "metadata": {
        "outputHidden": false,
        "inputHidden": false,
        "trusted": true,
        "_uuid": "e61ec191fbbd3bd6027739a5abd752917c4714a5"
      }
    },
    {
      "cell_type": "code",
      "source": [
        "print(dataset[['IsActiveMember', 'Exited']].groupby(['IsActiveMember'], as_index=False).mean().sort_values(by='Exited', ascending=False))\n",
        "cat_plot(dataset, 'IsActiveMember','Exited', {0: \"black\", 1: \"orange\"} )"
      ],
      "outputs": [],
      "execution_count": null,
      "metadata": {
        "outputHidden": false,
        "inputHidden": false,
        "trusted": true,
        "_uuid": "28d24cd8e4408578219f43f770146b9da497f035"
      }
    },
    {
      "cell_type": "code",
      "source": [
        "# https://seaborn.pydata.org/generated/seaborn.pairplot.html\n",
        "sns.pairplot(dataset, vars=[\"NumOfProducts\", \"IsActiveMember\", \"Balance\"], hue=\"Exited\")"
      ],
      "outputs": [],
      "execution_count": null,
      "metadata": {
        "outputHidden": false,
        "inputHidden": false,
        "trusted": true,
        "_uuid": "6d6e04866027738387bc2b9f74f7431cdbc8bb5e"
      }
    },
    {
      "cell_type": "code",
      "source": [
        "AttList = [\"CreditScore\",\t\"Age\",\t\"Tenure\",\t\"Balance\",\t\"NumOfProducts\",\t\"HasCrCard\",\t\"IsActiveMember\",\t\"EstimatedSalary\"]\n",
        "correlation_matrix = dataset[AttList].corr().round(2)\n",
        "# annot = True to print the values inside the square\n",
        "sns.heatmap(data=correlation_matrix, annot=True)"
      ],
      "outputs": [],
      "execution_count": null,
      "metadata": {
        "outputHidden": false,
        "inputHidden": false,
        "trusted": true,
        "_uuid": "1eace166d0242bcdfe1fb7bb0785c2b68cfc0608"
      }
    },
    {
      "cell_type": "code",
      "source": [
        "data_encoder_feselection = data_encoder.copy()\n",
        "# AttList = [\"Surname\", \"RowNumber\", \"CustomerId\"]\n",
        "# data_encoder_feselection = data_encoder_feselection.drop(AttList,  axis=1)\n",
        "print(data_encoder_feselection.shape)\n",
        "data_encoder_feselection.head()"
      ],
      "outputs": [],
      "execution_count": null,
      "metadata": {
        "outputHidden": false,
        "inputHidden": false,
        "trusted": true,
        "_uuid": "39d59fb6f2718d5a6f041ec85f15e06730303bb2"
      }
    },
    {
      "cell_type": "code",
      "source": [
        "# Split Train and Test and check shape \n",
        "data_train_encoder_feselection, target_train_encoder_feselection, data_test_encoder_feselection, target_test_encoder_feselection = SplitDataFrameToTrainAndTest(data_encoder_feselection, 0.6, 'Exited')\n",
        "PrintTrainTestInformation(data_train_encoder_feselection, target_train_encoder_feselection, data_test_encoder_feselection, target_test_encoder_feselection)"
      ],
      "outputs": [],
      "execution_count": null,
      "metadata": {
        "outputHidden": false,
        "inputHidden": false,
        "trusted": true,
        "_uuid": "8c1b3a87174a5d2b87af9cc23b4f9b2f0df37559"
      }
    },
    {
      "cell_type": "code",
      "source": [
        "# Retest all traditional classification approaches\n",
        "X_train = data_train_encoder\n",
        "y_train = target_train_encoder\n",
        "X_test = data_test_encoder\n",
        "y_test = target_test_encoder\n",
        "\n",
        "NBModel = NaiveBayesLearning(X_train, y_train)\n",
        "NBAccuracy,NBPredictTest = NaiveBayesTesting(NBModel,X_test, y_test)\n",
        "print('Naive Bayes accuracy: {:.3f}'.format(NBAccuracy))\n",
        "\n",
        "LRModel = LogisticRegressionLearning(X_train, y_train)\n",
        "LRAccuracy,LRPredictTest = LogisticRegressionTesting(LRModel,X_test, y_test)\n",
        "print('Logistic Regression accuracy: {:.3f}'.format(LRAccuracy))\n",
        "\n",
        "RFModel = RandomForestLearning(X_train, y_train)\n",
        "RFAccuracy,RFPredictTest = RandomForestTesting(RFModel,X_test, y_test)\n",
        "print('Random Forest accuracy: {:.6f}'.format(RFAccuracy))\n",
        "\n",
        "LiSVMModel = SVMLearning(X_train, y_train)\n",
        "LiSVMAccuracy,LiSVMPredictTest = SVMTesting(LiSVMModel, X_test, y_test)\n",
        "print('Linear SVM accuracy: {:.6f}'.format(LiSVMAccuracy))\n",
        "\n",
        "RBFSVMModel = SVMLearning(X_train, y_train, 'RBF')\n",
        "RBFSVMAccuracy,RBFSVMPredictTest = SVMTesting(RBFSVMModel, X_test, y_test)\n",
        "print('RBF SVM accuracy: {:.6f}'.format(RBFSVMAccuracy))\n",
        "\n",
        "KNNModel = KNNLearning(X_train, y_train)\n",
        "KNNAccuracy,KNNPredictTest = KNNTesting(KNNModel,X_test, y_test)\n",
        "print('K Nearest Neighbor accuracy: {:.6f}'.format(KNNAccuracy))\n",
        "\n",
        "ANNModel = ANNLearning(X_train, y_train)\n",
        "ANNAccuracy, ANNPredictTest = ANNTesting(ANNModel, X_test, y_test)\n",
        "print('ANN accuracy: {:.6f}'.format(ANNAccuracy))"
      ],
      "outputs": [],
      "execution_count": null,
      "metadata": {
        "outputHidden": false,
        "inputHidden": false,
        "trusted": true,
        "_uuid": "53770b786bd5f8c1dafc30a7e2a5c545998807dc"
      }
    },
    {
      "cell_type": "code",
      "source": [
        "# Retest all traditional classification approaches\n",
        "X_train = data_train_encoder_feselection\n",
        "y_train = target_train_encoder_feselection\n",
        "X_test = data_test_encoder_feselection\n",
        "y_test = target_test_encoder_feselection\n",
        "\n",
        "NBModel = NaiveBayesLearning(X_train, y_train)\n",
        "NBAccuracy,NBPredictTest = NaiveBayesTesting(NBModel,X_test, y_test)\n",
        "print('Naive Bayes accuracy: {:.3f}'.format(NBAccuracy))\n",
        "\n",
        "LRModel = LogisticRegressionLearning(X_train, y_train)\n",
        "LRAccuracy,LRPredictTest = LogisticRegressionTesting(LRModel,X_test, y_test)\n",
        "print('Logistic Regression accuracy: {:.3f}'.format(LRAccuracy))\n",
        "\n",
        "RFModel = RandomForestLearning(X_train, y_train)\n",
        "RFAccuracy,RFPredictTest = RandomForestTesting(RFModel,X_test, y_test)\n",
        "print('Random Forest accuracy: {:.6f}'.format(RFAccuracy))\n",
        "\n",
        "LiSVMModel = SVMLearning(X_train, y_train)\n",
        "LiSVMAccuracy,LiSVMPredictTest = SVMTesting(LiSVMModel, X_test, y_test)\n",
        "print('Linear SVM accuracy: {:.6f}'.format(LiSVMAccuracy))\n",
        "\n",
        "RBFSVMModel = SVMLearning(X_train, y_train, 'RBF')\n",
        "RBFSVMAccuracy,RBFSVMPredictTest = SVMTesting(RBFSVMModel, X_test, y_test)\n",
        "print('RBF SVM accuracy: {:.6f}'.format(RBFSVMAccuracy))\n",
        "\n",
        "KNNModel = KNNLearning(X_train, y_train)\n",
        "KNNAccuracy,KNNPredictTest = KNNTesting(KNNModel,X_test, y_test)\n",
        "print('K Nearest Neighbor accuracy: {:.6f}'.format(KNNAccuracy))\n",
        "\n",
        "ANNModel = ANNLearning(X_train, y_train)\n",
        "ANNAccuracy, ANNPredictTest = ANNTesting(ANNModel, X_test, y_test)\n",
        "print('ANN accuracy: {:.6f}'.format(ANNAccuracy))"
      ],
      "outputs": [],
      "execution_count": null,
      "metadata": {
        "outputHidden": false,
        "inputHidden": false,
        "trusted": true,
        "_uuid": "09641944a5cc686e59fc353fd26fef1383fba49f"
      }
    },
    {
      "cell_type": "markdown",
      "source": [
        "## Feature Importances"
      ],
      "metadata": {
        "_uuid": "143dc9ac38cdb09259230a079ba767e9982fd086"
      }
    },
    {
      "cell_type": "code",
      "source": [
        "model = RandomForestRegressor(random_state=1, max_depth=10)\n",
        "model.fit(data_train_encoder,target_train_encoder)\n",
        "\n",
        "print(data_train_encoder.shape)\n",
        "features = data_train_encoder.columns\n",
        "importances = model.feature_importances_\n",
        "indices = np.argsort(importances)[-len(features):]  # top features\n",
        "plt.title('Feature Importances')\n",
        "plt.barh(range(len(indices)), importances[indices], color='b', align='center')\n",
        "plt.yticks(range(len(indices)), [features[i] for i in indices])\n",
        "plt.xlabel('Relative Importance')\n",
        "plt.show()"
      ],
      "outputs": [],
      "execution_count": null,
      "metadata": {
        "outputHidden": false,
        "inputHidden": false,
        "trusted": true,
        "_uuid": "641761052d4d607395296d13621b9123e0e75d4d"
      }
    },
    {
      "cell_type": "code",
      "source": [
        "# Get numerical feature importances\n",
        "feature_list = list(data_train_encoder.columns)\n",
        "importances = list(model.feature_importances_)\n",
        "# List of tuples with variable and importance\n",
        "feature_importances = [(feature, round(importance, 2)) for feature, importance in zip(feature_list, importances)]\n",
        "# Sort the feature importances by most important first\n",
        "feature_importances = sorted(feature_importances, key = lambda x: x[1], reverse = True)\n",
        "# Print out the feature and importances \n",
        "[print('Variable: {:20} Importance: {}'.format(*pair)) for pair in feature_importances];"
      ],
      "outputs": [],
      "execution_count": null,
      "metadata": {
        "outputHidden": false,
        "inputHidden": false,
        "trusted": true,
        "_uuid": "281000a95e0aa5bc1407d197632b02806ea15b01"
      }
    },
    {
      "cell_type": "code",
      "source": [
        "# Split Train and Test and check shape \n",
        "AttSelection = [\"Age\", \"NumOfProducts\", \"Balance\", \"IsActiveMember\",\n",
        "                \"CreditScore\", \"EstimatedSalary\", \"Geography\", \"Tenure\",\n",
        "                \"Exited\"]\n",
        "\n",
        "data_train_encoder_feselection02, target_train_encoder_feselection02, data_test_encoder_feselection02, target_test_encoder_feselection02 = SplitDataFrameToTrainAndTest(data_encoder[AttSelection], 0.6, 'Exited')\n",
        "PrintTrainTestInformation(data_train_encoder_feselection02, target_train_encoder_feselection02, data_test_encoder_feselection02, target_test_encoder_feselection02)"
      ],
      "outputs": [],
      "execution_count": null,
      "metadata": {
        "outputHidden": false,
        "inputHidden": false,
        "trusted": true,
        "_uuid": "38c6134e494a22e9d15fac4908ba44ceadbede3a"
      }
    },
    {
      "cell_type": "code",
      "source": [
        "# Retest all traditional classification approaches\n",
        "X_train = data_train_encoder_feselection02\n",
        "y_train = target_train_encoder_feselection02\n",
        "X_test = data_test_encoder_feselection02\n",
        "y_test = target_test_encoder_feselection02\n",
        "\n",
        "NBModel = NaiveBayesLearning(X_train, y_train)\n",
        "NBAccuracy,NBPredictTest = NaiveBayesTesting(NBModel,X_test, y_test)\n",
        "print('Naive Bayes accuracy: {:.3f}'.format(NBAccuracy))\n",
        "\n",
        "LRModel = LogisticRegressionLearning(X_train, y_train)\n",
        "LRAccuracy,LRPredictTest = LogisticRegressionTesting(LRModel,X_test, y_test)\n",
        "print('Logistic Regression accuracy: {:.3f}'.format(LRAccuracy))\n",
        "\n",
        "RFModel = RandomForestLearning(X_train, y_train)\n",
        "RFAccuracy,RFPredictTest = RandomForestTesting(RFModel,X_test, y_test)\n",
        "print('Random Forest accuracy: {:.6f}'.format(RFAccuracy))\n",
        "\n",
        "LiSVMModel = SVMLearning(X_train, y_train)\n",
        "LiSVMAccuracy,LiSVMPredictTest = SVMTesting(LiSVMModel, X_test, y_test)\n",
        "print('Linear SVM accuracy: {:.6f}'.format(LiSVMAccuracy))\n",
        "\n",
        "RBFSVMModel = SVMLearning(X_train, y_train, 'RBF')\n",
        "RBFSVMAccuracy,RBFSVMPredictTest = SVMTesting(RBFSVMModel, X_test, y_test)\n",
        "print('RBF SVM accuracy: {:.6f}'.format(RBFSVMAccuracy))\n",
        "\n",
        "KNNModel = KNNLearning(X_train, y_train)\n",
        "KNNAccuracy,KNNPredictTest = KNNTesting(KNNModel,X_test, y_test)\n",
        "print('K Nearest Neighbor accuracy: {:.6f}'.format(KNNAccuracy))\n",
        "\n",
        "ANNModel = ANNLearning(X_train, y_train)\n",
        "ANNAccuracy, ANNPredictTest = ANNTesting(ANNModel, X_test, y_test)\n",
        "print('ANN accuracy: {:.6f}'.format(ANNAccuracy))"
      ],
      "outputs": [],
      "execution_count": null,
      "metadata": {
        "outputHidden": false,
        "inputHidden": false,
        "trusted": true,
        "_uuid": "110fdd7893da577d8074a2fa85c0748b50544b9c"
      }
    },
    {
      "cell_type": "code",
      "source": [
        "from sklearn.feature_selection import RFE\n",
        "from sklearn.linear_model import LogisticRegression\n",
        "import pandas as pd\n",
        "from sklearn.svm import SVR\n",
        "\n",
        "# Retest all traditional classification approaches\n",
        "X_train = data_train_encoder\n",
        "y_train = target_train_encoder\n",
        "X_test = data_test_encoder\n",
        "y_test = target_test_encoder\n",
        "\n",
        "LRModel = LogisticRegressionLearning(X_train, y_train)\n",
        "model = LRModel\n",
        "rfe = RFE(model, 10)\n",
        "rfe = rfe.fit(X_train, y_train)\n",
        "\n",
        "feature_list = list(X_train.columns)\n",
        "RankStatistics = pd.DataFrame(columns=['Attributes', 'Ranking', 'Support'])\n",
        "for i, att, rank, suppport in zip(range(len(feature_list)), feature_list, rfe.ranking_, rfe.support_):\n",
        "    RankStatistics.loc[i] = [att, rank, suppport]\n",
        "RankStatistics = RankStatistics.sort_values('Ranking')\n",
        "\nRankStatistics"
      ],
      "outputs": [],
      "execution_count": null,
      "metadata": {
        "outputHidden": false,
        "inputHidden": false,
        "trusted": true,
        "_uuid": "bc20f0cba4d276f5b8dbbf96c6fcc58b0cb8dcde"
      }
    },
    {
      "cell_type": "code",
      "source": [
        "# Split Train and Test and check shape \n",
        "AttSelection = RankStatistics[(RankStatistics[\"Support\"] == True)]\n",
        "AttSelection = list(filter(lambda a: a not in [\"CustomerId\", \"Surname\"], AttSelection[\"Attributes\"]))\n",
        "AttSelection = AttSelection + ['Exited']\n",
        "\n",
        "data_train_encoder_feselection03, target_train_encoder_feselection03, data_test_encoder_feselection03, target_test_encoder_feselection03 = SplitDataFrameToTrainAndTest(data_encoder[AttSelection], 0.6, 'Exited')\n",
        "PrintTrainTestInformation(data_train_encoder_feselection03, target_train_encoder_feselection03, data_test_encoder_feselection03, target_test_encoder_feselection03)"
      ],
      "outputs": [],
      "execution_count": null,
      "metadata": {
        "outputHidden": false,
        "inputHidden": false,
        "trusted": true,
        "_uuid": "894e63efa5309e758cb46fc6341b9d8c04b9d922"
      }
    },
    {
      "cell_type": "code",
      "source": [
        "# Retest all traditional classification approaches\n",
        "X_train = data_train_encoder_feselection03\n",
        "y_train = target_train_encoder_feselection03\n",
        "X_test = data_test_encoder_feselection03\n",
        "y_test = target_test_encoder_feselection03\n",
        "\n",
        "NBModel = NaiveBayesLearning(X_train, y_train)\n",
        "NBAccuracy,NBPredictTest = NaiveBayesTesting(NBModel,X_test, y_test)\n",
        "print('Naive Bayes accuracy: {:.3f}'.format(NBAccuracy))\n",
        "\n",
        "LRModel = LogisticRegressionLearning(X_train, y_train)\n",
        "LRAccuracy,LRPredictTest = LogisticRegressionTesting(LRModel,X_test, y_test)\n",
        "print('Logistic Regression accuracy: {:.3f}'.format(LRAccuracy))\n",
        "\n",
        "RFModel = RandomForestLearning(X_train, y_train)\n",
        "RFAccuracy,RFPredictTest = RandomForestTesting(RFModel,X_test, y_test)\n",
        "print('Random Forest accuracy: {:.6f}'.format(RFAccuracy))\n",
        "\n",
        "LiSVMModel = SVMLearning(X_train, y_train)\n",
        "LiSVMAccuracy,LiSVMPredictTest = SVMTesting(LiSVMModel, X_test, y_test)\n",
        "print('Linear SVM accuracy: {:.6f}'.format(LiSVMAccuracy))\n",
        "\n",
        "RBFSVMModel = SVMLearning(X_train, y_train, 'RBF')\n",
        "RBFSVMAccuracy,RBFSVMPredictTest = SVMTesting(RBFSVMModel, X_test, y_test)\n",
        "print('RBF SVM accuracy: {:.6f}'.format(RBFSVMAccuracy))\n",
        "\n",
        "KNNModel = KNNLearning(X_train, y_train)\n",
        "KNNAccuracy,KNNPredictTest = KNNTesting(KNNModel,X_test, y_test)\n",
        "print('K Nearest Neighbor accuracy: {:.6f}'.format(KNNAccuracy))\n",
        "\n",
        "ANNModel = ANNLearning(X_train, y_train)\n",
        "ANNAccuracy, ANNPredictTest = ANNTesting(ANNModel, X_test, y_test)\n",
        "print('ANN accuracy: {:.6f}'.format(ANNAccuracy))"
      ],
      "outputs": [],
      "execution_count": null,
      "metadata": {
        "outputHidden": false,
        "inputHidden": false,
        "trusted": true,
        "_uuid": "81187d8dc21de43592643abcfa60e5a30239b667"
      }
    },
    {
      "cell_type": "markdown",
      "source": [
        "# **Approach 2 (Feature Reduction)**"
      ],
      "metadata": {
        "_uuid": "5789fb3ae2ddd74ea5ca4badade2fd3ffe4ce62a"
      }
    },
    {
      "cell_type": "code",
      "source": [
        "# Feature Reduction: Dimensionality Reduction with PCA.\n",
        "import pandas as pd\n",
        "from sklearn.preprocessing import StandardScaler\n",
        "from sklearn.decomposition import PCA\n",
        "\n",
        "DataFrame = data_encoder\n",
        "hr_vars = DataFrame.columns.values.tolist()\n",
        "hr_vars = list(filter(lambda a: a not in [\"RowNumber\", \"CustomerId\", \"Surname\"], hr_vars))\n",
        "targets = ['Exited']\n",
        "features = [i for i in hr_vars if i not in targets]\n",
        "\n",
        "# Separating out the features\n",
        "x = DataFrame.loc[:, features].values\n",
        "# Separating out the target\n",
        "y = DataFrame.loc[:, ['Exited']].values\n",
        "# Standardizing the features\n",
        "x = StandardScaler().fit_transform(x)\n",
        "\n",
        "nSelectedFeature = len(hr_vars) - 1\n",
        "SelectedAttList = []\n",
        "for i in range(1, nSelectedFeature + 1):\n",
        "    SelectedAttList.append(\"principal component\" + str(i))\n",
        "\n\n",
        "pca = PCA(n_components=nSelectedFeature)\n",
        "principalComponents = pca.fit_transform(x)\n",
        "principalDf = pd.DataFrame(data=principalComponents, columns=SelectedAttList)\n",
        "PCAdf = pd.concat([principalDf, DataFrame[targets]], axis=1)\n",
        "PCAdf = PCAdf.dropna()\n",
        "PCAdata = PCAdf\n",
        "\nPCAdata.head(10)"
      ],
      "outputs": [],
      "execution_count": null,
      "metadata": {
        "outputHidden": false,
        "inputHidden": false,
        "trusted": true,
        "_uuid": "01a6df5e99beb8c5b9cea6407acaf0510ad49b34"
      }
    },
    {
      "cell_type": "code",
      "source": [
        "PCAdata_train, PCAtarget_train, PCAdata_test, PCAtarget_test = SplitDataFrameToTrainAndTest(PCAdata, 0.6, 'Exited')\n",
        "PrintTrainTestInformation(PCAdata_train, PCAtarget_train, PCAdata_test, PCAtarget_test)"
      ],
      "outputs": [],
      "execution_count": null,
      "metadata": {
        "outputHidden": false,
        "inputHidden": false,
        "trusted": true,
        "_uuid": "429dafdd4ba4927b738322fa57af4308f29732f1"
      }
    },
    {
      "cell_type": "code",
      "source": [
        "# Retest all traditional classification approaches\n",
        "X_train = PCAdata_train\n",
        "y_train = PCAtarget_train\n",
        "X_test = PCAdata_test\n",
        "y_test = PCAtarget_test\n",
        "\n",
        "NBModel = NaiveBayesLearning(X_train, y_train)\n",
        "NBAccuracy,NBPredictTest = NaiveBayesTesting(NBModel,X_test, y_test)\n",
        "print('Naive Bayes accuracy: {:.3f}'.format(NBAccuracy))\n",
        "\n",
        "LRModel = LogisticRegressionLearning(X_train, y_train)\n",
        "LRAccuracy,LRPredictTest = LogisticRegressionTesting(LRModel,X_test, y_test)\n",
        "print('Logistic Regression accuracy: {:.3f}'.format(LRAccuracy))\n",
        "\n",
        "RFModel = RandomForestLearning(X_train, y_train)\n",
        "RFAccuracy,RFPredictTest = RandomForestTesting(RFModel,X_test, y_test)\n",
        "print('Random Forest accuracy: {:.6f}'.format(RFAccuracy))\n",
        "\n",
        "LiSVMModel = SVMLearning(X_train, y_train)\n",
        "LiSVMAccuracy,LiSVMPredictTest = SVMTesting(LiSVMModel, X_test, y_test)\n",
        "print('Linear SVM accuracy: {:.6f}'.format(LiSVMAccuracy))\n",
        "\n",
        "RBFSVMModel = SVMLearning(X_train, y_train, 'RBF')\n",
        "RBFSVMAccuracy,RBFSVMPredictTest = SVMTesting(RBFSVMModel, X_test, y_test)\n",
        "print('RBF SVM accuracy: {:.6f}'.format(RBFSVMAccuracy))\n",
        "\n",
        "KNNModel = KNNLearning(X_train, y_train)\n",
        "KNNAccuracy,KNNPredictTest = KNNTesting(KNNModel,X_test, y_test)\n",
        "print('K Nearest Neighbor accuracy: {:.6f}'.format(KNNAccuracy))\n",
        "\n",
        "ANNModel = ANNLearning(X_train, y_train)\n",
        "ANNAccuracy, ANNPredictTest = ANNTesting(ANNModel, X_test, y_test)\n",
        "print('ANN accuracy: {:.6f}'.format(ANNAccuracy))"
      ],
      "outputs": [],
      "execution_count": null,
      "metadata": {
        "outputHidden": false,
        "inputHidden": false,
        "trusted": true,
        "_uuid": "580b7ddb378efad0d53ce91355db502f6cfb6799"
      }
    },
    {
      "cell_type": "code",
      "source": [
        "import matplotlib.pyplot as plt\n",
        "\n",
        "cum_explained_var = []\n",
        "for i in range(0, len(pca.explained_variance_ratio_)):\n",
        "    if i == 0:\n",
        "        cum_explained_var.append(pca.explained_variance_ratio_[i])\n",
        "    else:\n",
        "        cum_explained_var.append(pca.explained_variance_ratio_[i] +\n",
        "                                 cum_explained_var[i - 1])\n",
        "\n",
        "x_val = range(1, len(cum_explained_var) + 1)\n",
        "y_val = cum_explained_var\n",
        "\n",
        "fig = plt.figure()\n",
        "plt.plot(x_val, y_val)\n",
        "plt.plot(x_val, y_val, 'or')\n",
        "plt.title(\"PCA Accumulative Explained Variance\")\n",
        "plt.xticks(range(1, len(cum_explained_var) + 1))\n",
        "plt.grid(True)\n",
        "plt.show()"
      ],
      "outputs": [],
      "execution_count": null,
      "metadata": {
        "outputHidden": false,
        "inputHidden": false,
        "trusted": true,
        "_uuid": "69516401a4b0c19c942cbde0a092bf575de196d4"
      }
    },
    {
      "cell_type": "code",
      "source": [
        "AttSelection = PCAdata.columns.values.tolist()\n",
        "AttSelection = AttSelection[:15]\n",
        "if AttSelection[len(AttSelection)-1] != 'Exited' :\n",
        "    AttSelection = AttSelection + ['Exited']\n",
        "print(AttSelection)\n",
        "\n",
        "PCAdata_train_feReduction, PCAtarget_train_feReduction, PCAdata_test_feReduction, PCAtarget_test_feReduction = SplitDataFrameToTrainAndTest(PCAdata[AttSelection], 0.6, 'Exited')\n",
        "PrintTrainTestInformation(PCAdata_train_feReduction, PCAtarget_train_feReduction, PCAdata_test_feReduction, PCAtarget_test_feReduction)"
      ],
      "outputs": [],
      "execution_count": null,
      "metadata": {
        "outputHidden": false,
        "inputHidden": false,
        "trusted": true,
        "_uuid": "c409602c859a57843cf7286cf0f17bc5b8ff36f0"
      }
    },
    {
      "cell_type": "code",
      "source": [
        "# Retest all traditional classification approaches\n",
        "X_train = PCAdata_train_feReduction\n",
        "y_train = PCAtarget_train_feReduction\n",
        "X_test = PCAdata_test_feReduction\n",
        "y_test = PCAtarget_test_feReduction\n",
        "\n",
        "NBModel = NaiveBayesLearning(X_train, y_train)\n",
        "NBAccuracy,NBPredictTest = NaiveBayesTesting(NBModel,X_test, y_test)\n",
        "print('Naive Bayes accuracy: {:.3f}'.format(NBAccuracy))\n",
        "\n",
        "LRModel = LogisticRegressionLearning(X_train, y_train)\n",
        "LRAccuracy,LRPredictTest = LogisticRegressionTesting(LRModel,X_test, y_test)\n",
        "print('Logistic Regression accuracy: {:.3f}'.format(LRAccuracy))\n",
        "\n",
        "RFModel = RandomForestLearning(X_train, y_train)\n",
        "RFAccuracy,RFPredictTest = RandomForestTesting(RFModel,X_test, y_test)\n",
        "print('Random Forest accuracy: {:.6f}'.format(RFAccuracy))\n",
        "\n",
        "LiSVMModel = SVMLearning(X_train, y_train)\n",
        "LiSVMAccuracy,LiSVMPredictTest = SVMTesting(LiSVMModel, X_test, y_test)\n",
        "print('Linear SVM accuracy: {:.6f}'.format(LiSVMAccuracy))\n",
        "\n",
        "RBFSVMModel = SVMLearning(X_train, y_train, 'RBF')\n",
        "RBFSVMAccuracy,RBFSVMPredictTest = SVMTesting(RBFSVMModel, X_test, y_test)\n",
        "print('RBF SVM accuracy: {:.6f}'.format(RBFSVMAccuracy))\n",
        "\n",
        "KNNModel = KNNLearning(X_train, y_train)\n",
        "KNNAccuracy,KNNPredictTest = KNNTesting(KNNModel,X_test, y_test)\n",
        "print('K Nearest Neighbor accuracy: {:.6f}'.format(KNNAccuracy))\n",
        "\n",
        "ANNModel = ANNLearning(X_train, y_train)\n",
        "ANNAccuracy, ANNPredictTest = ANNTesting(ANNModel, X_test, y_test)\n",
        "print('ANN accuracy: {:.6f}'.format(ANNAccuracy))"
      ],
      "outputs": [],
      "execution_count": null,
      "metadata": {
        "outputHidden": false,
        "inputHidden": false,
        "trusted": true,
        "_uuid": "c054721b483cac35a0ba29ac78557bd24c955116"
      }
    },
    {
      "cell_type": "markdown",
      "source": [
        "# **Outlier Removal Approach **"
      ],
      "metadata": {
        "_uuid": "00285d39e99efc1b17165c2be0f8374bc4318a1d"
      }
    },
    {
      "cell_type": "code",
      "source": [
        "data_encoder.head()"
      ],
      "outputs": [],
      "execution_count": null,
      "metadata": {
        "outputHidden": false,
        "inputHidden": false,
        "trusted": true,
        "_uuid": "fcc1052d1cbc550acb6d2129b4d86606ad98835c"
      }
    },
    {
      "cell_type": "code",
      "source": [
        "data_encoder.info()"
      ],
      "outputs": [],
      "execution_count": null,
      "metadata": {
        "outputHidden": false,
        "inputHidden": false,
        "trusted": true,
        "_uuid": "f00ab214d2b76900dd8186ce84e49d5a41e74562"
      }
    },
    {
      "cell_type": "code",
      "source": [
        "CheckOutlierAtt = ['CreditScore', 'Geography', 'Gender']\n",
        "LOFOutlierIdx01,LOFFactorData01 = DetectOutlierByLOF(data_encoder, AttList=CheckOutlierAtt, LOFThresh=3.0, neighbors = 10)\n",
        "\n",
        "print(\"Size of LOFOutlierIdx : \" + str(len(LOFOutlierIdx01)))\n",
        "print(LOFFactorData01.head())\n"
      ],
      "outputs": [],
      "execution_count": null,
      "metadata": {
        "outputHidden": false,
        "inputHidden": false,
        "trusted": true,
        "_uuid": "483b1f13b23c9c0f428d3cef98f02bbd2583b125"
      }
    },
    {
      "cell_type": "code",
      "source": [
        "CheckOutlierAtt = ['Age', 'Tenure', 'Balance']\n",
        "LOFOutlierIdx02,LOFFactorData02 = DetectOutlierByLOF(data_encoder, AttList=CheckOutlierAtt, LOFThresh=3.0, neighbors = 10)\n",
        "\n",
        "print(\"Size of LOFOutlierIdx : \" + str(len(LOFOutlierIdx02)))\n",
        "print(LOFFactorData02.head())"
      ],
      "outputs": [],
      "execution_count": null,
      "metadata": {
        "outputHidden": false,
        "inputHidden": false,
        "trusted": true,
        "_uuid": "4f2fb829da843f23b7da6b7c3e7e67f48331248a"
      }
    },
    {
      "cell_type": "code",
      "source": [
        "CheckOutlierAtt = ['HasCrCard', 'IsActiveMember', 'EstimatedSalary']\n",
        "LOFOutlierIdx03,LOFFactorData03 = DetectOutlierByLOF(data_encoder, AttList=CheckOutlierAtt, LOFThresh=3.0, neighbors = 10)\n",
        "\n",
        "print(\"Size of LOFOutlierIdx : \" + str(len(LOFOutlierIdx03)))\n",
        "print(LOFFactorData03.head())\n"
      ],
      "outputs": [],
      "execution_count": null,
      "metadata": {
        "outputHidden": false,
        "inputHidden": false,
        "trusted": true,
        "_uuid": "9d9decb8523ec6a2c601b892d14c80a8598abce9"
      }
    },
    {
      "cell_type": "code",
      "source": [
        "print('LOFOutlierIdx01 :' + str(LOFOutlierIdx01))\n",
        "print('LOFOutlierIdx02 :' + str(LOFOutlierIdx02))\n",
        "print('LOFOutlierIdx03 :' + str(LOFOutlierIdx03))"
      ],
      "outputs": [],
      "execution_count": null,
      "metadata": {
        "outputHidden": false,
        "inputHidden": false,
        "trusted": true,
        "_uuid": "946471f7350b75fccb653d309917ee5e82304ef9"
      }
    },
    {
      "cell_type": "code",
      "source": [
        "OutlierIndex = set(LOFOutlierIdx01 + LOFOutlierIdx02 + LOFOutlierIdx03)\n",
        "OutlierIndex = list(OutlierIndex)\n",
        "print(len(OutlierIndex))\n",
        "print('OutlierIdx : ' + str(OutlierIndex))"
      ],
      "outputs": [],
      "execution_count": null,
      "metadata": {
        "outputHidden": false,
        "inputHidden": false,
        "trusted": true,
        "_uuid": "3e42e273e72a9f08bc1a7f9e8cd0ad5bfb1c4450"
      }
    },
    {
      "cell_type": "code",
      "source": [
        "data_encoder_mining = data_encoder.copy()\n",
        "print(data_encoder_mining.shape)\n",
        "data_encoder_mining = RemoveRowsFromDataFrame(data_encoder_mining,OutlierIndex)\n",
        "print(data_encoder_mining.shape)\n",
        "\n",
        "# feature selection\n",
        "# AttList = [\"Surname\", \"RowNumber\", \"CustomerId\"]\n",
        "# data_encoder_mining = data_encoder_mining.drop(AttList,  axis=1)\n",
        "# print(data_encoder_mining.shape)\n"
      ],
      "outputs": [],
      "execution_count": null,
      "metadata": {
        "outputHidden": false,
        "inputHidden": false,
        "trusted": true,
        "_uuid": "b30aca03a98b852eaebece817ae9d66820bb1b15"
      }
    },
    {
      "cell_type": "code",
      "source": [
        "# Split Train and Test and check shape \n",
        "data_train_encoder_mining, target_train_encoder_mining, data_test_encoder_mining, target_test_encoder_mining = SplitDataFrameToTrainAndTest(data_encoder_mining, 0.6, 'Exited')\n",
        "PrintTrainTestInformation(data_train_encoder_mining, target_train_encoder_mining, data_test_encoder_mining, target_test_encoder_mining)"
      ],
      "outputs": [],
      "execution_count": null,
      "metadata": {
        "outputHidden": false,
        "inputHidden": false,
        "trusted": true,
        "_uuid": "cd85af719e0578e81373566de6780532196311ba"
      }
    },
    {
      "cell_type": "code",
      "source": [
        "# Retest all traditional classification approaches\n",
        "X_train = data_train_encoder_mining\n",
        "y_train = target_train_encoder_mining\n",
        "X_test = data_test_encoder_mining\n",
        "y_test = target_test_encoder_mining\n",
        "\n",
        "NBModel = NaiveBayesLearning(X_train, y_train)\n",
        "NBAccuracy,NBPredictTest = NaiveBayesTesting(NBModel,X_test, y_test)\n",
        "print('Naive Bayes accuracy: {:.3f}'.format(NBAccuracy))\n",
        "\n",
        "LRModel = LogisticRegressionLearning(X_train, y_train)\n",
        "LRAccuracy,LRPredictTest = LogisticRegressionTesting(LRModel,X_test, y_test)\n",
        "print('Logistic Regression accuracy: {:.3f}'.format(LRAccuracy))\n",
        "\n",
        "RFModel = RandomForestLearning(X_train, y_train)\n",
        "RFAccuracy,RFPredictTest = RandomForestTesting(RFModel,X_test, y_test)\n",
        "print('Random Forest accuracy: {:.6f}'.format(RFAccuracy))\n",
        "\n",
        "LiSVMModel = SVMLearning(X_train, y_train)\n",
        "LiSVMAccuracy,LiSVMPredictTest = SVMTesting(LiSVMModel, X_test, y_test)\n",
        "print('Linear SVM accuracy: {:.6f}'.format(LiSVMAccuracy))\n",
        "\n",
        "RBFSVMModel = SVMLearning(X_train, y_train, 'RBF')\n",
        "RBFSVMAccuracy,RBFSVMPredictTest = SVMTesting(RBFSVMModel, X_test, y_test)\n",
        "print('RBF SVM accuracy: {:.6f}'.format(RBFSVMAccuracy))\n",
        "\n",
        "KNNModel = KNNLearning(X_train, y_train)\n",
        "KNNAccuracy,KNNPredictTest = KNNTesting(KNNModel,X_test, y_test)\n",
        "print('K Nearest Neighbor accuracy: {:.6f}'.format(KNNAccuracy))\n",
        "\n",
        "ANNModel = ANNLearning(X_train, y_train)\n",
        "ANNAccuracy, ANNPredictTest = ANNTesting(ANNModel, X_test, y_test)\n",
        "print('ANN accuracy: {:.6f}'.format(ANNAccuracy))"
      ],
      "outputs": [],
      "execution_count": null,
      "metadata": {
        "outputHidden": false,
        "inputHidden": false,
        "trusted": true,
        "_uuid": "879db381335a3e5d5f4c21f1e586826786d66802"
      }
    },
    {
      "cell_type": "markdown",
      "source": [
        "# **Neural Network Approach**"
      ],
      "metadata": {
        "_uuid": "198591159539c4251c62e43b28edeebb5df7db45"
      }
    },
    {
      "cell_type": "code",
      "source": [
        "from keras.models import Sequential\n",
        "from keras.layers import Dense\n",
        "from keras.callbacks import ModelCheckpoint\n",
        "\n",
        "seed = 42\n",
        "np.random.seed(seed)\n",
        "\n",
        "## Create our model\n",
        "model = Sequential()\n",
        "\n",
        "# 1st layer: input_dim=8, 12 nodes, RELU\n",
        "model.add(Dense(12, input_dim=10, init='uniform', activation='relu'))\n",
        "# 2nd layer: 8 nodes, RELU\n",
        "model.add(Dense(8, init='uniform', activation = 'relu'))\n",
        "# 3nd layer: 4 nodes, RELU\n",
        "model.add(Dense(4, init='uniform', activation='relu'))\n",
        "# 4nd layer: 2 nodes, RELU\n",
        "model.add(Dense(4, init='uniform', activation='relu'))\n",
        "# output layer: dim=1, activation sigmoid\n",
        "model.add(Dense(1, init='uniform', activation='sigmoid' ))\n",
        "\n",
        "# Compile the model\n",
        "model.compile(loss='binary_crossentropy', optimizer='adam', metrics=['accuracy'])\n"
      ],
      "outputs": [],
      "execution_count": null,
      "metadata": {
        "outputHidden": false,
        "inputHidden": false,
        "trusted": true,
        "_uuid": "1920b8aa39d74a531ceeca97afe765dbb3610da1"
      }
    },
    {
      "cell_type": "code",
      "source": [
        "# Retest all traditional classification approaches\n",
        "X_train = data_train_encoder_mining\n",
        "y_train = target_train_encoder_mining\n",
        "X_test = data_test_encoder_mining\n",
        "y_test = target_test_encoder_mining\n",
        "\n",
        "NB_EPOCHS = 100  # num of epochs to test for\n",
        "BATCH_SIZE = 15\n",
        "\n",
        "# checkpoint: store the best model\n",
        "ckpt_model = 'pima-weights.best.hdf5'\n",
        "checkpoint = ModelCheckpoint(ckpt_model, monitor='val_acc', verbose=1, save_best_only=True, mode='max')\n",
        "callbacks_list = [checkpoint]\n",
        "\n",
        "print('Starting training...')\n",
        "# train the model, store the results for plotting\n",
        "history = model.fit(X_train,\n",
        "                    y_train,\n",
        "                    validation_data=(X_test, y_test),\n",
        "                    nb_epoch=NB_EPOCHS,\n",
        "                    batch_size=BATCH_SIZE,\n",
        "                    callbacks=callbacks_list,\n",
        "                    verbose=0)\n"
      ],
      "outputs": [],
      "execution_count": null,
      "metadata": {
        "outputHidden": false,
        "inputHidden": false,
        "trusted": true,
        "_uuid": "a0d7c562bd1b185730dfd3ab6e7dc5316e7d87c7"
      }
    },
    {
      "cell_type": "markdown",
      "source": [
        "# **Bagging Boosting and Stacking **"
      ],
      "metadata": {
        "_uuid": "dee2ff5fbda5e32f2ebb0e664c659f7d25058adf"
      }
    },
    {
      "cell_type": "code",
      "source": [
        "X = data_encoder_mining.copy()\n",
        "X = X.drop('Exited', 1)\n",
        "y = data_encoder_mining[['Exited']]\n",
        "X.head()"
      ],
      "outputs": [],
      "execution_count": null,
      "metadata": {
        "outputHidden": false,
        "inputHidden": false,
        "trusted": true,
        "_uuid": "8194c3e6b004809d11e5549c2eef2416f8db1352"
      }
    },
    {
      "cell_type": "code",
      "source": [
        "X = PCAdata.copy()\n",
        "X = X.drop('Exited', 1)\n",
        "y = PCAdata[['Exited']]\n",
        "X.head()"
      ],
      "outputs": [],
      "execution_count": null,
      "metadata": {
        "trusted": true,
        "_uuid": "211fe8e75250951194cab8ac748a060625a4f4d4"
      }
    },
    {
      "cell_type": "code",
      "source": [
        "NBModel = NaiveBayesLearning(X_train, y_train)\n",
        "LRModel = LogisticRegressionLearning(X_train, y_train)\n",
        "RFModel = RandomForestLearning(X_train, y_train)\n",
        "LiSVMModel = SVMLearning(X_train, y_train)\n",
        "RBFSVMModel = SVMLearning(X_train, y_train, 'RBF')\n",
        "KNNModel = KNNLearning(X_train, y_train)\n",
        "ANNModel = ANNLearning(X_train, y_train)"
      ],
      "outputs": [],
      "execution_count": null,
      "metadata": {
        "trusted": true,
        "_uuid": "85078e253ba59ef68ab41afc86581dc7eab9223c"
      }
    },
    {
      "cell_type": "code",
      "source": [
        "from sklearn import model_selection\n",
        "print('5-fold cross validation:\\n')\n",
        "labels = ['NaiveBayesLearning', 'LogisticRegressionLearning', 'RandomForestLearning', \n",
        "          'SVMLearningLinear', 'SVMLearningRBF', 'KNNLearning', 'ANNLearning']\n",
        "for clf, label in zip([NBModel, LRModel, RFModel, LiSVMModel, RBFSVMModel, KNNModel, ANNModel], labels):\n",
        "    scores = model_selection.cross_val_score(clf, X, y, cv=5, scoring='accuracy')\n",
        "    print(\"Accuracy: %0.2f (+/- %0.2f) [%s]\" % (scores.mean(), scores.std(), label))\n"
      ],
      "outputs": [],
      "execution_count": null,
      "metadata": {
        "outputHidden": false,
        "inputHidden": false,
        "trusted": true,
        "_uuid": "88950e631f039ce7a6c3342b9de6cfe8c0980de5"
      }
    },
    {
      "cell_type": "code",
      "source": [
        "from mlxtend.classifier import EnsembleVoteClassifier\n",
        "eclf = EnsembleVoteClassifier(clfs=[RFModel, \n",
        "                                    LiSVMModel, \n",
        "                                    ANNModel], weights=[1,1,1])\n",
        "\n",
        "labels = ['RandomForestLearning', 'SVMLearningLinear', 'ANNModel', 'Ensemble']\n",
        "for clf, label in zip([RFModel, LiSVMModel, ANNModel, eclf], labels):\n",
        "    scores = model_selection.cross_val_score(clf, X, y, cv=5,scoring='accuracy')\n",
        "    print(\"Accuracy: %0.2f (+/- %0.2f) [%s]\" % (scores.mean(), scores.std(), label))"
      ],
      "outputs": [],
      "execution_count": null,
      "metadata": {
        "outputHidden": false,
        "inputHidden": false,
        "trusted": true,
        "_uuid": "19bd6d7d335e470e7c92e2d5a260c90f28ff2468"
      }
    },
    {
      "cell_type": "code",
      "source": [
        "from sklearn.base import BaseEstimator\n",
        "from sklearn.base import ClassifierMixin\n",
        "from sklearn.preprocessing import LabelEncoder\n",
        "from sklearn.externals import six\n",
        "from sklearn.base import clone\n",
        "from sklearn.pipeline import _name_estimators\n",
        "import numpy as np\n",
        "import operator\n",
        "class MajorityVoteClassifier(BaseEstimator, ClassifierMixin):\n",
        "    \"\"\" A majority vote ensemble classifier\n",
        "    Parameters\n",
        "    classifiers : array-like, shape = [n_classifiers]  Different classifiers for the ensemble\n",
        "    vote : str, {'classlabel', 'probability'} (default='label')\n",
        "      If 'classlabel' the prediction is based on the argmax of class labels. Else if 'probability', the argmax of the sum of probabilities is used to predict the class label (recommended for calibrated classifiers).\n",
        "    weights : array-like, shape = [n_classifiers], optional (default=None)\n",
        "      If a list of `int` or `float` values are provided, the classifiers are weighted by importance; Uses uniform weights if `weights=None`.\n",
        "    \"\"\"\n",
        "    def __init__(self, classifiers, vote='classlabel', weights=None):\n",
        "        self.classifiers = classifiers\n",
        "        self.named_classifiers = {key: value for key, value in _name_estimators(classifiers)}\n",
        "        self.vote = vote\n",
        "        self.weights = weights\n",
        "    def fit(self, X, y):\n",
        "        \"\"\" Fit classifiers. Parameters\n",
        "        X : {array-like, sparse matrix}, shape = [n_samples, n_features] Matrix of training samples.\n",
        "        y : array-like, shape = [n_samples] Vector of target class labels.\n",
        "        Returns self : object\n",
        "        \"\"\"\n",
        "        if self.vote not in ('probability', 'classlabel'):\n",
        "            raise ValueError(\"vote must be 'probability' or 'classlabel'\" \"; got (vote=%r)\" % self.vote)\n",
        "        if self.weights and len(self.weights) != len(self.classifiers):\n",
        "            raise ValueError('Number of classifiers and weights must be equal''; got %d weights, %d classifiers' %   \n",
        "            (len(self.weights), len(self.classifiers)))\n",
        "        # Use LabelEncoder to ensure class labels start with 0, which is important for np.argmax call in self.predict\n",
        "        self.lablenc_ = LabelEncoder()\n",
        "        self.lablenc_.fit(y)\n",
        "        self.classes_ = self.lablenc_.classes_\n",
        "        self.classifiers_ = []\n",
        "        for clf in self.classifiers:\n",
        "            fitted_clf = clone(clf).fit(X, self.lablenc_.transform(y))\n",
        "            self.classifiers_.append(fitted_clf)\n",
        "        return self\n",
        "    def predict(self, X):\n",
        "        \"\"\" Predict class labels for X.\n",
        "        Parameters\n",
        "        ----------\n",
        "        X : {array-like, sparse matrix}, shape = [n_samples, n_features] Matrix of training samples.\n",
        "        Returns ----------\n",
        "        maj_vote : array-like, shape = [n_samples] Predicted class labels.\n",
        "        \"\"\"\n",
        "        if self.vote == 'probability':\n",
        "            maj_vote = np.argmax(self.predict_proba(X), axis=1)\n",
        "        else:  # 'classlabel' vote\n",
        "            #  Collect results from clf.predict calls\n",
        "            predictions = np.asarray([clf.predict(X) for clf in self.classifiers_]).T\n",
        "            maj_vote = np.apply_along_axis( lambda x: np.argmax(np.bincount(x, weights=self.weights)),\n",
        "                                      axis=1,\n",
        "                                      arr=predictions)\n",
        "        maj_vote = self.lablenc_.inverse_transform(maj_vote)\n",
        "        return maj_vote\n",
        "    def predict_proba(self, X):\n",
        "        \"\"\" Predict class probabilities for X.\n",
        "        X : {array-like, sparse matrix}, shape = [n_samples, n_features]\n",
        "            Training vectors, where n_samples is the number of samples and n_features is the number of features.\n",
        "        Returns\n",
        "        avg_proba : array-like, shape = [n_samples, n_classes] Weighted average probability for each class per sample.\n",
        "        \"\"\"\n",
        "        probas = np.asarray([clf.predict_proba(X)  for clf in self.classifiers_])\n",
        "        avg_proba = np.average(probas, axis=0, weights=self.weights)\n",
        "        return avg_proba\n",
        "    def get_params(self, deep=True):\n",
        "        \"\"\" Get classifier parameter names for GridSearch\"\"\"\n",
        "        if not deep:\n",
        "            return super(MajorityVoteClassifier, self).get_params(deep=False)\n",
        "        else:\n",
        "            out = self.named_classifiers.copy()\n",
        "            for name, step in six.iteritems(self.named_classifiers):\n",
        "                for key, value in six.iteritems(step.get_params(deep=True)):\n",
        "                    out['%s__%s' % (name, key)] = value\n",
        "            return out\n"
      ],
      "outputs": [],
      "execution_count": null,
      "metadata": {
        "outputHidden": false,
        "inputHidden": false,
        "trusted": true,
        "_uuid": "1e55855fdacffd6a672043d740954171c4673f74"
      }
    },
    {
      "cell_type": "code",
      "source": [
        "# Majority Rule (hard) Voting\n",
        "\n",
        "mv_clf = MajorityVoteClassifier(classifiers=[RFModel, LiSVMModel, ANNModel])\n",
        "\n",
        "labels = ['RandomForestLearning', 'SVMLearningLinear', 'ANN', 'Majority voting']\n",
        "all_clf = [RFModel, LiSVMModel, ANNModel, mv_clf]\n",
        "\n",
        "for clf, label in zip(all_clf, labels):\n",
        "    scores = cross_val_score(estimator=clf, X=X, y=y, cv=5, scoring='accuracy')\n",
        "    print(\"ROC AUC: %0.2f (+/- %0.2f) [%s]\" % (scores.mean(), scores.std(), label))"
      ],
      "outputs": [],
      "execution_count": null,
      "metadata": {
        "outputHidden": false,
        "inputHidden": false,
        "trusted": true,
        "_uuid": "7ede243f25f343ce3ce8edf552fadc0dd392e27b"
      }
    },
    {
      "cell_type": "code",
      "source": [
        "# Split Train and Test and check shape \n",
        "data_train_encoder_mining, target_train_encoder_mining, data_test_encoder_mining, target_test_encoder_mining = SplitDataFrameToTrainAndTest(data_encoder_mining, 0.6, 'Exited')\n",
        "PrintTrainTestInformation(data_train_encoder_mining, target_train_encoder_mining, data_test_encoder_mining, target_test_encoder_mining)\n",
        "\n",
        "# Retest all traditional classification approaches\n",
        "X_train = data_train_encoder_mining\n",
        "y_train = target_train_encoder_mining\n",
        "X_test = data_test_encoder_mining\n",
        "y_test = target_test_encoder_mining"
      ],
      "outputs": [],
      "execution_count": null,
      "metadata": {
        "trusted": true,
        "_uuid": "459c1d67908508c6e3ebcabfa7a7ccb0cdf2619c"
      }
    },
    {
      "cell_type": "code",
      "source": [
        "from sklearn.ensemble import BaggingClassifier\n",
        "from sklearn.tree import DecisionTreeClassifier\n",
        "\n",
        "tree = DecisionTreeClassifier(criterion='entropy', max_depth=None, random_state=1)\n",
        "bag = BaggingClassifier(base_estimator=tree,\n",
        "                        n_estimators=500, \n",
        "                        max_samples=1.0, \n",
        "                        max_features=1.0, \n",
        "                        bootstrap=True, \n",
        "                        bootstrap_features=False, \n",
        "                        n_jobs=1, \n",
        "                        random_state=1)\n",
        "\n",
        "from sklearn.metrics import accuracy_score\n",
        "\n",
        "tree = tree.fit(X_train, y_train)\n",
        "y_train_pred = tree.predict(X_train)\n",
        "y_test_pred = tree.predict(X_test)\n",
        "\n",
        "tree_train = accuracy_score(y_train, y_train_pred)\n",
        "tree_test = accuracy_score(y_test, y_test_pred)\n",
        "print('Decision tree train/test accuracies %.3f/%.3f'\n",
        "      % (tree_train, tree_test))\n",
        "\n",
        "bag = bag.fit(X_train, y_train)\n",
        "y_train_pred = bag.predict(X_train)\n",
        "y_test_pred = bag.predict(X_test)\n",
        "\n",
        "bag_train = accuracy_score(y_train, y_train_pred) \n",
        "bag_test = accuracy_score(y_test, y_test_pred) \n",
        "print('Bagging train/test accuracies %.3f/%.3f'\n",
        "      % (bag_train, bag_test))"
      ],
      "outputs": [],
      "execution_count": null,
      "metadata": {
        "outputHidden": false,
        "inputHidden": false,
        "trusted": true,
        "_uuid": "30e0d2bd432292ee00757e112921d00d877074ed"
      }
    },
    {
      "cell_type": "code",
      "source": [
        "from sklearn.ensemble import AdaBoostClassifier\n",
        "\n",
        "tree = DecisionTreeClassifier(criterion='entropy', max_depth=None, random_state=1)\n",
        "ada = AdaBoostClassifier(base_estimator=tree, n_estimators=500, learning_rate=0.1, random_state=1)\n",
        "tree = tree.fit(X_train, y_train)\n",
        "y_train_pred = tree.predict(X_train)\n",
        "y_test_pred = tree.predict(X_test)\n",
        "\n",
        "tree_train = accuracy_score(y_train, y_train_pred)\n",
        "tree_test = accuracy_score(y_test, y_test_pred)\n",
        "print('Decision tree train/test accuracies %.3f/%.3f'% (tree_train, tree_test))\n",
        "\n",
        "ada = ada.fit(X_train, y_train)\n",
        "y_train_pred = ada.predict(X_train)\n",
        "y_test_pred = ada.predict(X_test)\n",
        "\n",
        "ada_train = accuracy_score(y_train, y_train_pred) \n",
        "ada_test = accuracy_score(y_test, y_test_pred) \n",
        "print('AdaBoost train/test accuracies %.3f/%.3f'\n",
        "      % (ada_train, ada_test))"
      ],
      "outputs": [],
      "execution_count": null,
      "metadata": {
        "outputHidden": false,
        "inputHidden": false,
        "trusted": true,
        "_uuid": "c442311bf38a1c58c4f97e08a6925bcebe886a04"
      }
    },
    {
      "cell_type": "code",
      "source": [
        "from mlxtend.classifier import StackingClassifier\n",
        "import matplotlib.gridspec as gridspec\n",
        "import itertools\n",
        "from mlxtend.plotting import plot_learning_curves\n",
        "from mlxtend.plotting import plot_decision_regions\n",
        "\n",
        "lr = LogisticRegression()\n",
        "sclf = StackingClassifier(classifiers=[RFModel, LiSVMModel, ANNModel], meta_classifier=lr)\n",
        "\n",
        "label = ['RandomForestLearning', 'SVMLearningLinear', 'ANN', 'Stacking Classifier']\n",
        "clf_list = [RFModel, LiSVMModel, ANNModel, sclf]\n",
        "\n\n",
        "clf_cv_mean = []\n",
        "clf_cv_std = []\n",
        "for clf, label in zip(clf_list, label):\n",
        "    scores = cross_val_score(clf, X, y, cv=5, scoring='accuracy')\n",
        "    print(\"Accuracy: %.2f (+/- %.2f) [%s]\" %(scores.mean(), scores.std(), label))\n",
        "    clf_cv_mean.append(scores.mean())\n",
        "    clf_cv_std.append(scores.std())        \n",
        "    clf.fit(X, y)"
      ],
      "outputs": [],
      "execution_count": null,
      "metadata": {
        "outputHidden": false,
        "inputHidden": false,
        "trusted": true,
        "_uuid": "9fa13b183402108069d7e86faaceab17579b737b"
      }
    },
    {
      "cell_type": "code",
      "source": [],
      "outputs": [],
      "execution_count": null,
      "metadata": {
        "outputHidden": false,
        "inputHidden": false,
        "trusted": true,
        "_uuid": "aac0c89ea82a50ab38964e87f952ec5b05bfc211"
      }
    }
  ],
  "metadata": {
    "kernelspec": {
      "name": "python3",
      "language": "python",
      "display_name": "Python 3"
    },
    "language_info": {
      "name": "python",
      "version": "3.6.5",
      "mimetype": "text/x-python",
      "codemirror_mode": {
        "name": "ipython",
        "version": 3
      },
      "pygments_lexer": "ipython3",
      "nbconvert_exporter": "python",
      "file_extension": ".py"
    },
    "kernel_info": {
      "name": "python3"
    },
    "nteract": {
      "version": "0.12.3"
    }
  },
  "nbformat": 4,
  "nbformat_minor": 1
}