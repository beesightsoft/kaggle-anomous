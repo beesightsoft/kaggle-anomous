{
  "cells": [
    {
      "cell_type": "code",
      "source": [
        "# Basic Libraries\n",
        "import numpy as np\n",
        "import pandas as pd\n",
        "import re\n",
        "import warnings\n",
        "warnings.filterwarnings(\"ignore\")\n",
        "\n",
        "# Visualization\n",
        "import matplotlib.pyplot as plt\n",
        "import seaborn as sns\n",
        "from scipy import stats\n",
        "\n",
        "# Preprocessing\n",
        "from sklearn.preprocessing import LabelEncoder, MinMaxScaler \n",
        "\n",
        "# Evaluation\n",
        "from sklearn import metrics\n",
        "from sklearn import linear_model, datasets \n",
        "from sklearn.metrics import accuracy_score, log_loss\n",
        "from sklearn.metrics import confusion_matrix \n",
        "from sklearn.model_selection import StratifiedShuffleSplit\n",
        "from sklearn.model_selection import train_test_split, cross_val_score \n",
        "from sklearn.neighbors import LocalOutlierFactor\n",
        "\n",
        "# Classifier (machine learning algorithm) \n",
        "from sklearn.neighbors import KNeighborsClassifier\n",
        "from sklearn.svm import SVC, LinearSVC\n",
        "from sklearn.tree import DecisionTreeClassifier\n",
        "from sklearn.ensemble import RandomForestRegressor, RandomForestClassifier, AdaBoostClassifier, GradientBoostingClassifier\n",
        "from sklearn.naive_bayes import GaussianNB\n",
        "from sklearn.discriminant_analysis import LinearDiscriminantAnalysis, QuadraticDiscriminantAnalysis\n",
        "from sklearn.linear_model import LogisticRegression\n",
        "from sklearn.linear_model import Perceptron\n",
        "from sklearn.linear_model import SGDClassifier\n",
        "from sklearn.neural_network import MLPClassifier\n",
        "\n",
        "# Read data\n",
        "# https://www.kaggle.com/barelydedicated/bank-customer-churn-modeling\n",
        "dataset = pd.read_csv('../input/Churn_Modelling.csv', header = 0)\n",
        "\n",
        "# Tmp data\n",
        "dataset_tmp = dataset.copy()\n",
        "dataset_tmp.head()"
      ],
      "outputs": [
        {
          "output_type": "execute_result",
          "execution_count": 71,
          "data": {
            "text/plain": [
              "   RowNumber  CustomerId   Surname  CreditScore Geography  Gender  Age  \\\n",
              "0          1    15634602  Hargrave          619    France  Female   42   \n",
              "1          2    15647311      Hill          608     Spain  Female   41   \n",
              "2          3    15619304      Onio          502    France  Female   42   \n",
              "3          4    15701354      Boni          699    France  Female   39   \n",
              "4          5    15737888  Mitchell          850     Spain  Female   43   \n",
              "\n",
              "   Tenure    Balance  NumOfProducts  HasCrCard  IsActiveMember  \\\n",
              "0       2       0.00              1          1               1   \n",
              "1       1   83807.86              1          0               1   \n",
              "2       8  159660.80              3          1               0   \n",
              "3       1       0.00              2          0               0   \n",
              "4       2  125510.82              1          1               1   \n",
              "\n",
              "   EstimatedSalary  Exited  \n",
              "0        101348.88       1  \n",
              "1        112542.58       0  \n",
              "2        113931.57       1  \n",
              "3         93826.63       0  \n",
              "4         79084.10       0  "
            ],
            "text/html": [
              "<div>\n",
              "<style scoped>\n",
              "    .dataframe tbody tr th:only-of-type {\n",
              "        vertical-align: middle;\n",
              "    }\n",
              "\n",
              "    .dataframe tbody tr th {\n",
              "        vertical-align: top;\n",
              "    }\n",
              "\n",
              "    .dataframe thead th {\n",
              "        text-align: right;\n",
              "    }\n",
              "</style>\n",
              "<table border=\"1\" class=\"dataframe\">\n",
              "  <thead>\n",
              "    <tr style=\"text-align: right;\">\n",
              "      <th></th>\n",
              "      <th>RowNumber</th>\n",
              "      <th>CustomerId</th>\n",
              "      <th>Surname</th>\n",
              "      <th>CreditScore</th>\n",
              "      <th>Geography</th>\n",
              "      <th>Gender</th>\n",
              "      <th>Age</th>\n",
              "      <th>Tenure</th>\n",
              "      <th>Balance</th>\n",
              "      <th>NumOfProducts</th>\n",
              "      <th>HasCrCard</th>\n",
              "      <th>IsActiveMember</th>\n",
              "      <th>EstimatedSalary</th>\n",
              "      <th>Exited</th>\n",
              "    </tr>\n",
              "  </thead>\n",
              "  <tbody>\n",
              "    <tr>\n",
              "      <th>0</th>\n",
              "      <td>1</td>\n",
              "      <td>15634602</td>\n",
              "      <td>Hargrave</td>\n",
              "      <td>619</td>\n",
              "      <td>France</td>\n",
              "      <td>Female</td>\n",
              "      <td>42</td>\n",
              "      <td>2</td>\n",
              "      <td>0.00</td>\n",
              "      <td>1</td>\n",
              "      <td>1</td>\n",
              "      <td>1</td>\n",
              "      <td>101348.88</td>\n",
              "      <td>1</td>\n",
              "    </tr>\n",
              "    <tr>\n",
              "      <th>1</th>\n",
              "      <td>2</td>\n",
              "      <td>15647311</td>\n",
              "      <td>Hill</td>\n",
              "      <td>608</td>\n",
              "      <td>Spain</td>\n",
              "      <td>Female</td>\n",
              "      <td>41</td>\n",
              "      <td>1</td>\n",
              "      <td>83807.86</td>\n",
              "      <td>1</td>\n",
              "      <td>0</td>\n",
              "      <td>1</td>\n",
              "      <td>112542.58</td>\n",
              "      <td>0</td>\n",
              "    </tr>\n",
              "    <tr>\n",
              "      <th>2</th>\n",
              "      <td>3</td>\n",
              "      <td>15619304</td>\n",
              "      <td>Onio</td>\n",
              "      <td>502</td>\n",
              "      <td>France</td>\n",
              "      <td>Female</td>\n",
              "      <td>42</td>\n",
              "      <td>8</td>\n",
              "      <td>159660.80</td>\n",
              "      <td>3</td>\n",
              "      <td>1</td>\n",
              "      <td>0</td>\n",
              "      <td>113931.57</td>\n",
              "      <td>1</td>\n",
              "    </tr>\n",
              "    <tr>\n",
              "      <th>3</th>\n",
              "      <td>4</td>\n",
              "      <td>15701354</td>\n",
              "      <td>Boni</td>\n",
              "      <td>699</td>\n",
              "      <td>France</td>\n",
              "      <td>Female</td>\n",
              "      <td>39</td>\n",
              "      <td>1</td>\n",
              "      <td>0.00</td>\n",
              "      <td>2</td>\n",
              "      <td>0</td>\n",
              "      <td>0</td>\n",
              "      <td>93826.63</td>\n",
              "      <td>0</td>\n",
              "    </tr>\n",
              "    <tr>\n",
              "      <th>4</th>\n",
              "      <td>5</td>\n",
              "      <td>15737888</td>\n",
              "      <td>Mitchell</td>\n",
              "      <td>850</td>\n",
              "      <td>Spain</td>\n",
              "      <td>Female</td>\n",
              "      <td>43</td>\n",
              "      <td>2</td>\n",
              "      <td>125510.82</td>\n",
              "      <td>1</td>\n",
              "      <td>1</td>\n",
              "      <td>1</td>\n",
              "      <td>79084.10</td>\n",
              "      <td>0</td>\n",
              "    </tr>\n",
              "  </tbody>\n",
              "</table>\n",
              "</div>"
            ]
          },
          "metadata": {}
        }
      ],
      "execution_count": 71,
      "metadata": {
        "_uuid": "8f2839f25d086af736a60e9eeb907d3b93b6e0e5",
        "_cell_guid": "b1076dfc-b9ad-4769-8c92-a6c4dae69d19",
        "trusted": true
      }
    },
    {
      "cell_type": "markdown",
      "source": [
        "# Functions"
      ],
      "metadata": {
        "trusted": true,
        "_uuid": "b824c56132e97c261f857b8251aa6a1b0d89bc4b"
      }
    },
    {
      "cell_type": "code",
      "source": [
        "# Split Train and Test and check shape \n",
        "def SplitDataFrameToTrainAndTest(DataFrame, TrainDataRate, TargetAtt):\n",
        "    # gets a random TrainDataRate % of the entire set\n",
        "    training = DataFrame.sample(frac=TrainDataRate, random_state=1)\n",
        "    # gets the left out portion of the dataset\n",
        "    testing = DataFrame.loc[~DataFrame.index.isin(training.index)]\n",
        "\n",
        "    X_train = training.drop(TargetAtt, 1)\n",
        "    y_train = training[[TargetAtt]]\n",
        "    X_test = testing.drop(TargetAtt, 1)\n",
        "    y_test = testing[[TargetAtt]]\n",
        "\n",
        "    return X_train, y_train, X_test, y_test\n",
        "    \n",
        "def PrintTrainTestInformation(X_train, y_train, X_test, y_test):\n",
        "    print(\"Train rows and columns : \", X_train.shape)\n",
        "    print(\"Test rows and columns : \", X_test.shape)\n",
        "\n",
        "def DrawJointPlot(DataFrame, XAtt, yAtt, bins = 20):\n",
        "    sns.set(color_codes=True)\n",
        "    sns.distplot(data[XAtt], bins=bins);\n",
        "    df = pd.DataFrame(DataFrame, columns=[XAtt,yAtt])\n",
        "    df = df.reset_index(drop=True)\n",
        "    sns.jointplot(x=XAtt, y=yAtt, data=df)\n",
        "    \n",
        "def DrawBoxplot2(DataFrame, xAtt, yAtt, hAtt=\"N/A\"):\n",
        "    plt.figure()\n",
        "    if(hAtt == \"N/A\"):\n",
        "        sns.boxplot(x=xAtt, y=yAtt,  data=DataFrame)\n",
        "    else:\n",
        "        sns.boxplot(x=xAtt, y=yAtt,  hue=hAtt,  data=DataFrame)\n",
        "    plt.show()\n",
        "    \n",
        "def DrawBarplot(DataFrame, att):\n",
        "    Distribution = DataFrame[att].value_counts()\n",
        "    Distribution = pd.DataFrame({att:Distribution.index, 'Freq':Distribution.values})\n",
        "    Distribution = Distribution.sort_values(by=att, ascending=True)\n",
        "    plt.bar(Distribution[att], Distribution[\"Freq\"])\n",
        "    plt.xticks(Distribution[att])\n",
        "    plt.ylabel('Frequency')\n",
        "    plt.title('Barplot of ' + att)\n",
        "    plt.show()   \n",
        "    \n",
        "def DrawCountplot(DataFrame, att, hatt=\"N/A\"):\n",
        "    if(hatt == \"N/A\"):\n",
        "        sns.countplot(x=att, data=DataFrame)\n",
        "    else:\n",
        "        sns.countplot(x=att, hue=hatt, data=DataFrame)\n",
        "    plt.show()\n",
        "    \n",
        "def DrawHistogram(DataFrame, att):\n",
        "    plt.figure()\n",
        "    DataFrame[att].hist(edgecolor='black', bins=20)\n",
        "    plt.title(att)\n",
        "    plt.show()\n",
        "    \n",
        "def DetectOutlierByIQR(DataFrame, AttList, Rate = 3.0): #xac dinh diem bat thuong tren tung tieu chi\n",
        "    OutlierIdx = []\n",
        "    for att in AttList:\n",
        "        AttData = DataFrame.loc[:, att]\n",
        "        lowerq = AttData.quantile(0.25)\n",
        "        upperq = AttData.quantile(0.75)\n",
        "        IQR = upperq - lowerq\n",
        "        threshold_upper = (IQR * Rate) + upperq\n",
        "        threshold_lower = lowerq - (IQR * Rate)\n",
        "        AttOutlierIdx = set(AttData[AttData.apply(lambda x: x > threshold_upper\n",
        "                                                    or x < threshold_lower)].index.get_values())\n",
        "        OutlierIdx = set(OutlierIdx) | AttOutlierIdx\n",
        "\n",
        "        # print(\"Min, Max and IQR : %f, %f, and %f\" % (AttData.min(), AttData.max(), IQR))\n",
        "        # print(\"Upper Fence and Lower Fence : %f and %f\" % (threshold_lower, threshold_upper))\n",
        "        # print(\"OutlierIdx : \" + str(OutlierIdx))\n",
        "        # print(att + \" \"  + str(len(AttOutlierIdx)) + \" Outlier Idx : \" + str(AttOutlierIdx))\n",
        "\n",
        "    OutlierIdx = list(OutlierIdx)\n",
        "    OutlierIdx = sorted(OutlierIdx)\n",
        "    return OutlierIdx\n",
        "      \n",
        "def DetectOutlierByLOF(DataFrame, AttList, LOFThresh=3.0, neighbors = 10): #xac dinh diem bat thuong tren nhom tieu chi\n",
        "    clf = LocalOutlierFactor(n_neighbors=neighbors)\n",
        "    AttData = DataFrame.loc[:, AttList].values\n",
        "    y_pred = clf.fit_predict(AttData)\n",
        "    AttData_scores = -1 * clf.negative_outlier_factor_\n",
        "    LOFFactorData = pd.DataFrame(AttData_scores, columns=['LOF'])\n",
        "    LOFFactorData = LOFFactorData.sort_values('LOF', ascending=False)\n",
        "    LOFFactorData = LOFFactorData.reset_index(drop=False)\n",
        "    # print(LOFFactorData.loc[0:10, :])\n",
        "    OutlierThreshold = LOFThresh\n",
        "    SuspectOutlierData = LOFFactorData[LOFFactorData['LOF'].apply(lambda x: x > OutlierThreshold)]\n",
        "    OutlierIdx = SuspectOutlierData.loc[:, 'index'].tolist()\n",
        "    # print(\"OutlierIdx : \" + str(OutlierIdx))\n",
        "    return OutlierIdx, LOFFactorData\n",
        "      \n",
        "def RemoveRowsFromDataFrame(DataFrame, RowIdxList = []):\n",
        "    DataFrame = DataFrame.drop(RowIdxList)\n",
        "    DataFrame = DataFrame.reset_index(drop=True)\n",
        "    return DataFrame\n",
        "\n",
        "def NaiveBayesLearning(DataTrain, TargetTrain):\n",
        "    NBModel = GaussianNB()\n",
        "    NBModel.fit(DataTrain, TargetTrain.values.ravel())\n",
        "    return NBModel\n",
        "\n",
        "def NaiveBayesTesting(NBModel,DataTest, TargetTest):\n",
        "    PredictTest = NBModel.predict(DataTest)\n",
        "    Accuracy = accuracy_score(TargetTest, PredictTest)\n",
        "\n",
        "    return Accuracy, PredictTest\n",
        "\n",
        "def LogisticRegressionLearning(DataTrain, TargetTrain):\n",
        "    logreg = LogisticRegression()\n",
        "    # training by Logistic Regression\n",
        "    logreg.fit(DataTrain, TargetTrain.values.ravel())\n",
        "\n",
        "    return logreg\n",
        "\n",
        "def LogisticRegressionTesting(LRModel,DataTest, TargetTest):\n",
        "    logreg = LRModel\n",
        "    PredictTest = logreg.predict(DataTest)\n",
        "    Accuracy = accuracy_score(TargetTest, PredictTest)\n",
        "    # print('Logistic regression accuracy: {:.3f}'.format(Accuracy))\n",
        "\n",
        "    return Accuracy, PredictTest\n",
        "\n",
        "def RandomForestLearning(DataTrain, TargetTrain):\n",
        "    rf = RandomForestClassifier()\n",
        "    rf.fit(DataTrain, TargetTrain.values.ravel())\n",
        "\n",
        "    return rf\n",
        "\n",
        "def RandomForestTesting(RFModel,DataTest, TargetTest):\n",
        "    PredictTest = RFModel.predict(DataTest)\n",
        "    Accuracy = accuracy_score(TargetTest, PredictTest)\n",
        "    # print('Random Forest Accuracy: {:.3f}'.format(accuracy_score(TargetTest, PredictTest)))\n",
        "\n",
        "    return Accuracy, PredictTest\n",
        "\n",
        "def SVMLearning(DataTrain, TargetTrain, ClassifierType = \" \"):\n",
        "    if(ClassifierType == 'Linear'):\n",
        "        svc = SVC(kernel=\"linear\", C=0.025)\n",
        "        # print('SVM Linear processing')\n",
        "    # Radial basis function kernel\n",
        "    elif (ClassifierType == 'RBF'):\n",
        "        svc = SVC(gamma=2, C=1)\n",
        "        # print('SVM RBF processing')\n",
        "    else:\n",
        "        svc = SVC()\n",
        "        # print('SVM Default processing')\n",
        "    svc.fit(DataTrain, TargetTrain.values.ravel())\n",
        "    return svc\n",
        "\n",
        "def SVMTesting(SVMModel, DataTest, TargetTest):\n",
        "    PredictTest = SVMModel.predict(DataTest)\n",
        "    Accuracy = accuracy_score(TargetTest, PredictTest)\n",
        "    # print('Support Vector Machine Accuracy: {:.3f}'.format(accuracy_score(TargetTest, PredictTest)))\n",
        "    return Accuracy, PredictTest\n",
        "\n",
        "def KNNLearning(DataTrain, TargetTrain, K = 3):\n",
        "    neigh = KNeighborsClassifier(n_neighbors=K)\n",
        "    neigh.fit(DataTrain, TargetTrain.values.ravel())\n",
        "\n",
        "    return neigh\n",
        "\n",
        "def KNNTesting(KNNModel,DataTest, TargetTest):\n",
        "    PredictTest = KNNModel.predict(DataTest)\n",
        "    Accuracy = accuracy_score(TargetTest, PredictTest)\n",
        "    # print('KNN Accuracy: {:.3f}'.format(accuracy_score(TargetTest, PredictTest)))\n",
        "\n",
        "    return Accuracy, PredictTest\n",
        "\n",
        "def ANNLearning(DataTrain, TargetTrain):\n",
        "    ANNModel = MLPClassifier(alpha=1)\n",
        "    ANNModel.fit(DataTrain, TargetTrain.values.ravel())\n",
        "    return ANNModel\n",
        "\n",
        "def ANNTesting (ANNModel, DataTest, TargetTest):\n",
        "    PredictTest = ANNModel.predict(DataTest)\n",
        "    Accuracy = accuracy_score(TargetTest, PredictTest)\n",
        "    # print('Neural Net Accuracy: {:.3f}'.format(Accuracy))\n",
        "    return Accuracy, PredictTest\n",
        "\n",
        "# Continuous Data Plot\n",
        "def cont_plot(df, feature_name, target_name, palettemap, hue_order, feature_scale): \n",
        "    df['Counts'] = \"\" # A trick to skip using an axis (either x or y) on splitting violinplot\n",
        "    fig, [axis0,axis1] = plt.subplots(1,2,figsize=(10,5))\n",
        "    sns.distplot(df[feature_name], ax=axis0);\n",
        "    sns.violinplot(x=feature_name, y=\"Counts\", hue=target_name, hue_order=hue_order, data=df,\n",
        "                   palette=palettemap, split=True, orient='h', ax=axis1)\n",
        "    axis1.set_xticks(feature_scale)\n",
        "    plt.show()\n",
        "    # WARNING: This will leave Counts column in dataset if you continues to use this dataset\n",
        "\n",
        "# Categorical/Ordinal Data Plot\n",
        "def cat_plot(df, feature_name, target_name, palettemap): \n",
        "    fig, [axis0,axis1] = plt.subplots(1,2,figsize=(10,5))\n",
        "    df[feature_name].value_counts().plot.pie(autopct='%1.1f%%',ax=axis0)\n",
        "    sns.countplot(x=feature_name, hue=target_name, data=df,\n",
        "                  palette=palettemap,ax=axis1)\n",
        "    plt.show()\n"
      ],
      "outputs": [],
      "execution_count": 50,
      "metadata": {
        "trusted": true,
        "_uuid": "aac9ab3647f908d8cdbec972292be55222b0dd6e"
      }
    },
    {
      "cell_type": "markdown",
      "source": [
        "# Checking missing values\n",
        "\n- Fill missing value: Median / Mode, Label Encode / Dummies"
      ],
      "metadata": {
        "_uuid": "7e7dfaa9342954a93f8798d83d4c3d5e7540ade8"
      }
    },
    {
      "cell_type": "code",
      "source": [
        "# Checking the percentage of missing values in each variable\n",
        "(dataset.isnull().sum()/len(dataset)*100)"
      ],
      "outputs": [
        {
          "output_type": "execute_result",
          "execution_count": 6,
          "data": {
            "text/plain": [
              "RowNumber          0.0\n",
              "CustomerId         0.0\n",
              "Surname            0.0\n",
              "CreditScore        0.0\n",
              "Geography          0.0\n",
              "Gender             0.0\n",
              "Age                0.0\n",
              "Tenure             0.0\n",
              "Balance            0.0\n",
              "NumOfProducts      0.0\n",
              "HasCrCard          0.0\n",
              "IsActiveMember     0.0\n",
              "EstimatedSalary    0.0\n",
              "Exited             0.0\n",
              "dtype: float64"
            ]
          },
          "metadata": {}
        }
      ],
      "execution_count": 6,
      "metadata": {
        "trusted": true,
        "_uuid": "151176af8c354e451952c7085031aaff6c0633f2"
      }
    },
    {
      "cell_type": "markdown",
      "source": [
        "## **Preparation and EDA**"
      ],
      "metadata": {}
    },
    {
      "cell_type": "code",
      "source": [
        "# Split Train and Test and check shape \n",
        "data_train, target_train, data_test, target_test = SplitDataFrameToTrainAndTest(dataset, 0.6, 'Exited')\n",
        "PrintTrainTestInformation(data_train, target_train, data_test, target_test)"
      ],
      "outputs": [
        {
          "output_type": "stream",
          "name": "stdout",
          "text": [
            "Train rows and columns :  (6000, 13)\n",
            "Test rows and columns :  (4000, 13)\n"
          ]
        }
      ],
      "execution_count": 18,
      "metadata": {
        "trusted": true,
        "_uuid": "479d9687af231bc925b1afe28a93c84e58279594"
      }
    },
    {
      "cell_type": "code",
      "source": [
        "# Check column types\n",
        "data_train.info()"
      ],
      "outputs": [
        {
          "output_type": "stream",
          "name": "stdout",
          "text": [
            "<class 'pandas.core.frame.DataFrame'>\n",
            "Int64Index: 6000 entries, 9953 to 2374\n",
            "Data columns (total 13 columns):\n",
            "RowNumber          6000 non-null int64\n",
            "CustomerId         6000 non-null int64\n",
            "Surname            6000 non-null object\n",
            "CreditScore        6000 non-null int64\n",
            "Geography          6000 non-null object\n",
            "Gender             6000 non-null object\n",
            "Age                6000 non-null int64\n",
            "Tenure             6000 non-null int64\n",
            "Balance            6000 non-null float64\n",
            "NumOfProducts      6000 non-null int64\n",
            "HasCrCard          6000 non-null int64\n",
            "IsActiveMember     6000 non-null int64\n",
            "EstimatedSalary    6000 non-null float64\n",
            "dtypes: float64(2), int64(8), object(3)\n",
            "memory usage: 656.2+ KB\n"
          ]
        }
      ],
      "execution_count": 19,
      "metadata": {
        "collapsed": false,
        "outputHidden": false,
        "inputHidden": false
      }
    },
    {
      "cell_type": "code",
      "source": [
        "print(\" List of unique values in Surname : \")\n",
        "print(dataset['Surname'].unique())\n",
        "print(\" List of unique values in Geography : \")\n",
        "print(dataset['Geography'].unique())\n",
        "print(\" List of unique values in Gender : \")\n",
        "print(dataset['Gender'].unique())\n",
        "\n",
        "#Special Field\n",
        "print(\" List of unique values in NumOfProducts : \")\n",
        "print(dataset['NumOfProducts'].unique())"
      ],
      "outputs": [
        {
          "output_type": "stream",
          "name": "stdout",
          "text": [
            " List of unique values in Surname : \n",
            "['Hargrave' 'Hill' 'Onio' ... 'Kashiwagi' 'Aldridge' 'Burbidge']\n",
            " List of unique values in Geography : \n",
            "['France' 'Spain' 'Germany']\n",
            " List of unique values in Gender : \n",
            "['Female' 'Male']\n",
            " List of unique values in NumOfProducts : \n",
            "[1 3 2 4]\n"
          ]
        }
      ],
      "execution_count": 21,
      "metadata": {
        "collapsed": false,
        "outputHidden": false,
        "inputHidden": false
      }
    },
    {
      "cell_type": "code",
      "source": [
        "# Numerical data distribution \n",
        "data_train.describe()"
      ],
      "outputs": [
        {
          "output_type": "execute_result",
          "execution_count": 22,
          "data": {
            "text/plain": [
              "         RowNumber    CustomerId  CreditScore          Age       Tenure  \\\n",
              "count  6000.000000  6.000000e+03  6000.000000  6000.000000  6000.000000   \n",
              "mean   5000.534667  1.569090e+07   652.017833    38.801333     5.021667   \n",
              "std    2877.924946  7.201902e+04    96.171969    10.409335     2.888469   \n",
              "min       4.000000  1.556570e+07   350.000000    18.000000     0.000000   \n",
              "25%    2501.250000  1.562812e+07   586.000000    32.000000     3.000000   \n",
              "50%    4995.500000  1.569189e+07   655.000000    37.000000     5.000000   \n",
              "75%    7483.500000  1.575351e+07   718.000000    44.000000     8.000000   \n",
              "max    9999.000000  1.581569e+07   850.000000    92.000000    10.000000   \n",
              "\n",
              "             Balance  NumOfProducts    HasCrCard  IsActiveMember  \\\n",
              "count    6000.000000    6000.000000  6000.000000     6000.000000   \n",
              "mean    76069.556590       1.524667     0.702333        0.521833   \n",
              "std     62709.267925       0.576582     0.457270        0.499565   \n",
              "min         0.000000       1.000000     0.000000        0.000000   \n",
              "25%         0.000000       1.000000     0.000000        0.000000   \n",
              "50%     96598.420000       1.000000     1.000000        1.000000   \n",
              "75%    127671.927500       2.000000     1.000000        1.000000   \n",
              "max    238387.560000       4.000000     1.000000        1.000000   \n",
              "\n",
              "       EstimatedSalary  \n",
              "count      6000.000000  \n",
              "mean      99470.172248  \n",
              "std       57622.657250  \n",
              "min          11.580000  \n",
              "25%       50343.395000  \n",
              "50%       99482.980000  \n",
              "75%      149170.417500  \n",
              "max      199992.480000  "
            ],
            "text/html": [
              "<div>\n",
              "<style scoped>\n",
              "    .dataframe tbody tr th:only-of-type {\n",
              "        vertical-align: middle;\n",
              "    }\n",
              "\n",
              "    .dataframe tbody tr th {\n",
              "        vertical-align: top;\n",
              "    }\n",
              "\n",
              "    .dataframe thead th {\n",
              "        text-align: right;\n",
              "    }\n",
              "</style>\n",
              "<table border=\"1\" class=\"dataframe\">\n",
              "  <thead>\n",
              "    <tr style=\"text-align: right;\">\n",
              "      <th></th>\n",
              "      <th>RowNumber</th>\n",
              "      <th>CustomerId</th>\n",
              "      <th>CreditScore</th>\n",
              "      <th>Age</th>\n",
              "      <th>Tenure</th>\n",
              "      <th>Balance</th>\n",
              "      <th>NumOfProducts</th>\n",
              "      <th>HasCrCard</th>\n",
              "      <th>IsActiveMember</th>\n",
              "      <th>EstimatedSalary</th>\n",
              "    </tr>\n",
              "  </thead>\n",
              "  <tbody>\n",
              "    <tr>\n",
              "      <th>count</th>\n",
              "      <td>6000.000000</td>\n",
              "      <td>6.000000e+03</td>\n",
              "      <td>6000.000000</td>\n",
              "      <td>6000.000000</td>\n",
              "      <td>6000.000000</td>\n",
              "      <td>6000.000000</td>\n",
              "      <td>6000.000000</td>\n",
              "      <td>6000.000000</td>\n",
              "      <td>6000.000000</td>\n",
              "      <td>6000.000000</td>\n",
              "    </tr>\n",
              "    <tr>\n",
              "      <th>mean</th>\n",
              "      <td>5000.534667</td>\n",
              "      <td>1.569090e+07</td>\n",
              "      <td>652.017833</td>\n",
              "      <td>38.801333</td>\n",
              "      <td>5.021667</td>\n",
              "      <td>76069.556590</td>\n",
              "      <td>1.524667</td>\n",
              "      <td>0.702333</td>\n",
              "      <td>0.521833</td>\n",
              "      <td>99470.172248</td>\n",
              "    </tr>\n",
              "    <tr>\n",
              "      <th>std</th>\n",
              "      <td>2877.924946</td>\n",
              "      <td>7.201902e+04</td>\n",
              "      <td>96.171969</td>\n",
              "      <td>10.409335</td>\n",
              "      <td>2.888469</td>\n",
              "      <td>62709.267925</td>\n",
              "      <td>0.576582</td>\n",
              "      <td>0.457270</td>\n",
              "      <td>0.499565</td>\n",
              "      <td>57622.657250</td>\n",
              "    </tr>\n",
              "    <tr>\n",
              "      <th>min</th>\n",
              "      <td>4.000000</td>\n",
              "      <td>1.556570e+07</td>\n",
              "      <td>350.000000</td>\n",
              "      <td>18.000000</td>\n",
              "      <td>0.000000</td>\n",
              "      <td>0.000000</td>\n",
              "      <td>1.000000</td>\n",
              "      <td>0.000000</td>\n",
              "      <td>0.000000</td>\n",
              "      <td>11.580000</td>\n",
              "    </tr>\n",
              "    <tr>\n",
              "      <th>25%</th>\n",
              "      <td>2501.250000</td>\n",
              "      <td>1.562812e+07</td>\n",
              "      <td>586.000000</td>\n",
              "      <td>32.000000</td>\n",
              "      <td>3.000000</td>\n",
              "      <td>0.000000</td>\n",
              "      <td>1.000000</td>\n",
              "      <td>0.000000</td>\n",
              "      <td>0.000000</td>\n",
              "      <td>50343.395000</td>\n",
              "    </tr>\n",
              "    <tr>\n",
              "      <th>50%</th>\n",
              "      <td>4995.500000</td>\n",
              "      <td>1.569189e+07</td>\n",
              "      <td>655.000000</td>\n",
              "      <td>37.000000</td>\n",
              "      <td>5.000000</td>\n",
              "      <td>96598.420000</td>\n",
              "      <td>1.000000</td>\n",
              "      <td>1.000000</td>\n",
              "      <td>1.000000</td>\n",
              "      <td>99482.980000</td>\n",
              "    </tr>\n",
              "    <tr>\n",
              "      <th>75%</th>\n",
              "      <td>7483.500000</td>\n",
              "      <td>1.575351e+07</td>\n",
              "      <td>718.000000</td>\n",
              "      <td>44.000000</td>\n",
              "      <td>8.000000</td>\n",
              "      <td>127671.927500</td>\n",
              "      <td>2.000000</td>\n",
              "      <td>1.000000</td>\n",
              "      <td>1.000000</td>\n",
              "      <td>149170.417500</td>\n",
              "    </tr>\n",
              "    <tr>\n",
              "      <th>max</th>\n",
              "      <td>9999.000000</td>\n",
              "      <td>1.581569e+07</td>\n",
              "      <td>850.000000</td>\n",
              "      <td>92.000000</td>\n",
              "      <td>10.000000</td>\n",
              "      <td>238387.560000</td>\n",
              "      <td>4.000000</td>\n",
              "      <td>1.000000</td>\n",
              "      <td>1.000000</td>\n",
              "      <td>199992.480000</td>\n",
              "    </tr>\n",
              "  </tbody>\n",
              "</table>\n",
              "</div>"
            ]
          },
          "metadata": {}
        }
      ],
      "execution_count": 22,
      "metadata": {
        "collapsed": false,
        "outputHidden": false,
        "inputHidden": false
      }
    },
    {
      "cell_type": "code",
      "source": [
        "data_train.describe(include=['O'])"
      ],
      "outputs": [
        {
          "output_type": "execute_result",
          "execution_count": 23,
          "data": {
            "text/plain": [
              "       Surname Geography Gender\n",
              "count     6000      6000   6000\n",
              "unique    2246         3      2\n",
              "top      Smith    France   Male\n",
              "freq        23      3026   3259"
            ],
            "text/html": [
              "<div>\n",
              "<style scoped>\n",
              "    .dataframe tbody tr th:only-of-type {\n",
              "        vertical-align: middle;\n",
              "    }\n",
              "\n",
              "    .dataframe tbody tr th {\n",
              "        vertical-align: top;\n",
              "    }\n",
              "\n",
              "    .dataframe thead th {\n",
              "        text-align: right;\n",
              "    }\n",
              "</style>\n",
              "<table border=\"1\" class=\"dataframe\">\n",
              "  <thead>\n",
              "    <tr style=\"text-align: right;\">\n",
              "      <th></th>\n",
              "      <th>Surname</th>\n",
              "      <th>Geography</th>\n",
              "      <th>Gender</th>\n",
              "    </tr>\n",
              "  </thead>\n",
              "  <tbody>\n",
              "    <tr>\n",
              "      <th>count</th>\n",
              "      <td>6000</td>\n",
              "      <td>6000</td>\n",
              "      <td>6000</td>\n",
              "    </tr>\n",
              "    <tr>\n",
              "      <th>unique</th>\n",
              "      <td>2246</td>\n",
              "      <td>3</td>\n",
              "      <td>2</td>\n",
              "    </tr>\n",
              "    <tr>\n",
              "      <th>top</th>\n",
              "      <td>Smith</td>\n",
              "      <td>France</td>\n",
              "      <td>Male</td>\n",
              "    </tr>\n",
              "    <tr>\n",
              "      <th>freq</th>\n",
              "      <td>23</td>\n",
              "      <td>3026</td>\n",
              "      <td>3259</td>\n",
              "    </tr>\n",
              "  </tbody>\n",
              "</table>\n",
              "</div>"
            ]
          },
          "metadata": {}
        }
      ],
      "execution_count": 23,
      "metadata": {
        "collapsed": false,
        "outputHidden": false,
        "inputHidden": false
      }
    },
    {
      "cell_type": "code",
      "source": [
        "DrawBarplot(data_train, 'Geography')"
      ],
      "outputs": [
        {
          "output_type": "display_data",
          "data": {
            "text/plain": [
              "<Figure size 432x288 with 1 Axes>"
            ],
            "image/png": "[encoded data removed]"
          },
          "metadata": {
            "needs_background": "light"
          }
        }
      ],
      "execution_count": 25,
      "metadata": {
        "collapsed": false,
        "outputHidden": false,
        "inputHidden": false
      }
    },
    {
      "cell_type": "code",
      "source": [
        "DrawBoxplot2(dataset, xAtt = 'Exited', yAtt='CreditScore')\n",
        "DrawBoxplot2(dataset, xAtt = 'Exited', yAtt='CreditScore', hAtt='Gender')"
      ],
      "outputs": [
        {
          "output_type": "display_data",
          "data": {
            "text/plain": [
              "<Figure size 432x288 with 1 Axes>"
            ],
            "image/png": "[encoded data removed]"
          },
          "metadata": {
            "needs_background": "light"
          }
        },
        {
          "output_type": "display_data",
          "data": {
            "text/plain": [
              "<Figure size 432x288 with 1 Axes>"
            ],
            "image/png": "[encoded data removed]"
          },
          "metadata": {
            "needs_background": "light"
          }
        }
      ],
      "execution_count": 31,
      "metadata": {
        "collapsed": false,
        "outputHidden": false,
        "inputHidden": false
      }
    },
    {
      "cell_type": "code",
      "source": [
        "DrawCountplot(dataset, 'Geography', 'Exited')\n",
        "DrawCountplot(dataset, 'CreditScore', 'Exited')\n",
        "DrawHistogram(dataset, 'NumOfProducts')"
      ],
      "outputs": [
        {
          "output_type": "display_data",
          "data": {
            "text/plain": [
              "<Figure size 432x288 with 1 Axes>"
            ],
            "image/png": "[encoded data removed]"
          },
          "metadata": {
            "needs_background": "light"
          }
        },
        {
          "output_type": "display_data",
          "data": {
            "text/plain": [
              "<Figure size 432x288 with 1 Axes>"
            ],
            "image/png": "[encoded data removed]"
          },
          "metadata": {
            "needs_background": "light"
          }
        },
        {
          "output_type": "display_data",
          "data": {
            "text/plain": [
              "<Figure size 432x288 with 1 Axes>"
            ],
            "image/png": "[encoded data removed]"
          },
          "metadata": {
            "needs_background": "light"
          }
        }
      ],
      "execution_count": 30,
      "metadata": {
        "collapsed": false,
        "outputHidden": false,
        "inputHidden": false
      }
    },
    {
      "cell_type": "markdown",
      "source": [
        "# **Label Encoder **"
      ],
      "metadata": {}
    },
    {
      "cell_type": "code",
      "source": [
        "data_encoder = dataset.copy()\n",
        "data_encoder['Geography'] = LabelEncoder().fit_transform(data_encoder['Geography'])\n",
        "data_encoder['Surname'] = LabelEncoder().fit_transform(data_encoder['Surname'])\n",
        "data_encoder['Gender'] = LabelEncoder().fit_transform(data_encoder['Gender'])\n",
        "data_encoder = data_encoder.join(pd.get_dummies(data_encoder['NumOfProducts'], prefix='NumOfProducts_'))\n",
        "data_encoder = data_encoder.drop('NumOfProducts', axis=1)\n",
        "data_encoder.head(10)"
      ],
      "outputs": [
        {
          "output_type": "execute_result",
          "execution_count": 33,
          "data": {
            "text/plain": [
              "   RowNumber  CustomerId  Surname  CreditScore  Geography  Gender  Age  \\\n",
              "0          1    15634602     1115          619          0       0   42   \n",
              "1          2    15647311     1177          608          2       0   41   \n",
              "2          3    15619304     2040          502          0       0   42   \n",
              "3          4    15701354      289          699          0       0   39   \n",
              "4          5    15737888     1822          850          2       0   43   \n",
              "5          6    15574012      537          645          2       1   44   \n",
              "6          7    15592531      177          822          0       1   50   \n",
              "7          8    15656148     2000          376          1       0   29   \n",
              "8          9    15792365     1146          501          0       1   44   \n",
              "9         10    15592389     1081          684          0       1   27   \n",
              "\n",
              "   Tenure    Balance  HasCrCard  IsActiveMember  EstimatedSalary  Exited  \\\n",
              "0       2       0.00          1               1        101348.88       1   \n",
              "1       1   83807.86          0               1        112542.58       0   \n",
              "2       8  159660.80          1               0        113931.57       1   \n",
              "3       1       0.00          0               0         93826.63       0   \n",
              "4       2  125510.82          1               1         79084.10       0   \n",
              "5       8  113755.78          1               0        149756.71       1   \n",
              "6       7       0.00          1               1         10062.80       0   \n",
              "7       4  115046.74          1               0        119346.88       1   \n",
              "8       4  142051.07          0               1         74940.50       0   \n",
              "9       2  134603.88          1               1         71725.73       0   \n",
              "\n",
              "   NumOfProducts__1  NumOfProducts__2  NumOfProducts__3  NumOfProducts__4  \n",
              "0                 1                 0                 0                 0  \n",
              "1                 1                 0                 0                 0  \n",
              "2                 0                 0                 1                 0  \n",
              "3                 0                 1                 0                 0  \n",
              "4                 1                 0                 0                 0  \n",
              "5                 0                 1                 0                 0  \n",
              "6                 0                 1                 0                 0  \n",
              "7                 0                 0                 0                 1  \n",
              "8                 0                 1                 0                 0  \n",
              "9                 1                 0                 0                 0  "
            ],
            "text/html": [
              "<div>\n",
              "<style scoped>\n",
              "    .dataframe tbody tr th:only-of-type {\n",
              "        vertical-align: middle;\n",
              "    }\n",
              "\n",
              "    .dataframe tbody tr th {\n",
              "        vertical-align: top;\n",
              "    }\n",
              "\n",
              "    .dataframe thead th {\n",
              "        text-align: right;\n",
              "    }\n",
              "</style>\n",
              "<table border=\"1\" class=\"dataframe\">\n",
              "  <thead>\n",
              "    <tr style=\"text-align: right;\">\n",
              "      <th></th>\n",
              "      <th>RowNumber</th>\n",
              "      <th>CustomerId</th>\n",
              "      <th>Surname</th>\n",
              "      <th>CreditScore</th>\n",
              "      <th>Geography</th>\n",
              "      <th>Gender</th>\n",
              "      <th>Age</th>\n",
              "      <th>Tenure</th>\n",
              "      <th>Balance</th>\n",
              "      <th>HasCrCard</th>\n",
              "      <th>IsActiveMember</th>\n",
              "      <th>EstimatedSalary</th>\n",
              "      <th>Exited</th>\n",
              "      <th>NumOfProducts__1</th>\n",
              "      <th>NumOfProducts__2</th>\n",
              "      <th>NumOfProducts__3</th>\n",
              "      <th>NumOfProducts__4</th>\n",
              "    </tr>\n",
              "  </thead>\n",
              "  <tbody>\n",
              "    <tr>\n",
              "      <th>0</th>\n",
              "      <td>1</td>\n",
              "      <td>15634602</td>\n",
              "      <td>1115</td>\n",
              "      <td>619</td>\n",
              "      <td>0</td>\n",
              "      <td>0</td>\n",
              "      <td>42</td>\n",
              "      <td>2</td>\n",
              "      <td>0.00</td>\n",
              "      <td>1</td>\n",
              "      <td>1</td>\n",
              "      <td>101348.88</td>\n",
              "      <td>1</td>\n",
              "      <td>1</td>\n",
              "      <td>0</td>\n",
              "      <td>0</td>\n",
              "      <td>0</td>\n",
              "    </tr>\n",
              "    <tr>\n",
              "      <th>1</th>\n",
              "      <td>2</td>\n",
              "      <td>15647311</td>\n",
              "      <td>1177</td>\n",
              "      <td>608</td>\n",
              "      <td>2</td>\n",
              "      <td>0</td>\n",
              "      <td>41</td>\n",
              "      <td>1</td>\n",
              "      <td>83807.86</td>\n",
              "      <td>0</td>\n",
              "      <td>1</td>\n",
              "      <td>112542.58</td>\n",
              "      <td>0</td>\n",
              "      <td>1</td>\n",
              "      <td>0</td>\n",
              "      <td>0</td>\n",
              "      <td>0</td>\n",
              "    </tr>\n",
              "    <tr>\n",
              "      <th>2</th>\n",
              "      <td>3</td>\n",
              "      <td>15619304</td>\n",
              "      <td>2040</td>\n",
              "      <td>502</td>\n",
              "      <td>0</td>\n",
              "      <td>0</td>\n",
              "      <td>42</td>\n",
              "      <td>8</td>\n",
              "      <td>159660.80</td>\n",
              "      <td>1</td>\n",
              "      <td>0</td>\n",
              "      <td>113931.57</td>\n",
              "      <td>1</td>\n",
              "      <td>0</td>\n",
              "      <td>0</td>\n",
              "      <td>1</td>\n",
              "      <td>0</td>\n",
              "    </tr>\n",
              "    <tr>\n",
              "      <th>3</th>\n",
              "      <td>4</td>\n",
              "      <td>15701354</td>\n",
              "      <td>289</td>\n",
              "      <td>699</td>\n",
              "      <td>0</td>\n",
              "      <td>0</td>\n",
              "      <td>39</td>\n",
              "      <td>1</td>\n",
              "      <td>0.00</td>\n",
              "      <td>0</td>\n",
              "      <td>0</td>\n",
              "      <td>93826.63</td>\n",
              "      <td>0</td>\n",
              "      <td>0</td>\n",
              "      <td>1</td>\n",
              "      <td>0</td>\n",
              "      <td>0</td>\n",
              "    </tr>\n",
              "    <tr>\n",
              "      <th>4</th>\n",
              "      <td>5</td>\n",
              "      <td>15737888</td>\n",
              "      <td>1822</td>\n",
              "      <td>850</td>\n",
              "      <td>2</td>\n",
              "      <td>0</td>\n",
              "      <td>43</td>\n",
              "      <td>2</td>\n",
              "      <td>125510.82</td>\n",
              "      <td>1</td>\n",
              "      <td>1</td>\n",
              "      <td>79084.10</td>\n",
              "      <td>0</td>\n",
              "      <td>1</td>\n",
              "      <td>0</td>\n",
              "      <td>0</td>\n",
              "      <td>0</td>\n",
              "    </tr>\n",
              "    <tr>\n",
              "      <th>5</th>\n",
              "      <td>6</td>\n",
              "      <td>15574012</td>\n",
              "      <td>537</td>\n",
              "      <td>645</td>\n",
              "      <td>2</td>\n",
              "      <td>1</td>\n",
              "      <td>44</td>\n",
              "      <td>8</td>\n",
              "      <td>113755.78</td>\n",
              "      <td>1</td>\n",
              "      <td>0</td>\n",
              "      <td>149756.71</td>\n",
              "      <td>1</td>\n",
              "      <td>0</td>\n",
              "      <td>1</td>\n",
              "      <td>0</td>\n",
              "      <td>0</td>\n",
              "    </tr>\n",
              "    <tr>\n",
              "      <th>6</th>\n",
              "      <td>7</td>\n",
              "      <td>15592531</td>\n",
              "      <td>177</td>\n",
              "      <td>822</td>\n",
              "      <td>0</td>\n",
              "      <td>1</td>\n",
              "      <td>50</td>\n",
              "      <td>7</td>\n",
              "      <td>0.00</td>\n",
              "      <td>1</td>\n",
              "      <td>1</td>\n",
              "      <td>10062.80</td>\n",
              "      <td>0</td>\n",
              "      <td>0</td>\n",
              "      <td>1</td>\n",
              "      <td>0</td>\n",
              "      <td>0</td>\n",
              "    </tr>\n",
              "    <tr>\n",
              "      <th>7</th>\n",
              "      <td>8</td>\n",
              "      <td>15656148</td>\n",
              "      <td>2000</td>\n",
              "      <td>376</td>\n",
              "      <td>1</td>\n",
              "      <td>0</td>\n",
              "      <td>29</td>\n",
              "      <td>4</td>\n",
              "      <td>115046.74</td>\n",
              "      <td>1</td>\n",
              "      <td>0</td>\n",
              "      <td>119346.88</td>\n",
              "      <td>1</td>\n",
              "      <td>0</td>\n",
              "      <td>0</td>\n",
              "      <td>0</td>\n",
              "      <td>1</td>\n",
              "    </tr>\n",
              "    <tr>\n",
              "      <th>8</th>\n",
              "      <td>9</td>\n",
              "      <td>15792365</td>\n",
              "      <td>1146</td>\n",
              "      <td>501</td>\n",
              "      <td>0</td>\n",
              "      <td>1</td>\n",
              "      <td>44</td>\n",
              "      <td>4</td>\n",
              "      <td>142051.07</td>\n",
              "      <td>0</td>\n",
              "      <td>1</td>\n",
              "      <td>74940.50</td>\n",
              "      <td>0</td>\n",
              "      <td>0</td>\n",
              "      <td>1</td>\n",
              "      <td>0</td>\n",
              "      <td>0</td>\n",
              "    </tr>\n",
              "    <tr>\n",
              "      <th>9</th>\n",
              "      <td>10</td>\n",
              "      <td>15592389</td>\n",
              "      <td>1081</td>\n",
              "      <td>684</td>\n",
              "      <td>0</td>\n",
              "      <td>1</td>\n",
              "      <td>27</td>\n",
              "      <td>2</td>\n",
              "      <td>134603.88</td>\n",
              "      <td>1</td>\n",
              "      <td>1</td>\n",
              "      <td>71725.73</td>\n",
              "      <td>0</td>\n",
              "      <td>1</td>\n",
              "      <td>0</td>\n",
              "      <td>0</td>\n",
              "      <td>0</td>\n",
              "    </tr>\n",
              "  </tbody>\n",
              "</table>\n",
              "</div>"
            ]
          },
          "metadata": {}
        }
      ],
      "execution_count": 33,
      "metadata": {
        "collapsed": false,
        "outputHidden": false,
        "inputHidden": false
      }
    },
    {
      "cell_type": "code",
      "source": [
        "# Split Train and Test and check shape \n",
        "data_train_encoder, target_train_encoder, data_test_encoder, target_test_encoder = SplitDataFrameToTrainAndTest(data_encoder, 0.6, 'Exited')\n",
        "PrintTrainTestInformation(data_train_encoder, target_train_encoder, data_test_encoder, target_test_encoder)"
      ],
      "outputs": [
        {
          "output_type": "stream",
          "name": "stdout",
          "text": [
            "Train rows and columns :  (6000, 16)\n",
            "Test rows and columns :  (4000, 16)\n"
          ]
        }
      ],
      "execution_count": 35,
      "metadata": {
        "collapsed": false,
        "outputHidden": false,
        "inputHidden": false
      }
    },
    {
      "cell_type": "markdown",
      "source": [
        "## **Classification by trainditional models** "
      ],
      "metadata": {}
    },
    {
      "cell_type": "code",
      "source": [
        "X_train = data_train_encoder\n",
        "y_train = target_train_encoder\n",
        "X_test = data_test_encoder\n",
        "y_test = target_test_encoder\n",
        "\n",
        "NBModel = NaiveBayesLearning(X_train, y_train)\n",
        "NBAccuracy,NBPredictTest = NaiveBayesTesting(NBModel,X_test, y_test)\n",
        "print('Naive Bayes accuracy: {:.3f}'.format(NBAccuracy))\n",
        "\n",
        "print(NBModel.predict_proba(X_test)[1,:])\n",
        "print(NBPredictTest[1])\n",
        "print(NBModel.predict_proba(X_test)[0,:])\n",
        "print(NBPredictTest[0])"
      ],
      "outputs": [
        {
          "output_type": "stream",
          "name": "stdout",
          "text": [
            "Naive Bayes accuracy: 0.775\n",
            "[0.76701672 0.23298328]\n",
            "0\n",
            "[0.84235405 0.15764595]\n",
            "0\n"
          ]
        }
      ],
      "execution_count": 36,
      "metadata": {
        "collapsed": false,
        "outputHidden": false,
        "inputHidden": false
      }
    },
    {
      "cell_type": "code",
      "source": [
        "LRModel = LogisticRegressionLearning(X_train, y_train)\n",
        "LRAccuracy,LRPredictTest = LogisticRegressionTesting(LRModel,X_test, y_test)\n",
        "print('Logistic Regression accuracy: {:.3f}'.format(LRAccuracy))\n",
        "\n",
        "print(LRModel.predict_proba(X_test)[1,:])\n",
        "print(LRPredictTest[1])\n",
        "print(LRModel.predict_proba(X_test)[0,:])\n",
        "print(LRPredictTest[0])"
      ],
      "outputs": [
        {
          "output_type": "stream",
          "name": "stdout",
          "text": [
            "Logistic Regression accuracy: 0.798\n",
            "[0.79081666 0.20918334]\n",
            "0\n",
            "[0.8461998 0.1538002]\n",
            "0\n"
          ]
        }
      ],
      "execution_count": 37,
      "metadata": {
        "collapsed": false,
        "outputHidden": false,
        "inputHidden": false
      }
    },
    {
      "cell_type": "code",
      "source": [
        "RFModel = RandomForestLearning(X_train, y_train)\n",
        "RFAccuracy,RFPredictTest = RandomForestTesting(RFModel,X_test, y_test)\n",
        "print('Random Forest accuracy: {:.6f}'.format(RFAccuracy))\n",
        "\n",
        "print(RFModel.predict_proba(X_test)[1,:])\n",
        "print(RFPredictTest[1])\n",
        "print(RFModel.predict_proba(X_test)[0,:])\n",
        "print(RFPredictTest[0])"
      ],
      "outputs": [
        {
          "output_type": "stream",
          "name": "stdout",
          "text": [
            "Random Forest accuracy: 0.849750\n",
            "[0.7 0.3]\n",
            "0\n",
            "[0.6 0.4]\n",
            "0\n"
          ]
        }
      ],
      "execution_count": 38,
      "metadata": {
        "collapsed": false,
        "outputHidden": false,
        "inputHidden": false
      }
    },
    {
      "cell_type": "code",
      "source": [
        "LiSVMModel = SVMLearning(X_train, y_train)\n",
        "LiSVMAccuracy,LiSVMPredictTest = SVMTesting(LiSVMModel, X_test, y_test)\n",
        "print('Linear SVM accuracy: {:.6f}'.format(LiSVMAccuracy))\n",
        "\n",
        "RBFSVMModel = SVMLearning(X_train, y_train, 'RBF')\n",
        "RBFSVMAccuracy,RBFSVMPredictTest = SVMTesting(RBFSVMModel, X_test, y_test)\n",
        "print('RBF SVM accuracy: {:.6f}'.format(RBFSVMAccuracy))"
      ],
      "outputs": [
        {
          "output_type": "stream",
          "name": "stdout",
          "text": [
            "Linear SVM accuracy: 0.798250\n",
            "RBF SVM accuracy: 0.798250\n"
          ]
        }
      ],
      "execution_count": 39,
      "metadata": {
        "collapsed": false,
        "outputHidden": false,
        "inputHidden": false
      }
    },
    {
      "cell_type": "code",
      "source": [
        "KNNModel = KNNLearning(X_train, y_train)\n",
        "KNNAccuracy,KNNPredictTest = KNNTesting(KNNModel,X_test, y_test)\n",
        "print('K Nearest Neighbor accuracy: {:.6f}'.format(KNNAccuracy))\n",
        "\n",
        "print(KNNModel.predict_proba(X_test)[1,:])\n",
        "print(KNNPredictTest[1])\n",
        "print(KNNModel.predict_proba(X_test)[0,:])\n",
        "print(KNNPredictTest[0])"
      ],
      "outputs": [
        {
          "output_type": "stream",
          "name": "stdout",
          "text": [
            "K Nearest Neighbor accuracy: 0.738500\n",
            "[1. 0.]\n",
            "0\n",
            "[1. 0.]\n",
            "0\n"
          ]
        }
      ],
      "execution_count": 40,
      "metadata": {
        "collapsed": false,
        "outputHidden": false,
        "inputHidden": false
      }
    },
    {
      "cell_type": "code",
      "source": [
        "ANNModel = ANNLearning(X_train, y_train)\n",
        "ANNAccuracy, ANNPredictTest = ANNTesting(ANNModel, X_test, y_test)\n",
        "print('ANN accuracy: {:.6f}'.format(ANNAccuracy))\n",
        "\n",
        "print(ANNModel.predict_proba(X_test)[1,:])\n",
        "print(ANNPredictTest[1])\n",
        "print(ANNModel.predict_proba(X_test)[0,:])\n",
        "print(ANNPredictTest[0])"
      ],
      "outputs": [
        {
          "output_type": "stream",
          "name": "stdout",
          "text": [
            "ANN accuracy: 0.201750\n",
            "[0. 1.]\n",
            "1\n",
            "[0. 1.]\n",
            "1\n"
          ]
        }
      ],
      "execution_count": 41,
      "metadata": {
        "collapsed": false,
        "outputHidden": false,
        "inputHidden": false
      }
    },
    {
      "cell_type": "markdown",
      "source": [
        "# **Approach 1 ** (Feature Selection)"
      ],
      "metadata": {}
    },
    {
      "cell_type": "markdown",
      "source": [
        "# Correlation"
      ],
      "metadata": {}
    },
    {
      "cell_type": "code",
      "source": [
        "## get the most important variables. \n",
        "corr = dataset.corr()**2\n",
        "corr.Exited.sort_values(ascending=False)"
      ],
      "outputs": [
        {
          "output_type": "execute_result",
          "execution_count": 47,
          "data": {
            "text/plain": [
              "Exited             1.000000\n",
              "Age                0.081409\n",
              "IsActiveMember     0.024376\n",
              "Balance            0.014050\n",
              "NumOfProducts      0.002287\n",
              "CreditScore        0.000734\n",
              "RowNumber          0.000275\n",
              "Tenure             0.000196\n",
              "EstimatedSalary    0.000146\n",
              "HasCrCard          0.000051\n",
              "CustomerId         0.000039\n",
              "Name: Exited, dtype: float64"
            ]
          },
          "metadata": {}
        }
      ],
      "execution_count": 47,
      "metadata": {
        "collapsed": false,
        "outputHidden": false,
        "inputHidden": false
      }
    },
    {
      "cell_type": "code",
      "source": [
        "## heatmeap to see the correlation between features. \n",
        "# Generate a mask for the upper triangle (taken from seaborn example gallery)\n",
        "mask = np.zeros_like(dataset.corr(), dtype=np.bool)\n",
        "mask[np.triu_indices_from(mask)] = True\n",
        "# plot\n",
        "plt.subplots(figsize = (10,8))\n",
        "sns.heatmap(dataset.corr(), annot=True, mask = mask, cmap = 'RdBu_r', linewidths=0.1, linecolor='white', vmax = .9, square=True)\n",
        "plt.title(\"Correlations Among Features\", y = 1.03,fontsize = 20);"
      ],
      "outputs": [
        {
          "output_type": "display_data",
          "data": {
            "text/plain": [
              "<Figure size 720x576 with 2 Axes>"
            ],
            "image/png": "[encoded data removed]"
          },
          "metadata": {
            "needs_background": "light"
          }
        }
      ],
      "execution_count": 60,
      "metadata": {
        "collapsed": false,
        "outputHidden": false,
        "inputHidden": false
      }
    },
    {
      "cell_type": "code",
      "source": [
        "print(dataset[['NumOfProducts', 'Exited']].groupby(['NumOfProducts'], as_index=False).mean().sort_values(by='Exited', ascending=False))\n",
        "cat_plot(dataset, 'NumOfProducts','Exited', {0: \"black\", 1: \"orange\"} )"
      ],
      "outputs": [
        {
          "output_type": "stream",
          "name": "stdout",
          "text": [
            "   NumOfProducts    Exited\n",
            "3              4  1.000000\n",
            "2              3  0.827068\n",
            "0              1  0.277144\n",
            "1              2  0.075817\n"
          ]
        },
        {
          "output_type": "display_data",
          "data": {
            "text/plain": [
              "<Figure size 720x360 with 2 Axes>"
            ],
            "image/png": "[encoded data removed]"
          },
          "metadata": {
            "needs_background": "light"
          }
        }
      ],
      "execution_count": 55,
      "metadata": {
        "collapsed": false,
        "outputHidden": false,
        "inputHidden": false
      }
    },
    {
      "cell_type": "code",
      "source": [
        "print(dataset[['IsActiveMember', 'Exited']].groupby(['IsActiveMember'], as_index=False).mean().sort_values(by='Exited', ascending=False))\n",
        "cat_plot(dataset, 'IsActiveMember','Exited', {0: \"black\", 1: \"orange\"} )"
      ],
      "outputs": [
        {
          "output_type": "stream",
          "name": "stdout",
          "text": [
            "   IsActiveMember    Exited\n",
            "0               0  0.268509\n",
            "1               1  0.142691\n"
          ]
        },
        {
          "output_type": "display_data",
          "data": {
            "text/plain": [
              "<Figure size 720x360 with 2 Axes>"
            ],
            "image/png": "[encoded data removed]"
          },
          "metadata": {
            "needs_background": "light"
          }
        }
      ],
      "execution_count": 61,
      "metadata": {
        "collapsed": false,
        "outputHidden": false,
        "inputHidden": false
      }
    },
    {
      "cell_type": "code",
      "source": [
        "# https://seaborn.pydata.org/generated/seaborn.pairplot.html\n",
        "sns.pairplot(dataset, vars=[\"NumOfProducts\", \"IsActiveMember\", \"CreditScore\"], hue=\"Exited\")"
      ],
      "outputs": [
        {
          "output_type": "execute_result",
          "execution_count": 62,
          "data": {
            "text/plain": [
              "<seaborn.axisgrid.PairGrid at 0x133d39630>"
            ]
          },
          "metadata": {}
        },
        {
          "output_type": "display_data",
          "data": {
            "text/plain": [
              "<Figure size 582.375x540 with 12 Axes>"
            ],
            "image/png": "[encoded data removed]"
          },
          "metadata": {
            "needs_background": "light"
          }
        }
      ],
      "execution_count": 62,
      "metadata": {
        "collapsed": false,
        "outputHidden": false,
        "inputHidden": false
      }
    },
    {
      "cell_type": "code",
      "source": [
        "AttList = [\"CreditScore\",\t\"Age\",\t\"Tenure\",\t\"Balance\",\t\"NumOfProducts\",\t\"HasCrCard\",\t\"IsActiveMember\",\t\"EstimatedSalary\"]\n",
        "correlation_matrix = dataset[AttList].corr().round(2)\n",
        "# annot = True to print the values inside the square\n",
        "sns.heatmap(data=correlation_matrix, annot=True)"
      ],
      "outputs": [
        {
          "output_type": "execute_result",
          "execution_count": 64,
          "data": {
            "text/plain": [
              "<matplotlib.axes._subplots.AxesSubplot at 0x1345438d0>"
            ]
          },
          "metadata": {}
        },
        {
          "output_type": "display_data",
          "data": {
            "text/plain": [
              "<Figure size 432x288 with 2 Axes>"
            ],
            "image/png": "[encoded data removed]"
          },
          "metadata": {
            "needs_background": "light"
          }
        }
      ],
      "execution_count": 64,
      "metadata": {
        "collapsed": false,
        "outputHidden": false,
        "inputHidden": false
      }
    },
    {
      "cell_type": "code",
      "source": [
        "data_encoder_feselection = data_encoder.copy()\n",
        "AttList = [\"Surname\", \"RowNumber\", \"CustomerId\"]\n",
        "data_encoder_feselection = data_encoder_feselection.drop(AttList,  axis=1)\n",
        "print(data_encoder_feselection.shape)\n",
        "data_encoder_feselection.head()"
      ],
      "outputs": [
        {
          "output_type": "stream",
          "name": "stdout",
          "text": [
            "(10000, 14)\n"
          ]
        },
        {
          "output_type": "execute_result",
          "execution_count": 65,
          "data": {
            "text/plain": [
              "   CreditScore  Geography  Gender  Age  Tenure    Balance  HasCrCard  \\\n",
              "0          619          0       0   42       2       0.00          1   \n",
              "1          608          2       0   41       1   83807.86          0   \n",
              "2          502          0       0   42       8  159660.80          1   \n",
              "3          699          0       0   39       1       0.00          0   \n",
              "4          850          2       0   43       2  125510.82          1   \n",
              "\n",
              "   IsActiveMember  EstimatedSalary  Exited  NumOfProducts__1  \\\n",
              "0               1        101348.88       1                 1   \n",
              "1               1        112542.58       0                 1   \n",
              "2               0        113931.57       1                 0   \n",
              "3               0         93826.63       0                 0   \n",
              "4               1         79084.10       0                 1   \n",
              "\n",
              "   NumOfProducts__2  NumOfProducts__3  NumOfProducts__4  \n",
              "0                 0                 0                 0  \n",
              "1                 0                 0                 0  \n",
              "2                 0                 1                 0  \n",
              "3                 1                 0                 0  \n",
              "4                 0                 0                 0  "
            ],
            "text/html": [
              "<div>\n",
              "<style scoped>\n",
              "    .dataframe tbody tr th:only-of-type {\n",
              "        vertical-align: middle;\n",
              "    }\n",
              "\n",
              "    .dataframe tbody tr th {\n",
              "        vertical-align: top;\n",
              "    }\n",
              "\n",
              "    .dataframe thead th {\n",
              "        text-align: right;\n",
              "    }\n",
              "</style>\n",
              "<table border=\"1\" class=\"dataframe\">\n",
              "  <thead>\n",
              "    <tr style=\"text-align: right;\">\n",
              "      <th></th>\n",
              "      <th>CreditScore</th>\n",
              "      <th>Geography</th>\n",
              "      <th>Gender</th>\n",
              "      <th>Age</th>\n",
              "      <th>Tenure</th>\n",
              "      <th>Balance</th>\n",
              "      <th>HasCrCard</th>\n",
              "      <th>IsActiveMember</th>\n",
              "      <th>EstimatedSalary</th>\n",
              "      <th>Exited</th>\n",
              "      <th>NumOfProducts__1</th>\n",
              "      <th>NumOfProducts__2</th>\n",
              "      <th>NumOfProducts__3</th>\n",
              "      <th>NumOfProducts__4</th>\n",
              "    </tr>\n",
              "  </thead>\n",
              "  <tbody>\n",
              "    <tr>\n",
              "      <th>0</th>\n",
              "      <td>619</td>\n",
              "      <td>0</td>\n",
              "      <td>0</td>\n",
              "      <td>42</td>\n",
              "      <td>2</td>\n",
              "      <td>0.00</td>\n",
              "      <td>1</td>\n",
              "      <td>1</td>\n",
              "      <td>101348.88</td>\n",
              "      <td>1</td>\n",
              "      <td>1</td>\n",
              "      <td>0</td>\n",
              "      <td>0</td>\n",
              "      <td>0</td>\n",
              "    </tr>\n",
              "    <tr>\n",
              "      <th>1</th>\n",
              "      <td>608</td>\n",
              "      <td>2</td>\n",
              "      <td>0</td>\n",
              "      <td>41</td>\n",
              "      <td>1</td>\n",
              "      <td>83807.86</td>\n",
              "      <td>0</td>\n",
              "      <td>1</td>\n",
              "      <td>112542.58</td>\n",
              "      <td>0</td>\n",
              "      <td>1</td>\n",
              "      <td>0</td>\n",
              "      <td>0</td>\n",
              "      <td>0</td>\n",
              "    </tr>\n",
              "    <tr>\n",
              "      <th>2</th>\n",
              "      <td>502</td>\n",
              "      <td>0</td>\n",
              "      <td>0</td>\n",
              "      <td>42</td>\n",
              "      <td>8</td>\n",
              "      <td>159660.80</td>\n",
              "      <td>1</td>\n",
              "      <td>0</td>\n",
              "      <td>113931.57</td>\n",
              "      <td>1</td>\n",
              "      <td>0</td>\n",
              "      <td>0</td>\n",
              "      <td>1</td>\n",
              "      <td>0</td>\n",
              "    </tr>\n",
              "    <tr>\n",
              "      <th>3</th>\n",
              "      <td>699</td>\n",
              "      <td>0</td>\n",
              "      <td>0</td>\n",
              "      <td>39</td>\n",
              "      <td>1</td>\n",
              "      <td>0.00</td>\n",
              "      <td>0</td>\n",
              "      <td>0</td>\n",
              "      <td>93826.63</td>\n",
              "      <td>0</td>\n",
              "      <td>0</td>\n",
              "      <td>1</td>\n",
              "      <td>0</td>\n",
              "      <td>0</td>\n",
              "    </tr>\n",
              "    <tr>\n",
              "      <th>4</th>\n",
              "      <td>850</td>\n",
              "      <td>2</td>\n",
              "      <td>0</td>\n",
              "      <td>43</td>\n",
              "      <td>2</td>\n",
              "      <td>125510.82</td>\n",
              "      <td>1</td>\n",
              "      <td>1</td>\n",
              "      <td>79084.10</td>\n",
              "      <td>0</td>\n",
              "      <td>1</td>\n",
              "      <td>0</td>\n",
              "      <td>0</td>\n",
              "      <td>0</td>\n",
              "    </tr>\n",
              "  </tbody>\n",
              "</table>\n",
              "</div>"
            ]
          },
          "metadata": {}
        }
      ],
      "execution_count": 65,
      "metadata": {
        "collapsed": false,
        "outputHidden": false,
        "inputHidden": false
      }
    },
    {
      "cell_type": "code",
      "source": [
        "# Split Train and Test and check shape \n",
        "data_train_encoder_feselection, target_train_encoder_feselection, data_test_encoder_feselection, target_test_encoder_feselection = SplitDataFrameToTrainAndTest(data_encoder_feselection, 0.6, 'Exited')\n",
        "PrintTrainTestInformation(data_train_encoder_feselection, target_train_encoder_feselection, data_test_encoder_feselection, target_test_encoder_feselection)"
      ],
      "outputs": [
        {
          "output_type": "stream",
          "name": "stdout",
          "text": [
            "Train rows and columns :  (6000, 13)\n",
            "Test rows and columns :  (4000, 13)\n"
          ]
        }
      ],
      "execution_count": 67,
      "metadata": {
        "collapsed": false,
        "outputHidden": false,
        "inputHidden": false
      }
    },
    {
      "cell_type": "code",
      "source": [
        "# Retest all traditional classification approaches\n",
        "X_train = data_train_encoder\n",
        "y_train = target_train_encoder\n",
        "X_test = data_test_encoder\n",
        "y_test = target_test_encoder\n",
        "\n",
        "NBModel = NaiveBayesLearning(X_train, y_train)\n",
        "NBAccuracy,NBPredictTest = NaiveBayesTesting(NBModel,X_test, y_test)\n",
        "print('Naive Bayes accuracy: {:.3f}'.format(NBAccuracy))\n",
        "\n",
        "LRModel = LogisticRegressionLearning(X_train, y_train)\n",
        "LRAccuracy,LRPredictTest = LogisticRegressionTesting(LRModel,X_test, y_test)\n",
        "print('Logistic Regression accuracy: {:.3f}'.format(LRAccuracy))\n",
        "\n",
        "RFModel = RandomForestLearning(X_train, y_train)\n",
        "RFAccuracy,RFPredictTest = RandomForestTesting(RFModel,X_test, y_test)\n",
        "print('Random Forest accuracy: {:.6f}'.format(RFAccuracy))\n",
        "\n",
        "LiSVMModel = SVMLearning(X_train, y_train)\n",
        "LiSVMAccuracy,LiSVMPredictTest = SVMTesting(LiSVMModel, X_test, y_test)\n",
        "print('Linear SVM accuracy: {:.6f}'.format(LiSVMAccuracy))\n",
        "\n",
        "RBFSVMModel = SVMLearning(X_train, y_train, 'RBF')\n",
        "RBFSVMAccuracy,RBFSVMPredictTest = SVMTesting(RBFSVMModel, X_test, y_test)\n",
        "print('RBF SVM accuracy: {:.6f}'.format(RBFSVMAccuracy))\n",
        "\n",
        "KNNModel = KNNLearning(X_train, y_train)\n",
        "KNNAccuracy,KNNPredictTest = KNNTesting(KNNModel,X_test, y_test)\n",
        "print('K Nearest Neighbor accuracy: {:.6f}'.format(KNNAccuracy))\n",
        "\n",
        "ANNModel = ANNLearning(X_train, y_train)\n",
        "ANNAccuracy, ANNPredictTest = ANNTesting(ANNModel, X_test, y_test)\n",
        "print('ANN accuracy: {:.6f}'.format(ANNAccuracy))"
      ],
      "outputs": [
        {
          "output_type": "stream",
          "name": "stdout",
          "text": [
            "Naive Bayes accuracy: 0.775\n",
            "Logistic Regression accuracy: 0.798\n",
            "Random Forest accuracy: 0.842000\n",
            "Linear SVM accuracy: 0.798250\n",
            "RBF SVM accuracy: 0.798250\n",
            "K Nearest Neighbor accuracy: 0.738500\n",
            "ANN accuracy: 0.798250\n"
          ]
        }
      ],
      "execution_count": 68,
      "metadata": {
        "collapsed": false,
        "outputHidden": false,
        "inputHidden": false
      }
    },
    {
      "cell_type": "code",
      "source": [
        "# Retest all traditional classification approaches\n",
        "X_train = data_train_encoder_feselection\n",
        "y_train = target_train_encoder_feselection\n",
        "X_test = data_test_encoder_feselection\n",
        "y_test = target_test_encoder_feselection\n",
        "\n",
        "NBModel = NaiveBayesLearning(X_train, y_train)\n",
        "NBAccuracy,NBPredictTest = NaiveBayesTesting(NBModel,X_test, y_test)\n",
        "print('Naive Bayes accuracy: {:.3f}'.format(NBAccuracy))\n",
        "\n",
        "LRModel = LogisticRegressionLearning(X_train, y_train)\n",
        "LRAccuracy,LRPredictTest = LogisticRegressionTesting(LRModel,X_test, y_test)\n",
        "print('Logistic Regression accuracy: {:.3f}'.format(LRAccuracy))\n",
        "\n",
        "RFModel = RandomForestLearning(X_train, y_train)\n",
        "RFAccuracy,RFPredictTest = RandomForestTesting(RFModel,X_test, y_test)\n",
        "print('Random Forest accuracy: {:.6f}'.format(RFAccuracy))\n",
        "\n",
        "LiSVMModel = SVMLearning(X_train, y_train)\n",
        "LiSVMAccuracy,LiSVMPredictTest = SVMTesting(LiSVMModel, X_test, y_test)\n",
        "print('Linear SVM accuracy: {:.6f}'.format(LiSVMAccuracy))\n",
        "\n",
        "RBFSVMModel = SVMLearning(X_train, y_train, 'RBF')\n",
        "RBFSVMAccuracy,RBFSVMPredictTest = SVMTesting(RBFSVMModel, X_test, y_test)\n",
        "print('RBF SVM accuracy: {:.6f}'.format(RBFSVMAccuracy))\n",
        "\n",
        "KNNModel = KNNLearning(X_train, y_train)\n",
        "KNNAccuracy,KNNPredictTest = KNNTesting(KNNModel,X_test, y_test)\n",
        "print('K Nearest Neighbor accuracy: {:.6f}'.format(KNNAccuracy))\n",
        "\n",
        "ANNModel = ANNLearning(X_train, y_train)\n",
        "ANNAccuracy, ANNPredictTest = ANNTesting(ANNModel, X_test, y_test)\n",
        "print('ANN accuracy: {:.6f}'.format(ANNAccuracy))"
      ],
      "outputs": [
        {
          "output_type": "stream",
          "name": "stdout",
          "text": [
            "Naive Bayes accuracy: 0.774\n",
            "Logistic Regression accuracy: 0.795\n",
            "Random Forest accuracy: 0.850750\n",
            "Linear SVM accuracy: 0.798250\n",
            "RBF SVM accuracy: 0.798250\n",
            "K Nearest Neighbor accuracy: 0.739250\n",
            "ANN accuracy: 0.597750\n"
          ]
        }
      ],
      "execution_count": 69,
      "metadata": {
        "collapsed": false,
        "outputHidden": false,
        "inputHidden": false
      }
    },
    {
      "cell_type": "markdown",
      "source": [
        "## Feature Importances"
      ],
      "metadata": {}
    },
    {
      "cell_type": "code",
      "source": [
        "model = RandomForestRegressor(random_state=1, max_depth=10)\n",
        "model.fit(data_train_encoder,target_train_encoder)\n",
        "\n",
        "print(data_train_encoder.shape)\n",
        "features = data_train_encoder.columns\n",
        "importances = model.feature_importances_\n",
        "indices = np.argsort(importances)[-len(features):]  # top features\n",
        "plt.title('Feature Importances')\n",
        "plt.barh(range(len(indices)), importances[indices], color='b', align='center')\n",
        "plt.yticks(range(len(indices)), [features[i] for i in indices])\n",
        "plt.xlabel('Relative Importance')\n",
        "plt.show()"
      ],
      "outputs": [
        {
          "output_type": "stream",
          "name": "stdout",
          "text": [
            "(6000, 16)\n"
          ]
        },
        {
          "output_type": "display_data",
          "data": {
            "text/plain": [
              "<Figure size 432x288 with 1 Axes>"
            ],
            "image/png": "[encoded data removed]"
          },
          "metadata": {
            "needs_background": "light"
          }
        }
      ],
      "execution_count": 72,
      "metadata": {
        "collapsed": false,
        "outputHidden": false,
        "inputHidden": false
      }
    },
    {
      "cell_type": "code",
      "source": [
        "# Get numerical feature importances\n",
        "feature_list = list(data_train_encoder.columns)\n",
        "importances = list(model.feature_importances_)\n",
        "# List of tuples with variable and importance\n",
        "feature_importances = [(feature, round(importance, 2)) for feature, importance in zip(feature_list, importances)]\n",
        "# Sort the feature importances by most important first\n",
        "feature_importances = sorted(feature_importances, key = lambda x: x[1], reverse = True)\n",
        "# Print out the feature and importances \n",
        "[print('Variable: {:20} Importance: {}'.format(*pair)) for pair in feature_importances];"
      ],
      "outputs": [
        {
          "output_type": "stream",
          "name": "stdout",
          "text": [
            "Variable: Age                  Importance: 0.27\n",
            "Variable: NumOfProducts__2     Importance: 0.11\n",
            "Variable: Balance              Importance: 0.09\n",
            "Variable: IsActiveMember       Importance: 0.08\n",
            "Variable: CustomerId           Importance: 0.06\n",
            "Variable: Surname              Importance: 0.06\n",
            "Variable: CreditScore          Importance: 0.06\n",
            "Variable: EstimatedSalary      Importance: 0.06\n",
            "Variable: RowNumber            Importance: 0.05\n",
            "Variable: NumOfProducts__3     Importance: 0.05\n",
            "Variable: Geography            Importance: 0.04\n",
            "Variable: Tenure               Importance: 0.03\n",
            "Variable: NumOfProducts__1     Importance: 0.03\n",
            "Variable: Gender               Importance: 0.01\n",
            "Variable: NumOfProducts__4     Importance: 0.01\n",
            "Variable: HasCrCard            Importance: 0.0\n"
          ]
        }
      ],
      "execution_count": 73,
      "metadata": {
        "collapsed": false,
        "outputHidden": false,
        "inputHidden": false
      }
    },
    {
      "cell_type": "code",
      "source": [
        "# Split Train and Test and check shape \n",
        "AttSelection = [\"Age\", \"NumOfProducts__2\", \"Balance\", \"IsActiveMember\", \"CustomerId\",\n",
        "                \"Surname\", \"CreditScore\", \"EstimatedSalary\", \"EstimatedSalary\", \"RowNumber\",\n",
        "                \"NumOfProducts__3\", \"Geography\", \"Tenure\", \"NumOfProducts__1\",\n",
        "               \"Exited\"]\n",
        "\n",
        "data_train_encoder_feselection02, target_train_encoder_feselection02, data_test_encoder_feselection02, target_test_encoder_feselection02 = SplitDataFrameToTrainAndTest(data_encoder[AttSelection], 0.6, 'Exited')\n",
        "PrintTrainTestInformation(data_train_encoder_feselection02, target_train_encoder_feselection02, data_test_encoder_feselection02, target_test_encoder_feselection02)"
      ],
      "outputs": [
        {
          "output_type": "stream",
          "name": "stdout",
          "text": [
            "Train rows and columns :  (6000, 14)\n",
            "Test rows and columns :  (4000, 14)\n"
          ]
        }
      ],
      "execution_count": 75,
      "metadata": {
        "collapsed": false,
        "outputHidden": false,
        "inputHidden": false
      }
    },
    {
      "cell_type": "code",
      "source": [
        "# Retest all traditional classification approaches\n",
        "X_train = data_train_encoder_feselection02\n",
        "y_train = target_train_encoder_feselection02\n",
        "X_test = data_test_encoder_feselection02\n",
        "y_test = target_test_encoder_feselection02\n",
        "\n",
        "NBModel = NaiveBayesLearning(X_train, y_train)\n",
        "NBAccuracy,NBPredictTest = NaiveBayesTesting(NBModel,X_test, y_test)\n",
        "print('Naive Bayes accuracy: {:.3f}'.format(NBAccuracy))\n",
        "\n",
        "LRModel = LogisticRegressionLearning(X_train, y_train)\n",
        "LRAccuracy,LRPredictTest = LogisticRegressionTesting(LRModel,X_test, y_test)\n",
        "print('Logistic Regression accuracy: {:.3f}'.format(LRAccuracy))\n",
        "\n",
        "RFModel = RandomForestLearning(X_train, y_train)\n",
        "RFAccuracy,RFPredictTest = RandomForestTesting(RFModel,X_test, y_test)\n",
        "print('Random Forest accuracy: {:.6f}'.format(RFAccuracy))\n",
        "\n",
        "LiSVMModel = SVMLearning(X_train, y_train)\n",
        "LiSVMAccuracy,LiSVMPredictTest = SVMTesting(LiSVMModel, X_test, y_test)\n",
        "print('Linear SVM accuracy: {:.6f}'.format(LiSVMAccuracy))\n",
        "\n",
        "RBFSVMModel = SVMLearning(X_train, y_train, 'RBF')\n",
        "RBFSVMAccuracy,RBFSVMPredictTest = SVMTesting(RBFSVMModel, X_test, y_test)\n",
        "print('RBF SVM accuracy: {:.6f}'.format(RBFSVMAccuracy))\n",
        "\n",
        "KNNModel = KNNLearning(X_train, y_train)\n",
        "KNNAccuracy,KNNPredictTest = KNNTesting(KNNModel,X_test, y_test)\n",
        "print('K Nearest Neighbor accuracy: {:.6f}'.format(KNNAccuracy))\n",
        "\n",
        "ANNModel = ANNLearning(X_train, y_train)\n",
        "ANNAccuracy, ANNPredictTest = ANNTesting(ANNModel, X_test, y_test)\n",
        "print('ANN accuracy: {:.6f}'.format(ANNAccuracy))"
      ],
      "outputs": [
        {
          "output_type": "stream",
          "name": "stdout",
          "text": [
            "Naive Bayes accuracy: 0.775\n",
            "Logistic Regression accuracy: 0.798\n",
            "Random Forest accuracy: 0.847000\n",
            "Linear SVM accuracy: 0.798250\n",
            "RBF SVM accuracy: 0.798250\n",
            "K Nearest Neighbor accuracy: 0.735750\n",
            "ANN accuracy: 0.798250\n"
          ]
        }
      ],
      "execution_count": 76,
      "metadata": {
        "collapsed": false,
        "outputHidden": false,
        "inputHidden": false
      }
    },
    {
      "cell_type": "code",
      "source": [
        "from sklearn.feature_selection import RFE\n",
        "from sklearn.linear_model import LogisticRegression\n",
        "import pandas as pd\n",
        "from sklearn.svm import SVR\n",
        "\n",
        "# Retest all traditional classification approaches\n",
        "X_train = data_train_encoder\n",
        "y_train = target_train_encoder\n",
        "X_test = data_test_encoder\n",
        "y_test = target_test_encoder\n",
        "\n",
        "LRModel = LogisticRegressionLearning(X_train, y_train)\n",
        "model = LRModel\n",
        "rfe = RFE(model, 10)\n",
        "rfe = rfe.fit(X_train, y_train)\n",
        "\n",
        "feature_list = list(X_train.columns)\n",
        "RankStatistics = pd.DataFrame(columns=['Attributes', 'Ranking', 'Support'])\n",
        "for i, att, rank, suppport in zip(range(len(feature_list)), feature_list, rfe.ranking_, rfe.support_):\n",
        "    RankStatistics.loc[i] = [att, rank, suppport]\n",
        "RankStatistics = RankStatistics.sort_values('Ranking')\n",
        "\nRankStatistics"
      ],
      "outputs": [
        {
          "output_type": "execute_result",
          "execution_count": 77,
          "data": {
            "text/plain": [
              "          Attributes Ranking Support\n",
              "0          RowNumber       1    True\n",
              "1         CustomerId       1    True\n",
              "2            Surname       1    True\n",
              "3        CreditScore       1    True\n",
              "6                Age       1    True\n",
              "8            Balance       1    True\n",
              "10    IsActiveMember       1    True\n",
              "11   EstimatedSalary       1    True\n",
              "12  NumOfProducts__1       1    True\n",
              "13  NumOfProducts__2       1    True\n",
              "7             Tenure       2   False\n",
              "5             Gender       3   False\n",
              "14  NumOfProducts__3       4   False\n",
              "4          Geography       5   False\n",
              "15  NumOfProducts__4       6   False\n",
              "9          HasCrCard       7   False"
            ],
            "text/html": [
              "<div>\n",
              "<style scoped>\n",
              "    .dataframe tbody tr th:only-of-type {\n",
              "        vertical-align: middle;\n",
              "    }\n",
              "\n",
              "    .dataframe tbody tr th {\n",
              "        vertical-align: top;\n",
              "    }\n",
              "\n",
              "    .dataframe thead th {\n",
              "        text-align: right;\n",
              "    }\n",
              "</style>\n",
              "<table border=\"1\" class=\"dataframe\">\n",
              "  <thead>\n",
              "    <tr style=\"text-align: right;\">\n",
              "      <th></th>\n",
              "      <th>Attributes</th>\n",
              "      <th>Ranking</th>\n",
              "      <th>Support</th>\n",
              "    </tr>\n",
              "  </thead>\n",
              "  <tbody>\n",
              "    <tr>\n",
              "      <th>0</th>\n",
              "      <td>RowNumber</td>\n",
              "      <td>1</td>\n",
              "      <td>True</td>\n",
              "    </tr>\n",
              "    <tr>\n",
              "      <th>1</th>\n",
              "      <td>CustomerId</td>\n",
              "      <td>1</td>\n",
              "      <td>True</td>\n",
              "    </tr>\n",
              "    <tr>\n",
              "      <th>2</th>\n",
              "      <td>Surname</td>\n",
              "      <td>1</td>\n",
              "      <td>True</td>\n",
              "    </tr>\n",
              "    <tr>\n",
              "      <th>3</th>\n",
              "      <td>CreditScore</td>\n",
              "      <td>1</td>\n",
              "      <td>True</td>\n",
              "    </tr>\n",
              "    <tr>\n",
              "      <th>6</th>\n",
              "      <td>Age</td>\n",
              "      <td>1</td>\n",
              "      <td>True</td>\n",
              "    </tr>\n",
              "    <tr>\n",
              "      <th>8</th>\n",
              "      <td>Balance</td>\n",
              "      <td>1</td>\n",
              "      <td>True</td>\n",
              "    </tr>\n",
              "    <tr>\n",
              "      <th>10</th>\n",
              "      <td>IsActiveMember</td>\n",
              "      <td>1</td>\n",
              "      <td>True</td>\n",
              "    </tr>\n",
              "    <tr>\n",
              "      <th>11</th>\n",
              "      <td>EstimatedSalary</td>\n",
              "      <td>1</td>\n",
              "      <td>True</td>\n",
              "    </tr>\n",
              "    <tr>\n",
              "      <th>12</th>\n",
              "      <td>NumOfProducts__1</td>\n",
              "      <td>1</td>\n",
              "      <td>True</td>\n",
              "    </tr>\n",
              "    <tr>\n",
              "      <th>13</th>\n",
              "      <td>NumOfProducts__2</td>\n",
              "      <td>1</td>\n",
              "      <td>True</td>\n",
              "    </tr>\n",
              "    <tr>\n",
              "      <th>7</th>\n",
              "      <td>Tenure</td>\n",
              "      <td>2</td>\n",
              "      <td>False</td>\n",
              "    </tr>\n",
              "    <tr>\n",
              "      <th>5</th>\n",
              "      <td>Gender</td>\n",
              "      <td>3</td>\n",
              "      <td>False</td>\n",
              "    </tr>\n",
              "    <tr>\n",
              "      <th>14</th>\n",
              "      <td>NumOfProducts__3</td>\n",
              "      <td>4</td>\n",
              "      <td>False</td>\n",
              "    </tr>\n",
              "    <tr>\n",
              "      <th>4</th>\n",
              "      <td>Geography</td>\n",
              "      <td>5</td>\n",
              "      <td>False</td>\n",
              "    </tr>\n",
              "    <tr>\n",
              "      <th>15</th>\n",
              "      <td>NumOfProducts__4</td>\n",
              "      <td>6</td>\n",
              "      <td>False</td>\n",
              "    </tr>\n",
              "    <tr>\n",
              "      <th>9</th>\n",
              "      <td>HasCrCard</td>\n",
              "      <td>7</td>\n",
              "      <td>False</td>\n",
              "    </tr>\n",
              "  </tbody>\n",
              "</table>\n",
              "</div>"
            ]
          },
          "metadata": {}
        }
      ],
      "execution_count": 77,
      "metadata": {
        "collapsed": false,
        "outputHidden": false,
        "inputHidden": false
      }
    },
    {
      "cell_type": "code",
      "source": [
        "# Split Train and Test and check shape \n",
        "AttSelection = RankStatistics[(RankStatistics[\"Support\"] == True)]\n",
        "AttSelection = list(AttSelection[\"Attributes\"])\n",
        "AttSelection = AttSelection + ['Exited']\n",
        "\n",
        "data_train_encoder_feselection03, target_train_encoder_feselection03, data_test_encoder_feselection03, target_test_encoder_feselection03 = SplitDataFrameToTrainAndTest(data_encoder[AttSelection], 0.6, 'Exited')\n",
        "PrintTrainTestInformation(data_train_encoder_feselection03, target_train_encoder_feselection03, data_test_encoder_feselection03, target_test_encoder_feselection03)"
      ],
      "outputs": [
        {
          "output_type": "stream",
          "name": "stdout",
          "text": [
            "Train rows and columns :  (6000, 10)\n",
            "Test rows and columns :  (4000, 10)\n"
          ]
        }
      ],
      "execution_count": 78,
      "metadata": {
        "collapsed": false,
        "outputHidden": false,
        "inputHidden": false
      }
    },
    {
      "cell_type": "code",
      "source": [
        "# Retest all traditional classification approaches\n",
        "X_train = data_train_encoder_feselection03\n",
        "y_train = target_train_encoder_feselection03\n",
        "X_test = data_test_encoder_feselection03\n",
        "y_test = target_test_encoder_feselection03\n",
        "\n",
        "NBModel = NaiveBayesLearning(X_train, y_train)\n",
        "NBAccuracy,NBPredictTest = NaiveBayesTesting(NBModel,X_test, y_test)\n",
        "print('Naive Bayes accuracy: {:.3f}'.format(NBAccuracy))\n",
        "\n",
        "LRModel = LogisticRegressionLearning(X_train, y_train)\n",
        "LRAccuracy,LRPredictTest = LogisticRegressionTesting(LRModel,X_test, y_test)\n",
        "print('Logistic Regression accuracy: {:.3f}'.format(LRAccuracy))\n",
        "\n",
        "RFModel = RandomForestLearning(X_train, y_train)\n",
        "RFAccuracy,RFPredictTest = RandomForestTesting(RFModel,X_test, y_test)\n",
        "print('Random Forest accuracy: {:.6f}'.format(RFAccuracy))\n",
        "\n",
        "LiSVMModel = SVMLearning(X_train, y_train)\n",
        "LiSVMAccuracy,LiSVMPredictTest = SVMTesting(LiSVMModel, X_test, y_test)\n",
        "print('Linear SVM accuracy: {:.6f}'.format(LiSVMAccuracy))\n",
        "\n",
        "RBFSVMModel = SVMLearning(X_train, y_train, 'RBF')\n",
        "RBFSVMAccuracy,RBFSVMPredictTest = SVMTesting(RBFSVMModel, X_test, y_test)\n",
        "print('RBF SVM accuracy: {:.6f}'.format(RBFSVMAccuracy))\n",
        "\n",
        "KNNModel = KNNLearning(X_train, y_train)\n",
        "KNNAccuracy,KNNPredictTest = KNNTesting(KNNModel,X_test, y_test)\n",
        "print('K Nearest Neighbor accuracy: {:.6f}'.format(KNNAccuracy))\n",
        "\n",
        "ANNModel = ANNLearning(X_train, y_train)\n",
        "ANNAccuracy, ANNPredictTest = ANNTesting(ANNModel, X_test, y_test)\n",
        "print('ANN accuracy: {:.6f}'.format(ANNAccuracy))"
      ],
      "outputs": [
        {
          "output_type": "stream",
          "name": "stdout",
          "text": [
            "Naive Bayes accuracy: 0.773\n",
            "Logistic Regression accuracy: 0.798\n",
            "Random Forest accuracy: 0.842250\n",
            "Linear SVM accuracy: 0.798250\n",
            "RBF SVM accuracy: 0.798250\n",
            "K Nearest Neighbor accuracy: 0.738500\n",
            "ANN accuracy: 0.798250\n"
          ]
        }
      ],
      "execution_count": 79,
      "metadata": {
        "collapsed": false,
        "outputHidden": false,
        "inputHidden": false
      }
    },
    {
      "cell_type": "markdown",
      "source": [
        "# **Approach 2 (Feature Reduction)**"
      ],
      "metadata": {}
    },
    {
      "cell_type": "code",
      "source": [
        "# Feature Reduction: Dimensionality Reduction with PCA.\n",
        "import pandas as pd\n",
        "from sklearn.preprocessing import StandardScaler\n",
        "from sklearn.decomposition import PCA\n",
        "\n",
        "DataFrame = data_encoder\n",
        "hr_vars = DataFrame.columns.values.tolist()\n",
        "targets = ['Exited']\n",
        "features = [i for i in hr_vars if i not in targets]\n",
        "\n",
        "# Separating out the features\n",
        "x = DataFrame.loc[:, features].values\n",
        "# Separating out the target\n",
        "y = DataFrame.loc[:, ['Exited']].values\n",
        "# Standardizing the features\n",
        "x = StandardScaler().fit_transform(x)\n",
        "\n",
        "nSelectedFeature = len(hr_vars) - 1\n",
        "SelectedAttList = []\n",
        "for i in range(1, nSelectedFeature + 1):\n",
        "    SelectedAttList.append(\"principal component\" + str(i))\n",
        "\n\n",
        "pca = PCA(n_components=nSelectedFeature)\n",
        "principalComponents = pca.fit_transform(x)\n",
        "principalDf = pd.DataFrame(data=principalComponents, columns=SelectedAttList)\n",
        "PCAdf = pd.concat([principalDf, DataFrame[targets]], axis=1)\n",
        "PCAdf = PCAdf.dropna()\n",
        "PCAdata = PCAdf\n",
        "\nPCAdata.head(10)"
      ],
      "outputs": [
        {
          "output_type": "execute_result",
          "execution_count": 81,
          "data": {
            "text/plain": [
              "   principal component1  principal component2  principal component3  \\\n",
              "0              0.769225              0.347357             -0.129933   \n",
              "1              1.387851              1.003473             -0.617484   \n",
              "2              0.549772              3.556914              4.579562   \n",
              "3             -1.807997              0.369866              0.564132   \n",
              "4              1.599080              1.071695             -0.919710   \n",
              "5             -0.988820             -0.334182              1.314789   \n",
              "6             -1.796859              0.025122             -1.046057   \n",
              "7              0.315018              3.383651              2.999282   \n",
              "8             -0.897208              0.389791             -0.849768   \n",
              "9              1.481354             -1.202991             -0.504143   \n",
              "\n",
              "   principal component4  principal component5  principal component6  \\\n",
              "0              0.261277              1.163700             -0.394688   \n",
              "1             -0.539958             -0.749693              1.330565   \n",
              "2             -0.095108             -0.014927             -2.149462   \n",
              "3             -0.875196              0.413496              1.086509   \n",
              "4             -0.440979             -1.066165              0.930220   \n",
              "5              1.805183             -1.792153              1.173091   \n",
              "6              2.467176             -0.229956             -0.304819   \n",
              "7              4.652055              5.820763              5.353308   \n",
              "8             -0.791721             -0.390495              0.018833   \n",
              "9              0.618441              0.204264             -0.148611   \n",
              "\n",
              "   principal component7  principal component8  principal component9  \\\n",
              "0             -1.908795             -0.874012             -0.997501   \n",
              "1             -2.588378              0.079680             -0.574910   \n",
              "2             -0.116869             -0.958394             -1.124584   \n",
              "3             -2.372059              0.006018              0.616628   \n",
              "4             -1.049524             -2.456226              0.355102   \n",
              "5             -0.424776             -0.441428             -1.402130   \n",
              "6             -0.860241             -2.055336             -0.384453   \n",
              "7             -0.581785              3.458752             -0.132904   \n",
              "8             -1.479922              1.329371             -1.638789   \n",
              "9             -1.347611             -1.160907             -0.618795   \n",
              "\n",
              "   principal component10  principal component11  principal component12  \\\n",
              "0              -0.982632              -0.737811              -0.846319   \n",
              "1               0.407171              -0.496538              -0.361251   \n",
              "2               1.703960               0.542687              -1.075771   \n",
              "3              -0.954551               0.608819              -1.118340   \n",
              "4              -0.989394              -0.797343               0.900014   \n",
              "5               0.720829              -0.610780              -0.102423   \n",
              "6              -0.689937               1.110880              -1.117604   \n",
              "7               0.221222              -0.706607               6.815287   \n",
              "8              -0.694350               1.575937               0.349037   \n",
              "9               0.071611              -0.550121              -0.499076   \n",
              "\n",
              "   principal component13  principal component14  principal component15  \\\n",
              "0               0.365008               0.122798               1.321764   \n",
              "1              -0.200338               0.331248               0.867407   \n",
              "2               1.113080               1.837094              -1.410444   \n",
              "3               1.056122              -0.978485               0.218660   \n",
              "4               0.003257               0.161305               0.224159   \n",
              "5               0.542803              -1.147989              -0.831558   \n",
              "6               1.440870              -0.746788               0.126121   \n",
              "7               3.191023               2.852010               1.066827   \n",
              "8               1.015762               0.549028              -1.706908   \n",
              "9               1.967927               1.107635              -0.191709   \n",
              "\n",
              "   principal component16  Exited  \n",
              "0           4.115815e-20       1  \n",
              "1           1.155525e-15       0  \n",
              "2           1.047625e-15       1  \n",
              "3           1.466108e-15       0  \n",
              "4           4.941319e-16       0  \n",
              "5           1.457715e-16       1  \n",
              "6           5.227756e-15       0  \n",
              "7          -4.870062e-16       1  \n",
              "8          -9.843928e-15       0  \n",
              "9          -1.301345e-15       0  "
            ],
            "text/html": [
              "<div>\n",
              "<style scoped>\n",
              "    .dataframe tbody tr th:only-of-type {\n",
              "        vertical-align: middle;\n",
              "    }\n",
              "\n",
              "    .dataframe tbody tr th {\n",
              "        vertical-align: top;\n",
              "    }\n",
              "\n",
              "    .dataframe thead th {\n",
              "        text-align: right;\n",
              "    }\n",
              "</style>\n",
              "<table border=\"1\" class=\"dataframe\">\n",
              "  <thead>\n",
              "    <tr style=\"text-align: right;\">\n",
              "      <th></th>\n",
              "      <th>principal component1</th>\n",
              "      <th>principal component2</th>\n",
              "      <th>principal component3</th>\n",
              "      <th>principal component4</th>\n",
              "      <th>principal component5</th>\n",
              "      <th>principal component6</th>\n",
              "      <th>principal component7</th>\n",
              "      <th>principal component8</th>\n",
              "      <th>principal component9</th>\n",
              "      <th>principal component10</th>\n",
              "      <th>principal component11</th>\n",
              "      <th>principal component12</th>\n",
              "      <th>principal component13</th>\n",
              "      <th>principal component14</th>\n",
              "      <th>principal component15</th>\n",
              "      <th>principal component16</th>\n",
              "      <th>Exited</th>\n",
              "    </tr>\n",
              "  </thead>\n",
              "  <tbody>\n",
              "    <tr>\n",
              "      <th>0</th>\n",
              "      <td>0.769225</td>\n",
              "      <td>0.347357</td>\n",
              "      <td>-0.129933</td>\n",
              "      <td>0.261277</td>\n",
              "      <td>1.163700</td>\n",
              "      <td>-0.394688</td>\n",
              "      <td>-1.908795</td>\n",
              "      <td>-0.874012</td>\n",
              "      <td>-0.997501</td>\n",
              "      <td>-0.982632</td>\n",
              "      <td>-0.737811</td>\n",
              "      <td>-0.846319</td>\n",
              "      <td>0.365008</td>\n",
              "      <td>0.122798</td>\n",
              "      <td>1.321764</td>\n",
              "      <td>4.115815e-20</td>\n",
              "      <td>1</td>\n",
              "    </tr>\n",
              "    <tr>\n",
              "      <th>1</th>\n",
              "      <td>1.387851</td>\n",
              "      <td>1.003473</td>\n",
              "      <td>-0.617484</td>\n",
              "      <td>-0.539958</td>\n",
              "      <td>-0.749693</td>\n",
              "      <td>1.330565</td>\n",
              "      <td>-2.588378</td>\n",
              "      <td>0.079680</td>\n",
              "      <td>-0.574910</td>\n",
              "      <td>0.407171</td>\n",
              "      <td>-0.496538</td>\n",
              "      <td>-0.361251</td>\n",
              "      <td>-0.200338</td>\n",
              "      <td>0.331248</td>\n",
              "      <td>0.867407</td>\n",
              "      <td>1.155525e-15</td>\n",
              "      <td>0</td>\n",
              "    </tr>\n",
              "    <tr>\n",
              "      <th>2</th>\n",
              "      <td>0.549772</td>\n",
              "      <td>3.556914</td>\n",
              "      <td>4.579562</td>\n",
              "      <td>-0.095108</td>\n",
              "      <td>-0.014927</td>\n",
              "      <td>-2.149462</td>\n",
              "      <td>-0.116869</td>\n",
              "      <td>-0.958394</td>\n",
              "      <td>-1.124584</td>\n",
              "      <td>1.703960</td>\n",
              "      <td>0.542687</td>\n",
              "      <td>-1.075771</td>\n",
              "      <td>1.113080</td>\n",
              "      <td>1.837094</td>\n",
              "      <td>-1.410444</td>\n",
              "      <td>1.047625e-15</td>\n",
              "      <td>1</td>\n",
              "    </tr>\n",
              "    <tr>\n",
              "      <th>3</th>\n",
              "      <td>-1.807997</td>\n",
              "      <td>0.369866</td>\n",
              "      <td>0.564132</td>\n",
              "      <td>-0.875196</td>\n",
              "      <td>0.413496</td>\n",
              "      <td>1.086509</td>\n",
              "      <td>-2.372059</td>\n",
              "      <td>0.006018</td>\n",
              "      <td>0.616628</td>\n",
              "      <td>-0.954551</td>\n",
              "      <td>0.608819</td>\n",
              "      <td>-1.118340</td>\n",
              "      <td>1.056122</td>\n",
              "      <td>-0.978485</td>\n",
              "      <td>0.218660</td>\n",
              "      <td>1.466108e-15</td>\n",
              "      <td>0</td>\n",
              "    </tr>\n",
              "    <tr>\n",
              "      <th>4</th>\n",
              "      <td>1.599080</td>\n",
              "      <td>1.071695</td>\n",
              "      <td>-0.919710</td>\n",
              "      <td>-0.440979</td>\n",
              "      <td>-1.066165</td>\n",
              "      <td>0.930220</td>\n",
              "      <td>-1.049524</td>\n",
              "      <td>-2.456226</td>\n",
              "      <td>0.355102</td>\n",
              "      <td>-0.989394</td>\n",
              "      <td>-0.797343</td>\n",
              "      <td>0.900014</td>\n",
              "      <td>0.003257</td>\n",
              "      <td>0.161305</td>\n",
              "      <td>0.224159</td>\n",
              "      <td>4.941319e-16</td>\n",
              "      <td>0</td>\n",
              "    </tr>\n",
              "    <tr>\n",
              "      <th>5</th>\n",
              "      <td>-0.988820</td>\n",
              "      <td>-0.334182</td>\n",
              "      <td>1.314789</td>\n",
              "      <td>1.805183</td>\n",
              "      <td>-1.792153</td>\n",
              "      <td>1.173091</td>\n",
              "      <td>-0.424776</td>\n",
              "      <td>-0.441428</td>\n",
              "      <td>-1.402130</td>\n",
              "      <td>0.720829</td>\n",
              "      <td>-0.610780</td>\n",
              "      <td>-0.102423</td>\n",
              "      <td>0.542803</td>\n",
              "      <td>-1.147989</td>\n",
              "      <td>-0.831558</td>\n",
              "      <td>1.457715e-16</td>\n",
              "      <td>1</td>\n",
              "    </tr>\n",
              "    <tr>\n",
              "      <th>6</th>\n",
              "      <td>-1.796859</td>\n",
              "      <td>0.025122</td>\n",
              "      <td>-1.046057</td>\n",
              "      <td>2.467176</td>\n",
              "      <td>-0.229956</td>\n",
              "      <td>-0.304819</td>\n",
              "      <td>-0.860241</td>\n",
              "      <td>-2.055336</td>\n",
              "      <td>-0.384453</td>\n",
              "      <td>-0.689937</td>\n",
              "      <td>1.110880</td>\n",
              "      <td>-1.117604</td>\n",
              "      <td>1.440870</td>\n",
              "      <td>-0.746788</td>\n",
              "      <td>0.126121</td>\n",
              "      <td>5.227756e-15</td>\n",
              "      <td>0</td>\n",
              "    </tr>\n",
              "    <tr>\n",
              "      <th>7</th>\n",
              "      <td>0.315018</td>\n",
              "      <td>3.383651</td>\n",
              "      <td>2.999282</td>\n",
              "      <td>4.652055</td>\n",
              "      <td>5.820763</td>\n",
              "      <td>5.353308</td>\n",
              "      <td>-0.581785</td>\n",
              "      <td>3.458752</td>\n",
              "      <td>-0.132904</td>\n",
              "      <td>0.221222</td>\n",
              "      <td>-0.706607</td>\n",
              "      <td>6.815287</td>\n",
              "      <td>3.191023</td>\n",
              "      <td>2.852010</td>\n",
              "      <td>1.066827</td>\n",
              "      <td>-4.870062e-16</td>\n",
              "      <td>1</td>\n",
              "    </tr>\n",
              "    <tr>\n",
              "      <th>8</th>\n",
              "      <td>-0.897208</td>\n",
              "      <td>0.389791</td>\n",
              "      <td>-0.849768</td>\n",
              "      <td>-0.791721</td>\n",
              "      <td>-0.390495</td>\n",
              "      <td>0.018833</td>\n",
              "      <td>-1.479922</td>\n",
              "      <td>1.329371</td>\n",
              "      <td>-1.638789</td>\n",
              "      <td>-0.694350</td>\n",
              "      <td>1.575937</td>\n",
              "      <td>0.349037</td>\n",
              "      <td>1.015762</td>\n",
              "      <td>0.549028</td>\n",
              "      <td>-1.706908</td>\n",
              "      <td>-9.843928e-15</td>\n",
              "      <td>0</td>\n",
              "    </tr>\n",
              "    <tr>\n",
              "      <th>9</th>\n",
              "      <td>1.481354</td>\n",
              "      <td>-1.202991</td>\n",
              "      <td>-0.504143</td>\n",
              "      <td>0.618441</td>\n",
              "      <td>0.204264</td>\n",
              "      <td>-0.148611</td>\n",
              "      <td>-1.347611</td>\n",
              "      <td>-1.160907</td>\n",
              "      <td>-0.618795</td>\n",
              "      <td>0.071611</td>\n",
              "      <td>-0.550121</td>\n",
              "      <td>-0.499076</td>\n",
              "      <td>1.967927</td>\n",
              "      <td>1.107635</td>\n",
              "      <td>-0.191709</td>\n",
              "      <td>-1.301345e-15</td>\n",
              "      <td>0</td>\n",
              "    </tr>\n",
              "  </tbody>\n",
              "</table>\n",
              "</div>"
            ]
          },
          "metadata": {}
        }
      ],
      "execution_count": 81,
      "metadata": {
        "collapsed": false,
        "outputHidden": false,
        "inputHidden": false
      }
    },
    {
      "cell_type": "code",
      "source": [
        "PCAdata_train, PCAtarget_train, PCAdata_test, PCAtarget_test = SplitDataFrameToTrainAndTest(PCAdata, 0.6, 'Exited')\n",
        "PrintTrainTestInformation(PCAdata_train, PCAtarget_train, PCAdata_test, PCAtarget_test)"
      ],
      "outputs": [
        {
          "output_type": "stream",
          "name": "stdout",
          "text": [
            "Train rows and columns :  (6000, 16)\n",
            "Test rows and columns :  (4000, 16)\n"
          ]
        }
      ],
      "execution_count": 82,
      "metadata": {
        "collapsed": false,
        "outputHidden": false,
        "inputHidden": false
      }
    },
    {
      "cell_type": "code",
      "source": [
        "# Retest all traditional classification approaches\n",
        "X_train = PCAdata_train\n",
        "y_train = PCAtarget_train\n",
        "X_test = PCAdata_test\n",
        "y_test = PCAtarget_test\n",
        "\n",
        "NBModel = NaiveBayesLearning(X_train, y_train)\n",
        "NBAccuracy,NBPredictTest = NaiveBayesTesting(NBModel,X_test, y_test)\n",
        "print('Naive Bayes accuracy: {:.3f}'.format(NBAccuracy))\n",
        "\n",
        "LRModel = LogisticRegressionLearning(X_train, y_train)\n",
        "LRAccuracy,LRPredictTest = LogisticRegressionTesting(LRModel,X_test, y_test)\n",
        "print('Logistic Regression accuracy: {:.3f}'.format(LRAccuracy))\n",
        "\n",
        "RFModel = RandomForestLearning(X_train, y_train)\n",
        "RFAccuracy,RFPredictTest = RandomForestTesting(RFModel,X_test, y_test)\n",
        "print('Random Forest accuracy: {:.6f}'.format(RFAccuracy))\n",
        "\n",
        "LiSVMModel = SVMLearning(X_train, y_train)\n",
        "LiSVMAccuracy,LiSVMPredictTest = SVMTesting(LiSVMModel, X_test, y_test)\n",
        "print('Linear SVM accuracy: {:.6f}'.format(LiSVMAccuracy))\n",
        "\n",
        "RBFSVMModel = SVMLearning(X_train, y_train, 'RBF')\n",
        "RBFSVMAccuracy,RBFSVMPredictTest = SVMTesting(RBFSVMModel, X_test, y_test)\n",
        "print('RBF SVM accuracy: {:.6f}'.format(RBFSVMAccuracy))\n",
        "\n",
        "KNNModel = KNNLearning(X_train, y_train)\n",
        "KNNAccuracy,KNNPredictTest = KNNTesting(KNNModel,X_test, y_test)\n",
        "print('K Nearest Neighbor accuracy: {:.6f}'.format(KNNAccuracy))\n",
        "\n",
        "ANNModel = ANNLearning(X_train, y_train)\n",
        "ANNAccuracy, ANNPredictTest = ANNTesting(ANNModel, X_test, y_test)\n",
        "print('ANN accuracy: {:.6f}'.format(ANNAccuracy))"
      ],
      "outputs": [
        {
          "output_type": "stream",
          "name": "stdout",
          "text": [
            "Naive Bayes accuracy: 0.809\n",
            "Logistic Regression accuracy: 0.833\n",
            "Random Forest accuracy: 0.842250\n",
            "Linear SVM accuracy: 0.849750\n",
            "RBF SVM accuracy: 0.798000\n",
            "K Nearest Neighbor accuracy: 0.815250\n",
            "ANN accuracy: 0.856500\n"
          ]
        }
      ],
      "execution_count": 83,
      "metadata": {
        "collapsed": false,
        "outputHidden": false,
        "inputHidden": false
      }
    },
    {
      "cell_type": "code",
      "source": [
        "import matplotlib.pyplot as plt\n",
        "\n",
        "cum_explained_var = []\n",
        "for i in range(0, len(pca.explained_variance_ratio_)):\n",
        "    if i == 0:\n",
        "        cum_explained_var.append(pca.explained_variance_ratio_[i])\n",
        "    else:\n",
        "        cum_explained_var.append(pca.explained_variance_ratio_[i] +\n",
        "                                 cum_explained_var[i - 1])\n",
        "\n",
        "x_val = range(1, len(cum_explained_var) + 1)\n",
        "y_val = cum_explained_var\n",
        "\n",
        "fig = plt.figure()\n",
        "plt.plot(x_val, y_val)\n",
        "plt.plot(x_val, y_val, 'or')\n",
        "plt.title(\"PCA Accumulative Explained Variance\")\n",
        "plt.xticks(range(1, len(cum_explained_var) + 1))\n",
        "plt.grid(True)\n",
        "plt.show()"
      ],
      "outputs": [
        {
          "output_type": "display_data",
          "data": {
            "text/plain": [
              "<Figure size 432x288 with 1 Axes>"
            ],
            "image/png": "[encoded data removed]"
          },
          "metadata": {
            "needs_background": "light"
          }
        }
      ],
      "execution_count": 84,
      "metadata": {
        "collapsed": false,
        "outputHidden": false,
        "inputHidden": false
      }
    },
    {
      "cell_type": "code",
      "source": [
        "AttSelection = PCAdata.columns.values.tolist()\n",
        "AttSelection = AttSelection[:15]\n",
        "AttSelection = AttSelection + ['Exited']\n",
        "print(AttSelection)\n",
        "\n",
        "PCAdata_train_feReduction, PCAtarget_train_feReduction, PCAdata_test_feReduction, PCAtarget_test_feReduction = SplitDataFrameToTrainAndTest(PCAdata[AttSelection], 0.6, 'Exited')\n",
        "PrintTrainTestInformation(PCAdata_train_feReduction, PCAtarget_train_feReduction, PCAdata_test_feReduction, PCAtarget_test_feReduction)"
      ],
      "outputs": [
        {
          "output_type": "stream",
          "name": "stdout",
          "text": [
            "['principal component1', 'principal component2', 'principal component3', 'principal component4', 'principal component5', 'principal component6', 'principal component7', 'principal component8', 'principal component9', 'principal component10', 'principal component11', 'principal component12', 'principal component13', 'principal component14', 'principal component15', 'Exited']\n",
            "Train rows and columns :  (6000, 15)\n",
            "Test rows and columns :  (4000, 15)\n"
          ]
        }
      ],
      "execution_count": 86,
      "metadata": {
        "collapsed": false,
        "outputHidden": false,
        "inputHidden": false
      }
    },
    {
      "cell_type": "code",
      "source": [
        "# Retest all traditional classification approaches\n",
        "X_train = PCAdata_train_feReduction\n",
        "y_train = PCAtarget_train_feReduction\n",
        "X_test = PCAdata_test_feReduction\n",
        "y_test = PCAtarget_test_feReduction\n",
        "\n",
        "NBModel = NaiveBayesLearning(X_train, y_train)\n",
        "NBAccuracy,NBPredictTest = NaiveBayesTesting(NBModel,X_test, y_test)\n",
        "print('Naive Bayes accuracy: {:.3f}'.format(NBAccuracy))\n",
        "\n",
        "LRModel = LogisticRegressionLearning(X_train, y_train)\n",
        "LRAccuracy,LRPredictTest = LogisticRegressionTesting(LRModel,X_test, y_test)\n",
        "print('Logistic Regression accuracy: {:.3f}'.format(LRAccuracy))\n",
        "\n",
        "RFModel = RandomForestLearning(X_train, y_train)\n",
        "RFAccuracy,RFPredictTest = RandomForestTesting(RFModel,X_test, y_test)\n",
        "print('Random Forest accuracy: {:.6f}'.format(RFAccuracy))\n",
        "\n",
        "LiSVMModel = SVMLearning(X_train, y_train)\n",
        "LiSVMAccuracy,LiSVMPredictTest = SVMTesting(LiSVMModel, X_test, y_test)\n",
        "print('Linear SVM accuracy: {:.6f}'.format(LiSVMAccuracy))\n",
        "\n",
        "RBFSVMModel = SVMLearning(X_train, y_train, 'RBF')\n",
        "RBFSVMAccuracy,RBFSVMPredictTest = SVMTesting(RBFSVMModel, X_test, y_test)\n",
        "print('RBF SVM accuracy: {:.6f}'.format(RBFSVMAccuracy))\n",
        "\n",
        "KNNModel = KNNLearning(X_train, y_train)\n",
        "KNNAccuracy,KNNPredictTest = KNNTesting(KNNModel,X_test, y_test)\n",
        "print('K Nearest Neighbor accuracy: {:.6f}'.format(KNNAccuracy))\n",
        "\n",
        "ANNModel = ANNLearning(X_train, y_train)\n",
        "ANNAccuracy, ANNPredictTest = ANNTesting(ANNModel, X_test, y_test)\n",
        "print('ANN accuracy: {:.6f}'.format(ANNAccuracy))"
      ],
      "outputs": [
        {
          "output_type": "stream",
          "name": "stdout",
          "text": [
            "Naive Bayes accuracy: 0.809\n",
            "Logistic Regression accuracy: 0.833\n",
            "Random Forest accuracy: 0.845250\n",
            "Linear SVM accuracy: 0.849250\n",
            "RBF SVM accuracy: 0.798000\n",
            "K Nearest Neighbor accuracy: 0.815250\n",
            "ANN accuracy: 0.855250\n"
          ]
        }
      ],
      "execution_count": 87,
      "metadata": {
        "collapsed": false,
        "outputHidden": false,
        "inputHidden": false
      }
    },
    {
      "cell_type": "markdown",
      "source": [
        "# **Outlier Removal Approach **"
      ],
      "metadata": {}
    },
    {
      "cell_type": "code",
      "source": [
        "data_encoder.head()"
      ],
      "outputs": [
        {
          "output_type": "execute_result",
          "execution_count": 88,
          "data": {
            "text/plain": [
              "   RowNumber  CustomerId  Surname  CreditScore  Geography  Gender  Age  \\\n",
              "0          1    15634602     1115          619          0       0   42   \n",
              "1          2    15647311     1177          608          2       0   41   \n",
              "2          3    15619304     2040          502          0       0   42   \n",
              "3          4    15701354      289          699          0       0   39   \n",
              "4          5    15737888     1822          850          2       0   43   \n",
              "\n",
              "   Tenure    Balance  HasCrCard  IsActiveMember  EstimatedSalary  Exited  \\\n",
              "0       2       0.00          1               1        101348.88       1   \n",
              "1       1   83807.86          0               1        112542.58       0   \n",
              "2       8  159660.80          1               0        113931.57       1   \n",
              "3       1       0.00          0               0         93826.63       0   \n",
              "4       2  125510.82          1               1         79084.10       0   \n",
              "\n",
              "   NumOfProducts__1  NumOfProducts__2  NumOfProducts__3  NumOfProducts__4  \n",
              "0                 1                 0                 0                 0  \n",
              "1                 1                 0                 0                 0  \n",
              "2                 0                 0                 1                 0  \n",
              "3                 0                 1                 0                 0  \n",
              "4                 1                 0                 0                 0  "
            ],
            "text/html": [
              "<div>\n",
              "<style scoped>\n",
              "    .dataframe tbody tr th:only-of-type {\n",
              "        vertical-align: middle;\n",
              "    }\n",
              "\n",
              "    .dataframe tbody tr th {\n",
              "        vertical-align: top;\n",
              "    }\n",
              "\n",
              "    .dataframe thead th {\n",
              "        text-align: right;\n",
              "    }\n",
              "</style>\n",
              "<table border=\"1\" class=\"dataframe\">\n",
              "  <thead>\n",
              "    <tr style=\"text-align: right;\">\n",
              "      <th></th>\n",
              "      <th>RowNumber</th>\n",
              "      <th>CustomerId</th>\n",
              "      <th>Surname</th>\n",
              "      <th>CreditScore</th>\n",
              "      <th>Geography</th>\n",
              "      <th>Gender</th>\n",
              "      <th>Age</th>\n",
              "      <th>Tenure</th>\n",
              "      <th>Balance</th>\n",
              "      <th>HasCrCard</th>\n",
              "      <th>IsActiveMember</th>\n",
              "      <th>EstimatedSalary</th>\n",
              "      <th>Exited</th>\n",
              "      <th>NumOfProducts__1</th>\n",
              "      <th>NumOfProducts__2</th>\n",
              "      <th>NumOfProducts__3</th>\n",
              "      <th>NumOfProducts__4</th>\n",
              "    </tr>\n",
              "  </thead>\n",
              "  <tbody>\n",
              "    <tr>\n",
              "      <th>0</th>\n",
              "      <td>1</td>\n",
              "      <td>15634602</td>\n",
              "      <td>1115</td>\n",
              "      <td>619</td>\n",
              "      <td>0</td>\n",
              "      <td>0</td>\n",
              "      <td>42</td>\n",
              "      <td>2</td>\n",
              "      <td>0.00</td>\n",
              "      <td>1</td>\n",
              "      <td>1</td>\n",
              "      <td>101348.88</td>\n",
              "      <td>1</td>\n",
              "      <td>1</td>\n",
              "      <td>0</td>\n",
              "      <td>0</td>\n",
              "      <td>0</td>\n",
              "    </tr>\n",
              "    <tr>\n",
              "      <th>1</th>\n",
              "      <td>2</td>\n",
              "      <td>15647311</td>\n",
              "      <td>1177</td>\n",
              "      <td>608</td>\n",
              "      <td>2</td>\n",
              "      <td>0</td>\n",
              "      <td>41</td>\n",
              "      <td>1</td>\n",
              "      <td>83807.86</td>\n",
              "      <td>0</td>\n",
              "      <td>1</td>\n",
              "      <td>112542.58</td>\n",
              "      <td>0</td>\n",
              "      <td>1</td>\n",
              "      <td>0</td>\n",
              "      <td>0</td>\n",
              "      <td>0</td>\n",
              "    </tr>\n",
              "    <tr>\n",
              "      <th>2</th>\n",
              "      <td>3</td>\n",
              "      <td>15619304</td>\n",
              "      <td>2040</td>\n",
              "      <td>502</td>\n",
              "      <td>0</td>\n",
              "      <td>0</td>\n",
              "      <td>42</td>\n",
              "      <td>8</td>\n",
              "      <td>159660.80</td>\n",
              "      <td>1</td>\n",
              "      <td>0</td>\n",
              "      <td>113931.57</td>\n",
              "      <td>1</td>\n",
              "      <td>0</td>\n",
              "      <td>0</td>\n",
              "      <td>1</td>\n",
              "      <td>0</td>\n",
              "    </tr>\n",
              "    <tr>\n",
              "      <th>3</th>\n",
              "      <td>4</td>\n",
              "      <td>15701354</td>\n",
              "      <td>289</td>\n",
              "      <td>699</td>\n",
              "      <td>0</td>\n",
              "      <td>0</td>\n",
              "      <td>39</td>\n",
              "      <td>1</td>\n",
              "      <td>0.00</td>\n",
              "      <td>0</td>\n",
              "      <td>0</td>\n",
              "      <td>93826.63</td>\n",
              "      <td>0</td>\n",
              "      <td>0</td>\n",
              "      <td>1</td>\n",
              "      <td>0</td>\n",
              "      <td>0</td>\n",
              "    </tr>\n",
              "    <tr>\n",
              "      <th>4</th>\n",
              "      <td>5</td>\n",
              "      <td>15737888</td>\n",
              "      <td>1822</td>\n",
              "      <td>850</td>\n",
              "      <td>2</td>\n",
              "      <td>0</td>\n",
              "      <td>43</td>\n",
              "      <td>2</td>\n",
              "      <td>125510.82</td>\n",
              "      <td>1</td>\n",
              "      <td>1</td>\n",
              "      <td>79084.10</td>\n",
              "      <td>0</td>\n",
              "      <td>1</td>\n",
              "      <td>0</td>\n",
              "      <td>0</td>\n",
              "      <td>0</td>\n",
              "    </tr>\n",
              "  </tbody>\n",
              "</table>\n",
              "</div>"
            ]
          },
          "metadata": {}
        }
      ],
      "execution_count": 88,
      "metadata": {
        "collapsed": false,
        "outputHidden": false,
        "inputHidden": false
      }
    },
    {
      "cell_type": "code",
      "source": [
        "data_encoder.info()"
      ],
      "outputs": [
        {
          "output_type": "stream",
          "name": "stdout",
          "text": [
            "<class 'pandas.core.frame.DataFrame'>\n",
            "RangeIndex: 10000 entries, 0 to 9999\n",
            "Data columns (total 17 columns):\n",
            "RowNumber           10000 non-null int64\n",
            "CustomerId          10000 non-null int64\n",
            "Surname             10000 non-null int64\n",
            "CreditScore         10000 non-null int64\n",
            "Geography           10000 non-null int64\n",
            "Gender              10000 non-null int64\n",
            "Age                 10000 non-null int64\n",
            "Tenure              10000 non-null int64\n",
            "Balance             10000 non-null float64\n",
            "HasCrCard           10000 non-null int64\n",
            "IsActiveMember      10000 non-null int64\n",
            "EstimatedSalary     10000 non-null float64\n",
            "Exited              10000 non-null int64\n",
            "NumOfProducts__1    10000 non-null uint8\n",
            "NumOfProducts__2    10000 non-null uint8\n",
            "NumOfProducts__3    10000 non-null uint8\n",
            "NumOfProducts__4    10000 non-null uint8\n",
            "dtypes: float64(2), int64(11), uint8(4)\n",
            "memory usage: 1.0 MB\n"
          ]
        }
      ],
      "execution_count": 89,
      "metadata": {
        "collapsed": false,
        "outputHidden": false,
        "inputHidden": false
      }
    },
    {
      "cell_type": "code",
      "source": [
        "CheckOutlierAtt = ['CreditScore', 'Geography', 'Gender']\n",
        "LOFOutlierIdx01,LOFFactorData01 = DetectOutlierByLOF(data_encoder, AttList=CheckOutlierAtt, LOFThresh=3.0, neighbors = 10)\n",
        "\n",
        "print(\"Size of LOFOutlierIdx : \" + str(len(LOFOutlierIdx01)))\n",
        "print(LOFFactorData01.head())\n"
      ],
      "outputs": [
        {
          "output_type": "stream",
          "name": "stdout",
          "text": [
            "Size of LOFOutlierIdx : 1167\n",
            "   index           LOF\n",
            "0   7134  9.000000e+09\n",
            "1   9711  8.000000e+09\n",
            "2   6201  8.000000e+09\n",
            "3   1005  8.000000e+09\n",
            "4   2446  8.000000e+09\n"
          ]
        }
      ],
      "execution_count": 90,
      "metadata": {
        "collapsed": false,
        "outputHidden": false,
        "inputHidden": false
      }
    },
    {
      "cell_type": "code",
      "source": [
        "CheckOutlierAtt = ['Age', 'Tenure', 'Balance']\n",
        "LOFOutlierIdx02,LOFFactorData02 = DetectOutlierByLOF(data_encoder, AttList=CheckOutlierAtt, LOFThresh=3.0, neighbors = 10)\n",
        "\n",
        "print(\"Size of LOFOutlierIdx : \" + str(len(LOFOutlierIdx02)))\n",
        "print(LOFFactorData02.head())"
      ],
      "outputs": [
        {
          "output_type": "stream",
          "name": "stdout",
          "text": [
            "Size of LOFOutlierIdx : 434\n",
            "   index           LOF\n",
            "0   1791  1.225392e+13\n",
            "1   8427  3.768690e+12\n",
            "2   2810  8.000000e+09\n",
            "3   9569  8.000000e+09\n",
            "4   9216  8.000000e+09\n"
          ]
        }
      ],
      "execution_count": 91,
      "metadata": {
        "collapsed": false,
        "outputHidden": false,
        "inputHidden": false
      }
    },
    {
      "cell_type": "code",
      "source": [
        "CheckOutlierAtt = ['HasCrCard', 'IsActiveMember', 'EstimatedSalary']\n",
        "LOFOutlierIdx03,LOFFactorData03 = DetectOutlierByLOF(data_encoder, AttList=CheckOutlierAtt, LOFThresh=3.0, neighbors = 10)\n",
        "\n",
        "print(\"Size of LOFOutlierIdx : \" + str(len(LOFOutlierIdx03)))\n",
        "print(LOFFactorData03.head())\n"
      ],
      "outputs": [
        {
          "output_type": "stream",
          "name": "stdout",
          "text": [
            "Size of LOFOutlierIdx : 0\n",
            "   index       LOF\n",
            "0   2813  2.275599\n",
            "1   8397  2.226634\n",
            "2   3470  2.079527\n",
            "3   4132  2.013270\n",
            "4   7478  2.001296\n"
          ]
        }
      ],
      "execution_count": 92,
      "metadata": {
        "collapsed": false,
        "outputHidden": false,
        "inputHidden": false
      }
    },
    {
      "cell_type": "code",
      "source": [
        "print('LOFOutlierIdx01 :' + str(LOFOutlierIdx01))\n",
        "print('LOFOutlierIdx02 :' + str(LOFOutlierIdx02))\n",
        "print('LOFOutlierIdx03 :' + str(LOFOutlierIdx03))"
      ],
      "outputs": [
        {
          "output_type": "stream",
          "name": "stdout",
          "text": [
            "LOFOutlierIdx01 :[7134, 9711, 6201, 1005, 2446, 3454, 8370, 9972, 9741, 6020, 9753, 8455, 1772, 8880, 5196, 1844, 2443, 8107, 9209, 2177, 4266, 2564, 6367, 1489, 2070, 3931, 4377, 5033, 1218, 8942, 955, 3972, 641, 7143, 1130, 952, 8335, 9857, 8007, 5498, 325, 9218, 2074, 7015, 1527, 5460, 2587, 6356, 3267, 9346, 6702, 2172, 4581, 3576, 3040, 2987, 7858, 4892, 8219, 9630, 6619, 6840, 7829, 3435, 3307, 8438, 8343, 6791, 8698, 6079, 1486, 122, 5947, 127, 5130, 9894, 7278, 6774, 9643, 4189, 5167, 6376, 5246, 9758, 6283, 8442, 8465, 1790, 5192, 8414, 8407, 965, 3028, 2021, 5545, 5508, 9707, 1644, 8354, 339, 5873, 3525, 2018, 4536, 2670, 3833, 9331, 2582, 2580, 5611, 5411, 1176, 506, 1318, 6522, 2468, 6547, 7887, 1279, 5656, 7899, 6565, 591, 7753, 4108, 4154, 7258, 5317, 9007, 5119, 6435, 1380, 8217, 5940, 3012, 622, 1331, 5062, 8022, 2649, 5030, 5701, 2013, 9287, 8011, 9410, 6733, 4052, 2884, 2699, 3910, 4014, 2932, 2923, 9767, 2981, 991, 5496, 9136, 5683, 2356, 5685, 982, 3623, 5869, 7466, 7941, 2948, 652, 4334, 1736, 6267, 6571, 9393, 4300, 1961, 3907, 5567, 4235, 6366, 4130, 2577, 5565, 371, 398, 374, 2637, 868, 5095, 5804, 7630, 6380, 384, 7728, 6789, 2732, 5092, 1911, 6655, 2150, 2734, 7550, 2190, 2517, 8260, 9543, 8116, 2170, 2658, 1907, 9559, 6469, 2133, 399, 2805, 5557, 2569, 6822, 2347, 7973, 8779, 4561, 8923, 3061, 15, 4446, 8947, 1071, 5395, 6972, 7300, 9880, 4496, 1109, 4709, 5435, 4610, 1634, 4568, 7055, 8819, 5418, 3226, 8870, 1162, 8865, 8989, 4680, 64, 1184, 1174, 9950, 4649, 7189, 1662, 6002, 3366, 212, 6932, 1668, 1663, 6213, 3527, 4857, 7976, 3848, 7462, 3604, 4721, 8878, 6992, 8248, 6082, 9905, 2019, 6994, 9295, 3163, 6740, 7874, 1400, 3808, 4701, 9300, 2228, 3915, 8301, 8791, 5319, 2695, 1999, 5716, 6797, 8287, 6118, 1455, 9497, 6983, 837, 3152, 3154, 5137, 3303, 4022, 830, 7449, 8884, 2263, 5709, 1708, 8053, 4886, 9283, 2464, 8216, 7160, 9516, 6694, 3471, 231, 2339, 6917, 7175, 6461, 3890, 1002, 5756, 6698, 716, 491, 7975, 1171, 8533, 1183, 4783, 4378, 2173, 9359, 57, 2535, 8127, 6485, 5607, 3211, 3196, 2225, 4902, 8691, 8543, 5641, 3818, 9923, 9394, 8812, 2630, 2487, 8873, 4913, 6449, 8191, 8997, 7237, 9326, 7846, 8969, 3, 4923, 527, 5761, 5094, 372, 8482, 4744, 9448, 1243, 9111, 7522, 1227, 3956, 6945, 7530, 2862, 8565, 6307, 5269, 6312, 649, 3686, 1829, 1831, 8397, 1260, 5566, 7471, 1839, 4276, 1058, 1219, 2881, 8612, 2415, 6938, 7107, 6885, 8475, 2361, 2365, 4805, 262, 6276, 4320, 4413, 9760, 7495, 1589, 2316, 7112, 8601, 949, 2313, 2905, 3046, 3658, 3662, 9438, 5202, 8635, 3731, 8667, 6339, 6160, 4733, 7150, 9689, 4347, 6828, 7577, 6809, 3112, 9067, 7144, 8332, 4726, 9682, 6350, 8672, 9419, 5366, 4465, 5169, 1876, 4221, 8895, 1549, 6684, 4844, 327, 1070, 6338, 8360, 3538, 9149, 2772, 4853, 2285, 8935, 4033, 5737, 8025, 3997, 7979, 2284, 5705, 1180, 4603, 2317, 5731, 2341, 6025, 2283, 4980, 4989, 4084, 7996, 4624, 9449, 8946, 2236, 8018, 5983, 6564, 9433, 2237, 5694, 8079, 8872, 4636, 8086, 5702, 4663, 4041, 6504, 4958, 6498, 4011, 1204, 8005, 8892, 1673, 1177, 5922, 4298, 9186, 8424, 8417, 4285, 620, 8390, 1562, 1561, 8631, 906, 901, 1576, 5820, 887, 881, 4473, 6150, 4240, 4477, 1913, 8686, 8314, 5807, 4439, 8431, 6371, 4396, 6228, 1684, 990, 1692, 4382, 6237, 6242, 4773, 4395, 4798, 8566, 9161, 5849, 9106, 8574, 1612, 4425, 4315, 6185, 4429, 1591, 6290, 4433, 1580, 9050, 4720, 6480, 8176, 2080, 5768, 4918, 6445, 2089, 8186, 4922, 2098, 4684, 761, 1350, 1346, 4144, 8173, 6043, 8162, 2129, 4594, 8144, 1325, 2141, 2147, 4107, 2155, 5772, 6438, 1950, 4188, 1953, 8722, 1108, 1969, 1975, 6399, 4511, 6110, 6103, 826, 1992, 1122, 2065, 8257, 1429, 6092, 2038, 8224, 1398, 1388, 8211, 4152, 9307, 1149, 1833, 1688, 2925, 9903, 3184, 6927, 6929, 7567, 332, 2815, 9568, 3026, 7782, 5310, 6662, 197, 3501, 5604, 7384, 114, 7281, 9685, 2600, 3838, 2820, 7790, 3185, 7003, 7562, 208, 3594, 5073, 6681, 9551, 9703, 7806, 9921, 3559, 5322, 7803, 3865, 7793, 498, 3864, 496, 5617, 329, 9830, 119, 6719, 7370, 2676, 2681, 3056, 3537, 2691, 2694, 2702, 9634, 7343, 5149, 404, 6956, 7349, 7674, 171, 7664, 6782, 5271, 2733, 7613, 3053, 7590, 9669, 7286, 354, 3571, 3143, 2631, 3817, 6879, 9673, 5446, 9607, 7374, 7373, 2638, 7304, 3570, 7721, 2652, 427, 5122, 2826, 3007, 3750, 2367, 7524, 7443, 3422, 604, 5218, 3291, 2359, 2442, 5036, 7481, 5511, 3613, 5039, 611, 50, 9967, 321, 2930, 7953, 3959, 3967, 5026, 2953, 2405, 27, 3671, 3322, 9986, 2378, 3304, 600, 3333, 7156, 9734, 2447, 258, 7498, 7423, 9523, 9459, 2860, 7119, 3695, 6914, 3596, 7862, 3904, 3230, 2912, 3383, 7233, 5328, 7436, 7430, 2385, 3436, 54, 3269, 7876, 2463, 3688, 9722, 3929, 3068, 1587, 5509, 4441, 8630, 964, 1062, 4443, 3569, 9847, 4440, 252, 4447, 1740, 5468, 1574, 7487, 4327, 9815, 4339, 9151, 9824, 5235, 8525, 226, 7437, 1679, 8562, 5492, 7405, 9808, 1671, 4391, 4779, 8554, 9123, 7412, 209, 7386, 5232, 6936, 7446, 6258, 5909, 8503, 1041, 1594, 1713, 7377, 3041, 6937, 8589, 5474, 5874, 1616, 1618, 4408, 9796, 236, 3990, 6952, 3246, 4601, 5349, 5975, 4598, 4597, 4677, 8849, 59, 8848, 3261, 7195, 7029, 1169, 5352, 69, 8988, 3232, 5335, 3229, 5421, 1357, 7235, 9925, 4574, 4573, 4572, 7050, 3282, 1553, 3320, 3354, 3352, 3399, 1228, 3403, 5993, 1245, 5371, 1254, 1257, 16, 3334, 8899, 7052, 1213, 8896, 4657, 5396, 3312, 5359, 7060, 1290, 7059, 7058, 8962, 6029, 3201, 7243, 8806, 3533, 8719, 8710, 3139, 7299, 5291, 7305, 3522, 144, 1089, 4484, 4482, 1086, 7335, 4562, 9865, 3096, 4472, 9859, 6158, 5925, 3549, 4460, 5462, 3551, 3076, 3075, 132, 5295, 7294, 9037, 3193, 3485, 4556, 1390, 7001, 3494, 7272, 6077, 3168, 8771, 9901, 1128, 8757, 9022, 3165, 5306, 4529, 6094, 6096, 4523, 9029, 8737, 5943, 3160, 8734, 1475, 8927, 3649, 7765, 3845, 2583, 9576, 8177, 6703, 2121, 4120, 2566, 6697, 6466, 2131, 9348, 5748, 9561, 8140, 2549, 730, 8131, 7804, 9552, 5739, 9547, 2530, 514, 2528, 6493, 3887, 4135, 6711, 2704, 8184, 2006, 7686, 6760, 419, 9621, 4173, 2025, 9619, 2051, 7722, 3816, 6434, 2914, 2635, 440, 9309, 9601, 446, 448, 3831, 8193, 2085, 9595, 3835, 2602, 5766, 3841, 9377, 7841, 6658, 524, 7914, 2287, 7917, 3952, 9429, 6617, 2294, 5027, 6615, 2400, 5693, 3962, 2383, 598, 643, 9441, 4005, 2324, 3981, 9461, 2357, 3996, 630, 612, 3982, 3983, 623, 665, 666, 2418, 3924, 8097, 9382, 6656, 2498, 6511, 3906, 6519, 2222, 2223, 9526, 7855, 6642, 2241, 6622, 6542, 2455, 5652, 2454, 7884, 2450, 2268, 2269, 7888, 9493, 7891, 7907, 2004, 7727, 405, 896, 3698, 5830, 910, 8386, 8385, 2831, 902, 6833, 9213, 8369, 1866, 7565, 4279, 1995, 8350, 7570, 7571, 2812, 5817, 2810, 1891, 2809, 8339, 874, 7551, 6842, 7580, 3668, 2909, 4314, 9168, 5857, 6873, 7501, 2902, 8446, 7513, 8441, 2889, 2883, 308, 5198, 1795, 5530, 8418, 300, 1810, 302, 4829, 303, 5839, 2851, 9234, 6333, 9257, 5153, 8308, 5577, 854, 9645, 853, 1974, 6373, 7621, 6389, 8297, 8279, 8295, 5140, 9661, 1951, 6796, 9265, 3732, 2763, 3723, 4229, 7602, 7604, 4884, 4234, 865, 9245, 9672]\n",
            "LOFOutlierIdx02 :[1791, 8427, 2810, 9569, 9216, 6103, 1087, 607, 6456, 300, 9907, 1637, 615, 2581, 7038, 8797, 6531, 9121, 231, 5311, 6434, 1548, 2584, 7819, 2305, 5769, 2264, 6796, 3924, 7945, 7951, 6041, 6134, 3493, 6248, 2563, 5265, 4704, 5468, 788, 5121, 7286, 1382, 1001, 6074, 4700, 3805, 6712, 8004, 6672, 9370, 6670, 881, 2938, 208, 6781, 8109, 2629, 3001, 7845, 8754, 9032, 8120, 5155, 9452, 6218, 6296, 3638, 7589, 7527, 3689, 3520, 2058, 8270, 1094, 9615, 1584, 3489, 3334, 223, 5569, 7850, 7404, 8765, 9828, 6431, 8906, 2086, 353, 255, 6056, 4660, 9507, 8389, 3, 8663, 4560, 2831, 9210, 1902, 5778, 2861, 6890, 8386, 5603, 149, 1781, 6049, 9109, 4722, 1675, 6814, 750, 5380, 2502, 3236, 4736, 4696, 7744, 8159, 7666, 3315, 9797, 2754, 8040, 4126, 8246, 4004, 5163, 8034, 5575, 9325, 6744, 7032, 5633, 8548, 8407, 9327, 1897, 3982, 187, 2768, 2491, 5152, 2384, 2030, 2475, 8650, 1249, 5094, 2287, 7083, 1010, 1050, 8263, 2556, 221, 4412, 1194, 4230, 6804, 2550, 9079, 4384, 5430, 4365, 2573, 4982, 6291, 317, 8339, 7126, 9319, 4260, 6040, 9302, 4012, 1973, 6932, 5642, 6415, 3967, 7344, 3242, 8859, 3218, 5305, 5293, 757, 3735, 6155, 5728, 5984, 84, 9558, 88, 3140, 92, 1649, 5267, 3779, 3114, 7342, 9463, 7775, 3657, 3496, 3473, 7502, 6088, 464, 9988, 3459, 663, 3443, 8933, 671, 4830, 5340, 9660, 3336, 4807, 1511, 3620, 6520, 7275, 1363, 1132, 504, 157, 2867, 2919, 6696, 8681, 2957, 892, 838, 6018, 1846, 3945, 8731, 9396, 9065, 3800, 2812, 7827, 3814, 9903, 3811, 6595, 5188, 4897, 6463, 2118, 8481, 8611, 4513, 8660, 1167, 4581, 8961, 1159, 4850, 8685, 6881, 4363, 1444, 5045, 6488, 1451, 1523, 5495, 6724, 1403, 8782, 5952, 6777, 4707, 6787, 8776, 8767, 6786, 9097, 8758, 5536, 4553, 345, 4876, 1390, 8836, 4640, 4874, 1396, 1583, 2033, 4634, 6776, 6801, 1556, 4479, 6418, 8531, 1544, 1788, 5976, 4788, 9103, 6529, 4094, 2234, 5253, 6165, 3050, 9902, 3806, 3060, 3075, 7783, 9354, 611, 810, 806, 3102, 5264, 90, 9409, 3022, 3018, 5249, 3010, 3830, 600, 853, 2953, 9376, 7237, 7903, 7924, 2884, 9571, 154, 6192, 3765, 7285, 3174, 3619, 5360, 7497, 12, 667, 3436, 20, 7567, 27, 9973, 5790, 3341, 9548, 9962, 9961, 5797, 5274, 7620, 6114, 9953, 5799, 7346, 5802, 3228, 7672, 3222, 3212, 780, 3737, 3183, 6157, 587, 3925, 8190, 2397, 2664, 8085, 2618, 9310, 4065, 1442, 2500, 9608, 256, 4171, 2441, 2437, 6293, 2423, 5618, 5656, 8303, 4224, 8309, 281, 5080, 2342, 5077, 8325, 289, 9212, 8334, 292, 4262, 2277, 2678, 1443, 2716, 2747, 920, 7986, 6208, 3974, 2766, 8012, 575, 9862, 5166, 8463, 9635, 1307, 1807, 6203, 2263, 1708, 6404, 5686, 2092, 3280]\n",
            "LOFOutlierIdx03 :[]\n"
          ]
        }
      ],
      "execution_count": 93,
      "metadata": {
        "collapsed": false,
        "outputHidden": false,
        "inputHidden": false
      }
    },
    {
      "cell_type": "code",
      "source": [
        "OutlierIndex = set(LOFOutlierIdx01 + LOFOutlierIdx02 + LOFOutlierIdx03)\n",
        "OutlierIndex = list(OutlierIndex)\n",
        "print(len(OutlierIndex))\n",
        "print('OutlierIdx : ' + str(OutlierIndex))"
      ],
      "outputs": [
        {
          "output_type": "stream",
          "name": "stdout",
          "text": [
            "1562\n",
            "OutlierIdx : [8193, 3, 12, 15, 16, 8211, 20, 8216, 8217, 8219, 27, 8224, 50, 54, 8246, 8248, 57, 59, 64, 8257, 8260, 69, 8263, 8270, 84, 8279, 88, 90, 92, 8287, 8295, 8297, 8301, 8303, 114, 8308, 8309, 119, 122, 8314, 127, 132, 8325, 8332, 8334, 8335, 144, 8339, 149, 8343, 154, 157, 8350, 8354, 8360, 171, 8369, 8370, 187, 8385, 8386, 197, 8390, 8389, 8397, 208, 209, 212, 8407, 221, 8414, 223, 8417, 226, 8418, 231, 8424, 8427, 236, 8431, 8438, 8441, 8442, 252, 8446, 255, 256, 258, 262, 8455, 8463, 8465, 281, 8475, 8481, 8482, 289, 292, 300, 302, 303, 308, 8503, 317, 321, 325, 327, 329, 332, 8525, 339, 8531, 8533, 345, 8543, 353, 354, 8548, 8554, 8562, 371, 372, 8565, 374, 8566, 8574, 384, 8589, 398, 399, 404, 405, 8601, 419, 8612, 8611, 427, 8630, 8631, 440, 8635, 446, 448, 8650, 464, 8660, 8663, 8667, 8672, 8681, 491, 8685, 8686, 496, 498, 8691, 504, 506, 8698, 514, 8710, 524, 527, 8719, 8722, 8731, 8734, 8737, 8754, 8757, 8758, 8765, 8767, 575, 8771, 8776, 8779, 587, 8782, 591, 598, 8791, 600, 604, 8797, 607, 611, 612, 8806, 615, 8812, 620, 622, 623, 8819, 630, 641, 643, 8836, 649, 652, 8848, 8849, 663, 665, 666, 8859, 667, 671, 8865, 8870, 8872, 8873, 8878, 8880, 8884, 8892, 8895, 8896, 8899, 8906, 716, 730, 8923, 8927, 8933, 8935, 8942, 750, 8946, 8947, 757, 761, 8961, 8962, 8969, 780, 788, 8988, 8989, 8997, 806, 810, 9007, 826, 830, 9022, 837, 9029, 838, 9032, 9037, 853, 854, 9050, 865, 868, 9065, 874, 9067, 881, 887, 9079, 892, 896, 901, 902, 9097, 906, 910, 9103, 9106, 9109, 9111, 920, 9121, 9123, 9136, 949, 952, 955, 9149, 9151, 964, 965, 9161, 9168, 982, 990, 991, 9186, 1001, 1002, 1005, 1010, 9209, 9210, 9212, 9213, 9216, 9218, 1041, 9234, 1050, 9245, 1058, 1062, 9257, 1070, 1071, 9265, 1086, 1087, 1089, 9283, 1094, 9287, 9295, 9300, 1109, 1108, 9302, 9307, 9309, 9310, 1122, 9319, 1128, 1130, 1132, 9325, 9326, 9327, 9331, 1149, 9346, 9348, 1159, 1162, 9354, 9359, 1167, 1169, 1171, 1174, 1176, 1177, 9370, 1180, 1183, 1184, 9377, 9376, 9382, 1194, 9393, 9394, 1204, 9396, 1213, 9409, 1218, 9410, 1219, 1227, 9419, 1228, 9429, 9433, 1243, 1245, 9438, 9441, 1249, 1254, 9448, 9449, 1257, 1260, 9452, 9459, 9461, 9463, 1279, 1290, 9493, 9497, 1307, 9507, 1318, 9516, 1325, 1331, 9523, 9526, 1346, 1350, 9543, 9547, 9548, 1357, 9551, 9552, 1363, 9558, 9559, 9561, 9568, 9569, 9571, 1380, 1382, 9576, 1388, 1390, 1396, 1398, 1400, 9595, 1403, 9601, 9607, 9608, 9615, 9619, 1429, 9621, 9630, 9634, 1442, 1444, 1443, 9635, 9643, 1451, 9645, 1455, 9660, 9661, 1475, 9669, 9672, 9673, 1486, 1489, 9682, 9685, 9689, 9703, 1511, 9707, 9711, 1523, 1527, 9722, 9734, 1544, 1548, 9741, 1549, 1553, 1556, 9753, 1562, 1561, 9758, 9760, 1574, 9767, 1576, 1580, 1583, 1584, 1587, 1589, 1591, 1594, 9796, 9797, 1612, 9808, 1616, 1618, 9815, 9824, 1634, 9828, 1637, 9830, 1644, 1649, 9847, 1662, 1663, 9857, 9859, 1668, 9862, 1671, 1673, 9865, 1675, 1679, 1684, 9880, 1688, 1692, 9894, 1708, 9901, 9902, 9903, 9905, 1713, 9907, 9921, 9923, 9925, 1736, 1740, 9950, 9953, 9961, 9962, 1772, 9967, 9972, 1781, 9973, 1788, 1790, 1791, 9986, 1795, 9988, 1807, 1810, 1829, 1831, 1833, 1839, 1844, 1846, 1866, 1876, 1891, 1897, 1902, 1907, 1911, 1913, 1950, 1951, 1953, 1961, 1969, 1973, 1974, 1975, 1992, 1995, 1999, 2004, 2006, 2013, 2018, 2019, 2021, 2025, 2030, 2033, 2038, 2051, 2058, 2065, 2070, 2074, 2080, 2085, 2086, 2089, 2092, 2098, 2118, 2121, 2129, 2131, 2133, 2141, 2147, 2150, 2155, 2170, 2172, 2173, 2177, 2190, 2222, 2223, 2225, 2228, 2234, 2236, 2237, 2241, 2263, 2264, 2268, 2269, 2277, 2283, 2284, 2285, 2287, 2294, 2305, 2313, 2316, 2317, 2324, 2339, 2341, 2342, 2347, 2356, 2357, 2359, 2361, 2365, 2367, 2378, 2383, 2384, 2385, 2397, 2400, 2405, 2415, 2418, 2423, 2437, 2441, 2442, 2443, 2446, 2447, 2450, 2454, 2455, 2463, 2464, 2468, 2475, 2487, 2491, 2498, 2500, 2502, 2517, 2528, 2530, 2535, 2549, 2550, 2556, 2563, 2564, 2566, 2569, 2573, 2577, 2580, 2581, 2582, 2583, 2584, 2587, 2600, 2602, 2618, 2629, 2630, 2631, 2635, 2637, 2638, 2649, 2652, 2658, 2664, 2670, 2676, 2678, 2681, 2691, 2694, 2695, 2699, 2702, 2704, 2716, 2732, 2733, 2734, 2747, 2754, 2763, 2766, 2768, 2772, 2805, 2809, 2810, 2812, 2815, 2820, 2826, 2831, 2851, 2860, 2861, 2862, 2867, 2881, 2883, 2884, 2889, 2902, 2905, 2909, 2912, 2914, 2919, 2923, 2925, 2930, 2932, 2938, 2948, 2953, 2957, 2981, 2987, 3001, 3007, 3010, 3012, 3018, 3022, 3026, 3028, 3040, 3041, 3046, 3050, 3053, 3056, 3060, 3061, 3068, 3075, 3076, 3096, 3102, 3112, 3114, 3139, 3140, 3143, 3152, 3154, 3160, 3163, 3165, 3168, 3174, 3183, 3184, 3185, 3193, 3196, 3201, 3211, 3212, 3218, 3222, 3226, 3228, 3229, 3230, 3232, 3236, 3242, 3246, 3261, 3267, 3269, 3280, 3282, 3291, 3303, 3304, 3307, 3312, 3315, 3320, 3322, 3333, 3334, 3336, 3341, 3352, 3354, 3366, 3383, 3399, 3403, 3422, 3435, 3436, 3443, 3454, 3459, 3471, 3473, 3485, 3489, 3493, 3494, 3496, 3501, 3520, 3522, 3525, 3527, 3533, 3537, 3538, 3549, 3551, 3559, 3569, 3570, 3571, 3576, 3594, 3596, 3604, 3613, 3619, 3620, 3623, 3638, 3649, 3657, 3658, 3662, 3668, 3671, 3686, 3688, 3689, 3695, 3698, 3723, 3731, 3732, 3735, 3737, 3750, 3765, 3779, 3800, 3805, 3806, 3808, 3811, 3814, 3816, 3817, 3818, 3830, 3831, 3833, 3835, 3838, 3841, 3845, 3848, 3864, 3865, 3887, 3890, 3904, 3906, 3907, 3910, 3915, 3924, 3925, 3929, 3931, 3945, 3952, 3956, 3959, 3962, 3967, 3972, 3974, 3981, 3982, 3983, 3990, 3996, 3997, 4004, 4005, 4011, 4012, 4014, 4022, 4033, 4041, 4052, 4065, 4084, 4094, 4107, 4108, 4120, 4126, 4130, 4135, 4144, 4152, 4154, 4171, 4173, 4188, 4189, 4221, 4224, 4229, 4230, 4234, 4235, 4240, 4260, 4262, 4266, 4276, 4279, 4285, 4298, 4300, 4314, 4315, 4320, 4327, 4334, 4339, 4347, 4363, 4365, 4377, 4378, 4382, 4384, 4391, 4395, 4396, 4408, 4412, 4413, 4425, 4429, 4433, 4439, 4440, 4441, 4443, 4446, 4447, 4460, 4465, 4472, 4473, 4477, 4479, 4482, 4484, 4496, 4511, 4513, 4523, 4529, 4536, 4553, 4556, 4560, 4561, 4562, 4568, 4572, 4573, 4574, 4581, 4594, 4597, 4598, 4601, 4603, 4610, 4624, 4634, 4636, 4640, 4649, 4657, 4660, 4663, 4677, 4680, 4684, 4696, 4700, 4701, 4704, 4707, 4709, 4720, 4721, 4722, 4726, 4733, 4736, 4744, 4773, 4779, 4783, 4788, 4798, 4805, 4807, 4829, 4830, 4844, 4850, 4853, 4857, 4874, 4876, 4884, 4886, 4892, 4897, 4902, 4913, 4918, 4922, 4923, 4958, 4980, 4982, 4989, 5026, 5027, 5030, 5033, 5036, 5039, 5045, 5062, 5073, 5077, 5080, 5092, 5094, 5095, 5119, 5121, 5122, 5130, 5137, 5140, 5149, 5152, 5153, 5155, 5163, 5166, 5167, 5169, 5188, 5192, 5196, 5198, 5202, 5218, 5232, 5235, 5246, 5249, 5253, 5264, 5265, 5267, 5269, 5271, 5274, 5291, 5293, 5295, 5305, 5306, 5310, 5311, 5317, 5319, 5322, 5328, 5335, 5340, 5349, 5352, 5359, 5360, 5366, 5371, 5380, 5395, 5396, 5411, 5418, 5421, 5430, 5435, 5446, 5460, 5462, 5468, 5474, 5492, 5495, 5496, 5498, 5508, 5509, 5511, 5530, 5536, 5545, 5557, 5565, 5566, 5567, 5569, 5575, 5577, 5603, 5604, 5607, 5611, 5617, 5618, 5633, 5641, 5642, 5652, 5656, 5683, 5685, 5686, 5693, 5694, 5701, 5702, 5705, 5709, 5716, 5728, 5731, 5737, 5739, 5748, 5756, 5761, 5766, 5768, 5769, 5772, 5778, 5790, 5797, 5799, 5802, 5804, 5807, 5817, 5820, 5830, 5839, 5849, 5857, 5869, 5873, 5874, 5909, 5922, 5925, 5940, 5943, 5947, 5952, 5975, 5976, 5983, 5984, 5993, 6002, 6018, 6020, 6025, 6029, 6040, 6041, 6043, 6049, 6056, 6074, 6077, 6079, 6082, 6088, 6092, 6094, 6096, 6103, 6110, 6114, 6118, 6134, 6150, 6155, 6157, 6158, 6160, 6165, 6185, 6192, 6201, 6203, 6208, 6213, 6218, 6228, 6237, 6242, 6248, 6258, 6267, 6276, 6283, 6290, 6291, 6293, 6296, 6307, 6312, 6333, 6338, 6339, 6350, 6356, 6366, 6367, 6371, 6373, 6376, 6380, 6389, 6399, 6404, 6415, 6418, 6431, 6434, 6435, 6438, 6445, 6449, 6456, 6461, 6463, 6466, 6469, 6480, 6485, 6488, 6493, 6498, 6504, 6511, 6519, 6520, 6522, 6529, 6531, 6542, 6547, 6564, 6565, 6571, 6595, 6615, 6617, 6619, 6622, 6642, 6655, 6656, 6658, 6662, 6670, 6672, 6681, 6684, 6694, 6696, 6697, 6698, 6702, 6703, 6711, 6712, 6719, 6724, 6733, 6740, 6744, 6760, 6774, 6776, 6777, 6781, 6782, 6786, 6787, 6789, 6791, 6796, 6797, 6801, 6804, 6809, 6814, 6822, 6828, 6833, 6840, 6842, 6873, 6879, 6881, 6885, 6890, 6914, 6917, 6927, 6929, 6932, 6936, 6937, 6938, 6945, 6952, 6956, 6972, 6983, 6992, 6994, 7001, 7003, 7015, 7029, 7032, 7038, 7050, 7052, 7055, 7058, 7059, 7060, 7083, 7107, 7112, 7119, 7126, 7134, 7143, 7144, 7150, 7156, 7160, 7175, 7189, 7195, 7233, 7235, 7237, 7243, 7258, 7272, 7275, 7278, 7281, 7285, 7286, 7294, 7299, 7300, 7304, 7305, 7335, 7342, 7343, 7344, 7346, 7349, 7370, 7373, 7374, 7377, 7384, 7386, 7404, 7405, 7412, 7423, 7430, 7436, 7437, 7443, 7446, 7449, 7462, 7466, 7471, 7481, 7487, 7495, 7497, 7498, 7501, 7502, 7513, 7522, 7524, 7527, 7530, 7550, 7551, 7562, 7565, 7567, 7570, 7571, 7577, 7580, 7589, 7590, 7602, 7604, 7613, 7620, 7621, 7630, 7664, 7666, 7672, 7674, 7686, 7721, 7722, 7727, 7728, 7744, 7753, 7765, 7775, 7782, 7783, 7790, 7793, 7803, 7804, 7806, 7819, 7827, 7829, 7841, 7845, 7846, 7850, 7855, 7858, 7862, 7874, 7876, 7884, 7887, 7888, 7891, 7899, 7903, 7907, 7914, 7917, 7924, 7941, 7945, 7951, 7953, 7973, 7975, 7976, 7979, 7986, 7996, 8004, 8005, 8007, 8011, 8012, 8018, 8022, 8025, 8034, 8040, 8053, 8079, 8085, 8086, 8097, 8107, 8109, 8116, 8120, 8127, 8131, 8140, 8144, 8159, 8162, 8173, 8176, 8177, 8184, 8186, 8190, 8191]\n"
          ]
        }
      ],
      "execution_count": 94,
      "metadata": {
        "collapsed": false,
        "outputHidden": false,
        "inputHidden": false
      }
    },
    {
      "cell_type": "code",
      "source": [
        "data_encoder_mining = data_encoder.copy()\n",
        "print(data_encoder_mining.shape)\n",
        "data_encoder_mining = RemoveRowsFromDataFrame(data_encoder_mining,OutlierIndex)\n",
        "print(data_encoder_mining.shape)"
      ],
      "outputs": [
        {
          "output_type": "stream",
          "name": "stdout",
          "text": [
            "(10000, 17)\n",
            "(8438, 17)\n"
          ]
        }
      ],
      "execution_count": 95,
      "metadata": {
        "collapsed": false,
        "outputHidden": false,
        "inputHidden": false
      }
    },
    {
      "cell_type": "code",
      "source": [
        "# Split Train and Test and check shape \n",
        "data_train_encoder_mining, target_train_encoder_mining, data_test_encoder_mining, target_test_encoder_mining = SplitDataFrameToTrainAndTest(data_encoder_mining, 0.6, 'Exited')\n",
        "PrintTrainTestInformation(data_train_encoder_mining, target_train_encoder_mining, data_test_encoder_mining, target_test_encoder_mining)"
      ],
      "outputs": [
        {
          "output_type": "stream",
          "name": "stdout",
          "text": [
            "Train rows and columns :  (5063, 16)\n",
            "Test rows and columns :  (3375, 16)\n"
          ]
        }
      ],
      "execution_count": 96,
      "metadata": {
        "collapsed": false,
        "outputHidden": false,
        "inputHidden": false
      }
    },
    {
      "cell_type": "code",
      "source": [
        "# Retest all traditional classification approaches\n",
        "X_train = data_train_encoder_mining\n",
        "y_train = target_train_encoder_mining\n",
        "X_test = data_test_encoder_mining\n",
        "y_test = target_test_encoder_mining\n",
        "\n",
        "NBModel = NaiveBayesLearning(X_train, y_train)\n",
        "NBAccuracy,NBPredictTest = NaiveBayesTesting(NBModel,X_test, y_test)\n",
        "print('Naive Bayes accuracy: {:.3f}'.format(NBAccuracy))\n",
        "\n",
        "LRModel = LogisticRegressionLearning(X_train, y_train)\n",
        "LRAccuracy,LRPredictTest = LogisticRegressionTesting(LRModel,X_test, y_test)\n",
        "print('Logistic Regression accuracy: {:.3f}'.format(LRAccuracy))\n",
        "\n",
        "RFModel = RandomForestLearning(X_train, y_train)\n",
        "RFAccuracy,RFPredictTest = RandomForestTesting(RFModel,X_test, y_test)\n",
        "print('Random Forest accuracy: {:.6f}'.format(RFAccuracy))\n",
        "\n",
        "LiSVMModel = SVMLearning(X_train, y_train)\n",
        "LiSVMAccuracy,LiSVMPredictTest = SVMTesting(LiSVMModel, X_test, y_test)\n",
        "print('Linear SVM accuracy: {:.6f}'.format(LiSVMAccuracy))\n",
        "\n",
        "RBFSVMModel = SVMLearning(X_train, y_train, 'RBF')\n",
        "RBFSVMAccuracy,RBFSVMPredictTest = SVMTesting(RBFSVMModel, X_test, y_test)\n",
        "print('RBF SVM accuracy: {:.6f}'.format(RBFSVMAccuracy))\n",
        "\n",
        "KNNModel = KNNLearning(X_train, y_train)\n",
        "KNNAccuracy,KNNPredictTest = KNNTesting(KNNModel,X_test, y_test)\n",
        "print('K Nearest Neighbor accuracy: {:.6f}'.format(KNNAccuracy))\n",
        "\n",
        "ANNModel = ANNLearning(X_train, y_train)\n",
        "ANNAccuracy, ANNPredictTest = ANNTesting(ANNModel, X_test, y_test)\n",
        "print('ANN accuracy: {:.6f}'.format(ANNAccuracy))"
      ],
      "outputs": [
        {
          "output_type": "stream",
          "name": "stdout",
          "text": [
            "Naive Bayes accuracy: 0.778\n",
            "Logistic Regression accuracy: 0.787\n",
            "Random Forest accuracy: 0.850667\n",
            "Linear SVM accuracy: 0.786667\n",
            "RBF SVM accuracy: 0.786667\n",
            "K Nearest Neighbor accuracy: 0.725926\n",
            "ANN accuracy: 0.464296\n"
          ]
        }
      ],
      "execution_count": 97,
      "metadata": {
        "collapsed": false,
        "outputHidden": false,
        "inputHidden": false
      }
    },
    {
      "cell_type": "markdown",
      "source": [
        "# **Neural Network Approach**"
      ],
      "metadata": {}
    },
    {
      "cell_type": "code",
      "source": [
        "from keras.models import Sequential\n",
        "from keras.layers import Dense\n",
        "from keras.callbacks import ModelCheckpoint\n",
        "\n",
        "seed = 42\n",
        "np.random.seed(seed)\n",
        "\n",
        "## Create our model\n",
        "model = Sequential()\n",
        "\n",
        "# 1st layer: input_dim=8, 12 nodes, RELU\n",
        "model.add(Dense(12, input_dim=16, init='uniform', activation='relu'))\n",
        "# 2nd layer: 8 nodes, RELU\n",
        "model.add(Dense(8, init='uniform', activation='relu'))\n",
        "# 3nd layer: 4 nodes, RELU\n",
        "model.add(Dense(4, init='uniform', activation='relu'))\n",
        "# output layer: dim=1, activation sigmoid\n",
        "model.add(Dense(1, init='uniform', activation='sigmoid' ))\n",
        "\n",
        "# Compile the model\n",
        "model.compile(loss='binary_crossentropy',   # since we are predicting 0/1\n",
        "             optimizer='adam',\n",
        "             metrics=['accuracy'])\n"
      ],
      "outputs": [],
      "execution_count": 102,
      "metadata": {
        "collapsed": false,
        "outputHidden": false,
        "inputHidden": false
      }
    },
    {
      "cell_type": "code",
      "source": [
        "# Retest all traditional classification approaches\n",
        "X_train = data_train_encoder_mining\n",
        "y_train = target_train_encoder_mining\n",
        "X_test = data_test_encoder_mining\n",
        "y_test = target_test_encoder_mining\n",
        "\n",
        "NB_EPOCHS = 100  # num of epochs to test for\n",
        "BATCH_SIZE = 15\n",
        "\n",
        "# checkpoint: store the best model\n",
        "ckpt_model = 'pima-weights.best.hdf5'\n",
        "checkpoint = ModelCheckpoint(ckpt_model, \n",
        "                            monitor='val_acc',\n",
        "                            verbose=1,\n",
        "                            save_best_only=True,\n",
        "                            mode='max')\n",
        "callbacks_list = [checkpoint]\n",
        "\n",
        "print('Starting training...')\n",
        "# train the model, store the results for plotting\n",
        "history = model.fit(X_train,\n",
        "                    y_train,\n",
        "                    validation_data=(X_test, y_test),\n",
        "                    nb_epoch=NB_EPOCHS,\n",
        "                    batch_size=BATCH_SIZE,\n",
        "                    callbacks=callbacks_list,\n",
        "                    verbose=0)\n"
      ],
      "outputs": [
        {
          "output_type": "stream",
          "name": "stdout",
          "text": [
            "Starting training...\n",
            "\n",
            "Epoch 00001: val_acc improved from -inf to 0.78667, saving model to pima-weights.best.hdf5\n",
            "\n",
            "Epoch 00002: val_acc did not improve from 0.78667\n",
            "\n",
            "Epoch 00003: val_acc did not improve from 0.78667\n",
            "\n",
            "Epoch 00004: val_acc did not improve from 0.78667\n",
            "\n",
            "Epoch 00005: val_acc did not improve from 0.78667\n",
            "\n",
            "Epoch 00006: val_acc did not improve from 0.78667\n",
            "\n",
            "Epoch 00007: val_acc did not improve from 0.78667\n",
            "\n",
            "Epoch 00008: val_acc did not improve from 0.78667\n",
            "\n",
            "Epoch 00009: val_acc did not improve from 0.78667\n",
            "\n",
            "Epoch 00010: val_acc did not improve from 0.78667\n",
            "\n",
            "Epoch 00011: val_acc did not improve from 0.78667\n",
            "\n",
            "Epoch 00012: val_acc did not improve from 0.78667\n",
            "\n",
            "Epoch 00013: val_acc did not improve from 0.78667\n",
            "\n",
            "Epoch 00014: val_acc did not improve from 0.78667\n",
            "\n",
            "Epoch 00015: val_acc did not improve from 0.78667\n",
            "\n",
            "Epoch 00016: val_acc did not improve from 0.78667\n",
            "\n",
            "Epoch 00017: val_acc did not improve from 0.78667\n",
            "\n",
            "Epoch 00018: val_acc did not improve from 0.78667\n",
            "\n",
            "Epoch 00019: val_acc did not improve from 0.78667\n",
            "\n",
            "Epoch 00020: val_acc did not improve from 0.78667\n",
            "\n",
            "Epoch 00021: val_acc did not improve from 0.78667\n",
            "\n",
            "Epoch 00022: val_acc did not improve from 0.78667\n",
            "\n",
            "Epoch 00023: val_acc did not improve from 0.78667\n",
            "\n",
            "Epoch 00024: val_acc did not improve from 0.78667\n",
            "\n",
            "Epoch 00025: val_acc did not improve from 0.78667\n",
            "\n",
            "Epoch 00026: val_acc did not improve from 0.78667\n",
            "\n",
            "Epoch 00027: val_acc did not improve from 0.78667\n",
            "\n",
            "Epoch 00028: val_acc did not improve from 0.78667\n",
            "\n",
            "Epoch 00029: val_acc did not improve from 0.78667\n",
            "\n",
            "Epoch 00030: val_acc did not improve from 0.78667\n",
            "\n",
            "Epoch 00031: val_acc did not improve from 0.78667\n",
            "\n",
            "Epoch 00032: val_acc did not improve from 0.78667\n",
            "\n",
            "Epoch 00033: val_acc did not improve from 0.78667\n",
            "\n",
            "Epoch 00034: val_acc did not improve from 0.78667\n",
            "\n",
            "Epoch 00035: val_acc did not improve from 0.78667\n",
            "\n",
            "Epoch 00036: val_acc did not improve from 0.78667\n",
            "\n",
            "Epoch 00037: val_acc did not improve from 0.78667\n",
            "\n",
            "Epoch 00038: val_acc did not improve from 0.78667\n",
            "\n",
            "Epoch 00039: val_acc did not improve from 0.78667\n",
            "\n",
            "Epoch 00040: val_acc did not improve from 0.78667\n",
            "\n",
            "Epoch 00041: val_acc did not improve from 0.78667\n",
            "\n",
            "Epoch 00042: val_acc did not improve from 0.78667\n",
            "\n",
            "Epoch 00043: val_acc did not improve from 0.78667\n",
            "\n",
            "Epoch 00044: val_acc did not improve from 0.78667\n",
            "\n",
            "Epoch 00045: val_acc did not improve from 0.78667\n",
            "\n",
            "Epoch 00046: val_acc did not improve from 0.78667\n",
            "\n",
            "Epoch 00047: val_acc did not improve from 0.78667\n",
            "\n",
            "Epoch 00048: val_acc did not improve from 0.78667\n",
            "\n",
            "Epoch 00049: val_acc did not improve from 0.78667\n",
            "\n",
            "Epoch 00050: val_acc did not improve from 0.78667\n",
            "\n",
            "Epoch 00051: val_acc did not improve from 0.78667\n",
            "\n",
            "Epoch 00052: val_acc did not improve from 0.78667\n",
            "\n",
            "Epoch 00053: val_acc did not improve from 0.78667\n",
            "\n",
            "Epoch 00054: val_acc did not improve from 0.78667\n",
            "\n",
            "Epoch 00055: val_acc did not improve from 0.78667\n",
            "\n",
            "Epoch 00056: val_acc did not improve from 0.78667\n",
            "\n",
            "Epoch 00057: val_acc did not improve from 0.78667\n",
            "\n",
            "Epoch 00058: val_acc did not improve from 0.78667\n",
            "\n",
            "Epoch 00059: val_acc did not improve from 0.78667\n",
            "\n",
            "Epoch 00060: val_acc did not improve from 0.78667\n",
            "\n",
            "Epoch 00061: val_acc did not improve from 0.78667\n",
            "\n",
            "Epoch 00062: val_acc did not improve from 0.78667\n",
            "\n",
            "Epoch 00063: val_acc did not improve from 0.78667\n",
            "\n",
            "Epoch 00064: val_acc did not improve from 0.78667\n",
            "\n",
            "Epoch 00065: val_acc did not improve from 0.78667\n",
            "\n",
            "Epoch 00066: val_acc did not improve from 0.78667\n",
            "\n",
            "Epoch 00067: val_acc did not improve from 0.78667\n",
            "\n",
            "Epoch 00068: val_acc did not improve from 0.78667\n",
            "\n",
            "Epoch 00069: val_acc did not improve from 0.78667\n",
            "\n",
            "Epoch 00070: val_acc did not improve from 0.78667\n",
            "\n",
            "Epoch 00071: val_acc did not improve from 0.78667\n",
            "\n",
            "Epoch 00072: val_acc did not improve from 0.78667\n",
            "\n",
            "Epoch 00073: val_acc did not improve from 0.78667\n",
            "\n",
            "Epoch 00074: val_acc did not improve from 0.78667\n",
            "\n",
            "Epoch 00075: val_acc did not improve from 0.78667\n",
            "\n",
            "Epoch 00076: val_acc did not improve from 0.78667\n",
            "\n",
            "Epoch 00077: val_acc did not improve from 0.78667\n",
            "\n",
            "Epoch 00078: val_acc did not improve from 0.78667\n",
            "\n",
            "Epoch 00079: val_acc did not improve from 0.78667\n",
            "\n",
            "Epoch 00080: val_acc did not improve from 0.78667\n",
            "\n",
            "Epoch 00081: val_acc did not improve from 0.78667\n",
            "\n",
            "Epoch 00082: val_acc did not improve from 0.78667\n",
            "\n",
            "Epoch 00083: val_acc did not improve from 0.78667\n",
            "\n",
            "Epoch 00084: val_acc did not improve from 0.78667\n",
            "\n",
            "Epoch 00085: val_acc did not improve from 0.78667\n",
            "\n",
            "Epoch 00086: val_acc did not improve from 0.78667\n",
            "\n",
            "Epoch 00087: val_acc did not improve from 0.78667\n",
            "\n",
            "Epoch 00088: val_acc did not improve from 0.78667\n",
            "\n",
            "Epoch 00089: val_acc did not improve from 0.78667\n",
            "\n",
            "Epoch 00090: val_acc did not improve from 0.78667\n",
            "\n",
            "Epoch 00091: val_acc did not improve from 0.78667\n",
            "\n",
            "Epoch 00092: val_acc did not improve from 0.78667\n",
            "\n",
            "Epoch 00093: val_acc did not improve from 0.78667\n",
            "\n",
            "Epoch 00094: val_acc did not improve from 0.78667\n",
            "\n",
            "Epoch 00095: val_acc did not improve from 0.78667\n",
            "\n",
            "Epoch 00096: val_acc did not improve from 0.78667\n",
            "\n",
            "Epoch 00097: val_acc did not improve from 0.78667\n",
            "\n",
            "Epoch 00098: val_acc did not improve from 0.78667\n",
            "\n",
            "Epoch 00099: val_acc did not improve from 0.78667\n",
            "\n",
            "Epoch 00100: val_acc did not improve from 0.78667\n"
          ]
        }
      ],
      "execution_count": 103,
      "metadata": {
        "collapsed": false,
        "outputHidden": false,
        "inputHidden": false
      }
    },
    {
      "cell_type": "markdown",
      "source": [
        "# **Bagging Boosting and Stacking **"
      ],
      "metadata": {}
    },
    {
      "cell_type": "code",
      "source": [
        "X = data_encoder_mining.copy()\n",
        "X = X.drop('Exited', 1)\n",
        "y = data_encoder_mining[['Exited']]\n",
        "X.head()"
      ],
      "outputs": [
        {
          "output_type": "execute_result",
          "execution_count": 104,
          "data": {
            "text/plain": [
              "   RowNumber  CustomerId  Surname  CreditScore  Geography  Gender  Age  \\\n",
              "0          1    15634602     1115          619          0       0   42   \n",
              "1          2    15647311     1177          608          2       0   41   \n",
              "2          3    15619304     2040          502          0       0   42   \n",
              "3          5    15737888     1822          850          2       0   43   \n",
              "4          6    15574012      537          645          2       1   44   \n",
              "\n",
              "   Tenure    Balance  HasCrCard  IsActiveMember  EstimatedSalary  \\\n",
              "0       2       0.00          1               1        101348.88   \n",
              "1       1   83807.86          0               1        112542.58   \n",
              "2       8  159660.80          1               0        113931.57   \n",
              "3       2  125510.82          1               1         79084.10   \n",
              "4       8  113755.78          1               0        149756.71   \n",
              "\n",
              "   NumOfProducts__1  NumOfProducts__2  NumOfProducts__3  NumOfProducts__4  \n",
              "0                 1                 0                 0                 0  \n",
              "1                 1                 0                 0                 0  \n",
              "2                 0                 0                 1                 0  \n",
              "3                 1                 0                 0                 0  \n",
              "4                 0                 1                 0                 0  "
            ],
            "text/html": [
              "<div>\n",
              "<style scoped>\n",
              "    .dataframe tbody tr th:only-of-type {\n",
              "        vertical-align: middle;\n",
              "    }\n",
              "\n",
              "    .dataframe tbody tr th {\n",
              "        vertical-align: top;\n",
              "    }\n",
              "\n",
              "    .dataframe thead th {\n",
              "        text-align: right;\n",
              "    }\n",
              "</style>\n",
              "<table border=\"1\" class=\"dataframe\">\n",
              "  <thead>\n",
              "    <tr style=\"text-align: right;\">\n",
              "      <th></th>\n",
              "      <th>RowNumber</th>\n",
              "      <th>CustomerId</th>\n",
              "      <th>Surname</th>\n",
              "      <th>CreditScore</th>\n",
              "      <th>Geography</th>\n",
              "      <th>Gender</th>\n",
              "      <th>Age</th>\n",
              "      <th>Tenure</th>\n",
              "      <th>Balance</th>\n",
              "      <th>HasCrCard</th>\n",
              "      <th>IsActiveMember</th>\n",
              "      <th>EstimatedSalary</th>\n",
              "      <th>NumOfProducts__1</th>\n",
              "      <th>NumOfProducts__2</th>\n",
              "      <th>NumOfProducts__3</th>\n",
              "      <th>NumOfProducts__4</th>\n",
              "    </tr>\n",
              "  </thead>\n",
              "  <tbody>\n",
              "    <tr>\n",
              "      <th>0</th>\n",
              "      <td>1</td>\n",
              "      <td>15634602</td>\n",
              "      <td>1115</td>\n",
              "      <td>619</td>\n",
              "      <td>0</td>\n",
              "      <td>0</td>\n",
              "      <td>42</td>\n",
              "      <td>2</td>\n",
              "      <td>0.00</td>\n",
              "      <td>1</td>\n",
              "      <td>1</td>\n",
              "      <td>101348.88</td>\n",
              "      <td>1</td>\n",
              "      <td>0</td>\n",
              "      <td>0</td>\n",
              "      <td>0</td>\n",
              "    </tr>\n",
              "    <tr>\n",
              "      <th>1</th>\n",
              "      <td>2</td>\n",
              "      <td>15647311</td>\n",
              "      <td>1177</td>\n",
              "      <td>608</td>\n",
              "      <td>2</td>\n",
              "      <td>0</td>\n",
              "      <td>41</td>\n",
              "      <td>1</td>\n",
              "      <td>83807.86</td>\n",
              "      <td>0</td>\n",
              "      <td>1</td>\n",
              "      <td>112542.58</td>\n",
              "      <td>1</td>\n",
              "      <td>0</td>\n",
              "      <td>0</td>\n",
              "      <td>0</td>\n",
              "    </tr>\n",
              "    <tr>\n",
              "      <th>2</th>\n",
              "      <td>3</td>\n",
              "      <td>15619304</td>\n",
              "      <td>2040</td>\n",
              "      <td>502</td>\n",
              "      <td>0</td>\n",
              "      <td>0</td>\n",
              "      <td>42</td>\n",
              "      <td>8</td>\n",
              "      <td>159660.80</td>\n",
              "      <td>1</td>\n",
              "      <td>0</td>\n",
              "      <td>113931.57</td>\n",
              "      <td>0</td>\n",
              "      <td>0</td>\n",
              "      <td>1</td>\n",
              "      <td>0</td>\n",
              "    </tr>\n",
              "    <tr>\n",
              "      <th>3</th>\n",
              "      <td>5</td>\n",
              "      <td>15737888</td>\n",
              "      <td>1822</td>\n",
              "      <td>850</td>\n",
              "      <td>2</td>\n",
              "      <td>0</td>\n",
              "      <td>43</td>\n",
              "      <td>2</td>\n",
              "      <td>125510.82</td>\n",
              "      <td>1</td>\n",
              "      <td>1</td>\n",
              "      <td>79084.10</td>\n",
              "      <td>1</td>\n",
              "      <td>0</td>\n",
              "      <td>0</td>\n",
              "      <td>0</td>\n",
              "    </tr>\n",
              "    <tr>\n",
              "      <th>4</th>\n",
              "      <td>6</td>\n",
              "      <td>15574012</td>\n",
              "      <td>537</td>\n",
              "      <td>645</td>\n",
              "      <td>2</td>\n",
              "      <td>1</td>\n",
              "      <td>44</td>\n",
              "      <td>8</td>\n",
              "      <td>113755.78</td>\n",
              "      <td>1</td>\n",
              "      <td>0</td>\n",
              "      <td>149756.71</td>\n",
              "      <td>0</td>\n",
              "      <td>1</td>\n",
              "      <td>0</td>\n",
              "      <td>0</td>\n",
              "    </tr>\n",
              "  </tbody>\n",
              "</table>\n",
              "</div>"
            ]
          },
          "metadata": {}
        }
      ],
      "execution_count": 104,
      "metadata": {
        "collapsed": false,
        "outputHidden": false,
        "inputHidden": false
      }
    },
    {
      "cell_type": "code",
      "source": [
        "from sklearn import model_selection\n",
        "NBModel = NaiveBayesLearning(X_train, y_train)\n",
        "LRModel = LogisticRegressionLearning(X_train, y_train)\n",
        "RFModel = RandomForestLearning(X_train, y_train)\n",
        "LiSVMModel = SVMLearning(X_train, y_train)\n",
        "RBFSVMModel = SVMLearning(X_train, y_train, 'RBF')\n",
        "KNNModel = KNNLearning(X_train, y_train)\n",
        "ANNModel = ANNLearning(X_train, y_train)\n",
        "\n\n",
        "print('5-fold cross validation:\\n')\n",
        "labels = ['NaiveBayesLearning', 'LogisticRegressionLearning', 'RandomForestLearning', \n",
        "          'SVMLearningLinear', 'SVMLearningRBF', 'KNNLearning', 'ANNLearning']\n",
        "for clf, label in zip([NBModel, LRModel, RFModel, LiSVMModel, RBFSVMModel, KNNModel, ANNModel], labels):\n",
        "    scores = model_selection.cross_val_score(clf, X, y, cv=5, scoring='accuracy')\n",
        "    print(\"Accuracy: %0.2f (+/- %0.2f) [%s]\" % (scores.mean(), scores.std(), label))\n"
      ],
      "outputs": [
        {
          "output_type": "stream",
          "name": "stdout",
          "text": [
            "5-fold cross validation:\n",
            "\n",
            "Accuracy: 0.78 (+/- 0.00) [NaiveBayesLearning]\n",
            "Accuracy: 0.79 (+/- 0.00) [LogisticRegressionLearning]\n",
            "Accuracy: 0.84 (+/- 0.02) [RandomForestLearning]\n",
            "Accuracy: 0.79 (+/- 0.00) [SVMLearningLinear]\n",
            "Accuracy: 0.79 (+/- 0.00) [SVMLearningRBF]\n",
            "Accuracy: 0.73 (+/- 0.01) [KNNLearning]\n",
            "Accuracy: 0.79 (+/- 0.00) [ANNLearning]\n"
          ]
        }
      ],
      "execution_count": 106,
      "metadata": {
        "collapsed": false,
        "outputHidden": false,
        "inputHidden": false
      }
    },
    {
      "cell_type": "code",
      "source": [
        "from mlxtend.classifier import EnsembleVoteClassifier\n",
        "eclf = EnsembleVoteClassifier(clfs=[RFModel, NBModel, KNNModel], weights=[1,1,1])\n",
        "\n",
        "labels = ['RandomForestLearning', 'NaiveBayesLearning', 'KNNLearning', 'Ensemble']\n",
        "for clf, label in zip([RFModel, NBModel, KNNModel, eclf], labels):\n",
        "    scores = model_selection.cross_val_score(clf, X, y, cv=5,scoring='accuracy')\n",
        "    print(\"Accuracy: %0.2f (+/- %0.2f) [%s]\" % (scores.mean(), scores.std(), label))"
      ],
      "outputs": [
        {
          "output_type": "stream",
          "name": "stdout",
          "text": [
            "Accuracy: 0.85 (+/- 0.01) [RandomForestLearning]\n",
            "Accuracy: 0.78 (+/- 0.00) [NaiveBayesLearning]\n",
            "Accuracy: 0.73 (+/- 0.01) [KNNLearning]\n",
            "Accuracy: 0.81 (+/- 0.01) [Ensemble]\n"
          ]
        }
      ],
      "execution_count": 107,
      "metadata": {
        "collapsed": false,
        "outputHidden": false,
        "inputHidden": false
      }
    },
    {
      "cell_type": "code",
      "source": [
        "from sklearn.base import BaseEstimator\n",
        "from sklearn.base import ClassifierMixin\n",
        "from sklearn.preprocessing import LabelEncoder\n",
        "from sklearn.externals import six\n",
        "from sklearn.base import clone\n",
        "from sklearn.pipeline import _name_estimators\n",
        "import numpy as np\n",
        "import operator\n",
        "class MajorityVoteClassifier(BaseEstimator, ClassifierMixin):\n",
        "    \"\"\" A majority vote ensemble classifier\n",
        "    Parameters\n",
        "    classifiers : array-like, shape = [n_classifiers]  Different classifiers for the ensemble\n",
        "    vote : str, {'classlabel', 'probability'} (default='label')\n",
        "      If 'classlabel' the prediction is based on the argmax of class labels. Else if 'probability', the argmax of the sum of probabilities is used to predict the class label (recommended for calibrated classifiers).\n",
        "    weights : array-like, shape = [n_classifiers], optional (default=None)\n",
        "      If a list of `int` or `float` values are provided, the classifiers are weighted by importance; Uses uniform weights if `weights=None`.\n",
        "    \"\"\"\n",
        "    def __init__(self, classifiers, vote='classlabel', weights=None):\n",
        "        self.classifiers = classifiers\n",
        "        self.named_classifiers = {key: value for key, value in _name_estimators(classifiers)}\n",
        "        self.vote = vote\n",
        "        self.weights = weights\n",
        "    def fit(self, X, y):\n",
        "        \"\"\" Fit classifiers. Parameters\n",
        "        X : {array-like, sparse matrix}, shape = [n_samples, n_features] Matrix of training samples.\n",
        "        y : array-like, shape = [n_samples] Vector of target class labels.\n",
        "        Returns self : object\n",
        "        \"\"\"\n",
        "        if self.vote not in ('probability', 'classlabel'):\n",
        "            raise ValueError(\"vote must be 'probability' or 'classlabel'\" \"; got (vote=%r)\" % self.vote)\n",
        "        if self.weights and len(self.weights) != len(self.classifiers):\n",
        "            raise ValueError('Number of classifiers and weights must be equal''; got %d weights, %d classifiers' %   \n",
        "            (len(self.weights), len(self.classifiers)))\n",
        "        # Use LabelEncoder to ensure class labels start with 0, which is important for np.argmax call in self.predict\n",
        "        self.lablenc_ = LabelEncoder()\n",
        "        self.lablenc_.fit(y)\n",
        "        self.classes_ = self.lablenc_.classes_\n",
        "        self.classifiers_ = []\n",
        "        for clf in self.classifiers:\n",
        "            fitted_clf = clone(clf).fit(X, self.lablenc_.transform(y))\n",
        "            self.classifiers_.append(fitted_clf)\n",
        "        return self\n",
        "    def predict(self, X):\n",
        "        \"\"\" Predict class labels for X.\n",
        "        Parameters\n",
        "        ----------\n",
        "        X : {array-like, sparse matrix}, shape = [n_samples, n_features] Matrix of training samples.\n",
        "        Returns ----------\n",
        "        maj_vote : array-like, shape = [n_samples] Predicted class labels.\n",
        "        \"\"\"\n",
        "        if self.vote == 'probability':\n",
        "            maj_vote = np.argmax(self.predict_proba(X), axis=1)\n",
        "        else:  # 'classlabel' vote\n",
        "            #  Collect results from clf.predict calls\n",
        "            predictions = np.asarray([clf.predict(X) for clf in self.classifiers_]).T\n",
        "            maj_vote = np.apply_along_axis( lambda x: np.argmax(np.bincount(x, weights=self.weights)),\n",
        "                                      axis=1,\n",
        "                                      arr=predictions)\n",
        "        maj_vote = self.lablenc_.inverse_transform(maj_vote)\n",
        "        return maj_vote\n",
        "    def predict_proba(self, X):\n",
        "        \"\"\" Predict class probabilities for X.\n",
        "        X : {array-like, sparse matrix}, shape = [n_samples, n_features]\n",
        "            Training vectors, where n_samples is the number of samples and n_features is the number of features.\n",
        "        Returns\n",
        "        avg_proba : array-like, shape = [n_samples, n_classes] Weighted average probability for each class per sample.\n",
        "        \"\"\"\n",
        "        probas = np.asarray([clf.predict_proba(X)  for clf in self.classifiers_])\n",
        "        avg_proba = np.average(probas, axis=0, weights=self.weights)\n",
        "        return avg_proba\n",
        "    def get_params(self, deep=True):\n",
        "        \"\"\" Get classifier parameter names for GridSearch\"\"\"\n",
        "        if not deep:\n",
        "            return super(MajorityVoteClassifier, self).get_params(deep=False)\n",
        "        else:\n",
        "            out = self.named_classifiers.copy()\n",
        "            for name, step in six.iteritems(self.named_classifiers):\n",
        "                for key, value in six.iteritems(step.get_params(deep=True)):\n",
        "                    out['%s__%s' % (name, key)] = value\n",
        "            return out\n"
      ],
      "outputs": [],
      "execution_count": 108,
      "metadata": {
        "collapsed": false,
        "outputHidden": false,
        "inputHidden": false
      }
    },
    {
      "cell_type": "code",
      "source": [
        "# Majority Rule (hard) Voting\n",
        "\n",
        "mv_clf = MajorityVoteClassifier(classifiers=[RFModel, NBModel, KNNModel])\n",
        "\n",
        "labels = ['RandomForestLearning', 'NaiveBayesLearning', 'KNNLearning', 'Majority voting']\n",
        "all_clf = [RFModel, NBModel, KNNModel, mv_clf]\n",
        "\n",
        "for clf, label in zip(all_clf, labels):\n",
        "    scores = cross_val_score(estimator=clf,\n",
        "                             X=X,\n",
        "                             y=y,\n",
        "                             cv=5,\n",
        "                             scoring='accuracy')\n",
        "    print(\"ROC AUC: %0.2f (+/- %0.2f) [%s]\"\n",
        "          % (scores.mean(), scores.std(), label))"
      ],
      "outputs": [
        {
          "output_type": "stream",
          "name": "stdout",
          "text": [
            "ROC AUC: 0.85 (+/- 0.01) [RandomForestLearning]\n",
            "ROC AUC: 0.78 (+/- 0.00) [NaiveBayesLearning]\n",
            "ROC AUC: 0.73 (+/- 0.01) [KNNLearning]\n",
            "ROC AUC: 0.81 (+/- 0.01) [Majority voting]\n"
          ]
        }
      ],
      "execution_count": 109,
      "metadata": {
        "collapsed": false,
        "outputHidden": false,
        "inputHidden": false
      }
    },
    {
      "cell_type": "code",
      "source": [
        "# Split Train and Test and check shape \n",
        "data_train_encoder_mining, target_train_encoder_mining, data_test_encoder_mining, target_test_encoder_mining = SplitDataFrameToTrainAndTest(data_encoder_mining, 0.6, 'Exited')\n",
        "PrintTrainTestInformation(data_train_encoder_mining, target_train_encoder_mining, data_test_encoder_mining, target_test_encoder_mining)\n",
        "\n",
        "# Retest all traditional classification approaches\n",
        "X_train = data_train_encoder_mining\n",
        "y_train = target_train_encoder_mining\n",
        "X_test = data_test_encoder_mining\n",
        "y_test = target_test_encoder_mining\n",
        "\n",
        "from sklearn.ensemble import BaggingClassifier\n",
        "from sklearn.tree import DecisionTreeClassifier\n",
        "\n",
        "tree = DecisionTreeClassifier(criterion='entropy', max_depth=None, random_state=1)\n",
        "bag = BaggingClassifier(base_estimator=tree,\n",
        "                        n_estimators=500, \n",
        "                        max_samples=1.0, \n",
        "                        max_features=1.0, \n",
        "                        bootstrap=True, \n",
        "                        bootstrap_features=False, \n",
        "                        n_jobs=1, \n",
        "                        random_state=1)\n",
        "\n",
        "from sklearn.metrics import accuracy_score\n",
        "\n",
        "tree = tree.fit(X_train, y_train)\n",
        "y_train_pred = tree.predict(X_train)\n",
        "y_test_pred = tree.predict(X_test)\n",
        "\n",
        "tree_train = accuracy_score(y_train, y_train_pred)\n",
        "tree_test = accuracy_score(y_test, y_test_pred)\n",
        "print('Decision tree train/test accuracies %.3f/%.3f'\n",
        "      % (tree_train, tree_test))\n",
        "\n",
        "bag = bag.fit(X_train, y_train)\n",
        "y_train_pred = bag.predict(X_train)\n",
        "y_test_pred = bag.predict(X_test)\n",
        "\n",
        "bag_train = accuracy_score(y_train, y_train_pred) \n",
        "bag_test = accuracy_score(y_test, y_test_pred) \n",
        "print('Bagging train/test accuracies %.3f/%.3f'\n",
        "      % (bag_train, bag_test))"
      ],
      "outputs": [
        {
          "output_type": "stream",
          "name": "stdout",
          "text": [
            "Train rows and columns :  (5063, 16)\n",
            "Test rows and columns :  (3375, 16)\n",
            "Decision tree train/test accuracies 1.000/0.798\n",
            "Bagging train/test accuracies 1.000/0.855\n"
          ]
        }
      ],
      "execution_count": 111,
      "metadata": {
        "collapsed": false,
        "outputHidden": false,
        "inputHidden": false
      }
    },
    {
      "cell_type": "code",
      "source": [
        "from sklearn.ensemble import AdaBoostClassifier\n",
        "\n",
        "tree = DecisionTreeClassifier(criterion='entropy', max_depth=None, random_state=1)\n",
        "ada = AdaBoostClassifier(base_estimator=tree, n_estimators=500, learning_rate=0.1, random_state=1)\n",
        "tree = tree.fit(X_train, y_train)\n",
        "y_train_pred = tree.predict(X_train)\n",
        "y_test_pred = tree.predict(X_test)\n",
        "\n",
        "tree_train = accuracy_score(y_train, y_train_pred)\n",
        "tree_test = accuracy_score(y_test, y_test_pred)\n",
        "print('Decision tree train/test accuracies %.3f/%.3f'% (tree_train, tree_test))\n",
        "\n",
        "ada = ada.fit(X_train, y_train)\n",
        "y_train_pred = ada.predict(X_train)\n",
        "y_test_pred = ada.predict(X_test)\n",
        "\n",
        "ada_train = accuracy_score(y_train, y_train_pred) \n",
        "ada_test = accuracy_score(y_test, y_test_pred) \n",
        "print('AdaBoost train/test accuracies %.3f/%.3f'\n",
        "      % (ada_train, ada_test))"
      ],
      "outputs": [
        {
          "output_type": "stream",
          "name": "stdout",
          "text": [
            "Decision tree train/test accuracies 1.000/0.798\n",
            "AdaBoost train/test accuracies 1.000/0.793\n"
          ]
        }
      ],
      "execution_count": 112,
      "metadata": {
        "collapsed": false,
        "outputHidden": false,
        "inputHidden": false
      }
    },
    {
      "cell_type": "code",
      "source": [
        "from mlxtend.classifier import StackingClassifier\n",
        "import matplotlib.gridspec as gridspec\n",
        "import itertools\n",
        "from mlxtend.plotting import plot_learning_curves\n",
        "from mlxtend.plotting import plot_decision_regions\n",
        "\n",
        "lr = LogisticRegression()\n",
        "sclf = StackingClassifier(classifiers=[RFModel, NBModel, KNNModel], meta_classifier=lr)\n",
        "\n",
        "label = ['Random Forest', 'Naive Bayes', 'KNN', 'Stacking Classifier']\n",
        "clf_list = [RFModel, NBModel, KNNModel, sclf]\n",
        "\n\n",
        "clf_cv_mean = []\n",
        "clf_cv_std = []\n",
        "for clf, label in zip(clf_list, label):\n",
        "    scores = cross_val_score(clf, X, y, cv=5, scoring='accuracy')\n",
        "    print(\"Accuracy: %.2f (+/- %.2f) [%s]\" %(scores.mean(), scores.std(), label))\n",
        "    clf_cv_mean.append(scores.mean())\n",
        "    clf_cv_std.append(scores.std())        \n",
        "    clf.fit(X, y)"
      ],
      "outputs": [
        {
          "output_type": "stream",
          "name": "stdout",
          "text": [
            "Accuracy: 0.85 (+/- 0.01) [Random Forest]\n",
            "Accuracy: 0.78 (+/- 0.00) [Naive Bayes]\n",
            "Accuracy: 0.73 (+/- 0.01) [KNN]\n",
            "Accuracy: 0.84 (+/- 0.02) [Stacking Classifier]\n"
          ]
        }
      ],
      "execution_count": 113,
      "metadata": {
        "collapsed": false,
        "outputHidden": false,
        "inputHidden": false
      }
    },
    {
      "cell_type": "code",
      "source": [],
      "outputs": [],
      "execution_count": null,
      "metadata": {
        "collapsed": false,
        "outputHidden": false,
        "inputHidden": false
      }
    }
  ],
  "metadata": {
    "kernelspec": {
      "name": "python3",
      "language": "python",
      "display_name": "Python 3"
    },
    "language_info": {
      "name": "python",
      "version": "3.6.5",
      "mimetype": "text/x-python",
      "codemirror_mode": {
        "name": "ipython",
        "version": 3
      },
      "pygments_lexer": "ipython3",
      "nbconvert_exporter": "python",
      "file_extension": ".py"
    },
    "kernel_info": {
      "name": "python3"
    },
    "nteract": {
      "version": "0.12.3"
    }
  },
  "nbformat": 4,
  "nbformat_minor": 1
}