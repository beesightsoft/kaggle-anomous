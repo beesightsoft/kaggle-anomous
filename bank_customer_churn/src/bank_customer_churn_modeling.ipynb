{
 "cells": [
  {
   "cell_type": "markdown",
   "metadata": {},
   "source": [
    "# Data Science\n",
    "\n",
    "## Bank Customer Churn Modeling\n",
    "\n",
    "nhan.cao@beesightsoft.com\n"
   ]
  },
  {
   "cell_type": "code",
   "execution_count": 0,
   "metadata": {
    "_cell_guid": "b1076dfc-b9ad-4769-8c92-a6c4dae69d19",
    "_uuid": "8f2839f25d086af736a60e9eeb907d3b93b6e0e5",
    "colab": {},
    "colab_type": "code",
    "id": "bh5oqVi6ZHSJ"
   },
   "outputs": [],
   "source": [
    "# Basic Libraries\n",
    "import numpy as np\n",
    "import pandas as pd\n",
    "import operator\n",
    "import re\n",
    "import warnings\n",
    "warnings.filterwarnings(\"ignore\")\n",
    "warnings.simplefilter(\"ignore\")\n",
    "\n",
    "# Visualization\n",
    "import matplotlib.pyplot as plt\n",
    "import seaborn as sns\n",
    "from scipy import stats\n",
    "\n",
    "# Preprocessing\n",
    "from sklearn.preprocessing import LabelEncoder, MinMaxScaler \n",
    "from sklearn.pipeline import _name_estimators\n",
    "from sklearn.base import BaseEstimator\n",
    "from sklearn.base import ClassifierMixin\n",
    "from sklearn.base import clone\n",
    "from sklearn.externals import six\n",
    "\n",
    "# Evaluation\n",
    "from sklearn import metrics\n",
    "from sklearn import linear_model, datasets \n",
    "from sklearn.metrics import accuracy_score, log_loss\n",
    "from sklearn.metrics import confusion_matrix \n",
    "from sklearn.model_selection import StratifiedShuffleSplit\n",
    "from sklearn.model_selection import train_test_split, cross_val_score \n",
    "from sklearn.neighbors import LocalOutlierFactor\n",
    "\n",
    "# Classifier (machine learning algorithm) \n",
    "from sklearn.neighbors import KNeighborsClassifier\n",
    "from sklearn.svm import SVC, LinearSVC\n",
    "from sklearn.tree import DecisionTreeClassifier\n",
    "from sklearn.ensemble import RandomForestRegressor, RandomForestClassifier\n",
    "from sklearn.ensemble import AdaBoostClassifier, GradientBoostingClassifier\n",
    "from sklearn.ensemble import BaggingClassifier\n",
    "from sklearn.naive_bayes import GaussianNB\n",
    "from sklearn.discriminant_analysis import LinearDiscriminantAnalysis, QuadraticDiscriminantAnalysis\n",
    "from sklearn.linear_model import LogisticRegression\n",
    "from sklearn.linear_model import Perceptron\n",
    "from sklearn.linear_model import SGDClassifier\n",
    "from sklearn.neural_network import MLPClassifier\n",
    "\n",
    "from sklearn.base import BaseEstimator\n",
    "from sklearn.base import ClassifierMixin\n",
    "from sklearn.externals import six\n",
    "from sklearn.base import clone\n",
    "from sklearn.pipeline import _name_estimators"
   ]
  },
  {
   "cell_type": "markdown",
   "metadata": {
    "colab_type": "text",
    "id": "xtqDZqJ8yLm8"
   },
   "source": [
    "# Read data\n",
    "https://www.kaggle.com/barelydedicated/bank-customer-churn-modeling"
   ]
  },
  {
   "cell_type": "code",
   "execution_count": 2,
   "metadata": {
    "colab": {
     "base_uri": "https://localhost:8080/",
     "height": 34
    },
    "colab_type": "code",
    "id": "6oqJIxwMaANN",
    "outputId": "7309dd39-8227-4a04-c921-2d69015132aa"
   },
   "outputs": [
    {
     "name": "stdout",
     "output_type": "stream",
     "text": [
      "Drive already mounted at /content/gdrive; to attempt to forcibly remount, call drive.mount(\"/content/gdrive\", force_remount=True).\n"
     ]
    }
   ],
   "source": [
    "from google.colab import drive \n",
    "drive.mount('/content/gdrive')\n",
    "dataset = pd.read_csv(\"gdrive/My Drive/Colab Notebooks/Churn_Modelling.csv\", header = 0)"
   ]
  },
  {
   "cell_type": "code",
   "execution_count": 0,
   "metadata": {
    "colab": {},
    "colab_type": "code",
    "id": "w4MJvisUaRxG"
   },
   "outputs": [],
   "source": [
    "# dataset = pd.read_csv('../input/Churn_Modelling.csv', header = 0)"
   ]
  },
  {
   "cell_type": "code",
   "execution_count": 4,
   "metadata": {
    "colab": {
     "base_uri": "https://localhost:8080/",
     "height": 204
    },
    "colab_type": "code",
    "id": "QPLh07YbaSUo",
    "outputId": "fa334a9a-b22b-4cc2-bfec-ddfd8158b3e6"
   },
   "outputs": [
    {
     "data": {
      "text/html": [
       "<div>\n",
       "<style scoped>\n",
       "    .dataframe tbody tr th:only-of-type {\n",
       "        vertical-align: middle;\n",
       "    }\n",
       "\n",
       "    .dataframe tbody tr th {\n",
       "        vertical-align: top;\n",
       "    }\n",
       "\n",
       "    .dataframe thead th {\n",
       "        text-align: right;\n",
       "    }\n",
       "</style>\n",
       "<table border=\"1\" class=\"dataframe\">\n",
       "  <thead>\n",
       "    <tr style=\"text-align: right;\">\n",
       "      <th></th>\n",
       "      <th>RowNumber</th>\n",
       "      <th>CustomerId</th>\n",
       "      <th>Surname</th>\n",
       "      <th>CreditScore</th>\n",
       "      <th>Geography</th>\n",
       "      <th>Gender</th>\n",
       "      <th>Age</th>\n",
       "      <th>Tenure</th>\n",
       "      <th>Balance</th>\n",
       "      <th>NumOfProducts</th>\n",
       "      <th>HasCrCard</th>\n",
       "      <th>IsActiveMember</th>\n",
       "      <th>EstimatedSalary</th>\n",
       "      <th>Exited</th>\n",
       "    </tr>\n",
       "  </thead>\n",
       "  <tbody>\n",
       "    <tr>\n",
       "      <th>0</th>\n",
       "      <td>1</td>\n",
       "      <td>15634602</td>\n",
       "      <td>Hargrave</td>\n",
       "      <td>619</td>\n",
       "      <td>France</td>\n",
       "      <td>Female</td>\n",
       "      <td>42</td>\n",
       "      <td>2</td>\n",
       "      <td>0.00</td>\n",
       "      <td>1</td>\n",
       "      <td>1</td>\n",
       "      <td>1</td>\n",
       "      <td>101348.88</td>\n",
       "      <td>1</td>\n",
       "    </tr>\n",
       "    <tr>\n",
       "      <th>1</th>\n",
       "      <td>2</td>\n",
       "      <td>15647311</td>\n",
       "      <td>Hill</td>\n",
       "      <td>608</td>\n",
       "      <td>Spain</td>\n",
       "      <td>Female</td>\n",
       "      <td>41</td>\n",
       "      <td>1</td>\n",
       "      <td>83807.86</td>\n",
       "      <td>1</td>\n",
       "      <td>0</td>\n",
       "      <td>1</td>\n",
       "      <td>112542.58</td>\n",
       "      <td>0</td>\n",
       "    </tr>\n",
       "    <tr>\n",
       "      <th>2</th>\n",
       "      <td>3</td>\n",
       "      <td>15619304</td>\n",
       "      <td>Onio</td>\n",
       "      <td>502</td>\n",
       "      <td>France</td>\n",
       "      <td>Female</td>\n",
       "      <td>42</td>\n",
       "      <td>8</td>\n",
       "      <td>159660.80</td>\n",
       "      <td>3</td>\n",
       "      <td>1</td>\n",
       "      <td>0</td>\n",
       "      <td>113931.57</td>\n",
       "      <td>1</td>\n",
       "    </tr>\n",
       "    <tr>\n",
       "      <th>3</th>\n",
       "      <td>4</td>\n",
       "      <td>15701354</td>\n",
       "      <td>Boni</td>\n",
       "      <td>699</td>\n",
       "      <td>France</td>\n",
       "      <td>Female</td>\n",
       "      <td>39</td>\n",
       "      <td>1</td>\n",
       "      <td>0.00</td>\n",
       "      <td>2</td>\n",
       "      <td>0</td>\n",
       "      <td>0</td>\n",
       "      <td>93826.63</td>\n",
       "      <td>0</td>\n",
       "    </tr>\n",
       "    <tr>\n",
       "      <th>4</th>\n",
       "      <td>5</td>\n",
       "      <td>15737888</td>\n",
       "      <td>Mitchell</td>\n",
       "      <td>850</td>\n",
       "      <td>Spain</td>\n",
       "      <td>Female</td>\n",
       "      <td>43</td>\n",
       "      <td>2</td>\n",
       "      <td>125510.82</td>\n",
       "      <td>1</td>\n",
       "      <td>1</td>\n",
       "      <td>1</td>\n",
       "      <td>79084.10</td>\n",
       "      <td>0</td>\n",
       "    </tr>\n",
       "  </tbody>\n",
       "</table>\n",
       "</div>"
      ],
      "text/plain": [
       "   RowNumber  CustomerId   Surname  CreditScore Geography  Gender  Age  \\\n",
       "0          1    15634602  Hargrave          619    France  Female   42   \n",
       "1          2    15647311      Hill          608     Spain  Female   41   \n",
       "2          3    15619304      Onio          502    France  Female   42   \n",
       "3          4    15701354      Boni          699    France  Female   39   \n",
       "4          5    15737888  Mitchell          850     Spain  Female   43   \n",
       "\n",
       "   Tenure    Balance  NumOfProducts  HasCrCard  IsActiveMember  \\\n",
       "0       2       0.00              1          1               1   \n",
       "1       1   83807.86              1          0               1   \n",
       "2       8  159660.80              3          1               0   \n",
       "3       1       0.00              2          0               0   \n",
       "4       2  125510.82              1          1               1   \n",
       "\n",
       "   EstimatedSalary  Exited  \n",
       "0        101348.88       1  \n",
       "1        112542.58       0  \n",
       "2        113931.57       1  \n",
       "3         93826.63       0  \n",
       "4         79084.10       0  "
      ]
     },
     "execution_count": 4,
     "metadata": {
      "tags": []
     },
     "output_type": "execute_result"
    }
   ],
   "source": [
    "# Tmp data\n",
    "dataset_tmp = dataset.copy()\n",
    "dataset_tmp.head()"
   ]
  },
  {
   "cell_type": "markdown",
   "metadata": {
    "_uuid": "b824c56132e97c261f857b8251aa6a1b0d89bc4b",
    "colab_type": "text",
    "id": "R0vB-osXZHSO"
   },
   "source": [
    "# Functions"
   ]
  },
  {
   "cell_type": "code",
   "execution_count": 0,
   "metadata": {
    "_uuid": "aac9ab3647f908d8cdbec972292be55222b0dd6e",
    "colab": {},
    "colab_type": "code",
    "id": "Q15enQB2ZHSP"
   },
   "outputs": [],
   "source": [
    "class MajorityVoteClassifier(BaseEstimator, ClassifierMixin):\n",
    "    \"\"\" A majority vote ensemble classifier\n",
    "    Parameters\n",
    "    classifiers : array-like, shape = [n_classifiers]  Different classifiers for the ensemble\n",
    "    vote : str, {'classlabel', 'probability'} (default='label')\n",
    "      If 'classlabel' the prediction is based on the argmax of class labels. Else if 'probability', the argmax of the sum of probabilities is used to predict the class label (recommended for calibrated classifiers).\n",
    "    weights : array-like, shape = [n_classifiers], optional (default=None)\n",
    "      If a list of `int` or `float` values are provided, the classifiers are weighted by importance; Uses uniform weights if `weights=None`.\n",
    "    \"\"\"\n",
    "    def __init__(self, classifiers, vote='classlabel', weights=None):\n",
    "        self.classifiers = classifiers\n",
    "        self.named_classifiers = {key: value for key, value in _name_estimators(classifiers)}\n",
    "        self.vote = vote\n",
    "        self.weights = weights\n",
    "    def fit(self, X, y):\n",
    "        \"\"\" Fit classifiers. Parameters\n",
    "        X : {array-like, sparse matrix}, shape = [n_samples, n_features] Matrix of training samples.\n",
    "        y : array-like, shape = [n_samples] Vector of target class labels.\n",
    "        Returns self : object\n",
    "        \"\"\"\n",
    "        if self.vote not in ('probability', 'classlabel'):\n",
    "            raise ValueError(\"vote must be 'probability' or 'classlabel'\" \"; got (vote=%r)\" % self.vote)\n",
    "        if self.weights and len(self.weights) != len(self.classifiers):\n",
    "            raise ValueError('Number of classifiers and weights must be equal''; got %d weights, %d classifiers' %   \n",
    "            (len(self.weights), len(self.classifiers)))\n",
    "        # Use LabelEncoder to ensure class labels start with 0, which is important for np.argmax call in self.predict\n",
    "        self.lablenc_ = LabelEncoder()\n",
    "        self.lablenc_.fit(y)\n",
    "        self.classes_ = self.lablenc_.classes_\n",
    "        self.classifiers_ = []\n",
    "        for clf in self.classifiers:\n",
    "            fitted_clf = clone(clf).fit(X, self.lablenc_.transform(y))\n",
    "            self.classifiers_.append(fitted_clf)\n",
    "        return self\n",
    "    def predict(self, X):\n",
    "        \"\"\" Predict class labels for X.\n",
    "        Parameters\n",
    "        ----------\n",
    "        X : {array-like, sparse matrix}, shape = [n_samples, n_features] Matrix of training samples.\n",
    "        Returns ----------\n",
    "        maj_vote : array-like, shape = [n_samples] Predicted class labels.\n",
    "        \"\"\"\n",
    "        if self.vote == 'probability':\n",
    "            maj_vote = np.argmax(self.predict_proba(X), axis=1)\n",
    "        else:  # 'classlabel' vote\n",
    "            #  Collect results from clf.predict calls\n",
    "            predictions = np.asarray([clf.predict(X) for clf in self.classifiers_]).T\n",
    "            maj_vote = np.apply_along_axis( lambda x: np.argmax(np.bincount(x, weights=self.weights)),\n",
    "                                      axis=1,\n",
    "                                      arr=predictions)\n",
    "        maj_vote = self.lablenc_.inverse_transform(maj_vote)\n",
    "        return maj_vote\n",
    "    def predict_proba(self, X):\n",
    "        \"\"\" Predict class probabilities for X.\n",
    "        X : {array-like, sparse matrix}, shape = [n_samples, n_features]\n",
    "            Training vectors, where n_samples is the number of samples and n_features is the number of features.\n",
    "        Returns\n",
    "        avg_proba : array-like, shape = [n_samples, n_classes] Weighted average probability for each class per sample.\n",
    "        \"\"\"\n",
    "        probas = np.asarray([clf.predict_proba(X)  for clf in self.classifiers_])\n",
    "        avg_proba = np.average(probas, axis=0, weights=self.weights)\n",
    "        return avg_proba\n",
    "    def get_params(self, deep=True):\n",
    "        \"\"\" Get classifier parameter names for GridSearch\"\"\"\n",
    "        if not deep:\n",
    "            return super(MajorityVoteClassifier, self).get_params(deep=False)\n",
    "        else:\n",
    "            out = self.named_classifiers.copy()\n",
    "            for name, step in six.iteritems(self.named_classifiers):\n",
    "                for key, value in six.iteritems(step.get_params(deep=True)):\n",
    "                    out['%s__%s' % (name, key)] = value\n",
    "            return out\n",
    "\n",
    "# Split Train and Test and check shape \n",
    "def SplitDataFrameToTrainAndTest(DataFrame, TrainDataRate, TargetAtt):\n",
    "    # gets a random TrainDataRate % of the entire set\n",
    "    training = DataFrame.sample(frac=TrainDataRate, random_state=1)\n",
    "    # gets the left out portion of the dataset\n",
    "    testing = DataFrame.loc[~DataFrame.index.isin(training.index)]\n",
    "\n",
    "    X_train = training.drop(TargetAtt, 1)\n",
    "    y_train = training[[TargetAtt]]\n",
    "    X_test = testing.drop(TargetAtt, 1)\n",
    "    y_test = testing[[TargetAtt]]\n",
    "    return X_train, y_train, X_test, y_test\n",
    "    \n",
    "def PrintTrainTestInformation(X_train, y_train, X_test, y_test):\n",
    "    print(\"Train rows and columns : \", X_train.shape)\n",
    "    print(\"Test rows and columns : \", X_test.shape)\n",
    "\n",
    "def DrawJointPlot(DataFrame, XAtt, yAtt, bins = 20):\n",
    "    sns.set(color_codes=True)\n",
    "    sns.distplot(data[XAtt], bins=bins);\n",
    "    df = pd.DataFrame(DataFrame, columns=[XAtt,yAtt])\n",
    "    df = df.reset_index(drop=True)\n",
    "    sns.jointplot(x=XAtt, y=yAtt, data=df)\n",
    "    \n",
    "def DrawBoxplot2(DataFrame, xAtt, yAtt, hAtt=\"N/A\"):\n",
    "    plt.figure()\n",
    "    if(hAtt == \"N/A\"):\n",
    "        sns.boxplot(x=xAtt, y=yAtt,  data=DataFrame)\n",
    "    else:\n",
    "        sns.boxplot(x=xAtt, y=yAtt,  hue=hAtt,  data=DataFrame)\n",
    "    plt.show()\n",
    "    \n",
    "def DrawBarplot(DataFrame, att):\n",
    "    Distribution = DataFrame[att].value_counts()\n",
    "    Distribution = pd.DataFrame({att:Distribution.index, 'Freq':Distribution.values})\n",
    "    Distribution = Distribution.sort_values(by=att, ascending=True)\n",
    "    plt.bar(Distribution[att], Distribution[\"Freq\"])\n",
    "    plt.xticks(Distribution[att])\n",
    "    plt.ylabel('Frequency')\n",
    "    plt.title('Barplot of ' + att)\n",
    "    plt.show()   \n",
    "    \n",
    "def DrawCountplot(DataFrame, att, hatt=\"N/A\"):\n",
    "    if(hatt == \"N/A\"):\n",
    "        sns.countplot(x=att, data=DataFrame)\n",
    "    else:\n",
    "        sns.countplot(x=att, hue=hatt, data=DataFrame)\n",
    "    plt.show()\n",
    "    \n",
    "def DrawHistogram(DataFrame, att):\n",
    "    plt.figure()\n",
    "    DataFrame[att].hist(edgecolor='black', bins=20)\n",
    "    plt.title(att)\n",
    "    plt.show()\n",
    "    \n",
    "# Detect outlier in each feature\n",
    "def DetectOutlierByIQR(DataFrame, AttList, Rate = 3.0):\n",
    "    OutlierIdx = []\n",
    "    for att in AttList:\n",
    "        AttData = DataFrame.loc[:, att]\n",
    "        lowerq = AttData.quantile(0.25)\n",
    "        upperq = AttData.quantile(0.75)\n",
    "        IQR = upperq - lowerq\n",
    "        threshold_upper = (IQR * Rate) + upperq\n",
    "        threshold_lower = lowerq - (IQR * Rate)\n",
    "        AttOutlierIdx = set(AttData[AttData.apply(lambda x: x > threshold_upper\n",
    "                                                    or x < threshold_lower)].index.get_values())\n",
    "        OutlierIdx = set(OutlierIdx) | AttOutlierIdx\n",
    "        # print(\"Min, Max and IQR : %f, %f, and %f\" % (AttData.min(), AttData.max(), IQR))\n",
    "        # print(\"Upper Fence and Lower Fence : %f and %f\" % (threshold_lower, threshold_upper))\n",
    "        # print(\"OutlierIdx : \" + str(OutlierIdx))\n",
    "        # print(att + \" \"  + str(len(AttOutlierIdx)) + \" Outlier Idx : \" + str(AttOutlierIdx))\n",
    "\n",
    "    OutlierIdx = list(OutlierIdx)\n",
    "    OutlierIdx = sorted(OutlierIdx)\n",
    "    return OutlierIdx\n",
    "      \n",
    "# Detect outlier in group features\n",
    "def DetectOutlierByLOF(DataFrame, AttList, LOFThresh=3.0, neighbors = 10):\n",
    "    clf = LocalOutlierFactor(n_neighbors=neighbors)\n",
    "    AttData = DataFrame.loc[:, AttList].values\n",
    "    y_pred = clf.fit_predict(AttData)\n",
    "    AttData_scores = -1 * clf.negative_outlier_factor_\n",
    "    LOFFactorData = pd.DataFrame(AttData_scores, columns=['LOF'])\n",
    "    LOFFactorData = LOFFactorData.sort_values('LOF', ascending=False)\n",
    "    LOFFactorData = LOFFactorData.reset_index(drop=False)\n",
    "    # print(LOFFactorData.loc[0:10, :])\n",
    "    OutlierThreshold = LOFThresh\n",
    "    SuspectOutlierData = LOFFactorData[LOFFactorData['LOF'].apply(lambda x: x > OutlierThreshold)]\n",
    "    OutlierIdx = SuspectOutlierData.loc[:, 'index'].tolist()\n",
    "    # print(\"OutlierIdx : \" + str(OutlierIdx))\n",
    "    return OutlierIdx, LOFFactorData\n",
    "      \n",
    "def RemoveRowsFromDataFrame(DataFrame, RowIdxList = []):\n",
    "    DataFrame = DataFrame.drop(RowIdxList)\n",
    "    DataFrame = DataFrame.reset_index(drop=True)\n",
    "    return DataFrame\n",
    "\n",
    "def NaiveBayesLearning(DataTrain, TargetTrain):\n",
    "    NBModel = GaussianNB()\n",
    "    NBModel.fit(DataTrain, TargetTrain.values.ravel())\n",
    "    return NBModel\n",
    "\n",
    "def NaiveBayesTesting(NBModel,DataTest, TargetTest):\n",
    "    PredictTest = NBModel.predict(DataTest)\n",
    "    Accuracy = accuracy_score(TargetTest, PredictTest)\n",
    "    return Accuracy, PredictTest\n",
    "\n",
    "def LogisticRegressionLearning(DataTrain, TargetTrain):\n",
    "    logreg = LogisticRegression()\n",
    "    # Training by Logistic Regression\n",
    "    logreg.fit(DataTrain, TargetTrain.values.ravel())\n",
    "    return logreg\n",
    "\n",
    "def LogisticRegressionTesting(LRModel,DataTest, TargetTest):\n",
    "    logreg = LRModel\n",
    "    PredictTest = logreg.predict(DataTest)\n",
    "    Accuracy = accuracy_score(TargetTest, PredictTest)\n",
    "    # print('Logistic regression accuracy: {:.3f}'.format(Accuracy))\n",
    "    return Accuracy, PredictTest\n",
    "\n",
    "def RandomForestLearning(DataTrain, TargetTrain):\n",
    "    rf = RandomForestClassifier()\n",
    "    rf.fit(DataTrain, TargetTrain.values.ravel())\n",
    "    return rf\n",
    "\n",
    "def RandomForestTesting(RFModel,DataTest, TargetTest):\n",
    "    PredictTest = RFModel.predict(DataTest)\n",
    "    Accuracy = accuracy_score(TargetTest, PredictTest)\n",
    "    # print('Random Forest Accuracy: {:.3f}'.format(accuracy_score(TargetTest, PredictTest)))\n",
    "    return Accuracy, PredictTest\n",
    "\n",
    "def SVMLearning(DataTrain, TargetTrain, ClassifierType = \" \"):\n",
    "    if(ClassifierType == 'Linear'):\n",
    "        svc = SVC(kernel=\"linear\", C=0.025)\n",
    "        # print('SVM Linear processing')\n",
    "    # Radial basis function kernel\n",
    "    elif (ClassifierType == 'RBF'):\n",
    "        svc = SVC(gamma=2, C=1)\n",
    "        # print('SVM RBF processing')\n",
    "    else:\n",
    "        svc = SVC()\n",
    "        # print('SVM Default processing')\n",
    "    svc.fit(DataTrain, TargetTrain.values.ravel())\n",
    "    return svc\n",
    "\n",
    "def SVMTesting(SVMModel, DataTest, TargetTest):\n",
    "    PredictTest = SVMModel.predict(DataTest)\n",
    "    Accuracy = accuracy_score(TargetTest, PredictTest)\n",
    "    # print('Support Vector Machine Accuracy: {:.3f}'.format(accuracy_score(TargetTest, PredictTest)))\n",
    "    return Accuracy, PredictTest\n",
    "\n",
    "def KNNLearning(DataTrain, TargetTrain, K = 3):\n",
    "    neigh = KNeighborsClassifier(n_neighbors=K)\n",
    "    neigh.fit(DataTrain, TargetTrain.values.ravel())\n",
    "    return neigh\n",
    "\n",
    "def KNNTesting(KNNModel,DataTest, TargetTest):\n",
    "    PredictTest = KNNModel.predict(DataTest)\n",
    "    Accuracy = accuracy_score(TargetTest, PredictTest)\n",
    "    # print('KNN Accuracy: {:.3f}'.format(accuracy_score(TargetTest, PredictTest)))\n",
    "    return Accuracy, PredictTest\n",
    "\n",
    "def ANNLearning(DataTrain, TargetTrain):\n",
    "    ANNModel = MLPClassifier(alpha=1)\n",
    "    ANNModel.fit(DataTrain, TargetTrain.values.ravel())\n",
    "    return ANNModel\n",
    "\n",
    "def ANNTesting (ANNModel, DataTest, TargetTest):\n",
    "    PredictTest = ANNModel.predict(DataTest)\n",
    "    Accuracy = accuracy_score(TargetTest, PredictTest)\n",
    "    # print('Neural Net Accuracy: {:.3f}'.format(Accuracy))\n",
    "    return Accuracy, PredictTest\n",
    "\n",
    "# Continuous Data Plot\n",
    "def ContPlot(df, feature_name, target_name, palettemap, hue_order, feature_scale): \n",
    "    df['Counts'] = \"\" # A trick to skip using an axis (either x or y) on splitting violinplot\n",
    "    fig, [axis0,axis1] = plt.subplots(1,2,figsize=(10,5))\n",
    "    sns.distplot(df[feature_name], ax=axis0);\n",
    "    sns.violinplot(x=feature_name, y=\"Counts\", hue=target_name, hue_order=hue_order, data=df,\n",
    "                   palette=palettemap, split=True, orient='h', ax=axis1)\n",
    "    axis1.set_xticks(feature_scale)\n",
    "    plt.show()\n",
    "\n",
    "# Categorical/Ordinal Data Plot\n",
    "def CatPlot(df, feature_name, target_name, palettemap): \n",
    "    fig, [axis0,axis1] = plt.subplots(1,2,figsize=(10,5))\n",
    "    df[feature_name].value_counts().plot.pie(autopct='%1.1f%%',ax=axis0)\n",
    "    sns.countplot(x=feature_name, hue=target_name, data=df,\n",
    "                  palette=palettemap,ax=axis1)\n",
    "    plt.show()\n",
    "\n",
    "def MachineLearningModelEvaluate(X_train, y_train, X_test, y_test):\n",
    "    NBModel = NaiveBayesLearning(X_train, y_train)\n",
    "    NBAccuracy,NBPredictTest = NaiveBayesTesting(NBModel,X_test, y_test)\n",
    "    print('Naive Bayes accuracy: {:.3f}'.format(NBAccuracy))\n",
    "\n",
    "    LRModel = LogisticRegressionLearning(X_train, y_train)\n",
    "    LRAccuracy,LRPredictTest = LogisticRegressionTesting(LRModel,X_test, y_test)\n",
    "    print('Logistic Regression accuracy: {:.3f}'.format(LRAccuracy))\n",
    "\n",
    "    RFModel = RandomForestLearning(X_train, y_train)\n",
    "    RFAccuracy,RFPredictTest = RandomForestTesting(RFModel,X_test, y_test)\n",
    "    print('Random Forest accuracy: {:.6f}'.format(RFAccuracy))\n",
    "\n",
    "    LiSVMModel = SVMLearning(X_train, y_train)\n",
    "    LiSVMAccuracy,LiSVMPredictTest = SVMTesting(LiSVMModel, X_test, y_test)\n",
    "    print('Linear SVM accuracy: {:.6f}'.format(LiSVMAccuracy))\n",
    "\n",
    "    RBFSVMModel = SVMLearning(X_train, y_train, 'RBF')\n",
    "    RBFSVMAccuracy,RBFSVMPredictTest = SVMTesting(RBFSVMModel, X_test, y_test)\n",
    "    print('RBF SVM accuracy: {:.6f}'.format(RBFSVMAccuracy))\n",
    "\n",
    "    KNNModel = KNNLearning(X_train, y_train)\n",
    "    KNNAccuracy,KNNPredictTest = KNNTesting(KNNModel,X_test, y_test)\n",
    "    print('K Nearest Neighbor accuracy: {:.6f}'.format(KNNAccuracy))\n",
    "\n",
    "    ANNModel = ANNLearning(X_train, y_train)\n",
    "    ANNAccuracy, ANNPredictTest = ANNTesting(ANNModel, X_test, y_test)\n",
    "    print('ANN accuracy: {:.6f}'.format(ANNAccuracy))\n",
    "    "
   ]
  },
  {
   "cell_type": "markdown",
   "metadata": {
    "_uuid": "7e7dfaa9342954a93f8798d83d4c3d5e7540ade8",
    "colab_type": "text",
    "id": "_Tg1u7hEZHSR"
   },
   "source": [
    "# Checking missing values\n",
    "\n",
    "- Fill missing value: Median / Mode, Label Encode / Dummies"
   ]
  },
  {
   "cell_type": "code",
   "execution_count": 6,
   "metadata": {
    "_uuid": "151176af8c354e451952c7085031aaff6c0633f2",
    "colab": {
     "base_uri": "https://localhost:8080/",
     "height": 272
    },
    "colab_type": "code",
    "id": "VTvGMLXBZHSS",
    "outputId": "b00bd62f-1848-44e1-e9ec-91751705ee24"
   },
   "outputs": [
    {
     "data": {
      "text/plain": [
       "RowNumber          0.0\n",
       "CustomerId         0.0\n",
       "Surname            0.0\n",
       "CreditScore        0.0\n",
       "Geography          0.0\n",
       "Gender             0.0\n",
       "Age                0.0\n",
       "Tenure             0.0\n",
       "Balance            0.0\n",
       "NumOfProducts      0.0\n",
       "HasCrCard          0.0\n",
       "IsActiveMember     0.0\n",
       "EstimatedSalary    0.0\n",
       "Exited             0.0\n",
       "dtype: float64"
      ]
     },
     "execution_count": 6,
     "metadata": {
      "tags": []
     },
     "output_type": "execute_result"
    }
   ],
   "source": [
    "# Checking the percentage of missing values in each variable\n",
    "(dataset.isnull().sum()/len(dataset)*100)"
   ]
  },
  {
   "cell_type": "markdown",
   "metadata": {
    "_uuid": "8218d1b07a12fecc8f92b86656a5e03b687d381f",
    "colab_type": "text",
    "id": "Jht0fkncZHSU"
   },
   "source": [
    "## **Preparation and EDA**"
   ]
  },
  {
   "cell_type": "code",
   "execution_count": 7,
   "metadata": {
    "_uuid": "479d9687af231bc925b1afe28a93c84e58279594",
    "colab": {
     "base_uri": "https://localhost:8080/",
     "height": 51
    },
    "colab_type": "code",
    "id": "8yN97lRVZHSU",
    "outputId": "b939a118-a3fa-4288-8b8a-43ef65f62a14"
   },
   "outputs": [
    {
     "name": "stdout",
     "output_type": "stream",
     "text": [
      "Train rows and columns :  (6000, 13)\n",
      "Test rows and columns :  (4000, 13)\n"
     ]
    }
   ],
   "source": [
    "# Split Train and Test and check shape \n",
    "data_train, target_train, data_test, target_test = SplitDataFrameToTrainAndTest(dataset, 0.6, 'Exited')\n",
    "PrintTrainTestInformation(data_train, target_train, data_test, target_test)"
   ]
  },
  {
   "cell_type": "code",
   "execution_count": 8,
   "metadata": {
    "_uuid": "9be4b0f93e7204856a7bcc6564a3a694d57d4819",
    "colab": {
     "base_uri": "https://localhost:8080/",
     "height": 323
    },
    "colab_type": "code",
    "id": "PgtI94QHZHSX",
    "inputHidden": false,
    "outputHidden": false,
    "outputId": "9c1f9dd0-d8e9-4c60-a803-6106d66fd2ce"
   },
   "outputs": [
    {
     "name": "stdout",
     "output_type": "stream",
     "text": [
      "<class 'pandas.core.frame.DataFrame'>\n",
      "Int64Index: 6000 entries, 9953 to 2374\n",
      "Data columns (total 13 columns):\n",
      "RowNumber          6000 non-null int64\n",
      "CustomerId         6000 non-null int64\n",
      "Surname            6000 non-null object\n",
      "CreditScore        6000 non-null int64\n",
      "Geography          6000 non-null object\n",
      "Gender             6000 non-null object\n",
      "Age                6000 non-null int64\n",
      "Tenure             6000 non-null int64\n",
      "Balance            6000 non-null float64\n",
      "NumOfProducts      6000 non-null int64\n",
      "HasCrCard          6000 non-null int64\n",
      "IsActiveMember     6000 non-null int64\n",
      "EstimatedSalary    6000 non-null float64\n",
      "dtypes: float64(2), int64(8), object(3)\n",
      "memory usage: 656.2+ KB\n"
     ]
    }
   ],
   "source": [
    "# Check column types\n",
    "data_train.info()"
   ]
  },
  {
   "cell_type": "code",
   "execution_count": 9,
   "metadata": {
    "_uuid": "cec8a3a0802480774ba701671b65866e93c5a96e",
    "colab": {
     "base_uri": "https://localhost:8080/",
     "height": 153
    },
    "colab_type": "code",
    "id": "EOoYFMYyZHSa",
    "inputHidden": false,
    "outputHidden": false,
    "outputId": "9f799c61-3b73-494e-8cae-2870aab22815"
   },
   "outputs": [
    {
     "name": "stdout",
     "output_type": "stream",
     "text": [
      " List of unique values in Surname : \n",
      "['Hargrave' 'Hill' 'Onio' ... 'Kashiwagi' 'Aldridge' 'Burbidge']\n",
      " List of unique values in Geography : \n",
      "['France' 'Spain' 'Germany']\n",
      " List of unique values in Gender : \n",
      "['Female' 'Male']\n",
      " List of unique values in NumOfProducts : \n",
      "[1 3 2 4]\n"
     ]
    }
   ],
   "source": [
    "print(\" List of unique values in Surname : \")\n",
    "print(dataset['Surname'].unique())\n",
    "print(\" List of unique values in Geography : \")\n",
    "print(dataset['Geography'].unique())\n",
    "print(\" List of unique values in Gender : \")\n",
    "print(dataset['Gender'].unique())\n",
    "\n",
    "#Special Field\n",
    "print(\" List of unique values in NumOfProducts : \")\n",
    "print(dataset['NumOfProducts'].unique())"
   ]
  },
  {
   "cell_type": "code",
   "execution_count": 10,
   "metadata": {
    "_uuid": "27c554df83c23580d8ef251ce033605abba3a7b5",
    "colab": {
     "base_uri": "https://localhost:8080/",
     "height": 297
    },
    "colab_type": "code",
    "id": "H2P3mZdWZHSc",
    "inputHidden": false,
    "outputHidden": false,
    "outputId": "9b8e1154-1a96-4efd-90c9-240734e0b0eb"
   },
   "outputs": [
    {
     "data": {
      "text/html": [
       "<div>\n",
       "<style scoped>\n",
       "    .dataframe tbody tr th:only-of-type {\n",
       "        vertical-align: middle;\n",
       "    }\n",
       "\n",
       "    .dataframe tbody tr th {\n",
       "        vertical-align: top;\n",
       "    }\n",
       "\n",
       "    .dataframe thead th {\n",
       "        text-align: right;\n",
       "    }\n",
       "</style>\n",
       "<table border=\"1\" class=\"dataframe\">\n",
       "  <thead>\n",
       "    <tr style=\"text-align: right;\">\n",
       "      <th></th>\n",
       "      <th>RowNumber</th>\n",
       "      <th>CustomerId</th>\n",
       "      <th>CreditScore</th>\n",
       "      <th>Age</th>\n",
       "      <th>Tenure</th>\n",
       "      <th>Balance</th>\n",
       "      <th>NumOfProducts</th>\n",
       "      <th>HasCrCard</th>\n",
       "      <th>IsActiveMember</th>\n",
       "      <th>EstimatedSalary</th>\n",
       "    </tr>\n",
       "  </thead>\n",
       "  <tbody>\n",
       "    <tr>\n",
       "      <th>count</th>\n",
       "      <td>6000.000000</td>\n",
       "      <td>6.000000e+03</td>\n",
       "      <td>6000.000000</td>\n",
       "      <td>6000.000000</td>\n",
       "      <td>6000.000000</td>\n",
       "      <td>6000.000000</td>\n",
       "      <td>6000.000000</td>\n",
       "      <td>6000.000000</td>\n",
       "      <td>6000.000000</td>\n",
       "      <td>6000.000000</td>\n",
       "    </tr>\n",
       "    <tr>\n",
       "      <th>mean</th>\n",
       "      <td>5000.534667</td>\n",
       "      <td>1.569090e+07</td>\n",
       "      <td>652.017833</td>\n",
       "      <td>38.801333</td>\n",
       "      <td>5.021667</td>\n",
       "      <td>76069.556590</td>\n",
       "      <td>1.524667</td>\n",
       "      <td>0.702333</td>\n",
       "      <td>0.521833</td>\n",
       "      <td>99470.172248</td>\n",
       "    </tr>\n",
       "    <tr>\n",
       "      <th>std</th>\n",
       "      <td>2877.924946</td>\n",
       "      <td>7.201902e+04</td>\n",
       "      <td>96.171969</td>\n",
       "      <td>10.409335</td>\n",
       "      <td>2.888469</td>\n",
       "      <td>62709.267925</td>\n",
       "      <td>0.576582</td>\n",
       "      <td>0.457270</td>\n",
       "      <td>0.499565</td>\n",
       "      <td>57622.657250</td>\n",
       "    </tr>\n",
       "    <tr>\n",
       "      <th>min</th>\n",
       "      <td>4.000000</td>\n",
       "      <td>1.556570e+07</td>\n",
       "      <td>350.000000</td>\n",
       "      <td>18.000000</td>\n",
       "      <td>0.000000</td>\n",
       "      <td>0.000000</td>\n",
       "      <td>1.000000</td>\n",
       "      <td>0.000000</td>\n",
       "      <td>0.000000</td>\n",
       "      <td>11.580000</td>\n",
       "    </tr>\n",
       "    <tr>\n",
       "      <th>25%</th>\n",
       "      <td>2501.250000</td>\n",
       "      <td>1.562812e+07</td>\n",
       "      <td>586.000000</td>\n",
       "      <td>32.000000</td>\n",
       "      <td>3.000000</td>\n",
       "      <td>0.000000</td>\n",
       "      <td>1.000000</td>\n",
       "      <td>0.000000</td>\n",
       "      <td>0.000000</td>\n",
       "      <td>50343.395000</td>\n",
       "    </tr>\n",
       "    <tr>\n",
       "      <th>50%</th>\n",
       "      <td>4995.500000</td>\n",
       "      <td>1.569189e+07</td>\n",
       "      <td>655.000000</td>\n",
       "      <td>37.000000</td>\n",
       "      <td>5.000000</td>\n",
       "      <td>96598.420000</td>\n",
       "      <td>1.000000</td>\n",
       "      <td>1.000000</td>\n",
       "      <td>1.000000</td>\n",
       "      <td>99482.980000</td>\n",
       "    </tr>\n",
       "    <tr>\n",
       "      <th>75%</th>\n",
       "      <td>7483.500000</td>\n",
       "      <td>1.575351e+07</td>\n",
       "      <td>718.000000</td>\n",
       "      <td>44.000000</td>\n",
       "      <td>8.000000</td>\n",
       "      <td>127671.927500</td>\n",
       "      <td>2.000000</td>\n",
       "      <td>1.000000</td>\n",
       "      <td>1.000000</td>\n",
       "      <td>149170.417500</td>\n",
       "    </tr>\n",
       "    <tr>\n",
       "      <th>max</th>\n",
       "      <td>9999.000000</td>\n",
       "      <td>1.581569e+07</td>\n",
       "      <td>850.000000</td>\n",
       "      <td>92.000000</td>\n",
       "      <td>10.000000</td>\n",
       "      <td>238387.560000</td>\n",
       "      <td>4.000000</td>\n",
       "      <td>1.000000</td>\n",
       "      <td>1.000000</td>\n",
       "      <td>199992.480000</td>\n",
       "    </tr>\n",
       "  </tbody>\n",
       "</table>\n",
       "</div>"
      ],
      "text/plain": [
       "         RowNumber    CustomerId  CreditScore          Age       Tenure  \\\n",
       "count  6000.000000  6.000000e+03  6000.000000  6000.000000  6000.000000   \n",
       "mean   5000.534667  1.569090e+07   652.017833    38.801333     5.021667   \n",
       "std    2877.924946  7.201902e+04    96.171969    10.409335     2.888469   \n",
       "min       4.000000  1.556570e+07   350.000000    18.000000     0.000000   \n",
       "25%    2501.250000  1.562812e+07   586.000000    32.000000     3.000000   \n",
       "50%    4995.500000  1.569189e+07   655.000000    37.000000     5.000000   \n",
       "75%    7483.500000  1.575351e+07   718.000000    44.000000     8.000000   \n",
       "max    9999.000000  1.581569e+07   850.000000    92.000000    10.000000   \n",
       "\n",
       "             Balance  NumOfProducts    HasCrCard  IsActiveMember  \\\n",
       "count    6000.000000    6000.000000  6000.000000     6000.000000   \n",
       "mean    76069.556590       1.524667     0.702333        0.521833   \n",
       "std     62709.267925       0.576582     0.457270        0.499565   \n",
       "min         0.000000       1.000000     0.000000        0.000000   \n",
       "25%         0.000000       1.000000     0.000000        0.000000   \n",
       "50%     96598.420000       1.000000     1.000000        1.000000   \n",
       "75%    127671.927500       2.000000     1.000000        1.000000   \n",
       "max    238387.560000       4.000000     1.000000        1.000000   \n",
       "\n",
       "       EstimatedSalary  \n",
       "count      6000.000000  \n",
       "mean      99470.172248  \n",
       "std       57622.657250  \n",
       "min          11.580000  \n",
       "25%       50343.395000  \n",
       "50%       99482.980000  \n",
       "75%      149170.417500  \n",
       "max      199992.480000  "
      ]
     },
     "execution_count": 10,
     "metadata": {
      "tags": []
     },
     "output_type": "execute_result"
    }
   ],
   "source": [
    "# Numerical data distribution \n",
    "data_train.describe()"
   ]
  },
  {
   "cell_type": "code",
   "execution_count": 11,
   "metadata": {
    "_uuid": "487c4c1053bbefc6246850c207ab39e190e9fb0c",
    "colab": {
     "base_uri": "https://localhost:8080/",
     "height": 173
    },
    "colab_type": "code",
    "id": "Wn-dwrn0ZHSf",
    "inputHidden": false,
    "outputHidden": false,
    "outputId": "f4e321c2-2e85-4b39-af0e-b1d6235d2d32"
   },
   "outputs": [
    {
     "data": {
      "text/html": [
       "<div>\n",
       "<style scoped>\n",
       "    .dataframe tbody tr th:only-of-type {\n",
       "        vertical-align: middle;\n",
       "    }\n",
       "\n",
       "    .dataframe tbody tr th {\n",
       "        vertical-align: top;\n",
       "    }\n",
       "\n",
       "    .dataframe thead th {\n",
       "        text-align: right;\n",
       "    }\n",
       "</style>\n",
       "<table border=\"1\" class=\"dataframe\">\n",
       "  <thead>\n",
       "    <tr style=\"text-align: right;\">\n",
       "      <th></th>\n",
       "      <th>Surname</th>\n",
       "      <th>Geography</th>\n",
       "      <th>Gender</th>\n",
       "    </tr>\n",
       "  </thead>\n",
       "  <tbody>\n",
       "    <tr>\n",
       "      <th>count</th>\n",
       "      <td>6000</td>\n",
       "      <td>6000</td>\n",
       "      <td>6000</td>\n",
       "    </tr>\n",
       "    <tr>\n",
       "      <th>unique</th>\n",
       "      <td>2246</td>\n",
       "      <td>3</td>\n",
       "      <td>2</td>\n",
       "    </tr>\n",
       "    <tr>\n",
       "      <th>top</th>\n",
       "      <td>Smith</td>\n",
       "      <td>France</td>\n",
       "      <td>Male</td>\n",
       "    </tr>\n",
       "    <tr>\n",
       "      <th>freq</th>\n",
       "      <td>23</td>\n",
       "      <td>3026</td>\n",
       "      <td>3259</td>\n",
       "    </tr>\n",
       "  </tbody>\n",
       "</table>\n",
       "</div>"
      ],
      "text/plain": [
       "       Surname Geography Gender\n",
       "count     6000      6000   6000\n",
       "unique    2246         3      2\n",
       "top      Smith    France   Male\n",
       "freq        23      3026   3259"
      ]
     },
     "execution_count": 11,
     "metadata": {
      "tags": []
     },
     "output_type": "execute_result"
    }
   ],
   "source": [
    "data_train.describe(include=['O'])"
   ]
  },
  {
   "cell_type": "code",
   "execution_count": 12,
   "metadata": {
    "colab": {
     "base_uri": "https://localhost:8080/",
     "height": 1099
    },
    "colab_type": "code",
    "id": "I-SYUOw-ZHSh",
    "inputHidden": false,
    "outputHidden": false,
    "outputId": "2d93840b-b642-4e1f-b999-90f152c9ce28"
   },
   "outputs": [
    {
     "data": {
      "text/plain": [
       "array([[<matplotlib.axes._subplots.AxesSubplot object at 0x7f97fdf0af98>,\n",
       "        <matplotlib.axes._subplots.AxesSubplot object at 0x7f97fd490400>,\n",
       "        <matplotlib.axes._subplots.AxesSubplot object at 0x7f97fd438a58>],\n",
       "       [<matplotlib.axes._subplots.AxesSubplot object at 0x7f97fd3ea0f0>,\n",
       "        <matplotlib.axes._subplots.AxesSubplot object at 0x7f97fd40d748>,\n",
       "        <matplotlib.axes._subplots.AxesSubplot object at 0x7f97fd3b4da0>],\n",
       "       [<matplotlib.axes._subplots.AxesSubplot object at 0x7f97fd364400>,\n",
       "        <matplotlib.axes._subplots.AxesSubplot object at 0x7f97fd388a90>,\n",
       "        <matplotlib.axes._subplots.AxesSubplot object at 0x7f97fd388ac8>],\n",
       "       [<matplotlib.axes._subplots.AxesSubplot object at 0x7f97fd2de748>,\n",
       "        <matplotlib.axes._subplots.AxesSubplot object at 0x7f97fd306da0>,\n",
       "        <matplotlib.axes._subplots.AxesSubplot object at 0x7f97fd2b5438>]],\n",
       "      dtype=object)"
      ]
     },
     "execution_count": 12,
     "metadata": {
      "tags": []
     },
     "output_type": "execute_result"
    },
    {
     "data": {
      "image/png": "[encoded data removed]",
      "text/plain": [
       "<Figure size 1440x1080 with 12 Axes>"
      ]
     },
     "metadata": {
      "tags": []
     },
     "output_type": "display_data"
    }
   ],
   "source": [
    "dataset.hist(bins=10, figsize=(20,15))"
   ]
  },
  {
   "cell_type": "code",
   "execution_count": 13,
   "metadata": {
    "_uuid": "cb2119baf47aa259ce5d997ce091c3d2903d16ab",
    "colab": {
     "base_uri": "https://localhost:8080/",
     "height": 362
    },
    "colab_type": "code",
    "id": "LSq3-bMKZHSj",
    "inputHidden": false,
    "outputHidden": false,
    "outputId": "00942f23-d5b4-44a3-e791-9d5ee6032ac6"
   },
   "outputs": [
    {
     "data": {
      "image/png": "[encoded data removed]",
      "text/plain": [
       "<Figure size 576x396 with 1 Axes>"
      ]
     },
     "metadata": {
      "tags": []
     },
     "output_type": "display_data"
    }
   ],
   "source": [
    "DrawBarplot(data_train, 'Geography')"
   ]
  },
  {
   "cell_type": "code",
   "execution_count": 14,
   "metadata": {
    "_uuid": "1af367bcb4e0023f5e93e8ddb6b9069201425857",
    "colab": {
     "base_uri": "https://localhost:8080/",
     "height": 705
    },
    "colab_type": "code",
    "id": "-klChZ7-ZHSm",
    "inputHidden": false,
    "outputHidden": false,
    "outputId": "8949a449-f855-4251-a0fd-2554e9ab9825"
   },
   "outputs": [
    {
     "data": {
      "image/png": "[encoded data removed]",
      "text/plain": [
       "<Figure size 576x396 with 1 Axes>"
      ]
     },
     "metadata": {
      "tags": []
     },
     "output_type": "display_data"
    },
    {
     "data": {
      "image/png": "[encoded data removed]",
      "text/plain": [
       "<Figure size 576x396 with 1 Axes>"
      ]
     },
     "metadata": {
      "tags": []
     },
     "output_type": "display_data"
    }
   ],
   "source": [
    "DrawBoxplot2(dataset, xAtt = 'Exited', yAtt='CreditScore')\n",
    "DrawBoxplot2(dataset, xAtt = 'Exited', yAtt='CreditScore', hAtt='Gender')"
   ]
  },
  {
   "cell_type": "code",
   "execution_count": 15,
   "metadata": {
    "_uuid": "f498fabe0f0dcd2651b35c2511d2b939288fb09c",
    "colab": {
     "base_uri": "https://localhost:8080/",
     "height": 705
    },
    "colab_type": "code",
    "id": "Ph-cBgbhZHSp",
    "inputHidden": false,
    "outputHidden": false,
    "outputId": "9f3b868f-c916-405e-cc45-77461f5e2619"
   },
   "outputs": [
    {
     "data": {
      "image/png": "[encoded data removed]",
      "text/plain": [
       "<Figure size 576x396 with 1 Axes>"
      ]
     },
     "metadata": {
      "tags": []
     },
     "output_type": "display_data"
    },
    {
     "data": {
      "image/png": "[encoded data removed]",
      "text/plain": [
       "<Figure size 576x396 with 1 Axes>"
      ]
     },
     "metadata": {
      "tags": []
     },
     "output_type": "display_data"
    }
   ],
   "source": [
    "DrawCountplot(dataset, 'Geography', 'Exited')\n",
    "DrawCountplot(dataset, 'Age', 'Exited')"
   ]
  },
  {
   "cell_type": "code",
   "execution_count": 16,
   "metadata": {
    "colab": {
     "base_uri": "https://localhost:8080/",
     "height": 85
    },
    "colab_type": "code",
    "id": "4reFqzHDZHSt",
    "inputHidden": false,
    "outputHidden": false,
    "outputId": "302abaae-1496-4ffe-8476-29be0e0d3440"
   },
   "outputs": [
    {
     "name": "stdout",
     "output_type": "stream",
     "text": [
      "  CategoricalCreditScore    Exited\n",
      "0       (349.999, 608.0]  0.215284\n",
      "1         (608.0, 695.0]  0.197660\n",
      "2         (695.0, 850.0]  0.198002\n"
     ]
    }
   ],
   "source": [
    "dataset['CategoricalCreditScore'] = pd.qcut(dataset['CreditScore'], 3)\n",
    "print (dataset[['CategoricalCreditScore', 'Exited']].groupby(['CategoricalCreditScore'], as_index=False).mean())"
   ]
  },
  {
   "cell_type": "code",
   "execution_count": 17,
   "metadata": {
    "colab": {
     "base_uri": "https://localhost:8080/",
     "height": 436
    },
    "colab_type": "code",
    "id": "x8zDR0DoZHSw",
    "inputHidden": false,
    "outputHidden": false,
    "outputId": "fd451d21-ee2b-44d4-f6c3-2e0e64ef31a4"
   },
   "outputs": [
    {
     "data": {
      "image/png": "[encoded data removed]",
      "text/plain": [
       "<Figure size 720x360 with 2 Axes>"
      ]
     },
     "metadata": {
      "tags": []
     },
     "output_type": "display_data"
    },
    {
     "name": "stdout",
     "output_type": "stream",
     "text": [
      "   CategoricalAge    Exited\n",
      "0  (17.999, 31.0]  0.076307\n",
      "1    (31.0, 35.0]  0.093206\n",
      "2    (35.0, 40.0]  0.149603\n",
      "3    (40.0, 46.0]  0.285967\n",
      "4    (46.0, 92.0]  0.459416\n"
     ]
    }
   ],
   "source": [
    "ContPlot(dataset[['Age','Exited']].copy().dropna(axis=0), \n",
    "          'Age', 'Exited', {0: \"black\", 1: \"orange\"} , [1, 0], range(0,100,10))\n",
    "\n",
    "dataset['CategoricalAge'] = pd.qcut(dataset['Age'], 5, duplicates='drop')\n",
    "print (dataset[['CategoricalAge', 'Exited']].groupby(['CategoricalAge'], as_index=False).mean())"
   ]
  },
  {
   "cell_type": "code",
   "execution_count": 18,
   "metadata": {
    "colab": {
     "base_uri": "https://localhost:8080/",
     "height": 385
    },
    "colab_type": "code",
    "id": "aj8BSODhZHSz",
    "inputHidden": false,
    "outputHidden": false,
    "outputId": "575e67d4-2a53-4142-c71a-f8e3b8a46b6a"
   },
   "outputs": [
    {
     "data": {
      "image/png": "[encoded data removed]",
      "text/plain": [
       "<Figure size 720x360 with 2 Axes>"
      ]
     },
     "metadata": {
      "tags": []
     },
     "output_type": "display_data"
    },
    {
     "name": "stdout",
     "output_type": "stream",
     "text": [
      "       CategoricalBalance    Exited\n",
      "0     (-0.001, 118100.59]  0.183441\n",
      "1  (118100.59, 250898.09]  0.244224\n"
     ]
    }
   ],
   "source": [
    "ContPlot(dataset[['Balance','Exited']].copy().dropna(axis=0), \n",
    "          'Balance', 'Exited', {0: \"black\", 1: \"orange\"} , [1, 0], range(0,100,10))\n",
    "\n",
    "dataset['CategoricalBalance'] = pd.qcut(dataset['Balance'], 3, duplicates='drop')\n",
    "print (dataset[['CategoricalBalance', 'Exited']].groupby(['CategoricalBalance'], as_index=False).mean())\n"
   ]
  },
  {
   "cell_type": "markdown",
   "metadata": {
    "_uuid": "31479301036d7bd6edcc1bccb55e9ae5c36f23ae",
    "colab_type": "text",
    "id": "7g4sxaJ6ZHS2"
   },
   "source": [
    "# **Encoder **"
   ]
  },
  {
   "cell_type": "code",
   "execution_count": 19,
   "metadata": {
    "_uuid": "d82de983e2b715c863dde155ee9073bbb6240c61",
    "colab": {
     "base_uri": "https://localhost:8080/",
     "height": 379
    },
    "colab_type": "code",
    "id": "kxq0_OHrZHS2",
    "inputHidden": false,
    "outputHidden": false,
    "outputId": "f8a9f1ef-7236-4382-8809-b64180814c84"
   },
   "outputs": [
    {
     "data": {
      "text/html": [
       "<div>\n",
       "<style scoped>\n",
       "    .dataframe tbody tr th:only-of-type {\n",
       "        vertical-align: middle;\n",
       "    }\n",
       "\n",
       "    .dataframe tbody tr th {\n",
       "        vertical-align: top;\n",
       "    }\n",
       "\n",
       "    .dataframe thead th {\n",
       "        text-align: right;\n",
       "    }\n",
       "</style>\n",
       "<table border=\"1\" class=\"dataframe\">\n",
       "  <thead>\n",
       "    <tr style=\"text-align: right;\">\n",
       "      <th></th>\n",
       "      <th>RowNumber</th>\n",
       "      <th>CustomerId</th>\n",
       "      <th>Surname</th>\n",
       "      <th>CreditScore</th>\n",
       "      <th>Geography</th>\n",
       "      <th>Age</th>\n",
       "      <th>Tenure</th>\n",
       "      <th>Balance</th>\n",
       "      <th>NumOfProducts</th>\n",
       "      <th>HasCrCard</th>\n",
       "      <th>IsActiveMember</th>\n",
       "      <th>EstimatedSalary</th>\n",
       "      <th>Exited</th>\n",
       "      <th>CategoricalCreditScore</th>\n",
       "      <th>CategoricalAge</th>\n",
       "      <th>CategoricalBalance</th>\n",
       "      <th>Gender_Female</th>\n",
       "      <th>Gender_Male</th>\n",
       "    </tr>\n",
       "  </thead>\n",
       "  <tbody>\n",
       "    <tr>\n",
       "      <th>0</th>\n",
       "      <td>1</td>\n",
       "      <td>15634602</td>\n",
       "      <td>Hargrave</td>\n",
       "      <td>619</td>\n",
       "      <td>0</td>\n",
       "      <td>42</td>\n",
       "      <td>2</td>\n",
       "      <td>0.0</td>\n",
       "      <td>1</td>\n",
       "      <td>1</td>\n",
       "      <td>1</td>\n",
       "      <td>101348.88</td>\n",
       "      <td>1</td>\n",
       "      <td>(608.0, 695.0]</td>\n",
       "      <td>(40.0, 46.0]</td>\n",
       "      <td>(-0.001, 118100.59]</td>\n",
       "      <td>1</td>\n",
       "      <td>0</td>\n",
       "    </tr>\n",
       "    <tr>\n",
       "      <th>1</th>\n",
       "      <td>2</td>\n",
       "      <td>15647311</td>\n",
       "      <td>Hill</td>\n",
       "      <td>608</td>\n",
       "      <td>2</td>\n",
       "      <td>41</td>\n",
       "      <td>1</td>\n",
       "      <td>0.0</td>\n",
       "      <td>1</td>\n",
       "      <td>0</td>\n",
       "      <td>1</td>\n",
       "      <td>112542.58</td>\n",
       "      <td>0</td>\n",
       "      <td>(349.999, 608.0]</td>\n",
       "      <td>(40.0, 46.0]</td>\n",
       "      <td>(-0.001, 118100.59]</td>\n",
       "      <td>1</td>\n",
       "      <td>0</td>\n",
       "    </tr>\n",
       "    <tr>\n",
       "      <th>2</th>\n",
       "      <td>3</td>\n",
       "      <td>15619304</td>\n",
       "      <td>Onio</td>\n",
       "      <td>502</td>\n",
       "      <td>0</td>\n",
       "      <td>42</td>\n",
       "      <td>8</td>\n",
       "      <td>1.0</td>\n",
       "      <td>3</td>\n",
       "      <td>1</td>\n",
       "      <td>0</td>\n",
       "      <td>113931.57</td>\n",
       "      <td>1</td>\n",
       "      <td>(349.999, 608.0]</td>\n",
       "      <td>(40.0, 46.0]</td>\n",
       "      <td>(118100.59, 250898.09]</td>\n",
       "      <td>1</td>\n",
       "      <td>0</td>\n",
       "    </tr>\n",
       "    <tr>\n",
       "      <th>3</th>\n",
       "      <td>4</td>\n",
       "      <td>15701354</td>\n",
       "      <td>Boni</td>\n",
       "      <td>699</td>\n",
       "      <td>0</td>\n",
       "      <td>39</td>\n",
       "      <td>1</td>\n",
       "      <td>0.0</td>\n",
       "      <td>2</td>\n",
       "      <td>0</td>\n",
       "      <td>0</td>\n",
       "      <td>93826.63</td>\n",
       "      <td>0</td>\n",
       "      <td>(695.0, 850.0]</td>\n",
       "      <td>(35.0, 40.0]</td>\n",
       "      <td>(-0.001, 118100.59]</td>\n",
       "      <td>1</td>\n",
       "      <td>0</td>\n",
       "    </tr>\n",
       "    <tr>\n",
       "      <th>4</th>\n",
       "      <td>5</td>\n",
       "      <td>15737888</td>\n",
       "      <td>Mitchell</td>\n",
       "      <td>850</td>\n",
       "      <td>2</td>\n",
       "      <td>43</td>\n",
       "      <td>2</td>\n",
       "      <td>1.0</td>\n",
       "      <td>1</td>\n",
       "      <td>1</td>\n",
       "      <td>1</td>\n",
       "      <td>79084.10</td>\n",
       "      <td>0</td>\n",
       "      <td>(695.0, 850.0]</td>\n",
       "      <td>(40.0, 46.0]</td>\n",
       "      <td>(118100.59, 250898.09]</td>\n",
       "      <td>1</td>\n",
       "      <td>0</td>\n",
       "    </tr>\n",
       "    <tr>\n",
       "      <th>5</th>\n",
       "      <td>6</td>\n",
       "      <td>15574012</td>\n",
       "      <td>Chu</td>\n",
       "      <td>645</td>\n",
       "      <td>2</td>\n",
       "      <td>44</td>\n",
       "      <td>8</td>\n",
       "      <td>0.0</td>\n",
       "      <td>2</td>\n",
       "      <td>1</td>\n",
       "      <td>0</td>\n",
       "      <td>149756.71</td>\n",
       "      <td>1</td>\n",
       "      <td>(608.0, 695.0]</td>\n",
       "      <td>(40.0, 46.0]</td>\n",
       "      <td>(-0.001, 118100.59]</td>\n",
       "      <td>0</td>\n",
       "      <td>1</td>\n",
       "    </tr>\n",
       "    <tr>\n",
       "      <th>6</th>\n",
       "      <td>7</td>\n",
       "      <td>15592531</td>\n",
       "      <td>Bartlett</td>\n",
       "      <td>822</td>\n",
       "      <td>0</td>\n",
       "      <td>50</td>\n",
       "      <td>7</td>\n",
       "      <td>0.0</td>\n",
       "      <td>2</td>\n",
       "      <td>1</td>\n",
       "      <td>1</td>\n",
       "      <td>10062.80</td>\n",
       "      <td>0</td>\n",
       "      <td>(695.0, 850.0]</td>\n",
       "      <td>(46.0, 92.0]</td>\n",
       "      <td>(-0.001, 118100.59]</td>\n",
       "      <td>0</td>\n",
       "      <td>1</td>\n",
       "    </tr>\n",
       "    <tr>\n",
       "      <th>7</th>\n",
       "      <td>8</td>\n",
       "      <td>15656148</td>\n",
       "      <td>Obinna</td>\n",
       "      <td>376</td>\n",
       "      <td>1</td>\n",
       "      <td>29</td>\n",
       "      <td>4</td>\n",
       "      <td>0.0</td>\n",
       "      <td>4</td>\n",
       "      <td>1</td>\n",
       "      <td>0</td>\n",
       "      <td>119346.88</td>\n",
       "      <td>1</td>\n",
       "      <td>(349.999, 608.0]</td>\n",
       "      <td>(17.999, 31.0]</td>\n",
       "      <td>(-0.001, 118100.59]</td>\n",
       "      <td>1</td>\n",
       "      <td>0</td>\n",
       "    </tr>\n",
       "    <tr>\n",
       "      <th>8</th>\n",
       "      <td>9</td>\n",
       "      <td>15792365</td>\n",
       "      <td>He</td>\n",
       "      <td>501</td>\n",
       "      <td>0</td>\n",
       "      <td>44</td>\n",
       "      <td>4</td>\n",
       "      <td>1.0</td>\n",
       "      <td>2</td>\n",
       "      <td>0</td>\n",
       "      <td>1</td>\n",
       "      <td>74940.50</td>\n",
       "      <td>0</td>\n",
       "      <td>(349.999, 608.0]</td>\n",
       "      <td>(40.0, 46.0]</td>\n",
       "      <td>(118100.59, 250898.09]</td>\n",
       "      <td>0</td>\n",
       "      <td>1</td>\n",
       "    </tr>\n",
       "    <tr>\n",
       "      <th>9</th>\n",
       "      <td>10</td>\n",
       "      <td>15592389</td>\n",
       "      <td>H?</td>\n",
       "      <td>684</td>\n",
       "      <td>0</td>\n",
       "      <td>27</td>\n",
       "      <td>2</td>\n",
       "      <td>1.0</td>\n",
       "      <td>1</td>\n",
       "      <td>1</td>\n",
       "      <td>1</td>\n",
       "      <td>71725.73</td>\n",
       "      <td>0</td>\n",
       "      <td>(608.0, 695.0]</td>\n",
       "      <td>(17.999, 31.0]</td>\n",
       "      <td>(118100.59, 250898.09]</td>\n",
       "      <td>0</td>\n",
       "      <td>1</td>\n",
       "    </tr>\n",
       "  </tbody>\n",
       "</table>\n",
       "</div>"
      ],
      "text/plain": [
       "   RowNumber  CustomerId   Surname  CreditScore  Geography  Age  Tenure  \\\n",
       "0          1    15634602  Hargrave          619          0   42       2   \n",
       "1          2    15647311      Hill          608          2   41       1   \n",
       "2          3    15619304      Onio          502          0   42       8   \n",
       "3          4    15701354      Boni          699          0   39       1   \n",
       "4          5    15737888  Mitchell          850          2   43       2   \n",
       "5          6    15574012       Chu          645          2   44       8   \n",
       "6          7    15592531  Bartlett          822          0   50       7   \n",
       "7          8    15656148    Obinna          376          1   29       4   \n",
       "8          9    15792365        He          501          0   44       4   \n",
       "9         10    15592389        H?          684          0   27       2   \n",
       "\n",
       "   Balance  NumOfProducts  HasCrCard  IsActiveMember  EstimatedSalary  Exited  \\\n",
       "0      0.0              1          1               1        101348.88       1   \n",
       "1      0.0              1          0               1        112542.58       0   \n",
       "2      1.0              3          1               0        113931.57       1   \n",
       "3      0.0              2          0               0         93826.63       0   \n",
       "4      1.0              1          1               1         79084.10       0   \n",
       "5      0.0              2          1               0        149756.71       1   \n",
       "6      0.0              2          1               1         10062.80       0   \n",
       "7      0.0              4          1               0        119346.88       1   \n",
       "8      1.0              2          0               1         74940.50       0   \n",
       "9      1.0              1          1               1         71725.73       0   \n",
       "\n",
       "  CategoricalCreditScore  CategoricalAge      CategoricalBalance  \\\n",
       "0         (608.0, 695.0]    (40.0, 46.0]     (-0.001, 118100.59]   \n",
       "1       (349.999, 608.0]    (40.0, 46.0]     (-0.001, 118100.59]   \n",
       "2       (349.999, 608.0]    (40.0, 46.0]  (118100.59, 250898.09]   \n",
       "3         (695.0, 850.0]    (35.0, 40.0]     (-0.001, 118100.59]   \n",
       "4         (695.0, 850.0]    (40.0, 46.0]  (118100.59, 250898.09]   \n",
       "5         (608.0, 695.0]    (40.0, 46.0]     (-0.001, 118100.59]   \n",
       "6         (695.0, 850.0]    (46.0, 92.0]     (-0.001, 118100.59]   \n",
       "7       (349.999, 608.0]  (17.999, 31.0]     (-0.001, 118100.59]   \n",
       "8       (349.999, 608.0]    (40.0, 46.0]  (118100.59, 250898.09]   \n",
       "9         (608.0, 695.0]  (17.999, 31.0]  (118100.59, 250898.09]   \n",
       "\n",
       "   Gender_Female  Gender_Male  \n",
       "0              1            0  \n",
       "1              1            0  \n",
       "2              1            0  \n",
       "3              1            0  \n",
       "4              1            0  \n",
       "5              0            1  \n",
       "6              0            1  \n",
       "7              1            0  \n",
       "8              0            1  \n",
       "9              0            1  "
      ]
     },
     "execution_count": 19,
     "metadata": {
      "tags": []
     },
     "output_type": "execute_result"
    }
   ],
   "source": [
    "data_encoder = dataset.copy()\n",
    "data_encoder['Geography'] = LabelEncoder().fit_transform(data_encoder['Geography'])\n",
    "# data_encoder['Surname'] = LabelEncoder().fit_transform(data_encoder['Surname'])\n",
    "# data_encoder['Gender'] = LabelEncoder().fit_transform(data_encoder['Gender'])\n",
    "data_encoder = data_encoder.join(pd.get_dummies(data_encoder['Gender'], prefix='Gender'))\n",
    "data_encoder = data_encoder.drop('Gender', axis=1)\n",
    "\n",
    "data_encoder.loc[ data_encoder['Balance'] <= 118100.59, 'Balance'] = 0\n",
    "data_encoder.loc[ data_encoder['Balance'] > 118100.59, 'Balance'] = 1\n",
    "\n",
    "data_encoder.head(10)"
   ]
  },
  {
   "cell_type": "code",
   "execution_count": 20,
   "metadata": {
    "colab": {
     "base_uri": "https://localhost:8080/",
     "height": 204
    },
    "colab_type": "code",
    "id": "hJu2i0bTZHS5",
    "outputId": "fd852e42-ae74-4a54-8749-251e4cfe55e6"
   },
   "outputs": [
    {
     "data": {
      "text/html": [
       "<div>\n",
       "<style scoped>\n",
       "    .dataframe tbody tr th:only-of-type {\n",
       "        vertical-align: middle;\n",
       "    }\n",
       "\n",
       "    .dataframe tbody tr th {\n",
       "        vertical-align: top;\n",
       "    }\n",
       "\n",
       "    .dataframe thead th {\n",
       "        text-align: right;\n",
       "    }\n",
       "</style>\n",
       "<table border=\"1\" class=\"dataframe\">\n",
       "  <thead>\n",
       "    <tr style=\"text-align: right;\">\n",
       "      <th></th>\n",
       "      <th>CreditScore</th>\n",
       "      <th>Geography</th>\n",
       "      <th>Age</th>\n",
       "      <th>Tenure</th>\n",
       "      <th>Balance</th>\n",
       "      <th>NumOfProducts</th>\n",
       "      <th>HasCrCard</th>\n",
       "      <th>IsActiveMember</th>\n",
       "      <th>EstimatedSalary</th>\n",
       "      <th>Exited</th>\n",
       "      <th>Gender_Female</th>\n",
       "      <th>Gender_Male</th>\n",
       "    </tr>\n",
       "  </thead>\n",
       "  <tbody>\n",
       "    <tr>\n",
       "      <th>0</th>\n",
       "      <td>619</td>\n",
       "      <td>0</td>\n",
       "      <td>42</td>\n",
       "      <td>2</td>\n",
       "      <td>0.0</td>\n",
       "      <td>1</td>\n",
       "      <td>1</td>\n",
       "      <td>1</td>\n",
       "      <td>101348.88</td>\n",
       "      <td>1</td>\n",
       "      <td>1</td>\n",
       "      <td>0</td>\n",
       "    </tr>\n",
       "    <tr>\n",
       "      <th>1</th>\n",
       "      <td>608</td>\n",
       "      <td>2</td>\n",
       "      <td>41</td>\n",
       "      <td>1</td>\n",
       "      <td>0.0</td>\n",
       "      <td>1</td>\n",
       "      <td>0</td>\n",
       "      <td>1</td>\n",
       "      <td>112542.58</td>\n",
       "      <td>0</td>\n",
       "      <td>1</td>\n",
       "      <td>0</td>\n",
       "    </tr>\n",
       "    <tr>\n",
       "      <th>2</th>\n",
       "      <td>502</td>\n",
       "      <td>0</td>\n",
       "      <td>42</td>\n",
       "      <td>8</td>\n",
       "      <td>1.0</td>\n",
       "      <td>3</td>\n",
       "      <td>1</td>\n",
       "      <td>0</td>\n",
       "      <td>113931.57</td>\n",
       "      <td>1</td>\n",
       "      <td>1</td>\n",
       "      <td>0</td>\n",
       "    </tr>\n",
       "    <tr>\n",
       "      <th>3</th>\n",
       "      <td>699</td>\n",
       "      <td>0</td>\n",
       "      <td>39</td>\n",
       "      <td>1</td>\n",
       "      <td>0.0</td>\n",
       "      <td>2</td>\n",
       "      <td>0</td>\n",
       "      <td>0</td>\n",
       "      <td>93826.63</td>\n",
       "      <td>0</td>\n",
       "      <td>1</td>\n",
       "      <td>0</td>\n",
       "    </tr>\n",
       "    <tr>\n",
       "      <th>4</th>\n",
       "      <td>850</td>\n",
       "      <td>2</td>\n",
       "      <td>43</td>\n",
       "      <td>2</td>\n",
       "      <td>1.0</td>\n",
       "      <td>1</td>\n",
       "      <td>1</td>\n",
       "      <td>1</td>\n",
       "      <td>79084.10</td>\n",
       "      <td>0</td>\n",
       "      <td>1</td>\n",
       "      <td>0</td>\n",
       "    </tr>\n",
       "  </tbody>\n",
       "</table>\n",
       "</div>"
      ],
      "text/plain": [
       "   CreditScore  Geography  Age  Tenure  Balance  NumOfProducts  HasCrCard  \\\n",
       "0          619          0   42       2      0.0              1          1   \n",
       "1          608          2   41       1      0.0              1          0   \n",
       "2          502          0   42       8      1.0              3          1   \n",
       "3          699          0   39       1      0.0              2          0   \n",
       "4          850          2   43       2      1.0              1          1   \n",
       "\n",
       "   IsActiveMember  EstimatedSalary  Exited  Gender_Female  Gender_Male  \n",
       "0               1        101348.88       1              1            0  \n",
       "1               1        112542.58       0              1            0  \n",
       "2               0        113931.57       1              1            0  \n",
       "3               0         93826.63       0              1            0  \n",
       "4               1         79084.10       0              1            0  "
      ]
     },
     "execution_count": 20,
     "metadata": {
      "tags": []
     },
     "output_type": "execute_result"
    }
   ],
   "source": [
    "AttList = [\"RowNumber\", \"CustomerId\", \"Surname\", \"CategoricalCreditScore\", \"CategoricalAge\", \"CategoricalBalance\"]\n",
    "data_encoder = data_encoder.drop(AttList, axis=1)\n",
    "data_encoder.head()"
   ]
  },
  {
   "cell_type": "code",
   "execution_count": 21,
   "metadata": {
    "_uuid": "2e882daa4e3e1f47d8cea24cb2d2cc44dc3c400f",
    "colab": {
     "base_uri": "https://localhost:8080/",
     "height": 51
    },
    "colab_type": "code",
    "id": "hOPTf10RZHS9",
    "inputHidden": false,
    "outputHidden": false,
    "outputId": "74ddc562-31eb-4159-9c7d-3185a765d894"
   },
   "outputs": [
    {
     "name": "stdout",
     "output_type": "stream",
     "text": [
      "Train rows and columns :  (6000, 11)\n",
      "Test rows and columns :  (4000, 11)\n"
     ]
    }
   ],
   "source": [
    "# Split Train and Test and check shape \n",
    "data_train_encoder, target_train_encoder, data_test_encoder, target_test_encoder = SplitDataFrameToTrainAndTest(data_encoder, 0.6, 'Exited')\n",
    "PrintTrainTestInformation(data_train_encoder, target_train_encoder, data_test_encoder, target_test_encoder)"
   ]
  },
  {
   "cell_type": "markdown",
   "metadata": {
    "_uuid": "30bf2de9231ca01c9eba87a523d772d8e321c57e",
    "colab_type": "text",
    "id": "rA47p6pLZHS_"
   },
   "source": [
    "## **Classification by trainditional models** "
   ]
  },
  {
   "cell_type": "code",
   "execution_count": 0,
   "metadata": {
    "_uuid": "eae9568a2caa8fbf9a1dc0588365e6c89355ce07",
    "colab": {},
    "colab_type": "code",
    "id": "zYEIbrtkZHTA",
    "inputHidden": false,
    "outputHidden": false
   },
   "outputs": [],
   "source": [
    "X_train = data_train_encoder\n",
    "y_train = target_train_encoder\n",
    "X_test = data_test_encoder\n",
    "y_test = target_test_encoder"
   ]
  },
  {
   "cell_type": "code",
   "execution_count": 23,
   "metadata": {
    "_uuid": "59338539e0e38208fea735907258eb3b94c0149d",
    "colab": {
     "base_uri": "https://localhost:8080/",
     "height": 136
    },
    "colab_type": "code",
    "id": "ZQR88TwiZHTC",
    "outputId": "56c94e2b-c0c8-4913-eb1f-96cbc99d20fc"
   },
   "outputs": [
    {
     "name": "stdout",
     "output_type": "stream",
     "text": [
      "Naive Bayes accuracy: 0.770\n",
      "Logistic Regression accuracy: 0.785\n",
      "Random Forest accuracy: 0.839500\n",
      "Linear SVM accuracy: 0.798250\n",
      "RBF SVM accuracy: 0.798250\n",
      "K Nearest Neighbor accuracy: 0.736250\n",
      "ANN accuracy: 0.797750\n"
     ]
    }
   ],
   "source": [
    "MachineLearningModelEvaluate(X_train, y_train, X_test, y_test)"
   ]
  },
  {
   "cell_type": "markdown",
   "metadata": {
    "_uuid": "d9a515720b89a73a164bcc756686e4076e86e05f",
    "colab_type": "text",
    "id": "Z2_MjKv0ZHTD"
   },
   "source": [
    "# **Approach 1 ** (Feature Selection)"
   ]
  },
  {
   "cell_type": "markdown",
   "metadata": {
    "_uuid": "b4cad55ca84f5a9472c22d411f6384ebdc7aa766",
    "colab_type": "text",
    "id": "Yf2nQxoBZHTE"
   },
   "source": [
    "# Correlation"
   ]
  },
  {
   "cell_type": "code",
   "execution_count": 24,
   "metadata": {
    "_uuid": "caf656541f6d31a29f53a28af9fc3e8bd9e0872f",
    "colab": {
     "base_uri": "https://localhost:8080/",
     "height": 221
    },
    "colab_type": "code",
    "id": "YX2CeWvIZHTF",
    "inputHidden": false,
    "outputHidden": false,
    "outputId": "bb7ee0d3-42b9-4ce1-ff3e-41c1e37d181c"
   },
   "outputs": [
    {
     "data": {
      "text/plain": [
       "Exited             1.000000\n",
       "Age                0.081409\n",
       "IsActiveMember     0.024376\n",
       "Balance            0.014050\n",
       "NumOfProducts      0.002287\n",
       "CreditScore        0.000734\n",
       "RowNumber          0.000275\n",
       "Tenure             0.000196\n",
       "EstimatedSalary    0.000146\n",
       "HasCrCard          0.000051\n",
       "CustomerId         0.000039\n",
       "Name: Exited, dtype: float64"
      ]
     },
     "execution_count": 24,
     "metadata": {
      "tags": []
     },
     "output_type": "execute_result"
    }
   ],
   "source": [
    "## get the most important variables. \n",
    "corr = dataset.corr()**2\n",
    "corr.Exited.sort_values(ascending=False)"
   ]
  },
  {
   "cell_type": "code",
   "execution_count": 25,
   "metadata": {
    "_uuid": "99d38e3d78e09364544f17b37ce2a087c1d290a9",
    "colab": {
     "base_uri": "https://localhost:8080/",
     "height": 567
    },
    "colab_type": "code",
    "id": "nj8x2NEzZHTI",
    "inputHidden": false,
    "outputHidden": false,
    "outputId": "1b94a5c2-5533-4285-ec94-6f913b95ffdd"
   },
   "outputs": [
    {
     "data": {
      "image/png": "[encoded data removed]",
      "text/plain": [
       "<Figure size 720x576 with 2 Axes>"
      ]
     },
     "metadata": {
      "tags": []
     },
     "output_type": "display_data"
    }
   ],
   "source": [
    "# Heatmeap to see the correlation between features. \n",
    "# Generate a mask for the upper triangle (taken from seaborn example gallery)\n",
    "mask = np.zeros_like(dataset.corr(), dtype=np.bool)\n",
    "mask[np.triu_indices_from(mask)] = True\n",
    "# plot\n",
    "plt.subplots(figsize = (10,8))\n",
    "sns.heatmap(dataset.corr(), annot=True, mask = mask, cmap = 'RdBu_r', linewidths=0.1, linecolor='white', vmax = .9, square=True)\n",
    "plt.title(\"Correlations Among Features\", y = 1.03,fontsize = 20);"
   ]
  },
  {
   "cell_type": "code",
   "execution_count": 26,
   "metadata": {
    "_uuid": "e61ec191fbbd3bd6027739a5abd752917c4714a5",
    "colab": {
     "base_uri": "https://localhost:8080/",
     "height": 419
    },
    "colab_type": "code",
    "id": "sl4ll2juZHTK",
    "inputHidden": false,
    "outputHidden": false,
    "outputId": "ef28e936-ef38-495c-abee-3818da059c94"
   },
   "outputs": [
    {
     "name": "stdout",
     "output_type": "stream",
     "text": [
      "   NumOfProducts    Exited\n",
      "3              4  1.000000\n",
      "2              3  0.827068\n",
      "0              1  0.277144\n",
      "1              2  0.075817\n"
     ]
    },
    {
     "data": {
      "image/png": "[encoded data removed]",
      "text/plain": [
       "<Figure size 720x360 with 2 Axes>"
      ]
     },
     "metadata": {
      "tags": []
     },
     "output_type": "display_data"
    }
   ],
   "source": [
    "print(dataset[['NumOfProducts', 'Exited']].groupby(['NumOfProducts'], as_index=False).mean().sort_values(by='Exited', ascending=False))\n",
    "CatPlot(dataset, 'NumOfProducts','Exited', {0: \"black\", 1: \"orange\"} )"
   ]
  },
  {
   "cell_type": "code",
   "execution_count": 27,
   "metadata": {
    "_uuid": "28d24cd8e4408578219f43f770146b9da497f035",
    "colab": {
     "base_uri": "https://localhost:8080/",
     "height": 385
    },
    "colab_type": "code",
    "id": "p0WFy7EwZHTN",
    "inputHidden": false,
    "outputHidden": false,
    "outputId": "ec86625c-c68a-43f7-f8ad-f3604e3c0587"
   },
   "outputs": [
    {
     "name": "stdout",
     "output_type": "stream",
     "text": [
      "   IsActiveMember    Exited\n",
      "0               0  0.268509\n",
      "1               1  0.142691\n"
     ]
    },
    {
     "data": {
      "image/png": "[encoded data removed]",
      "text/plain": [
       "<Figure size 720x360 with 2 Axes>"
      ]
     },
     "metadata": {
      "tags": []
     },
     "output_type": "display_data"
    }
   ],
   "source": [
    "print(dataset[['IsActiveMember', 'Exited']].groupby(['IsActiveMember'], as_index=False).mean().sort_values(by='Exited', ascending=False))\n",
    "CatPlot(dataset, 'IsActiveMember','Exited', {0: \"black\", 1: \"orange\"} )"
   ]
  },
  {
   "cell_type": "code",
   "execution_count": 28,
   "metadata": {
    "_uuid": "6d6e04866027738387bc2b9f74f7431cdbc8bb5e",
    "colab": {
     "base_uri": "https://localhost:8080/",
     "height": 558
    },
    "colab_type": "code",
    "id": "y0okX6-qZHTQ",
    "inputHidden": false,
    "outputHidden": false,
    "outputId": "b3a88fa3-4f4b-4098-aaf9-d15e7ae5a7f0"
   },
   "outputs": [
    {
     "data": {
      "text/plain": [
       "<seaborn.axisgrid.PairGrid at 0x7f97f8b54198>"
      ]
     },
     "execution_count": 28,
     "metadata": {
      "tags": []
     },
     "output_type": "execute_result"
    },
    {
     "data": {
      "image/png": "[encoded data removed]",
      "text/plain": [
       "<Figure size 581.625x540 with 12 Axes>"
      ]
     },
     "metadata": {
      "tags": []
     },
     "output_type": "display_data"
    }
   ],
   "source": [
    "# https://seaborn.pydata.org/generated/seaborn.pairplot.html\n",
    "sns.pairplot(dataset, vars=[\"NumOfProducts\", \"IsActiveMember\", \"Balance\"], hue=\"Exited\")"
   ]
  },
  {
   "cell_type": "code",
   "execution_count": 29,
   "metadata": {
    "_uuid": "1eace166d0242bcdfe1fb7bb0785c2b68cfc0608",
    "colab": {
     "base_uri": "https://localhost:8080/",
     "height": 427
    },
    "colab_type": "code",
    "id": "8KDM9OEMZHTS",
    "inputHidden": false,
    "outputHidden": false,
    "outputId": "9c7b7eec-2919-4f22-baa7-85e3da2b5565"
   },
   "outputs": [
    {
     "data": {
      "text/plain": [
       "<matplotlib.axes._subplots.AxesSubplot at 0x7f97f8ef3dd8>"
      ]
     },
     "execution_count": 29,
     "metadata": {
      "tags": []
     },
     "output_type": "execute_result"
    },
    {
     "data": {
      "image/png": "[encoded data removed]",
      "text/plain": [
       "<Figure size 576x396 with 2 Axes>"
      ]
     },
     "metadata": {
      "tags": []
     },
     "output_type": "display_data"
    }
   ],
   "source": [
    "AttList = [\"CreditScore\",\t\"Age\",\t\"Tenure\",\t\"Balance\",\t\"NumOfProducts\",\t\"HasCrCard\",\t\"IsActiveMember\",\t\"EstimatedSalary\"]\n",
    "correlation_matrix = dataset[AttList].corr().round(2)\n",
    "# annot = True to print the values inside the square\n",
    "sns.heatmap(data=correlation_matrix, annot=True)"
   ]
  },
  {
   "cell_type": "code",
   "execution_count": 30,
   "metadata": {
    "_uuid": "39d59fb6f2718d5a6f041ec85f15e06730303bb2",
    "colab": {
     "base_uri": "https://localhost:8080/",
     "height": 221
    },
    "colab_type": "code",
    "id": "Mg3DWkuRZHTW",
    "inputHidden": false,
    "outputHidden": false,
    "outputId": "dd8d4096-6ba5-4dc8-82f0-bddbc1f35568"
   },
   "outputs": [
    {
     "name": "stdout",
     "output_type": "stream",
     "text": [
      "(10000, 12)\n"
     ]
    },
    {
     "data": {
      "text/html": [
       "<div>\n",
       "<style scoped>\n",
       "    .dataframe tbody tr th:only-of-type {\n",
       "        vertical-align: middle;\n",
       "    }\n",
       "\n",
       "    .dataframe tbody tr th {\n",
       "        vertical-align: top;\n",
       "    }\n",
       "\n",
       "    .dataframe thead th {\n",
       "        text-align: right;\n",
       "    }\n",
       "</style>\n",
       "<table border=\"1\" class=\"dataframe\">\n",
       "  <thead>\n",
       "    <tr style=\"text-align: right;\">\n",
       "      <th></th>\n",
       "      <th>CreditScore</th>\n",
       "      <th>Geography</th>\n",
       "      <th>Age</th>\n",
       "      <th>Tenure</th>\n",
       "      <th>Balance</th>\n",
       "      <th>NumOfProducts</th>\n",
       "      <th>HasCrCard</th>\n",
       "      <th>IsActiveMember</th>\n",
       "      <th>EstimatedSalary</th>\n",
       "      <th>Exited</th>\n",
       "      <th>Gender_Female</th>\n",
       "      <th>Gender_Male</th>\n",
       "    </tr>\n",
       "  </thead>\n",
       "  <tbody>\n",
       "    <tr>\n",
       "      <th>0</th>\n",
       "      <td>619</td>\n",
       "      <td>0</td>\n",
       "      <td>42</td>\n",
       "      <td>2</td>\n",
       "      <td>0.0</td>\n",
       "      <td>1</td>\n",
       "      <td>1</td>\n",
       "      <td>1</td>\n",
       "      <td>101348.88</td>\n",
       "      <td>1</td>\n",
       "      <td>1</td>\n",
       "      <td>0</td>\n",
       "    </tr>\n",
       "    <tr>\n",
       "      <th>1</th>\n",
       "      <td>608</td>\n",
       "      <td>2</td>\n",
       "      <td>41</td>\n",
       "      <td>1</td>\n",
       "      <td>0.0</td>\n",
       "      <td>1</td>\n",
       "      <td>0</td>\n",
       "      <td>1</td>\n",
       "      <td>112542.58</td>\n",
       "      <td>0</td>\n",
       "      <td>1</td>\n",
       "      <td>0</td>\n",
       "    </tr>\n",
       "    <tr>\n",
       "      <th>2</th>\n",
       "      <td>502</td>\n",
       "      <td>0</td>\n",
       "      <td>42</td>\n",
       "      <td>8</td>\n",
       "      <td>1.0</td>\n",
       "      <td>3</td>\n",
       "      <td>1</td>\n",
       "      <td>0</td>\n",
       "      <td>113931.57</td>\n",
       "      <td>1</td>\n",
       "      <td>1</td>\n",
       "      <td>0</td>\n",
       "    </tr>\n",
       "    <tr>\n",
       "      <th>3</th>\n",
       "      <td>699</td>\n",
       "      <td>0</td>\n",
       "      <td>39</td>\n",
       "      <td>1</td>\n",
       "      <td>0.0</td>\n",
       "      <td>2</td>\n",
       "      <td>0</td>\n",
       "      <td>0</td>\n",
       "      <td>93826.63</td>\n",
       "      <td>0</td>\n",
       "      <td>1</td>\n",
       "      <td>0</td>\n",
       "    </tr>\n",
       "    <tr>\n",
       "      <th>4</th>\n",
       "      <td>850</td>\n",
       "      <td>2</td>\n",
       "      <td>43</td>\n",
       "      <td>2</td>\n",
       "      <td>1.0</td>\n",
       "      <td>1</td>\n",
       "      <td>1</td>\n",
       "      <td>1</td>\n",
       "      <td>79084.10</td>\n",
       "      <td>0</td>\n",
       "      <td>1</td>\n",
       "      <td>0</td>\n",
       "    </tr>\n",
       "  </tbody>\n",
       "</table>\n",
       "</div>"
      ],
      "text/plain": [
       "   CreditScore  Geography  Age  Tenure  Balance  NumOfProducts  HasCrCard  \\\n",
       "0          619          0   42       2      0.0              1          1   \n",
       "1          608          2   41       1      0.0              1          0   \n",
       "2          502          0   42       8      1.0              3          1   \n",
       "3          699          0   39       1      0.0              2          0   \n",
       "4          850          2   43       2      1.0              1          1   \n",
       "\n",
       "   IsActiveMember  EstimatedSalary  Exited  Gender_Female  Gender_Male  \n",
       "0               1        101348.88       1              1            0  \n",
       "1               1        112542.58       0              1            0  \n",
       "2               0        113931.57       1              1            0  \n",
       "3               0         93826.63       0              1            0  \n",
       "4               1         79084.10       0              1            0  "
      ]
     },
     "execution_count": 30,
     "metadata": {
      "tags": []
     },
     "output_type": "execute_result"
    }
   ],
   "source": [
    "data_encoder_feselection = data_encoder.copy()\n",
    "# AttList = [\"Surname\", \"RowNumber\", \"CustomerId\"]\n",
    "# data_encoder_feselection = data_encoder_feselection.drop(AttList,  axis=1)\n",
    "print(data_encoder_feselection.shape)\n",
    "data_encoder_feselection.head()"
   ]
  },
  {
   "cell_type": "code",
   "execution_count": 31,
   "metadata": {
    "_uuid": "8c1b3a87174a5d2b87af9cc23b4f9b2f0df37559",
    "colab": {
     "base_uri": "https://localhost:8080/",
     "height": 51
    },
    "colab_type": "code",
    "id": "bVgwvQ-sZHTY",
    "inputHidden": false,
    "outputHidden": false,
    "outputId": "7f8da93a-86c4-4ce7-d1ef-d88c578f9c30"
   },
   "outputs": [
    {
     "name": "stdout",
     "output_type": "stream",
     "text": [
      "Train rows and columns :  (6000, 11)\n",
      "Test rows and columns :  (4000, 11)\n"
     ]
    }
   ],
   "source": [
    "# Split Train and Test and check shape \n",
    "data_train_encoder_feselection, target_train_encoder_feselection, data_test_encoder_feselection, target_test_encoder_feselection = SplitDataFrameToTrainAndTest(data_encoder_feselection, 0.6, 'Exited')\n",
    "PrintTrainTestInformation(data_train_encoder_feselection, target_train_encoder_feselection, data_test_encoder_feselection, target_test_encoder_feselection)"
   ]
  },
  {
   "cell_type": "code",
   "execution_count": 32,
   "metadata": {
    "_uuid": "53770b786bd5f8c1dafc30a7e2a5c545998807dc",
    "colab": {
     "base_uri": "https://localhost:8080/",
     "height": 136
    },
    "colab_type": "code",
    "id": "ESjxO2ICZHTa",
    "inputHidden": false,
    "outputHidden": false,
    "outputId": "84ad6927-ca9d-4bdd-85fb-9e3a788048ef"
   },
   "outputs": [
    {
     "name": "stdout",
     "output_type": "stream",
     "text": [
      "Naive Bayes accuracy: 0.770\n",
      "Logistic Regression accuracy: 0.785\n",
      "Random Forest accuracy: 0.846000\n",
      "Linear SVM accuracy: 0.798250\n",
      "RBF SVM accuracy: 0.798250\n",
      "K Nearest Neighbor accuracy: 0.736250\n",
      "ANN accuracy: 0.798000\n"
     ]
    }
   ],
   "source": [
    "# Retest all traditional classification approaches\n",
    "X_train = data_train_encoder\n",
    "y_train = target_train_encoder\n",
    "X_test = data_test_encoder\n",
    "y_test = target_test_encoder\n",
    "\n",
    "MachineLearningModelEvaluate(X_train, y_train, X_test, y_test)"
   ]
  },
  {
   "cell_type": "code",
   "execution_count": 33,
   "metadata": {
    "_uuid": "09641944a5cc686e59fc353fd26fef1383fba49f",
    "colab": {
     "base_uri": "https://localhost:8080/",
     "height": 136
    },
    "colab_type": "code",
    "id": "nnOyl2YEZHTb",
    "inputHidden": false,
    "outputHidden": false,
    "outputId": "92ea9e64-2b53-4ad4-8635-1135472fa97e"
   },
   "outputs": [
    {
     "name": "stdout",
     "output_type": "stream",
     "text": [
      "Naive Bayes accuracy: 0.770\n",
      "Logistic Regression accuracy: 0.785\n",
      "Random Forest accuracy: 0.840000\n",
      "Linear SVM accuracy: 0.798250\n",
      "RBF SVM accuracy: 0.798250\n",
      "K Nearest Neighbor accuracy: 0.736250\n",
      "ANN accuracy: 0.797500\n"
     ]
    }
   ],
   "source": [
    "# Retest all traditional classification approaches\n",
    "X_train = data_train_encoder_feselection\n",
    "y_train = target_train_encoder_feselection\n",
    "X_test = data_test_encoder_feselection\n",
    "y_test = target_test_encoder_feselection\n",
    "\n",
    "MachineLearningModelEvaluate(X_train, y_train, X_test, y_test)"
   ]
  },
  {
   "cell_type": "markdown",
   "metadata": {
    "_uuid": "143dc9ac38cdb09259230a079ba767e9982fd086",
    "colab_type": "text",
    "id": "q6xzyKiiZHTd"
   },
   "source": [
    "## Feature Importances"
   ]
  },
  {
   "cell_type": "code",
   "execution_count": 71,
   "metadata": {
    "_uuid": "641761052d4d607395296d13621b9123e0e75d4d",
    "colab": {
     "base_uri": "https://localhost:8080/",
     "height": 393
    },
    "colab_type": "code",
    "id": "zscJywimZHTe",
    "inputHidden": false,
    "outputHidden": false,
    "outputId": "c2b69522-7e87-4e9b-d2c9-88adfce8d320"
   },
   "outputs": [
    {
     "name": "stdout",
     "output_type": "stream",
     "text": [
      "(6000, 11)\n"
     ]
    },
    {
     "data": {
      "image/png": "[encoded data removed]",
      "text/plain": [
       "<Figure size 576x396 with 1 Axes>"
      ]
     },
     "metadata": {
      "tags": []
     },
     "output_type": "display_data"
    }
   ],
   "source": [
    "model = RandomForestRegressor(random_state=1, max_depth=10)\n",
    "model.fit(data_train_encoder,target_train_encoder.values.ravel())\n",
    "\n",
    "print(data_train_encoder.shape)\n",
    "features = data_train_encoder.columns\n",
    "importances = model.feature_importances_\n",
    "indices = np.argsort(importances)[-len(features):]  # top features\n",
    "plt.title('Feature Importances')\n",
    "plt.barh(range(len(indices)), importances[indices], color='b', align='center')\n",
    "plt.yticks(range(len(indices)), [features[i] for i in indices])\n",
    "plt.xlabel('Relative Importance')\n",
    "plt.show()"
   ]
  },
  {
   "cell_type": "code",
   "execution_count": 72,
   "metadata": {
    "_uuid": "281000a95e0aa5bc1407d197632b02806ea15b01",
    "colab": {
     "base_uri": "https://localhost:8080/",
     "height": 204
    },
    "colab_type": "code",
    "id": "E_lVAh25ZHTh",
    "inputHidden": false,
    "outputHidden": false,
    "outputId": "34d5dbfa-414a-43bd-9f91-458815d30d54"
   },
   "outputs": [
    {
     "name": "stdout",
     "output_type": "stream",
     "text": [
      "Variable: Age                  Importance: 0.32\n",
      "Variable: NumOfProducts        Importance: 0.18\n",
      "Variable: EstimatedSalary      Importance: 0.14\n",
      "Variable: CreditScore          Importance: 0.13\n",
      "Variable: IsActiveMember       Importance: 0.09\n",
      "Variable: Tenure               Importance: 0.06\n",
      "Variable: Geography            Importance: 0.04\n",
      "Variable: Balance              Importance: 0.02\n",
      "Variable: HasCrCard            Importance: 0.01\n",
      "Variable: Gender_Female        Importance: 0.01\n",
      "Variable: Gender_Male          Importance: 0.01\n"
     ]
    }
   ],
   "source": [
    "# Get numerical feature importances\n",
    "feature_list = list(data_train_encoder.columns)\n",
    "importances = list(model.feature_importances_)\n",
    "# List of tuples with variable and importance\n",
    "feature_importances = [(feature, round(importance, 2)) for feature, importance in zip(feature_list, importances)]\n",
    "# Sort the feature importances by most important first\n",
    "feature_importances = sorted(feature_importances, key = lambda x: x[1], reverse = True)\n",
    "# Print out the feature and importances \n",
    "[print('Variable: {:20} Importance: {}'.format(*pair)) for pair in feature_importances];"
   ]
  },
  {
   "cell_type": "code",
   "execution_count": 74,
   "metadata": {
    "_uuid": "38c6134e494a22e9d15fac4908ba44ceadbede3a",
    "colab": {
     "base_uri": "https://localhost:8080/",
     "height": 51
    },
    "colab_type": "code",
    "id": "Wz0Dbb9BZHTk",
    "inputHidden": false,
    "outputHidden": false,
    "outputId": "d33bc031-a787-4d7e-ff80-e328b7747c44"
   },
   "outputs": [
    {
     "name": "stdout",
     "output_type": "stream",
     "text": [
      "Train rows and columns :  (6000, 7)\n",
      "Test rows and columns :  (4000, 7)\n"
     ]
    }
   ],
   "source": [
    "# Split Train and Test and check shape \n",
    "AttSelection = [\"Age\", \"NumOfProducts\", \"EstimatedSalary\", \"CreditScore\", \"Tenure\", \"Geography\", \"Balance\",\n",
    "                \"Exited\"]\n",
    "\n",
    "data_train_encoder_feselection02, target_train_encoder_feselection02, data_test_encoder_feselection02, target_test_encoder_feselection02 = SplitDataFrameToTrainAndTest(data_encoder[AttSelection], 0.6, 'Exited')\n",
    "PrintTrainTestInformation(data_train_encoder_feselection02, target_train_encoder_feselection02, data_test_encoder_feselection02, target_test_encoder_feselection02)"
   ]
  },
  {
   "cell_type": "code",
   "execution_count": 75,
   "metadata": {
    "_uuid": "110fdd7893da577d8074a2fa85c0748b50544b9c",
    "colab": {
     "base_uri": "https://localhost:8080/",
     "height": 136
    },
    "colab_type": "code",
    "id": "pgc-vtR5ZHTn",
    "inputHidden": false,
    "outputHidden": false,
    "outputId": "524ed5ec-167c-4bd6-a1ab-0426a679a063"
   },
   "outputs": [
    {
     "name": "stdout",
     "output_type": "stream",
     "text": [
      "Naive Bayes accuracy: 0.767\n",
      "Logistic Regression accuracy: 0.784\n",
      "Random Forest accuracy: 0.830750\n",
      "Linear SVM accuracy: 0.798250\n",
      "RBF SVM accuracy: 0.798250\n",
      "K Nearest Neighbor accuracy: 0.736000\n",
      "ANN accuracy: 0.798750\n"
     ]
    }
   ],
   "source": [
    "# Retest all traditional classification approaches\n",
    "X_train = data_train_encoder_feselection02\n",
    "y_train = target_train_encoder_feselection02\n",
    "X_test = data_test_encoder_feselection02\n",
    "y_test = target_test_encoder_feselection02\n",
    "\n",
    "MachineLearningModelEvaluate(X_train, y_train, X_test, y_test)"
   ]
  },
  {
   "cell_type": "code",
   "execution_count": 38,
   "metadata": {
    "_uuid": "bc20f0cba4d276f5b8dbbf96c6fcc58b0cb8dcde",
    "colab": {
     "base_uri": "https://localhost:8080/",
     "height": 390
    },
    "colab_type": "code",
    "id": "V3CR9sltZHTo",
    "inputHidden": false,
    "outputHidden": false,
    "outputId": "802e25e9-fd2f-4ada-cf64-38b3f85a11cc"
   },
   "outputs": [
    {
     "data": {
      "text/html": [
       "<div>\n",
       "<style scoped>\n",
       "    .dataframe tbody tr th:only-of-type {\n",
       "        vertical-align: middle;\n",
       "    }\n",
       "\n",
       "    .dataframe tbody tr th {\n",
       "        vertical-align: top;\n",
       "    }\n",
       "\n",
       "    .dataframe thead th {\n",
       "        text-align: right;\n",
       "    }\n",
       "</style>\n",
       "<table border=\"1\" class=\"dataframe\">\n",
       "  <thead>\n",
       "    <tr style=\"text-align: right;\">\n",
       "      <th></th>\n",
       "      <th>Attributes</th>\n",
       "      <th>Ranking</th>\n",
       "      <th>Support</th>\n",
       "    </tr>\n",
       "  </thead>\n",
       "  <tbody>\n",
       "    <tr>\n",
       "      <th>0</th>\n",
       "      <td>CreditScore</td>\n",
       "      <td>1</td>\n",
       "      <td>True</td>\n",
       "    </tr>\n",
       "    <tr>\n",
       "      <th>1</th>\n",
       "      <td>Geography</td>\n",
       "      <td>1</td>\n",
       "      <td>True</td>\n",
       "    </tr>\n",
       "    <tr>\n",
       "      <th>2</th>\n",
       "      <td>Age</td>\n",
       "      <td>1</td>\n",
       "      <td>True</td>\n",
       "    </tr>\n",
       "    <tr>\n",
       "      <th>3</th>\n",
       "      <td>Tenure</td>\n",
       "      <td>1</td>\n",
       "      <td>True</td>\n",
       "    </tr>\n",
       "    <tr>\n",
       "      <th>4</th>\n",
       "      <td>Balance</td>\n",
       "      <td>1</td>\n",
       "      <td>True</td>\n",
       "    </tr>\n",
       "    <tr>\n",
       "      <th>5</th>\n",
       "      <td>NumOfProducts</td>\n",
       "      <td>1</td>\n",
       "      <td>True</td>\n",
       "    </tr>\n",
       "    <tr>\n",
       "      <th>6</th>\n",
       "      <td>HasCrCard</td>\n",
       "      <td>1</td>\n",
       "      <td>True</td>\n",
       "    </tr>\n",
       "    <tr>\n",
       "      <th>7</th>\n",
       "      <td>IsActiveMember</td>\n",
       "      <td>1</td>\n",
       "      <td>True</td>\n",
       "    </tr>\n",
       "    <tr>\n",
       "      <th>9</th>\n",
       "      <td>Gender_Female</td>\n",
       "      <td>1</td>\n",
       "      <td>True</td>\n",
       "    </tr>\n",
       "    <tr>\n",
       "      <th>10</th>\n",
       "      <td>Gender_Male</td>\n",
       "      <td>1</td>\n",
       "      <td>True</td>\n",
       "    </tr>\n",
       "    <tr>\n",
       "      <th>8</th>\n",
       "      <td>EstimatedSalary</td>\n",
       "      <td>2</td>\n",
       "      <td>False</td>\n",
       "    </tr>\n",
       "  </tbody>\n",
       "</table>\n",
       "</div>"
      ],
      "text/plain": [
       "         Attributes Ranking Support\n",
       "0       CreditScore       1    True\n",
       "1         Geography       1    True\n",
       "2               Age       1    True\n",
       "3            Tenure       1    True\n",
       "4           Balance       1    True\n",
       "5     NumOfProducts       1    True\n",
       "6         HasCrCard       1    True\n",
       "7    IsActiveMember       1    True\n",
       "9     Gender_Female       1    True\n",
       "10      Gender_Male       1    True\n",
       "8   EstimatedSalary       2   False"
      ]
     },
     "execution_count": 38,
     "metadata": {
      "tags": []
     },
     "output_type": "execute_result"
    }
   ],
   "source": [
    "from sklearn.feature_selection import RFE\n",
    "from sklearn.linear_model import LogisticRegression\n",
    "import pandas as pd\n",
    "from sklearn.svm import SVR\n",
    "\n",
    "# Retest all traditional classification approaches\n",
    "X_train = data_train_encoder\n",
    "y_train = target_train_encoder\n",
    "X_test = data_test_encoder\n",
    "y_test = target_test_encoder\n",
    "\n",
    "LRModel = LogisticRegressionLearning(X_train, y_train)\n",
    "model = LRModel\n",
    "rfe = RFE(model, 10)\n",
    "rfe = rfe.fit(X_train, y_train.values.ravel())\n",
    "\n",
    "feature_list = list(X_train.columns)\n",
    "RankStatistics = pd.DataFrame(columns=['Attributes', 'Ranking', 'Support'])\n",
    "for i, att, rank, suppport in zip(range(len(feature_list)), feature_list, rfe.ranking_, rfe.support_):\n",
    "    RankStatistics.loc[i] = [att, rank, suppport]\n",
    "RankStatistics = RankStatistics.sort_values('Ranking')\n",
    "\n",
    "RankStatistics"
   ]
  },
  {
   "cell_type": "code",
   "execution_count": 39,
   "metadata": {
    "_uuid": "894e63efa5309e758cb46fc6341b9d8c04b9d922",
    "colab": {
     "base_uri": "https://localhost:8080/",
     "height": 51
    },
    "colab_type": "code",
    "id": "ERyxF3nsZHTs",
    "inputHidden": false,
    "outputHidden": false,
    "outputId": "959a0e3c-f4c3-40bc-b832-01edf51c461b"
   },
   "outputs": [
    {
     "name": "stdout",
     "output_type": "stream",
     "text": [
      "Train rows and columns :  (6000, 10)\n",
      "Test rows and columns :  (4000, 10)\n"
     ]
    }
   ],
   "source": [
    "# Split Train and Test and check shape \n",
    "AttSelection = RankStatistics[(RankStatistics[\"Support\"] == True)]\n",
    "AttSelection = list(filter(lambda a: a not in [\"CustomerId\", \"Surname\"], AttSelection[\"Attributes\"]))\n",
    "AttSelection = AttSelection + ['Exited']\n",
    "\n",
    "data_train_encoder_feselection03, target_train_encoder_feselection03, data_test_encoder_feselection03, target_test_encoder_feselection03 = SplitDataFrameToTrainAndTest(data_encoder[AttSelection], 0.6, 'Exited')\n",
    "PrintTrainTestInformation(data_train_encoder_feselection03, target_train_encoder_feselection03, data_test_encoder_feselection03, target_test_encoder_feselection03)"
   ]
  },
  {
   "cell_type": "code",
   "execution_count": 40,
   "metadata": {
    "_uuid": "81187d8dc21de43592643abcfa60e5a30239b667",
    "colab": {
     "base_uri": "https://localhost:8080/",
     "height": 136
    },
    "colab_type": "code",
    "id": "rDLUhPGoZHTt",
    "inputHidden": false,
    "outputHidden": false,
    "outputId": "23f26932-a7c3-4425-b3d2-eb0e8fecef98"
   },
   "outputs": [
    {
     "name": "stdout",
     "output_type": "stream",
     "text": [
      "Naive Bayes accuracy: 0.818\n",
      "Logistic Regression accuracy: 0.803\n",
      "Random Forest accuracy: 0.841000\n",
      "Linear SVM accuracy: 0.795500\n",
      "RBF SVM accuracy: 0.798250\n",
      "K Nearest Neighbor accuracy: 0.772750\n",
      "ANN accuracy: 0.806750\n"
     ]
    }
   ],
   "source": [
    "# Retest all traditional classification approaches\n",
    "X_train = data_train_encoder_feselection03\n",
    "y_train = target_train_encoder_feselection03\n",
    "X_test = data_test_encoder_feselection03\n",
    "y_test = target_test_encoder_feselection03\n",
    "\n",
    "MachineLearningModelEvaluate(X_train, y_train, X_test, y_test)"
   ]
  },
  {
   "cell_type": "markdown",
   "metadata": {
    "_uuid": "5789fb3ae2ddd74ea5ca4badade2fd3ffe4ce62a",
    "colab_type": "text",
    "id": "JzMd7VMUZHTw"
   },
   "source": [
    "# **Approach 2 (Feature Reduction)**"
   ]
  },
  {
   "cell_type": "code",
   "execution_count": 41,
   "metadata": {
    "_uuid": "01a6df5e99beb8c5b9cea6407acaf0510ad49b34",
    "colab": {
     "base_uri": "https://localhost:8080/",
     "height": 376
    },
    "colab_type": "code",
    "id": "coRM9TVpZHTx",
    "inputHidden": false,
    "outputHidden": false,
    "outputId": "157a9811-6009-4bfb-c781-8f3568c1c334"
   },
   "outputs": [
    {
     "data": {
      "text/html": [
       "<div>\n",
       "<style scoped>\n",
       "    .dataframe tbody tr th:only-of-type {\n",
       "        vertical-align: middle;\n",
       "    }\n",
       "\n",
       "    .dataframe tbody tr th {\n",
       "        vertical-align: top;\n",
       "    }\n",
       "\n",
       "    .dataframe thead th {\n",
       "        text-align: right;\n",
       "    }\n",
       "</style>\n",
       "<table border=\"1\" class=\"dataframe\">\n",
       "  <thead>\n",
       "    <tr style=\"text-align: right;\">\n",
       "      <th></th>\n",
       "      <th>principal component1</th>\n",
       "      <th>principal component2</th>\n",
       "      <th>principal component3</th>\n",
       "      <th>principal component4</th>\n",
       "      <th>principal component5</th>\n",
       "      <th>principal component6</th>\n",
       "      <th>principal component7</th>\n",
       "      <th>principal component8</th>\n",
       "      <th>Exited</th>\n",
       "    </tr>\n",
       "  </thead>\n",
       "  <tbody>\n",
       "    <tr>\n",
       "      <th>0</th>\n",
       "      <td>-0.210853</td>\n",
       "      <td>0.884002</td>\n",
       "      <td>1.446764</td>\n",
       "      <td>0.278925</td>\n",
       "      <td>-0.634165</td>\n",
       "      <td>0.096706</td>\n",
       "      <td>-0.253957</td>\n",
       "      <td>-0.944001</td>\n",
       "      <td>1</td>\n",
       "    </tr>\n",
       "    <tr>\n",
       "      <th>1</th>\n",
       "      <td>-0.569838</td>\n",
       "      <td>1.195424</td>\n",
       "      <td>0.047422</td>\n",
       "      <td>0.380679</td>\n",
       "      <td>0.028651</td>\n",
       "      <td>-1.688115</td>\n",
       "      <td>-0.447760</td>\n",
       "      <td>-1.349368</td>\n",
       "      <td>0</td>\n",
       "    </tr>\n",
       "    <tr>\n",
       "      <th>2</th>\n",
       "      <td>0.869274</td>\n",
       "      <td>-1.103759</td>\n",
       "      <td>0.016253</td>\n",
       "      <td>1.523084</td>\n",
       "      <td>0.787701</td>\n",
       "      <td>0.617678</td>\n",
       "      <td>0.319225</td>\n",
       "      <td>2.904623</td>\n",
       "      <td>1</td>\n",
       "    </tr>\n",
       "    <tr>\n",
       "      <th>3</th>\n",
       "      <td>1.128893</td>\n",
       "      <td>-0.151478</td>\n",
       "      <td>1.081788</td>\n",
       "      <td>-0.534498</td>\n",
       "      <td>-0.756419</td>\n",
       "      <td>-0.618177</td>\n",
       "      <td>1.185436</td>\n",
       "      <td>0.322298</td>\n",
       "      <td>0</td>\n",
       "    </tr>\n",
       "    <tr>\n",
       "      <th>4</th>\n",
       "      <td>-1.923635</td>\n",
       "      <td>1.451394</td>\n",
       "      <td>-1.077486</td>\n",
       "      <td>-1.795071</td>\n",
       "      <td>-0.735991</td>\n",
       "      <td>-0.963920</td>\n",
       "      <td>-0.146821</td>\n",
       "      <td>0.122698</td>\n",
       "      <td>0</td>\n",
       "    </tr>\n",
       "    <tr>\n",
       "      <th>5</th>\n",
       "      <td>0.847114</td>\n",
       "      <td>-0.370761</td>\n",
       "      <td>-1.909737</td>\n",
       "      <td>0.815389</td>\n",
       "      <td>0.614184</td>\n",
       "      <td>-0.434943</td>\n",
       "      <td>0.884744</td>\n",
       "      <td>-0.210759</td>\n",
       "      <td>1</td>\n",
       "    </tr>\n",
       "    <tr>\n",
       "      <th>6</th>\n",
       "      <td>0.937177</td>\n",
       "      <td>1.788649</td>\n",
       "      <td>0.042209</td>\n",
       "      <td>-1.637323</td>\n",
       "      <td>0.347318</td>\n",
       "      <td>1.693827</td>\n",
       "      <td>0.486942</td>\n",
       "      <td>0.326536</td>\n",
       "      <td>0</td>\n",
       "    </tr>\n",
       "    <tr>\n",
       "      <th>7</th>\n",
       "      <td>3.409745</td>\n",
       "      <td>-1.006174</td>\n",
       "      <td>0.435076</td>\n",
       "      <td>2.204620</td>\n",
       "      <td>1.414215</td>\n",
       "      <td>-1.814186</td>\n",
       "      <td>-0.327603</td>\n",
       "      <td>2.408140</td>\n",
       "      <td>1</td>\n",
       "    </tr>\n",
       "    <tr>\n",
       "      <th>8</th>\n",
       "      <td>-0.565255</td>\n",
       "      <td>0.566436</td>\n",
       "      <td>1.276217</td>\n",
       "      <td>1.057400</td>\n",
       "      <td>0.478299</td>\n",
       "      <td>0.262575</td>\n",
       "      <td>-0.764268</td>\n",
       "      <td>1.755141</td>\n",
       "      <td>0</td>\n",
       "    </tr>\n",
       "    <tr>\n",
       "      <th>9</th>\n",
       "      <td>-1.303973</td>\n",
       "      <td>-0.089951</td>\n",
       "      <td>1.253032</td>\n",
       "      <td>-1.072287</td>\n",
       "      <td>-0.924581</td>\n",
       "      <td>-0.059585</td>\n",
       "      <td>-1.356978</td>\n",
       "      <td>0.445756</td>\n",
       "      <td>0</td>\n",
       "    </tr>\n",
       "  </tbody>\n",
       "</table>\n",
       "</div>"
      ],
      "text/plain": [
       "   principal component1  principal component2  principal component3  \\\n",
       "0             -0.210853              0.884002              1.446764   \n",
       "1             -0.569838              1.195424              0.047422   \n",
       "2              0.869274             -1.103759              0.016253   \n",
       "3              1.128893             -0.151478              1.081788   \n",
       "4             -1.923635              1.451394             -1.077486   \n",
       "5              0.847114             -0.370761             -1.909737   \n",
       "6              0.937177              1.788649              0.042209   \n",
       "7              3.409745             -1.006174              0.435076   \n",
       "8             -0.565255              0.566436              1.276217   \n",
       "9             -1.303973             -0.089951              1.253032   \n",
       "\n",
       "   principal component4  principal component5  principal component6  \\\n",
       "0              0.278925             -0.634165              0.096706   \n",
       "1              0.380679              0.028651             -1.688115   \n",
       "2              1.523084              0.787701              0.617678   \n",
       "3             -0.534498             -0.756419             -0.618177   \n",
       "4             -1.795071             -0.735991             -0.963920   \n",
       "5              0.815389              0.614184             -0.434943   \n",
       "6             -1.637323              0.347318              1.693827   \n",
       "7              2.204620              1.414215             -1.814186   \n",
       "8              1.057400              0.478299              0.262575   \n",
       "9             -1.072287             -0.924581             -0.059585   \n",
       "\n",
       "   principal component7  principal component8  Exited  \n",
       "0             -0.253957             -0.944001       1  \n",
       "1             -0.447760             -1.349368       0  \n",
       "2              0.319225              2.904623       1  \n",
       "3              1.185436              0.322298       0  \n",
       "4             -0.146821              0.122698       0  \n",
       "5              0.884744             -0.210759       1  \n",
       "6              0.486942              0.326536       0  \n",
       "7             -0.327603              2.408140       1  \n",
       "8             -0.764268              1.755141       0  \n",
       "9             -1.356978              0.445756       0  "
      ]
     },
     "execution_count": 41,
     "metadata": {
      "tags": []
     },
     "output_type": "execute_result"
    }
   ],
   "source": [
    "# Feature Reduction: Dimensionality Reduction with PCA.\n",
    "import pandas as pd\n",
    "from sklearn.preprocessing import StandardScaler\n",
    "from sklearn.decomposition import PCA\n",
    "\n",
    "AttRemoved = [\"RowNumber\", \"CustomerId\", \"Surname\", \"HasCrCard\", \"Gender_Male\", \"Gender_Female\"]\n",
    "DataFrame = data_encoder\n",
    "hr_vars = DataFrame.columns.values.tolist()\n",
    "hr_vars = list(filter(lambda a: a not in AttRemoved, hr_vars))\n",
    "targets = ['Exited']\n",
    "features = [i for i in hr_vars if i not in targets]\n",
    "\n",
    "# Separating out the features\n",
    "x = DataFrame.loc[:, features].values\n",
    "# Separating out the target\n",
    "y = DataFrame.loc[:, ['Exited']].values\n",
    "# Standardizing the features\n",
    "x = StandardScaler().fit_transform(x)\n",
    "\n",
    "nSelectedFeature = len(hr_vars) - 1\n",
    "SelectedAttList = []\n",
    "for i in range(1, nSelectedFeature + 1):\n",
    "    SelectedAttList.append(\"principal component\" + str(i))\n",
    "\n",
    "\n",
    "pca = PCA(n_components=nSelectedFeature)\n",
    "principalComponents = pca.fit_transform(x)\n",
    "principalDf = pd.DataFrame(data=principalComponents, columns=SelectedAttList)\n",
    "PCAdf = pd.concat([principalDf, DataFrame[targets]], axis=1)\n",
    "PCAdf = PCAdf.dropna()\n",
    "PCAdata = PCAdf\n",
    "\n",
    "PCAdata.head(10)"
   ]
  },
  {
   "cell_type": "code",
   "execution_count": 42,
   "metadata": {
    "_uuid": "429dafdd4ba4927b738322fa57af4308f29732f1",
    "colab": {
     "base_uri": "https://localhost:8080/",
     "height": 51
    },
    "colab_type": "code",
    "id": "InZlVAEcZHT4",
    "inputHidden": false,
    "outputHidden": false,
    "outputId": "6d8b4f31-a221-488f-b9c1-e4394d081650"
   },
   "outputs": [
    {
     "name": "stdout",
     "output_type": "stream",
     "text": [
      "Train rows and columns :  (6000, 8)\n",
      "Test rows and columns :  (4000, 8)\n"
     ]
    }
   ],
   "source": [
    "PCAdata_train, PCAtarget_train, PCAdata_test, PCAtarget_test = SplitDataFrameToTrainAndTest(PCAdata, 0.6, 'Exited')\n",
    "PrintTrainTestInformation(PCAdata_train, PCAtarget_train, PCAdata_test, PCAtarget_test)"
   ]
  },
  {
   "cell_type": "code",
   "execution_count": 43,
   "metadata": {
    "_uuid": "580b7ddb378efad0d53ce91355db502f6cfb6799",
    "colab": {
     "base_uri": "https://localhost:8080/",
     "height": 136
    },
    "colab_type": "code",
    "id": "ygmgwfobZHT7",
    "inputHidden": false,
    "outputHidden": false,
    "outputId": "2ed91fb5-0096-489b-b3fc-555fbf1612fc"
   },
   "outputs": [
    {
     "name": "stdout",
     "output_type": "stream",
     "text": [
      "Naive Bayes accuracy: 0.827\n",
      "Logistic Regression accuracy: 0.802\n",
      "Random Forest accuracy: 0.839000\n",
      "Linear SVM accuracy: 0.853500\n",
      "RBF SVM accuracy: 0.810500\n",
      "K Nearest Neighbor accuracy: 0.817500\n",
      "ANN accuracy: 0.850500\n"
     ]
    }
   ],
   "source": [
    "# Retest all traditional classification approaches\n",
    "X_train = PCAdata_train\n",
    "y_train = PCAtarget_train\n",
    "X_test = PCAdata_test\n",
    "y_test = PCAtarget_test\n",
    "\n",
    "MachineLearningModelEvaluate(X_train, y_train, X_test, y_test)"
   ]
  },
  {
   "cell_type": "code",
   "execution_count": 44,
   "metadata": {
    "_uuid": "69516401a4b0c19c942cbde0a092bf575de196d4",
    "colab": {
     "base_uri": "https://localhost:8080/",
     "height": 362
    },
    "colab_type": "code",
    "id": "2dsVQfMPZHT9",
    "inputHidden": false,
    "outputHidden": false,
    "outputId": "5be54efc-6753-4046-938b-96b40ee484d1"
   },
   "outputs": [
    {
     "data": {
      "image/png": "[encoded data removed]",
      "text/plain": [
       "<Figure size 576x396 with 1 Axes>"
      ]
     },
     "metadata": {
      "tags": []
     },
     "output_type": "display_data"
    }
   ],
   "source": [
    "import matplotlib.pyplot as plt\n",
    "\n",
    "cum_explained_var = []\n",
    "for i in range(0, len(pca.explained_variance_ratio_)):\n",
    "    if i == 0:\n",
    "        cum_explained_var.append(pca.explained_variance_ratio_[i])\n",
    "    else:\n",
    "        cum_explained_var.append(pca.explained_variance_ratio_[i] +\n",
    "                                 cum_explained_var[i - 1])\n",
    "\n",
    "x_val = range(1, len(cum_explained_var) + 1)\n",
    "y_val = cum_explained_var\n",
    "\n",
    "fig = plt.figure()\n",
    "plt.plot(x_val, y_val)\n",
    "plt.plot(x_val, y_val, 'or')\n",
    "plt.title(\"PCA Accumulative Explained Variance\")\n",
    "plt.xticks(range(1, len(cum_explained_var) + 1))\n",
    "plt.grid(True)\n",
    "plt.show()"
   ]
  },
  {
   "cell_type": "code",
   "execution_count": 45,
   "metadata": {
    "_uuid": "c409602c859a57843cf7286cf0f17bc5b8ff36f0",
    "colab": {
     "base_uri": "https://localhost:8080/",
     "height": 88
    },
    "colab_type": "code",
    "id": "HzjhuHy_ZHUB",
    "inputHidden": false,
    "outputHidden": false,
    "outputId": "1073f7d5-e7a4-4957-ee39-275874994bf9"
   },
   "outputs": [
    {
     "name": "stdout",
     "output_type": "stream",
     "text": [
      "['principal component1', 'principal component2', 'principal component3', 'principal component4', 'principal component5', 'principal component6', 'principal component7', 'principal component8', 'Exited']\n",
      "Train rows and columns :  (6000, 8)\n",
      "Test rows and columns :  (4000, 8)\n"
     ]
    }
   ],
   "source": [
    "AttSelection = PCAdata.columns.values.tolist()\n",
    "AttSelection = AttSelection[:15]\n",
    "if AttSelection[len(AttSelection)-1] != 'Exited' :\n",
    "    AttSelection = AttSelection + ['Exited']\n",
    "print(AttSelection)\n",
    "\n",
    "PCAdata_train_feReduction, PCAtarget_train_feReduction, PCAdata_test_feReduction, PCAtarget_test_feReduction = SplitDataFrameToTrainAndTest(PCAdata[AttSelection], 0.6, 'Exited')\n",
    "PrintTrainTestInformation(PCAdata_train_feReduction, PCAtarget_train_feReduction, PCAdata_test_feReduction, PCAtarget_test_feReduction)"
   ]
  },
  {
   "cell_type": "code",
   "execution_count": 46,
   "metadata": {
    "_uuid": "c054721b483cac35a0ba29ac78557bd24c955116",
    "colab": {
     "base_uri": "https://localhost:8080/",
     "height": 136
    },
    "colab_type": "code",
    "id": "ZCrtnI8KZHUC",
    "inputHidden": false,
    "outputHidden": false,
    "outputId": "89469295-40f4-43c5-d7a5-980ec2f8f73b"
   },
   "outputs": [
    {
     "name": "stdout",
     "output_type": "stream",
     "text": [
      "Naive Bayes accuracy: 0.827\n",
      "Logistic Regression accuracy: 0.802\n",
      "Random Forest accuracy: 0.839750\n",
      "Linear SVM accuracy: 0.853500\n",
      "RBF SVM accuracy: 0.810500\n",
      "K Nearest Neighbor accuracy: 0.817500\n",
      "ANN accuracy: 0.850750\n"
     ]
    }
   ],
   "source": [
    "# Retest all traditional classification approaches\n",
    "X_train = PCAdata_train_feReduction\n",
    "y_train = PCAtarget_train_feReduction\n",
    "X_test = PCAdata_test_feReduction\n",
    "y_test = PCAtarget_test_feReduction\n",
    "\n",
    "MachineLearningModelEvaluate(X_train, y_train, X_test, y_test)"
   ]
  },
  {
   "cell_type": "markdown",
   "metadata": {
    "_uuid": "00285d39e99efc1b17165c2be0f8374bc4318a1d",
    "colab_type": "text",
    "id": "wb3sdZE1ZHUE"
   },
   "source": [
    "# *Outlier Removal Approach*"
   ]
  },
  {
   "cell_type": "code",
   "execution_count": 47,
   "metadata": {
    "_uuid": "fcc1052d1cbc550acb6d2129b4d86606ad98835c",
    "colab": {
     "base_uri": "https://localhost:8080/",
     "height": 204
    },
    "colab_type": "code",
    "id": "c367SmHTZHUE",
    "inputHidden": false,
    "outputHidden": false,
    "outputId": "7e597496-f6d4-4238-99a2-ad0b8fa8d10e"
   },
   "outputs": [
    {
     "data": {
      "text/html": [
       "<div>\n",
       "<style scoped>\n",
       "    .dataframe tbody tr th:only-of-type {\n",
       "        vertical-align: middle;\n",
       "    }\n",
       "\n",
       "    .dataframe tbody tr th {\n",
       "        vertical-align: top;\n",
       "    }\n",
       "\n",
       "    .dataframe thead th {\n",
       "        text-align: right;\n",
       "    }\n",
       "</style>\n",
       "<table border=\"1\" class=\"dataframe\">\n",
       "  <thead>\n",
       "    <tr style=\"text-align: right;\">\n",
       "      <th></th>\n",
       "      <th>CreditScore</th>\n",
       "      <th>Geography</th>\n",
       "      <th>Age</th>\n",
       "      <th>Tenure</th>\n",
       "      <th>Balance</th>\n",
       "      <th>NumOfProducts</th>\n",
       "      <th>HasCrCard</th>\n",
       "      <th>IsActiveMember</th>\n",
       "      <th>EstimatedSalary</th>\n",
       "      <th>Exited</th>\n",
       "      <th>Gender_Female</th>\n",
       "      <th>Gender_Male</th>\n",
       "    </tr>\n",
       "  </thead>\n",
       "  <tbody>\n",
       "    <tr>\n",
       "      <th>0</th>\n",
       "      <td>619</td>\n",
       "      <td>0</td>\n",
       "      <td>42</td>\n",
       "      <td>2</td>\n",
       "      <td>0.0</td>\n",
       "      <td>1</td>\n",
       "      <td>1</td>\n",
       "      <td>1</td>\n",
       "      <td>101348.88</td>\n",
       "      <td>1</td>\n",
       "      <td>1</td>\n",
       "      <td>0</td>\n",
       "    </tr>\n",
       "    <tr>\n",
       "      <th>1</th>\n",
       "      <td>608</td>\n",
       "      <td>2</td>\n",
       "      <td>41</td>\n",
       "      <td>1</td>\n",
       "      <td>0.0</td>\n",
       "      <td>1</td>\n",
       "      <td>0</td>\n",
       "      <td>1</td>\n",
       "      <td>112542.58</td>\n",
       "      <td>0</td>\n",
       "      <td>1</td>\n",
       "      <td>0</td>\n",
       "    </tr>\n",
       "    <tr>\n",
       "      <th>2</th>\n",
       "      <td>502</td>\n",
       "      <td>0</td>\n",
       "      <td>42</td>\n",
       "      <td>8</td>\n",
       "      <td>1.0</td>\n",
       "      <td>3</td>\n",
       "      <td>1</td>\n",
       "      <td>0</td>\n",
       "      <td>113931.57</td>\n",
       "      <td>1</td>\n",
       "      <td>1</td>\n",
       "      <td>0</td>\n",
       "    </tr>\n",
       "    <tr>\n",
       "      <th>3</th>\n",
       "      <td>699</td>\n",
       "      <td>0</td>\n",
       "      <td>39</td>\n",
       "      <td>1</td>\n",
       "      <td>0.0</td>\n",
       "      <td>2</td>\n",
       "      <td>0</td>\n",
       "      <td>0</td>\n",
       "      <td>93826.63</td>\n",
       "      <td>0</td>\n",
       "      <td>1</td>\n",
       "      <td>0</td>\n",
       "    </tr>\n",
       "    <tr>\n",
       "      <th>4</th>\n",
       "      <td>850</td>\n",
       "      <td>2</td>\n",
       "      <td>43</td>\n",
       "      <td>2</td>\n",
       "      <td>1.0</td>\n",
       "      <td>1</td>\n",
       "      <td>1</td>\n",
       "      <td>1</td>\n",
       "      <td>79084.10</td>\n",
       "      <td>0</td>\n",
       "      <td>1</td>\n",
       "      <td>0</td>\n",
       "    </tr>\n",
       "  </tbody>\n",
       "</table>\n",
       "</div>"
      ],
      "text/plain": [
       "   CreditScore  Geography  Age  Tenure  Balance  NumOfProducts  HasCrCard  \\\n",
       "0          619          0   42       2      0.0              1          1   \n",
       "1          608          2   41       1      0.0              1          0   \n",
       "2          502          0   42       8      1.0              3          1   \n",
       "3          699          0   39       1      0.0              2          0   \n",
       "4          850          2   43       2      1.0              1          1   \n",
       "\n",
       "   IsActiveMember  EstimatedSalary  Exited  Gender_Female  Gender_Male  \n",
       "0               1        101348.88       1              1            0  \n",
       "1               1        112542.58       0              1            0  \n",
       "2               0        113931.57       1              1            0  \n",
       "3               0         93826.63       0              1            0  \n",
       "4               1         79084.10       0              1            0  "
      ]
     },
     "execution_count": 47,
     "metadata": {
      "tags": []
     },
     "output_type": "execute_result"
    }
   ],
   "source": [
    "data_encoder.head()"
   ]
  },
  {
   "cell_type": "code",
   "execution_count": 48,
   "metadata": {
    "_uuid": "f00ab214d2b76900dd8186ce84e49d5a41e74562",
    "colab": {
     "base_uri": "https://localhost:8080/",
     "height": 306
    },
    "colab_type": "code",
    "id": "1mAyQo7OZHUG",
    "inputHidden": false,
    "outputHidden": false,
    "outputId": "ed040a44-d71f-4664-cc3b-69c418d3fd1e"
   },
   "outputs": [
    {
     "name": "stdout",
     "output_type": "stream",
     "text": [
      "<class 'pandas.core.frame.DataFrame'>\n",
      "RangeIndex: 10000 entries, 0 to 9999\n",
      "Data columns (total 12 columns):\n",
      "CreditScore        10000 non-null int64\n",
      "Geography          10000 non-null int64\n",
      "Age                10000 non-null int64\n",
      "Tenure             10000 non-null int64\n",
      "Balance            10000 non-null float64\n",
      "NumOfProducts      10000 non-null int64\n",
      "HasCrCard          10000 non-null int64\n",
      "IsActiveMember     10000 non-null int64\n",
      "EstimatedSalary    10000 non-null float64\n",
      "Exited             10000 non-null int64\n",
      "Gender_Female      10000 non-null uint8\n",
      "Gender_Male        10000 non-null uint8\n",
      "dtypes: float64(2), int64(8), uint8(2)\n",
      "memory usage: 800.9 KB\n"
     ]
    }
   ],
   "source": [
    "data_encoder.info()"
   ]
  },
  {
   "cell_type": "code",
   "execution_count": 49,
   "metadata": {
    "_uuid": "483b1f13b23c9c0f428d3cef98f02bbd2583b125",
    "colab": {
     "base_uri": "https://localhost:8080/",
     "height": 136
    },
    "colab_type": "code",
    "id": "Dxzk6svmZHUI",
    "inputHidden": false,
    "outputHidden": false,
    "outputId": "4f47c381-1009-4465-c005-34e1e03242a8"
   },
   "outputs": [
    {
     "name": "stdout",
     "output_type": "stream",
     "text": [
      "Size of LOFOutlierIdx : 1656\n",
      "   index           LOF\n",
      "0   3871  9.000000e+09\n",
      "1   9409  9.000000e+09\n",
      "2    656  8.000000e+09\n",
      "3     17  8.000000e+09\n",
      "4    268  8.000000e+09\n"
     ]
    }
   ],
   "source": [
    "CheckOutlierAtt = ['CreditScore', 'Geography']\n",
    "LOFOutlierIdx01,LOFFactorData01 = DetectOutlierByLOF(data_encoder, AttList=CheckOutlierAtt, LOFThresh=3.0, neighbors = 10)\n",
    "\n",
    "print(\"Size of LOFOutlierIdx : \" + str(len(LOFOutlierIdx01)))\n",
    "print(LOFFactorData01.head())\n"
   ]
  },
  {
   "cell_type": "code",
   "execution_count": 50,
   "metadata": {
    "_uuid": "4f2fb829da843f23b7da6b7c3e7e67f48331248a",
    "colab": {
     "base_uri": "https://localhost:8080/",
     "height": 136
    },
    "colab_type": "code",
    "id": "qp61pobjZHUK",
    "inputHidden": false,
    "outputHidden": false,
    "outputId": "36299815-fbe6-45b5-a5cd-4fbaa8c6d6c6"
   },
   "outputs": [
    {
     "name": "stdout",
     "output_type": "stream",
     "text": [
      "Size of LOFOutlierIdx : 1020\n",
      "   index           LOF\n",
      "0   8174  8.000000e+09\n",
      "1   5881  8.000000e+09\n",
      "2   4402  8.000000e+09\n",
      "3   7122  8.000000e+09\n",
      "4   5228  8.000000e+09\n"
     ]
    }
   ],
   "source": [
    "CheckOutlierAtt = ['Age', 'Tenure', 'Balance']\n",
    "LOFOutlierIdx02,LOFFactorData02 = DetectOutlierByLOF(data_encoder, AttList=CheckOutlierAtt, LOFThresh=3.0, neighbors = 10)\n",
    "\n",
    "print(\"Size of LOFOutlierIdx : \" + str(len(LOFOutlierIdx02)))\n",
    "print(LOFFactorData02.head())"
   ]
  },
  {
   "cell_type": "code",
   "execution_count": 51,
   "metadata": {
    "_uuid": "9d9decb8523ec6a2c601b892d14c80a8598abce9",
    "colab": {
     "base_uri": "https://localhost:8080/",
     "height": 136
    },
    "colab_type": "code",
    "id": "Fn47vmy5ZHUM",
    "inputHidden": false,
    "outputHidden": false,
    "outputId": "01b60078-eebb-48eb-adc5-31527e7c039a"
   },
   "outputs": [
    {
     "name": "stdout",
     "output_type": "stream",
     "text": [
      "Size of LOFOutlierIdx : 0\n",
      "   index       LOF\n",
      "0   2813  2.275599\n",
      "1   8397  2.226634\n",
      "2   3470  2.079527\n",
      "3   4132  2.013270\n",
      "4   7478  2.001296\n"
     ]
    }
   ],
   "source": [
    "CheckOutlierAtt = ['HasCrCard', 'IsActiveMember', 'EstimatedSalary']\n",
    "LOFOutlierIdx03,LOFFactorData03 = DetectOutlierByLOF(data_encoder, AttList=CheckOutlierAtt, LOFThresh=3.0, neighbors = 10)\n",
    "\n",
    "print(\"Size of LOFOutlierIdx : \" + str(len(LOFOutlierIdx03)))\n",
    "print(LOFFactorData03.head())\n"
   ]
  },
  {
   "cell_type": "code",
   "execution_count": 52,
   "metadata": {
    "_uuid": "946471f7350b75fccb653d309917ee5e82304ef9",
    "colab": {
     "base_uri": "https://localhost:8080/",
     "height": 88
    },
    "colab_type": "code",
    "id": "mqxvD7KhZHUN",
    "inputHidden": false,
    "outputHidden": false,
    "outputId": "8d07cb5d-232f-4b01-e714-db50375a394f"
   },
   "outputs": [
    {
     "name": "stdout",
     "output_type": "stream",
     "text": [
      "LOFOutlierIdx01 :[3871, 9409, 656, 17, 268, 4792, 6836, 5589, 2233, 6095, 7587, 1053, 8489, 2243, 8782, 824, 3723, 4645, 6737, 394, 4018, 8195, 4288, 7134, 3806, 5927, 2554, 1119, 702, 5481, 5338, 6947, 1378, 3415, 5629, 9549, 9415, 5782, 2114, 9423, 8932, 2417, 7464, 4497, 5387, 7242, 6257, 5838, 9052, 5798, 8941, 7350, 2221, 4387, 6828, 7816, 1529, 6429, 9250, 5256, 8163, 8438, 4892, 7990, 4784, 823, 3809, 8420, 233, 5056, 4745, 3267, 7301, 8398, 8985, 8987, 2367, 8102, 4413, 7381, 536, 4459, 6436, 8953, 2290, 1786, 9576, 6432, 4438, 6411, 1289, 5220, 895, 3111, 2732, 1463, 5872, 7715, 7739, 4780, 7767, 6102, 9806, 6069, 5143, 255, 1662, 9732, 6037, 6028, 7872, 1600, 2627, 5082, 422, 8626, 4678, 8910, 1352, 1734, 4572, 7575, 6275, 7577, 194, 2940, 1420, 1630, 1423, 9840, 5851, 2419, 894, 4663, 5847, 5740, 6822, 8276, 7017, 6784, 3580, 3927, 4153, 2161, 1130, 8301, 2107, 1943, 2068, 7105, 3935, 822, 952, 3973, 6793, 4128, 6669, 6677, 7147, 1936, 3957, 9146, 3554, 1071, 1040, 962, 782, 5727, 7300, 899, 3848, 622, 4313, 6519, 3849, 9374, 6540, 3864, 8539, 1191, 5592, 3386, 3392, 7059, 3802, 3623, 4347, 927, 1905, 2846, 9668, 4710, 1495, 784, 1002, 6771, 9518, 9218, 3763, 3833, 1615, 3839, 307, 1589, 871, 4889, 1585, 329, 3897, 6061, 9693, 943, 6065, 9311, 8744, 9719, 6079, 6082, 9230, 3745, 7764, 6177, 756, 8819, 1016, 3435, 3429, 1163, 4470, 4467, 6381, 9062, 8951, 3412, 7245, 1300, 7247, 8957, 1290, 8973, 9037, 4302, 3363, 1272, 1220, 7294, 6495, 3269, 9073, 3474, 3127, 6259, 2879, 4680, 3613, 9389, 4047, 4638, 6232, 3285, 2954, 1411, 3571, 705, 2987, 4109, 8874, 8875, 506, 3502, 7499, 1113, 9435, 6331, 8698, 7650, 2069, 8000, 45, 5233, 5750, 2284, 2501, 241, 39, 5887, 7950, 2421, 110, 8641, 9935, 8488, 2270, 8069, 5641, 49, 51, 2517, 5362, 73, 5368, 57, 253, 2514, 7973, 2266, 1829, 1715, 67, 5326, 1726, 8251, 8507, 5545, 16, 8043, 5878, 2399, 5818, 2466, 2331, 8677, 8125, 2354, 2350, 5780, 8088, 7941, 106, 2018, 5130, 8222, 5567, 2190, 8232, 4300, 7226, 6521, 7225, 631, 4196, 2222, 6586, 2212, 7262, 8511, 7259, 3378, 8523, 4275, 4266, 6595, 7252, 4218, 7238, 6563, 5283, 6581, 8217, 7270, 5928, 3361, 1299, 7397, 8968, 3209, 6412, 5200, 2313, 8960, 2316, 6395, 3195, 1772, 5716, 6387, 2347, 3163, 3155, 6367, 528, 7466, 4509, 4510, 6338, 5202, 3220, 5207, 4403, 3336, 5724, 7290, 1222, 9904, 9012, 4345, 135, 6612, 6470, 4361, 7338, 6467, 8546, 7342, 595, 7380, 5931, 2286, 1790, 8975, 4194, 8265, 9064, 6981, 3939, 32, 6812, 9326, 6803, 3956, 9331, 8363, 9334, 8354, 3968, 1005, 969, 3718, 3972, 8340, 6787, 983, 802, 9968, 9195, 4013, 5440, 2022, 8434, 9984, 6894, 2, 1963, 5538, 3855, 903, 9286, 3819, 6917, 6865, 5551, 6858, 923, 6941, 8378, 932, 856, 9239, 5557, 3913, 945, 4014, 8454, 5297, 5813, 2120, 9113, 5648, 1103, 7159, 2135, 5651, 710, 7184, 7185, 9088, 3654, 3464, 7190, 3450, 6644, 1146, 9448, 4156, 4174, 2186, 1160, 1880, 8477, 737, 4094, 7046, 9373, 4029, 5607, 4034, 9379, 7077, 767, 9386, 5395, 1904, 3598, 9394, 2095, 1051, 9152, 4065, 9149, 8471, 7107, 3572, 4530, 1971, 8083, 4728, 7697, 9671, 6147, 2464, 2829, 9817, 6125, 5814, 7743, 7753, 6104, 5033, 7768, 2772, 374, 2760, 372, 6097, 1672, 7696, 7691, 2407, 2861, 6234, 9841, 7634, 2918, 6221, 4654, 2903, 1436, 214, 1447, 6202, 8621, 2881, 8825, 8051, 6184, 2431, 9824, 2864, 2736, 2734, 1545, 361, 5010, 4908, 2640, 7874, 9753, 7935, 1603, 9758, 2625, 5958, 9762, 2604, 2559, 2603, 4972, 1629, 2580, 281, 2569, 8721, 8671, 7868, 6066, 9711, 7975, 8658, 6071, 1560, 347, 7818, 2695, 1663, 4886, 2682, 7849, 1661, 8664, 2534, 1579, 8726, 4883, 9627, 8786, 7535, 7594, 481, 5136, 8855, 3028, 7617, 7538, 6262, 476, 2972, 5116, 5833, 6254, 7507, 468, 4610, 7530, 1363, 3074, 6264, 2400, 7581, 2999, 4576, 6307, 1384, 6287, 5836, 2390, 1418, 1733, 1731, 8073, 8607, 9597, 563, 3970, 6739, 9782, 9241, 2204, 4857, 3012, 3527, 7976, 5940, 8374, 6909, 3653, 7840, 3655, 9188, 2675, 7424, 1916, 1575, 8922, 7024, 2587, 3124, 7858, 2593, 3808, 8393, 7023, 8388, 997, 3176, 8110, 3682, 8577, 7008, 3014, 1566, 2062, 2688, 7078, 2727, 2562, 7974, 8400, 8416, 6904, 8459, 7921, 3614, 7068, 6906, 7420, 3119, 1562, 3639, 7423, 2070, 3648, 8115, 8419, 1309, 7911, 3697, 6998, 1362, 1753, 3731, 7455, 1593, 3733, 8593, 8381, 9227, 3775, 2617, 1596, 6945, 3140, 2540, 1752, 2009, 3746, 2021, 2630, 6962, 8368, 1333, 7887, 1646, 2365, 6977, 3781, 2658, 8349, 2594, 9206, 6996, 972, 7862, 3166, 7864, 7953, 1952, 7952, 2052, 966, 1590, 3798, 1927, 1373, 1929, 3156, 2598, 6980, 1934, 2074, 8089, 3150, 3004, 2408, 8754, 1448, 8830, 1450, 8521, 3387, 3260, 9048, 8624, 8167, 2880, 7606, 1261, 7682, 3233, 2432, 3406, 1467, 2449, 9059, 1171, 7688, 1722, 1166, 8031, 8559, 3424, 1477, 3425, 1157, 1785, 7255, 1834, 3595, 2887, 3294, 3298, 3300, 1805, 7633, 7318, 8543, 8542, 9001, 3283, 2929, 8185, 1219, 8845, 8843, 3338, 8616, 3340, 1243, 2225, 7623, 2912, 2905, 7345, 8547, 2897, 3376, 1440, 2217, 7206, 1401, 2172, 2839, 7144, 7775, 7143, 1082, 9128, 3534, 1078, 2312, 3538, 7124, 2110, 1527, 3561, 8298, 7112, 1674, 1532, 1534, 3203, 8126, 2933, 1296, 1895, 1546, 7095, 1045, 1547, 3593, 8311, 1090, 3524, 8286, 7182, 7712, 7201, 2835, 1275, 1691, 2815, 8793, 7733, 3465, 1276, 7735, 2307, 1865, 3477, 9110, 8272, 2986, 3488, 8493, 3491, 3493, 7395, 1689, 8008, 3495, 8277, 2799, 8006, 8978, 2755, 6895, 9536, 9608, 6276, 490, 4561, 4559, 4555, 6305, 9588, 510, 525, 4483, 539, 9558, 9556, 6388, 550, 4457, 9551, 6402, 9612, 9617, 4611, 6179, 4751, 4749, 4748, 6154, 409, 413, 4724, 9664, 4697, 6252, 6185, 6193, 6198, 4675, 4658, 4651, 4649, 6245, 4430, 6439, 9699, 4396, 4188, 675, 4182, 4176, 681, 687, 4155, 690, 692, 9443, 697, 9438, 6660, 6666, 712, 716, 4121, 4114, 723, 670, 4199, 6601, 4348, 585, 6444, 6449, 590, 4377, 4374, 4371, 9517, 6490, 4219, 6492, 614, 6505, 4320, 4278, 4276, 4223, 4221, 6107, 376, 6690, 179, 9934, 5310, 5682, 5284, 9917, 114, 5271, 118, 119, 5269, 5726, 5203, 5196, 5771, 5177, 9876, 5787, 5789, 9872, 89, 5351, 9944, 5447, 5498, 5487, 5541, 5554, 18, 5460, 5558, 5562, 30, 5366, 5439, 9975, 5437, 5425, 48, 5418, 5609, 68, 5154, 5139, 6098, 5820, 4985, 289, 290, 4961, 4940, 311, 9747, 318, 323, 9738, 4871, 6038, 339, 4844, 6067, 6084, 9710, 365, 6090, 5936, 5914, 5017, 5073, 5827, 197, 5098, 210, 5853, 9833, 5089, 5083, 5869, 5024, 5057, 237, 5036, 5031, 5030, 247, 5904, 251, 4100, 9638, 6738, 9338, 3890, 3977, 6702, 9404, 4022, 866, 6723, 3894, 9300, 6726, 6797, 9396, 9301, 4086, 6799, 4031, 3902, 9393, 776, 6840, 6743, 3949, 3940, 9313, 9316, 3930, 4019, 6740, 4011, 3862, 3988, 9411, 6891, 9288, 8343, 1331, 5062, 7721, 2575, 2871, 9335, 2589, 4974, 6801, 1464, 2574, 4965, 280, 7922, 828, 2568, 4990, 4967, 7889, 1620, 4952, 2637, 967, 2634, 2632, 5972, 1608, 2624, 8700, 4957, 1613, 993, 5957, 7684, 7933, 274, 5926, 5987, 2556, 3741, 7977, 3942, 5034, 2895, 2492, 8001, 5895, 8007, 3936, 2896, 8009, 5893, 1441, 8638, 4667, 2471, 6972, 5027, 249, 432, 4999, 3992, 5006, 5918, 7679, 1651, 8827, 7949, 7964, 3726, 5913, 6808, 2526, 9797, 9798, 5911, 4931, 7873, 2639, 6093, 9350, 2762, 8766, 3703, 7780, 9703, 8761, 2743, 1520, 988, 981, 2740, 8806, 1538, 2735, 1541, 9351, 8771, 4926, 4770, 8795, 4763, 9681, 4765, 2814, 4766, 7711, 390, 6106, 8783, 4782, 9692, 383, 985, 1482, 2776, 1542, 8755, 7699, 1474, 7002, 4851, 6157, 2665, 6986, 6031, 7695, 7861, 9708, 9736, 1584, 6791, 7869, 6015, 6011, 2642, 4846, 9727, 6059, 2684, 4818, 3696, 3711, 2728, 8752, 6080, 2721, 2719, 2708, 350, 348, 346, 3713, 7830, 7838, 3716, 7132, 2456, 9942, 8491, 2144, 3789, 1871, 90, 8486, 5347, 2132, 2113, 5375, 5637, 8473, 9295, 9950, 70, 6921, 2102, 8306, 5336, 5324, 2148, 9929, 5280, 5701, 8520, 921, 108, 8513, 9921, 5303, 8238, 1854, 2175, 3891, 8502, 6932, 8256, 5680, 8498, 5628, 8320, 8029, 3840, 3817, 878, 3867, 5564, 5449, 3853, 5457, 8428, 8392, 1899, 13, 1991, 9271, 5475, 8397, 1966, 8414, 3835, 5570, 6915, 2034, 5435, 5611, 8328, 8460, 5394, 6919, 2071, 1908, 9963, 6861, 1911, 1913, 8335, 3879, 5579, 8344, 2047, 2046, 5710, 3783, 2219, 5804, 2397, 9237, 2392, 2388, 8081, 9863, 2377, 2372, 1746, 1826, 3766, 1748, 8098, 5801, 2362, 9870, 8105, 8586, 5825, 3762, 1725, 2401, 8629, 1702, 6965, 5093, 8056, 6213, 6958, 9310, 5850, 1714, 3911, 8067, 1717, 2409, 9842, 5835, 2404, 1757, 2356, 2352, 5221, 2285, 2271, 8173, 138, 8544, 5737, 5241, 8541, 129, 928, 2257, 127, 126, 2242, 2241, 1821, 2232, 1792, 8558, 169, 5216, 2349, 9242, 167, 2340, 3899, 3898, 5181, 159, 1775, 931, 930, 2300, 2299, 2296, 5211, 5758, 5214, 1439, 7001, 7661, 6457, 8996, 9162, 3271, 1250, 593, 9388, 7357, 9363, 8998, 3244, 7075, 8983, 3241, 7374, 8980, 7074, 6464, 7340, 3349, 1042, 6516, 7289, 6509, 4319, 617, 6499, 1225, 7091, 4364, 9160, 4349, 9006, 1235, 1236, 6477, 4363, 1029, 7382, 581, 4490, 538, 3157, 537, 4476, 4478, 3642, 7457, 6359, 4414, 6356, 3129, 1332, 3646, 6346, 8925, 8923, 1315, 3172, 7434, 7053, 4421, 1027, 8966, 7400, 568, 7402, 9543, 562, 6404, 7411, 6390, 7414, 7417, 551, 7421, 3342, 3357, 7471, 4147, 9434, 706, 4139, 703, 7177, 7110, 1125, 3469, 1067, 7189, 6649, 4152, 9086, 3463, 9084, 3458, 7162, 1109, 627, 9122, 733, 7137, 6689, 4106, 9127, 7141, 4108, 9424, 7153, 3525, 9136, 3521, 9115, 3519, 3515, 4088, 7193, 7199, 6703, 1196, 6571, 7248, 9046, 9476, 4247, 4254, 646, 3377, 7204, 9034, 6526, 7258, 9488, 6523, 3365, 1206, 4235, 4226, 7098, 1049, 685, 683, 1153, 7215, 3576, 677, 9066, 6619, 4064, 4063, 1165, 6614, 4195, 6724, 4212, 6343, 1259, 3015, 7505, 7039, 6754, 3045, 2959, 4564, 3044, 9600, 9621, 4616, 3079, 1421, 459, 7566, 9587, 3034, 4551, 4584, 7032, 4600, 503, 484, 4557, 7533, 8868, 2983, 7033, 9604, 7592, 475, 4026, 4605, 4027, 3046, 7506, 7629, 2988, 7638, 3029, 9599, 6226, 8911, 3093, 7028, 3084, 7482, 6318, 6288, 1382, 6753, 498, 6218, 1380, 7473, 6231, 7030, 779, 6312]\n",
      "LOFOutlierIdx02 :[8174, 5881, 4402, 7122, 5228, 6198, 3042, 2595, 4520, 5049, 7500, 8476, 3454, 5884, 7470, 2074, 3213, 5839, 850, 4624, 1127, 7878, 4936, 3643, 9913, 2574, 2348, 7397, 5481, 1388, 1171, 5306, 8265, 9848, 15, 8777, 5139, 5056, 1406, 4389, 8097, 79, 8511, 2682, 114, 3220, 5537, 547, 1187, 777, 6313, 6312, 3637, 4572, 7018, 1191, 2018, 8556, 6497, 8727, 1970, 6259, 8169, 3356, 2335, 8888, 3596, 8803, 7160, 7904, 4625, 6144, 5227, 5401, 6215, 7695, 4588, 261, 7735, 6918, 7646, 9843, 6870, 7638, 2845, 7463, 7002, 3506, 8876, 394, 376, 1164, 3614, 4492, 4914, 4415, 6395, 4068, 4853, 3103, 4833, 4437, 668, 4021, 792, 1945, 4443, 7255, 1908, 718, 9340, 8908, 5713, 4409, 1610, 7977, 2275, 145, 6858, 6598, 4729, 5738, 7662, 2626, 2625, 3648, 5593, 4726, 4983, 4827, 5727, 5726, 4261, 1448, 4721, 9560, 1397, 5965, 725, 2724, 7037, 749, 1872, 5780, 5460, 2665, 2661, 5515, 3591, 6533, 4656, 8421, 7053, 5472, 4946, 5939, 8194, 9536, 330, 370, 1553, 5040, 577, 3495, 955, 8662, 4885, 6389, 7821, 1664, 2386, 6722, 6729, 2238, 5011, 3534, 369, 2478, 591, 9691, 7737, 8623, 6250, 1724, 2524, 819, 9432, 2324, 6682, 3788, 2509, 9271, 4935, 9454, 1561, 6679, 3309, 4206, 173, 7207, 7506, 3024, 7327, 4447, 8, 8833, 7079, 6, 8918, 7134, 1325, 1281, 9842, 9056, 2834, 3081, 8986, 4523, 9042, 3017, 6021, 4499, 8938, 115, 5189, 7936, 8439, 1088, 7778, 4201, 6087, 8114, 9030, 8505, 7339, 9160, 7822, 9158, 943, 1699, 9468, 7826, 3513, 4070, 8124, 2977, 43, 609, 3501, 6246, 5067, 6624, 2037, 6248, 9045, 1729, 8989, 146, 2058, 637, 8179, 1298, 8178, 361, 8167, 9038, 3493, 2085, 4863, 382, 2482, 2407, 585, 8029, 9510, 867, 6723, 6726, 5887, 6728, 8045, 6359, 9226, 7950, 3613, 3678, 908, 8912, 9216, 6748, 9569, 7974, 1243, 903, 4127, 1238, 1121, 3662, 6348, 9935, 8601, 2352, 2139, 9615, 2414, 6299, 5685, 9866, 8102, 6841, 61, 5848, 6693, 5849, 3561, 1684, 9908, 4152, 1260, 4988, 3569, 9495, 8078, 8077, 8525, 2177, 1663, 444, 6326, 447, 5931, 5256, 8812, 5325, 5420, 699, 2801, 5484, 2752, 4014, 1013, 9311, 9298, 9345, 8735, 5954, 9982, 6972, 9295, 9831, 5416, 4274, 3409, 4808, 702, 6512, 3067, 1380, 8336, 180, 3930, 9361, 1324, 6994, 9775, 4741, 1400, 5124, 9785, 6534, 3903, 9057, 1022, 4002, 1402, 5962, 6986, 3252, 2651, 2004, 6611, 2810, 1819, 740, 5510, 2577, 316, 2749, 6943, 319, 7067, 1339, 9823, 8817, 8460, 1308, 8231, 654, 1152, 7612, 656, 9064, 6238, 7113, 3243, 6498, 5501, 3823, 9507, 8387, 8386, 2181, 548, 9308, 1626, 721, 9225, 6718, 6482, 7206, 4671, 3951, 6049, 1855, 7365, 9525, 6466, 747, 5640, 6094, 7268, 733, 510, 6024, 8352, 1802, 750, 4907, 3936, 1629, 6422, 3892, 1898, 9359, 3780, 7227, 8234, 4064, 1712, 1714, 4857, 4856, 2079, 7332, 8230, 5343, 2003, 5342, 9440, 4424, 3794, 8228, 1150, 1748, 4660, 6636, 8220, 7323, 5821, 1989, 8153, 8148, 8963, 1682, 9244, 9949, 1156, 9986, 9950, 4696, 4882, 1924, 3094, 6456, 1942, 8146, 9476, 6561, 4701, 56, 9954, 6071, 1962, 791, 6671, 687, 835, 4146, 3975, 5904, 4166, 7100, 5010, 9634, 1545, 7853, 248, 2589, 2395, 1440, 3186, 4510, 4265, 426, 2782, 7640, 6831, 6830, 6829, 2895, 6226, 2903, 288, 5998, 7530, 4311, 255, 1320, 4188, 1506, 2617, 1417, 6891, 1084, 3402, 3221, 7803, 1087, 7810, 7105, 6984, 5113, 7693, 7659, 8878, 2494, 7824, 7443, 8654, 8683, 5117, 5120, 300, 9687, 6181, 4347, 5144, 7556, 5369, 9865, 9069, 6324, 7024, 6138, 8819, 4959, 3320, 475, 9719, 3623, 215, 9820, 5880, 7387, 9011, 7984, 6159, 3141, 7999, 6339, 7204, 4941, 463, 2306, 9810, 8600, 2672, 4529, 6151, 6329, 4642, 4502, 1358, 5065, 2339, 3167, 994, 6978, 2915, 3349, 2331, 1057, 5606, 4603, 5352, 2729, 3198, 722, 8143, 4672, 1449, 6218, 4254, 1193, 5993, 8441, 4436, 1070, 8748, 801, 8448, 4356, 1001, 6214, 4661, 4287, 1811, 1185, 8798, 1359, 1044, 1803, 9313, 8404, 1391, 9070, 8962, 3985, 5801, 6153, 6472, 1035, 4557, 8760, 4007, 6044, 9299, 1772, 5956, 8432, 1405, 4290, 1393, 4003, 4532, 4292, 1024, 8948, 1741, 4725, 8861, 1740, 6398, 1655, 861, 6372, 1570, 4488, 1673, 6103, 4690, 4394, 1103, 9243, 1560, 4694, 4175, 1263, 4417, 4076, 1268, 1269, 4073, 6296, 9235, 4106, 5890, 4115, 1618, 6097, 4669, 886, 1634, 1594, 4651, 9218, 4674, 1244, 8547, 1245, 8598, 4151, 1647, 1128, 5861, 4680, 1247, 6364, 9165, 6294, 8719, 1094, 6416, 1503, 1500, 9144, 1488, 8696, 9137, 1213, 8851, 815, 1208, 1474, 9131, 4433, 981, 1201, 5932, 1736, 8708, 8470, 6239, 9149, 4131, 8671, 1089, 838, 1533, 949, 9156, 5841, 4616, 1280, 8659, 8922, 956, 1218, 8395, 8873, 958, 4212, 4057, 9151, 5832, 6086, 5831, 4342, 7271, 2489, 3292, 5115, 5111, 7665, 283, 6980, 2616, 2613, 6967, 6966, 7684, 7688, 5500, 7703, 5504, 5506, 9726, 2570, 5116, 3379, 263, 5150, 3310, 7036, 7034, 7028, 7609, 5453, 7017, 7016, 2641, 5146, 2663, 6999, 246, 2645, 258, 2643, 2568, 5074, 2546, 6865, 5028, 5026, 5025, 2431, 401, 3520, 7845, 2385, 2460, 2379, 7895, 7897, 3570, 2362, 7906, 443, 2452, 5550, 2545, 9690, 9710, 3448, 7747, 7748, 5064, 7753, 3468, 7767, 3492, 9685, 355, 7779, 7785, 3480, 5540, 3489, 7061, 9833, 4979, 7549, 7228, 50, 7226, 2970, 7350, 3126, 7212, 9945, 7208, 5261, 5356, 5357, 72, 73, 3136, 2950, 2941, 2996, 3104, 2998, 19, 3051, 7282, 3069, 7261, 3074, 3038, 7257, 5324, 3004, 5291, 7303, 9975, 5331, 5286, 7312, 9970, 3150, 7382, 5246, 3251, 2830, 9868, 5202, 7117, 3244, 2816, 160, 164, 5211, 2798, 7101, 176, 9846, 2785, 7525, 2763, 7478, 138, 9919, 3193, 9916, 7407, 7171, 7165, 9907, 9906, 5234, 3195, 9882, 7440, 3204, 3209, 3210, 5391, 7454, 7460, 7910, 9478, 7911, 3722, 2173, 8213, 3715, 555, 6713, 9505, 8222, 8224, 3706, 672, 2191, 3700, 541, 5657, 9518, 677, 1985, 1982, 6590, 8041, 6589, 3851, 8160, 6580, 8270, 3874, 6563, 6558, 3882, 2023, 3818, 5646, 9413, 618, 4859, 9459, 607, 3769, 3763, 601, 8162, 6670, 8119, 589, 8109, 624, 3740, 8107, 3787, 4847, 5680, 3798, 6696, 449, 8184, 568, 3805, 9426, 6697, 3810, 2031, 5729, 6553, 1972, 3679, 8008, 3938, 4940, 6505, 3946, 3653, 6738, 6769, 2271, 481, 7964, 8359, 4765, 2296, 6789, 4763, 751, 3605, 6480, 7928, 5602, 4976, 4938, 6648, 8340, 2226, 8020, 9353, 514, 2233, 3664, 4932]\n",
      "LOFOutlierIdx03 :[]\n"
     ]
    }
   ],
   "source": [
    "print('LOFOutlierIdx01 :' + str(LOFOutlierIdx01))\n",
    "print('LOFOutlierIdx02 :' + str(LOFOutlierIdx02))\n",
    "print('LOFOutlierIdx03 :' + str(LOFOutlierIdx03))"
   ]
  },
  {
   "cell_type": "code",
   "execution_count": 53,
   "metadata": {
    "_uuid": "3e42e273e72a9f08bc1a7f9e8cd0ad5bfb1c4450",
    "colab": {
     "base_uri": "https://localhost:8080/",
     "height": 71
    },
    "colab_type": "code",
    "id": "cDjK7DMCZHUP",
    "inputHidden": false,
    "outputHidden": false,
    "outputId": "72fff3e4-8a2e-47c6-e9a7-02f07aafcc97"
   },
   "outputs": [
    {
     "name": "stdout",
     "output_type": "stream",
     "text": [
      "2485\n",
      "OutlierIdx : [2, 8195, 8194, 6, 8, 13, 15, 16, 17, 18, 19, 8213, 8217, 8220, 8222, 30, 32, 8224, 8228, 8230, 39, 8232, 8231, 8234, 43, 45, 8238, 48, 49, 50, 51, 56, 57, 8251, 61, 8256, 67, 68, 70, 72, 73, 8265, 8270, 79, 8272, 8276, 8277, 89, 90, 8286, 106, 8298, 108, 8301, 110, 114, 8306, 115, 118, 8311, 119, 126, 127, 8320, 129, 135, 8328, 138, 8335, 8336, 145, 146, 8340, 8343, 8344, 8349, 159, 8352, 160, 8354, 164, 167, 8359, 169, 8363, 173, 8368, 176, 179, 180, 8374, 8378, 8381, 194, 8387, 8388, 197, 8386, 8392, 8393, 8395, 8397, 8398, 8400, 210, 8404, 214, 215, 8414, 8416, 8419, 8420, 8421, 233, 8428, 237, 8432, 241, 8434, 8438, 247, 8439, 249, 248, 251, 8441, 253, 246, 255, 8448, 258, 261, 8454, 263, 8459, 268, 8460, 274, 8470, 8471, 280, 281, 8473, 283, 8476, 8477, 288, 289, 290, 8486, 8488, 8489, 8491, 300, 8493, 8498, 307, 8502, 311, 8505, 8507, 316, 318, 8511, 319, 8513, 323, 8520, 329, 8521, 8523, 330, 8525, 339, 346, 8539, 347, 348, 8542, 8543, 350, 8544, 8546, 8547, 8541, 355, 361, 8556, 365, 8558, 8559, 369, 370, 372, 374, 376, 382, 383, 8577, 390, 394, 8586, 8593, 401, 8598, 8600, 409, 8601, 413, 8607, 422, 8616, 426, 8621, 8623, 8624, 432, 8626, 8629, 443, 444, 8638, 447, 8641, 449, 459, 8654, 463, 8658, 8659, 468, 8662, 8664, 475, 476, 8671, 481, 484, 8677, 490, 8683, 498, 503, 8696, 8698, 506, 8700, 510, 514, 8708, 525, 8719, 528, 8721, 8726, 8727, 536, 537, 538, 539, 541, 8735, 547, 548, 550, 551, 8744, 555, 8748, 8752, 8754, 563, 8755, 562, 568, 8761, 8760, 8766, 577, 8771, 581, 585, 8777, 589, 8782, 590, 8783, 593, 8786, 595, 591, 8793, 601, 8795, 8798, 607, 609, 8803, 614, 8806, 617, 618, 8812, 622, 624, 8817, 8819, 627, 631, 8825, 8827, 637, 8830, 8833, 646, 8843, 8845, 654, 656, 8851, 8855, 668, 8861, 670, 672, 675, 8868, 677, 681, 8874, 8875, 683, 685, 8876, 687, 8878, 8873, 690, 692, 8888, 697, 699, 702, 703, 705, 706, 710, 712, 716, 8908, 8910, 8911, 718, 8912, 721, 723, 722, 725, 8918, 8922, 8923, 8925, 733, 737, 8932, 740, 8938, 747, 8941, 749, 750, 751, 756, 8948, 8951, 8953, 8957, 767, 8960, 8962, 8963, 8966, 8968, 776, 777, 779, 8973, 782, 8975, 784, 8978, 8980, 8983, 792, 8985, 8986, 8987, 791, 8989, 801, 802, 8996, 8998, 9001, 9006, 815, 819, 9012, 9011, 822, 823, 824, 828, 835, 9030, 838, 9034, 9037, 9038, 850, 9042, 9045, 9046, 856, 9048, 9052, 861, 9056, 9057, 866, 9059, 867, 9062, 871, 9064, 9066, 9069, 878, 9070, 9073, 886, 9084, 894, 895, 9088, 9086, 899, 903, 908, 9110, 9113, 921, 923, 9115, 927, 928, 930, 931, 932, 9122, 9127, 9128, 9131, 943, 9136, 945, 9137, 949, 952, 9144, 9146, 955, 956, 9149, 958, 9151, 9152, 962, 9156, 966, 967, 9160, 969, 9162, 9158, 972, 9165, 981, 983, 985, 988, 993, 994, 9188, 997, 1001, 1002, 9195, 1005, 1013, 9206, 1016, 1022, 9216, 1024, 9218, 1027, 1029, 9225, 9226, 9227, 1035, 9230, 1040, 1042, 9235, 1044, 1045, 9237, 9239, 9241, 9242, 1051, 1049, 1053, 9244, 9243, 1057, 9250, 1067, 1070, 1071, 1078, 9271, 1082, 1084, 1087, 1088, 1089, 1090, 9286, 1094, 9288, 1103, 9295, 9298, 9299, 9300, 9301, 1109, 1113, 9308, 9310, 1119, 9311, 9313, 1121, 9316, 1125, 1127, 1128, 1130, 9326, 9331, 9334, 9335, 1146, 9338, 9340, 1150, 1152, 1153, 9345, 1156, 1157, 9350, 9351, 1160, 9353, 1163, 1164, 1165, 1166, 9359, 9361, 1171, 9363, 9373, 9374, 1185, 9379, 1187, 1191, 1193, 9386, 9388, 9389, 1196, 9393, 9394, 1201, 9396, 1206, 1208, 9404, 1213, 9409, 1218, 1219, 1220, 9411, 1222, 9415, 9413, 1225, 9423, 9424, 9426, 1235, 1236, 1238, 9432, 9434, 9435, 1243, 1244, 9438, 1245, 9440, 1247, 1250, 9443, 9448, 1259, 1260, 1261, 9454, 1263, 9459, 1268, 1269, 1272, 1275, 1276, 9468, 1280, 1281, 9476, 9478, 1289, 1290, 1296, 9488, 1298, 1299, 1300, 9495, 1308, 1309, 9505, 1315, 9507, 9510, 1320, 1324, 9517, 9518, 1325, 1331, 1332, 1333, 9525, 1339, 9536, 9543, 1352, 9549, 1358, 9551, 1359, 1362, 1363, 9556, 9558, 9560, 1373, 9569, 1378, 1380, 1382, 9576, 1384, 1388, 1391, 1393, 9587, 9588, 1397, 1400, 1401, 1402, 9597, 1406, 9599, 9600, 1405, 1411, 9604, 9608, 1417, 1418, 1420, 9612, 1421, 1423, 9615, 9617, 9621, 9627, 1436, 1439, 1440, 1441, 9634, 9638, 1447, 1448, 1449, 1450, 1463, 1464, 1467, 9664, 1474, 9668, 1477, 9671, 1482, 1488, 9681, 9685, 1495, 9687, 9690, 9691, 9692, 9693, 1500, 1503, 1506, 9699, 9703, 9708, 9710, 9711, 1520, 9719, 1527, 1529, 1532, 1533, 1534, 9727, 9726, 1538, 9732, 1541, 1542, 9736, 1545, 1546, 1547, 9738, 1553, 9747, 1560, 9753, 1562, 1561, 9758, 1566, 9762, 1570, 1575, 1579, 9775, 1584, 1585, 1589, 9782, 1590, 1593, 9785, 1594, 1596, 1600, 1603, 9797, 9798, 1608, 1610, 1613, 9806, 1615, 9810, 1618, 1620, 9817, 1626, 9820, 1629, 1630, 9823, 9824, 1634, 9831, 9833, 1646, 1647, 9840, 9841, 9842, 1651, 9843, 9846, 1655, 9848, 1661, 1662, 1663, 1664, 9863, 1672, 9865, 1674, 9866, 1673, 9868, 9870, 9872, 1682, 9876, 1684, 1689, 9882, 1691, 1699, 1702, 9904, 1712, 1714, 1715, 9908, 1717, 9907, 9906, 9913, 1722, 1724, 9917, 1726, 1725, 9919, 9921, 1729, 1731, 9916, 1733, 1734, 1736, 9929, 1740, 1741, 9934, 9935, 1746, 1748, 9942, 1752, 1753, 9944, 9945, 1757, 9950, 9949, 9954, 9963, 1772, 1775, 9968, 9970, 9975, 1785, 1786, 1790, 9982, 9984, 1792, 9986, 1802, 1803, 1805, 1811, 1819, 1821, 1826, 1829, 1834, 1854, 1855, 1865, 1871, 1872, 1880, 1895, 1898, 1899, 1904, 1905, 1908, 1911, 1913, 1916, 1924, 1927, 1929, 1934, 1936, 1942, 1943, 1945, 1952, 1962, 1963, 1966, 1970, 1971, 1972, 1982, 1985, 1989, 1991, 2003, 2004, 2009, 2018, 2021, 2022, 2023, 2031, 2034, 2037, 2046, 2047, 2052, 2058, 2062, 2068, 2069, 2070, 2071, 2074, 2079, 2085, 2095, 2102, 2107, 2110, 2113, 2114, 2120, 2132, 2135, 2139, 2144, 2148, 2161, 2172, 2173, 2175, 2177, 2181, 2186, 2190, 2191, 2204, 2212, 2217, 2219, 2221, 2222, 2225, 2226, 2232, 2233, 2238, 2241, 2242, 2243, 2257, 2266, 2270, 2271, 2275, 2284, 2285, 2286, 2290, 2296, 2299, 2300, 2306, 2307, 2312, 2313, 2316, 2324, 2331, 2335, 2339, 2340, 2347, 2348, 2349, 2350, 2352, 2354, 2356, 2362, 2365, 2367, 2372, 2377, 2379, 2385, 2386, 2388, 2390, 2392, 2395, 2397, 2399, 2400, 2401, 2404, 2407, 2408, 2409, 2414, 2417, 2419, 2421, 2431, 2432, 2449, 2452, 2456, 2460, 2464, 2466, 2471, 2478, 2482, 2489, 2492, 2494, 2501, 2509, 2514, 2517, 2524, 2526, 2534, 2540, 2545, 2546, 2554, 2556, 2559, 2562, 2568, 2569, 2570, 2574, 2575, 2577, 2580, 2587, 2589, 2593, 2594, 2595, 2598, 2603, 2604, 2613, 2616, 2617, 2624, 2625, 2626, 2627, 2630, 2632, 2634, 2637, 2639, 2640, 2641, 2642, 2643, 2645, 2651, 2658, 2661, 2663, 2665, 2672, 2675, 2682, 2684, 2688, 2695, 2708, 2719, 2721, 2724, 2727, 2728, 2729, 2732, 2734, 2735, 2736, 2740, 2743, 2749, 2752, 2755, 2760, 2762, 2763, 2772, 2776, 2782, 2785, 2798, 2799, 2801, 2810, 2814, 2815, 2816, 2829, 2830, 2834, 2835, 2839, 2845, 2846, 2861, 2864, 2871, 2879, 2880, 2881, 2887, 2895, 2896, 2897, 2903, 2905, 2912, 2915, 2918, 2929, 2933, 2940, 2941, 2950, 2954, 2959, 2970, 2972, 2977, 2983, 2986, 2987, 2988, 2996, 2998, 2999, 3004, 3012, 3014, 3015, 3017, 3024, 3028, 3029, 3034, 3038, 3042, 3044, 3045, 3046, 3051, 3067, 3069, 3074, 3079, 3081, 3084, 3093, 3094, 3103, 3104, 3111, 3119, 3124, 3126, 3127, 3129, 3136, 3140, 3141, 3150, 3155, 3156, 3157, 3163, 3166, 3167, 3172, 3176, 3186, 3193, 3195, 3198, 3203, 3204, 3209, 3210, 3213, 3220, 3221, 3233, 3241, 3243, 3244, 3251, 3252, 3260, 3267, 3269, 3271, 3283, 3285, 3292, 3294, 3298, 3300, 3309, 3310, 3320, 3336, 3338, 3340, 3342, 3349, 3356, 3357, 3361, 3363, 3365, 3376, 3377, 3378, 3379, 3386, 3387, 3392, 3402, 3406, 3409, 3412, 3415, 3424, 3425, 3429, 3435, 3448, 3450, 3454, 3458, 3463, 3464, 3465, 3468, 3469, 3474, 3477, 3480, 3488, 3489, 3491, 3492, 3493, 3495, 3501, 3502, 3506, 3513, 3515, 3519, 3520, 3521, 3524, 3525, 3527, 3534, 3538, 3554, 3561, 3569, 3570, 3571, 3572, 3576, 3580, 3591, 3593, 3595, 3596, 3598, 3605, 3613, 3614, 3623, 3637, 3639, 3642, 3643, 3646, 3648, 3653, 3654, 3655, 3662, 3664, 3678, 3679, 3682, 3696, 3697, 3700, 3703, 3706, 3711, 3713, 3715, 3716, 3718, 3722, 3723, 3726, 3731, 3733, 3740, 3741, 3745, 3746, 3762, 3763, 3766, 3769, 3775, 3780, 3781, 3783, 3787, 3788, 3789, 3794, 3798, 3802, 3805, 3806, 3808, 3809, 3810, 3817, 3818, 3819, 3823, 3833, 3835, 3839, 3840, 3848, 3849, 3851, 3853, 3855, 3862, 3864, 3867, 3871, 3874, 3879, 3882, 3890, 3891, 3892, 3894, 3897, 3898, 3899, 3902, 3903, 3911, 3913, 3927, 3930, 3935, 3936, 3938, 3939, 3940, 3942, 3946, 3949, 3951, 3956, 3957, 3968, 3970, 3972, 3973, 3975, 3977, 3985, 3988, 3992, 4002, 4003, 4007, 4011, 4013, 4014, 4018, 4019, 4021, 4022, 4026, 4027, 4029, 4031, 4034, 4047, 4057, 4063, 4064, 4065, 4068, 4070, 4073, 4076, 4086, 4088, 4094, 4100, 4106, 4108, 4109, 4114, 4115, 4121, 4127, 4128, 4131, 4139, 4146, 4147, 4151, 4152, 4153, 4155, 4156, 4166, 4174, 4175, 4176, 4182, 4188, 4194, 4195, 4196, 4199, 4201, 4206, 4212, 4218, 4219, 4221, 4223, 4226, 4235, 4247, 4254, 4261, 4265, 4266, 4274, 4275, 4276, 4278, 4287, 4288, 4290, 4292, 4300, 4302, 4311, 4313, 4319, 4320, 4342, 4345, 4347, 4348, 4349, 4356, 4361, 4363, 4364, 4371, 4374, 4377, 4387, 4389, 4394, 4396, 4402, 4403, 4409, 4413, 4414, 4415, 4417, 4421, 4424, 4430, 4433, 4436, 4437, 4438, 4443, 4447, 4457, 4459, 4467, 4470, 4476, 4478, 4483, 4488, 4490, 4492, 4497, 4499, 4502, 4509, 4510, 4520, 4523, 4529, 4530, 4532, 4551, 4555, 4557, 4559, 4561, 4564, 4572, 4576, 4584, 4588, 4600, 4603, 4605, 4610, 4611, 4616, 4624, 4625, 4638, 4642, 4645, 4649, 4651, 4654, 4656, 4658, 4660, 4661, 4663, 4667, 4669, 4671, 4672, 4674, 4675, 4678, 4680, 4690, 4694, 4696, 4697, 4701, 4710, 4721, 4724, 4725, 4726, 4728, 4729, 4741, 4745, 4748, 4749, 4751, 4763, 4765, 4766, 4770, 4780, 4782, 4784, 4792, 4808, 4818, 4827, 4833, 4844, 4846, 4847, 4851, 4853, 4856, 4857, 4859, 4863, 4871, 4882, 4883, 4885, 4886, 4889, 4892, 4907, 4908, 4914, 4926, 4931, 4932, 4935, 4936, 4938, 4940, 4941, 4946, 4952, 4957, 4959, 4961, 4965, 4967, 4972, 4974, 4976, 4979, 4983, 4985, 4988, 4990, 4999, 5006, 5010, 5011, 5017, 5024, 5025, 5026, 5027, 5028, 5030, 5031, 5033, 5034, 5036, 5040, 5049, 5056, 5057, 5062, 5064, 5065, 5067, 5073, 5074, 5082, 5083, 5089, 5093, 5098, 5111, 5113, 5115, 5116, 5117, 5120, 5124, 5130, 5136, 5139, 5143, 5144, 5146, 5150, 5154, 5177, 5181, 5189, 5196, 5200, 5202, 5203, 5207, 5211, 5214, 5216, 5220, 5221, 5227, 5228, 5233, 5234, 5241, 5246, 5256, 5261, 5269, 5271, 5280, 5283, 5284, 5286, 5291, 5297, 5303, 5306, 5310, 5324, 5325, 5326, 5331, 5336, 5338, 5342, 5343, 5347, 5351, 5352, 5356, 5357, 5362, 5366, 5368, 5369, 5375, 5387, 5391, 5394, 5395, 5401, 5416, 5418, 5420, 5425, 5435, 5437, 5439, 5440, 5447, 5449, 5453, 5457, 5460, 5472, 5475, 5481, 5484, 5487, 5498, 5500, 5501, 5504, 5506, 5510, 5515, 5537, 5538, 5540, 5541, 5545, 5550, 5551, 5554, 5557, 5558, 5562, 5564, 5567, 5570, 5579, 5589, 5592, 5593, 5602, 5606, 5607, 5609, 5611, 5628, 5629, 5637, 5640, 5641, 5646, 5648, 5651, 5657, 5680, 5682, 5685, 5701, 5710, 5713, 5716, 5724, 5726, 5727, 5729, 5737, 5738, 5740, 5750, 5758, 5771, 5780, 5782, 5787, 5789, 5798, 5801, 5804, 5813, 5814, 5818, 5820, 5821, 5825, 5827, 5831, 5832, 5833, 5835, 5836, 5838, 5839, 5841, 5847, 5848, 5849, 5850, 5851, 5853, 5861, 5869, 5872, 5878, 5880, 5881, 5884, 5887, 5890, 5893, 5895, 5904, 5911, 5913, 5914, 5918, 5926, 5927, 5928, 5931, 5932, 5936, 5939, 5940, 5954, 5956, 5957, 5958, 5962, 5965, 5972, 5987, 5993, 5998, 6011, 6015, 6021, 6024, 6028, 6031, 6037, 6038, 6044, 6049, 6059, 6061, 6065, 6066, 6067, 6069, 6071, 6079, 6080, 6082, 6084, 6086, 6087, 6090, 6093, 6094, 6095, 6097, 6098, 6102, 6103, 6104, 6106, 6107, 6125, 6138, 6144, 6147, 6151, 6153, 6154, 6157, 6159, 6177, 6179, 6181, 6184, 6185, 6193, 6198, 6202, 6213, 6214, 6215, 6218, 6221, 6226, 6231, 6232, 6234, 6238, 6239, 6245, 6246, 6248, 6250, 6252, 6254, 6257, 6259, 6262, 6264, 6275, 6276, 6287, 6288, 6294, 6296, 6299, 6305, 6307, 6312, 6313, 6318, 6324, 6326, 6329, 6331, 6338, 6339, 6343, 6346, 6348, 6356, 6359, 6364, 6367, 6372, 6381, 6387, 6388, 6389, 6390, 6395, 6398, 6402, 6404, 6411, 6412, 6416, 6422, 6429, 6432, 6436, 6439, 6444, 6449, 6456, 6457, 6464, 6466, 6467, 6470, 6472, 6477, 6480, 6482, 6490, 6492, 6495, 6497, 6498, 6499, 6505, 6509, 6512, 6516, 6519, 6521, 6523, 6526, 6533, 6534, 6540, 6553, 6558, 6561, 6563, 6571, 6580, 6581, 6586, 6589, 6590, 6595, 6598, 6601, 6611, 6612, 6614, 6619, 6624, 6636, 6644, 6648, 6649, 6660, 6666, 6669, 6670, 6671, 6677, 6679, 6682, 6689, 6690, 6693, 6696, 6697, 6702, 6703, 6713, 6718, 6722, 6723, 6724, 6726, 6728, 6729, 6737, 6738, 6739, 6740, 6743, 6748, 6753, 6754, 6769, 6771, 6784, 6787, 6789, 6791, 6793, 6797, 6799, 6801, 6803, 6808, 6812, 6822, 6828, 6829, 6830, 6831, 6836, 6840, 6841, 6858, 6861, 6865, 6870, 6891, 6894, 6895, 6904, 6906, 6909, 6915, 6917, 6918, 6919, 6921, 6932, 6941, 6943, 6945, 6947, 6958, 6962, 6965, 6966, 6967, 6972, 6977, 6978, 6980, 6981, 6984, 6986, 6994, 6996, 6998, 6999, 7001, 7002, 7008, 7016, 7017, 7018, 7023, 7024, 7028, 7030, 7032, 7033, 7034, 7036, 7037, 7039, 7046, 7053, 7059, 7061, 7067, 7068, 7074, 7075, 7077, 7078, 7079, 7091, 7095, 7098, 7100, 7101, 7105, 7107, 7110, 7112, 7113, 7117, 7122, 7124, 7132, 7134, 7137, 7141, 7143, 7144, 7147, 7153, 7159, 7160, 7162, 7165, 7171, 7177, 7182, 7184, 7185, 7189, 7190, 7193, 7199, 7201, 7204, 7206, 7207, 7208, 7212, 7215, 7225, 7226, 7227, 7228, 7238, 7242, 7245, 7247, 7248, 7252, 7255, 7257, 7258, 7259, 7261, 7262, 7268, 7270, 7271, 7282, 7289, 7290, 7294, 7300, 7301, 7303, 7312, 7318, 7323, 7327, 7332, 7338, 7339, 7340, 7342, 7345, 7350, 7357, 7365, 7374, 7380, 7381, 7382, 7387, 7395, 7397, 7400, 7402, 7407, 7411, 7414, 7417, 7420, 7421, 7423, 7424, 7434, 7440, 7443, 7454, 7455, 7457, 7460, 7463, 7464, 7466, 7470, 7471, 7473, 7478, 7482, 7499, 7500, 7505, 7506, 7507, 7525, 7530, 7533, 7535, 7538, 7549, 7556, 7566, 7575, 7577, 7581, 7587, 7592, 7594, 7606, 7609, 7612, 7617, 7623, 7629, 7633, 7634, 7638, 7640, 7646, 7650, 7659, 7661, 7662, 7665, 7679, 7682, 7684, 7688, 7691, 7693, 7695, 7696, 7697, 7699, 7703, 7711, 7712, 7715, 7721, 7733, 7735, 7737, 7739, 7743, 7747, 7748, 7753, 7764, 7767, 7768, 7775, 7778, 7779, 7780, 7785, 7803, 7810, 7816, 7818, 7821, 7822, 7824, 7826, 7830, 7838, 7840, 7845, 7849, 7853, 7858, 7861, 7862, 7864, 7868, 7869, 7872, 7873, 7874, 7878, 7887, 7889, 7895, 7897, 7904, 7906, 7910, 7911, 7921, 7922, 7928, 7933, 7935, 7936, 7941, 7949, 7950, 7952, 7953, 7964, 7973, 7974, 7975, 7976, 7977, 7984, 7990, 7999, 8000, 8001, 8006, 8007, 8008, 8009, 8020, 8029, 8031, 8041, 8043, 8045, 8051, 8056, 8067, 8069, 8073, 8077, 8078, 8081, 8083, 8088, 8089, 8097, 8098, 8102, 8105, 8107, 8109, 8110, 8114, 8115, 8119, 8124, 8125, 8126, 8143, 8146, 8148, 8153, 8160, 8162, 8163, 8167, 8169, 8173, 8174, 8178, 8179, 8184, 8185]\n"
     ]
    }
   ],
   "source": [
    "OutlierIndex = set(LOFOutlierIdx01 + LOFOutlierIdx02 + LOFOutlierIdx03)\n",
    "OutlierIndex = list(OutlierIndex)\n",
    "print(len(OutlierIndex))\n",
    "print('OutlierIdx : ' + str(OutlierIndex))"
   ]
  },
  {
   "cell_type": "code",
   "execution_count": 54,
   "metadata": {
    "_uuid": "b30aca03a98b852eaebece817ae9d66820bb1b15",
    "colab": {
     "base_uri": "https://localhost:8080/",
     "height": 51
    },
    "colab_type": "code",
    "id": "1r324bqDZHUQ",
    "inputHidden": false,
    "outputHidden": false,
    "outputId": "08cffae1-805d-4aa5-8b67-2dd53edf3465"
   },
   "outputs": [
    {
     "name": "stdout",
     "output_type": "stream",
     "text": [
      "(10000, 12)\n",
      "(7515, 12)\n"
     ]
    }
   ],
   "source": [
    "data_encoder_mining = data_encoder.copy()\n",
    "print(data_encoder_mining.shape)\n",
    "data_encoder_mining = RemoveRowsFromDataFrame(data_encoder_mining,OutlierIndex)\n",
    "print(data_encoder_mining.shape)\n",
    "\n",
    "# feature selection\n",
    "# AttList = [\"Surname\", \"RowNumber\", \"CustomerId\"]\n",
    "# data_encoder_mining = data_encoder_mining.drop(AttList,  axis=1)\n",
    "# print(data_encoder_mining.shape)\n"
   ]
  },
  {
   "cell_type": "code",
   "execution_count": 55,
   "metadata": {
    "_uuid": "cd85af719e0578e81373566de6780532196311ba",
    "colab": {
     "base_uri": "https://localhost:8080/",
     "height": 51
    },
    "colab_type": "code",
    "id": "SqLo4OA8ZHUT",
    "inputHidden": false,
    "outputHidden": false,
    "outputId": "0cc7f2ac-509c-45e9-ee31-3874c2e04b6f"
   },
   "outputs": [
    {
     "name": "stdout",
     "output_type": "stream",
     "text": [
      "Train rows and columns :  (4509, 11)\n",
      "Test rows and columns :  (3006, 11)\n"
     ]
    }
   ],
   "source": [
    "# Split Train and Test and check shape \n",
    "data_train_encoder_mining, target_train_encoder_mining, data_test_encoder_mining, target_test_encoder_mining = SplitDataFrameToTrainAndTest(data_encoder_mining, 0.6, 'Exited')\n",
    "PrintTrainTestInformation(data_train_encoder_mining, target_train_encoder_mining, data_test_encoder_mining, target_test_encoder_mining)"
   ]
  },
  {
   "cell_type": "code",
   "execution_count": 56,
   "metadata": {
    "_uuid": "879db381335a3e5d5f4c21f1e586826786d66802",
    "colab": {
     "base_uri": "https://localhost:8080/",
     "height": 136
    },
    "colab_type": "code",
    "id": "dxFdDc6uZHUV",
    "inputHidden": false,
    "outputHidden": false,
    "outputId": "11f3a98f-6310-4da2-c7e3-3aef8c40acff"
   },
   "outputs": [
    {
     "name": "stdout",
     "output_type": "stream",
     "text": [
      "Naive Bayes accuracy: 0.791\n",
      "Logistic Regression accuracy: 0.807\n",
      "Random Forest accuracy: 0.858949\n",
      "Linear SVM accuracy: 0.811045\n",
      "RBF SVM accuracy: 0.811045\n",
      "K Nearest Neighbor accuracy: 0.767132\n",
      "ANN accuracy: 0.207917\n"
     ]
    }
   ],
   "source": [
    "# Retest all traditional classification approaches\n",
    "X_train = data_train_encoder_mining\n",
    "y_train = target_train_encoder_mining\n",
    "X_test = data_test_encoder_mining\n",
    "y_test = target_test_encoder_mining\n",
    "\n",
    "MachineLearningModelEvaluate(X_train, y_train, X_test, y_test)"
   ]
  },
  {
   "cell_type": "markdown",
   "metadata": {
    "_uuid": "198591159539c4251c62e43b28edeebb5df7db45",
    "colab_type": "text",
    "id": "obH29nALZHUX"
   },
   "source": [
    "# **Neural Network Approach**"
   ]
  },
  {
   "cell_type": "code",
   "execution_count": 57,
   "metadata": {
    "_uuid": "a0d7c562bd1b185730dfd3ab6e7dc5316e7d87c7",
    "colab": {
     "base_uri": "https://localhost:8080/",
     "height": 3451
    },
    "colab_type": "code",
    "id": "IK6ivyd1ZHUY",
    "inputHidden": false,
    "outputHidden": false,
    "outputId": "159ed8a9-6bd8-42ed-e200-47b97a0ad78a"
   },
   "outputs": [
    {
     "name": "stderr",
     "output_type": "stream",
     "text": [
      "Using TensorFlow backend.\n"
     ]
    },
    {
     "name": "stdout",
     "output_type": "stream",
     "text": [
      "Starting training...\n",
      "\n",
      "Epoch 00001: val_acc improved from -inf to 0.79825, saving model to pima-weights.best.hdf5\n",
      "\n",
      "Epoch 00002: val_acc did not improve from 0.79825\n",
      "\n",
      "Epoch 00003: val_acc did not improve from 0.79825\n",
      "\n",
      "Epoch 00004: val_acc did not improve from 0.79825\n",
      "\n",
      "Epoch 00005: val_acc improved from 0.79825 to 0.82400, saving model to pima-weights.best.hdf5\n",
      "\n",
      "Epoch 00006: val_acc improved from 0.82400 to 0.82750, saving model to pima-weights.best.hdf5\n",
      "\n",
      "Epoch 00007: val_acc did not improve from 0.82750\n",
      "\n",
      "Epoch 00008: val_acc improved from 0.82750 to 0.84075, saving model to pima-weights.best.hdf5\n",
      "\n",
      "Epoch 00009: val_acc improved from 0.84075 to 0.84325, saving model to pima-weights.best.hdf5\n",
      "\n",
      "Epoch 00010: val_acc improved from 0.84325 to 0.84400, saving model to pima-weights.best.hdf5\n",
      "\n",
      "Epoch 00011: val_acc improved from 0.84400 to 0.84625, saving model to pima-weights.best.hdf5\n",
      "\n",
      "Epoch 00012: val_acc did not improve from 0.84625\n",
      "\n",
      "Epoch 00013: val_acc improved from 0.84625 to 0.84875, saving model to pima-weights.best.hdf5\n",
      "\n",
      "Epoch 00014: val_acc did not improve from 0.84875\n",
      "\n",
      "Epoch 00015: val_acc did not improve from 0.84875\n",
      "\n",
      "Epoch 00016: val_acc did not improve from 0.84875\n",
      "\n",
      "Epoch 00017: val_acc improved from 0.84875 to 0.84975, saving model to pima-weights.best.hdf5\n",
      "\n",
      "Epoch 00018: val_acc improved from 0.84975 to 0.85100, saving model to pima-weights.best.hdf5\n",
      "\n",
      "Epoch 00019: val_acc did not improve from 0.85100\n",
      "\n",
      "Epoch 00020: val_acc improved from 0.85100 to 0.85275, saving model to pima-weights.best.hdf5\n",
      "\n",
      "Epoch 00021: val_acc did not improve from 0.85275\n",
      "\n",
      "Epoch 00022: val_acc did not improve from 0.85275\n",
      "\n",
      "Epoch 00023: val_acc did not improve from 0.85275\n",
      "\n",
      "Epoch 00024: val_acc did not improve from 0.85275\n",
      "\n",
      "Epoch 00025: val_acc did not improve from 0.85275\n",
      "\n",
      "Epoch 00026: val_acc did not improve from 0.85275\n",
      "\n",
      "Epoch 00027: val_acc did not improve from 0.85275\n",
      "\n",
      "Epoch 00028: val_acc did not improve from 0.85275\n",
      "\n",
      "Epoch 00029: val_acc did not improve from 0.85275\n",
      "\n",
      "Epoch 00030: val_acc did not improve from 0.85275\n",
      "\n",
      "Epoch 00031: val_acc did not improve from 0.85275\n",
      "\n",
      "Epoch 00032: val_acc did not improve from 0.85275\n",
      "\n",
      "Epoch 00033: val_acc did not improve from 0.85275\n",
      "\n",
      "Epoch 00034: val_acc did not improve from 0.85275\n",
      "\n",
      "Epoch 00035: val_acc did not improve from 0.85275\n",
      "\n",
      "Epoch 00036: val_acc did not improve from 0.85275\n",
      "\n",
      "Epoch 00037: val_acc did not improve from 0.85275\n",
      "\n",
      "Epoch 00038: val_acc did not improve from 0.85275\n",
      "\n",
      "Epoch 00039: val_acc did not improve from 0.85275\n",
      "\n",
      "Epoch 00040: val_acc did not improve from 0.85275\n",
      "\n",
      "Epoch 00041: val_acc did not improve from 0.85275\n",
      "\n",
      "Epoch 00042: val_acc did not improve from 0.85275\n",
      "\n",
      "Epoch 00043: val_acc did not improve from 0.85275\n",
      "\n",
      "Epoch 00044: val_acc did not improve from 0.85275\n",
      "\n",
      "Epoch 00045: val_acc did not improve from 0.85275\n",
      "\n",
      "Epoch 00046: val_acc did not improve from 0.85275\n",
      "\n",
      "Epoch 00047: val_acc did not improve from 0.85275\n",
      "\n",
      "Epoch 00048: val_acc did not improve from 0.85275\n",
      "\n",
      "Epoch 00049: val_acc did not improve from 0.85275\n",
      "\n",
      "Epoch 00050: val_acc did not improve from 0.85275\n",
      "\n",
      "Epoch 00051: val_acc did not improve from 0.85275\n",
      "\n",
      "Epoch 00052: val_acc did not improve from 0.85275\n",
      "\n",
      "Epoch 00053: val_acc did not improve from 0.85275\n",
      "\n",
      "Epoch 00054: val_acc did not improve from 0.85275\n",
      "\n",
      "Epoch 00055: val_acc did not improve from 0.85275\n",
      "\n",
      "Epoch 00056: val_acc did not improve from 0.85275\n",
      "\n",
      "Epoch 00057: val_acc did not improve from 0.85275\n",
      "\n",
      "Epoch 00058: val_acc did not improve from 0.85275\n",
      "\n",
      "Epoch 00059: val_acc did not improve from 0.85275\n",
      "\n",
      "Epoch 00060: val_acc did not improve from 0.85275\n",
      "\n",
      "Epoch 00061: val_acc did not improve from 0.85275\n",
      "\n",
      "Epoch 00062: val_acc did not improve from 0.85275\n",
      "\n",
      "Epoch 00063: val_acc did not improve from 0.85275\n",
      "\n",
      "Epoch 00064: val_acc did not improve from 0.85275\n",
      "\n",
      "Epoch 00065: val_acc did not improve from 0.85275\n",
      "\n",
      "Epoch 00066: val_acc did not improve from 0.85275\n",
      "\n",
      "Epoch 00067: val_acc did not improve from 0.85275\n",
      "\n",
      "Epoch 00068: val_acc did not improve from 0.85275\n",
      "\n",
      "Epoch 00069: val_acc did not improve from 0.85275\n",
      "\n",
      "Epoch 00070: val_acc did not improve from 0.85275\n",
      "\n",
      "Epoch 00071: val_acc did not improve from 0.85275\n",
      "\n",
      "Epoch 00072: val_acc did not improve from 0.85275\n",
      "\n",
      "Epoch 00073: val_acc did not improve from 0.85275\n",
      "\n",
      "Epoch 00074: val_acc did not improve from 0.85275\n",
      "\n",
      "Epoch 00075: val_acc did not improve from 0.85275\n",
      "\n",
      "Epoch 00076: val_acc did not improve from 0.85275\n",
      "\n",
      "Epoch 00077: val_acc did not improve from 0.85275\n",
      "\n",
      "Epoch 00078: val_acc did not improve from 0.85275\n",
      "\n",
      "Epoch 00079: val_acc did not improve from 0.85275\n",
      "\n",
      "Epoch 00080: val_acc did not improve from 0.85275\n",
      "\n",
      "Epoch 00081: val_acc did not improve from 0.85275\n",
      "\n",
      "Epoch 00082: val_acc did not improve from 0.85275\n",
      "\n",
      "Epoch 00083: val_acc did not improve from 0.85275\n",
      "\n",
      "Epoch 00084: val_acc did not improve from 0.85275\n",
      "\n",
      "Epoch 00085: val_acc did not improve from 0.85275\n",
      "\n",
      "Epoch 00086: val_acc did not improve from 0.85275\n",
      "\n",
      "Epoch 00087: val_acc did not improve from 0.85275\n",
      "\n",
      "Epoch 00088: val_acc did not improve from 0.85275\n",
      "\n",
      "Epoch 00089: val_acc did not improve from 0.85275\n",
      "\n",
      "Epoch 00090: val_acc did not improve from 0.85275\n",
      "\n",
      "Epoch 00091: val_acc did not improve from 0.85275\n",
      "\n",
      "Epoch 00092: val_acc did not improve from 0.85275\n",
      "\n",
      "Epoch 00093: val_acc did not improve from 0.85275\n",
      "\n",
      "Epoch 00094: val_acc did not improve from 0.85275\n",
      "\n",
      "Epoch 00095: val_acc did not improve from 0.85275\n",
      "\n",
      "Epoch 00096: val_acc did not improve from 0.85275\n",
      "\n",
      "Epoch 00097: val_acc did not improve from 0.85275\n",
      "\n",
      "Epoch 00098: val_acc did not improve from 0.85275\n",
      "\n",
      "Epoch 00099: val_acc did not improve from 0.85275\n",
      "\n",
      "Epoch 00100: val_acc did not improve from 0.85275\n"
     ]
    }
   ],
   "source": [
    "# Retest all traditional classification approaches\n",
    "# X_train = data_train_encoder_mining\n",
    "# y_train = target_train_encoder_mining\n",
    "# X_test = data_test_encoder_mining\n",
    "# y_test = target_test_encoder_mining\n",
    "\n",
    "X_train = PCAdata_train_feReduction\n",
    "y_train = PCAtarget_train_feReduction\n",
    "X_test = PCAdata_test_feReduction\n",
    "y_test = PCAtarget_test_feReduction\n",
    "\n",
    "from keras.models import Sequential\n",
    "from keras.layers import Dense\n",
    "from keras.callbacks import ModelCheckpoint\n",
    "\n",
    "seed = 42\n",
    "np.random.seed(seed)\n",
    "\n",
    "## Create our model\n",
    "model = Sequential()\n",
    "\n",
    "# 1st layer: 23 nodes, input shape[1] nodes, RELU\n",
    "model.add(Dense(23, input_dim=X_train.shape[1], kernel_initializer='uniform', activation='relu'))\n",
    "# 2nd layer: 17 nodes, RELU\n",
    "model.add(Dense(17, kernel_initializer='uniform', activation = 'relu'))\n",
    "# 3nd layer: 15 nodes, RELU\n",
    "model.add(Dense(15, kernel_initializer='uniform', activation='relu'))\n",
    "# 4nd layer: 11 nodes, RELU\n",
    "model.add(Dense(11, kernel_initializer='uniform', activation='relu'))\n",
    "# 5nd layer: 9 nodes, RELU\n",
    "model.add(Dense(9, kernel_initializer='uniform', activation='relu'))\n",
    "# 6nd layer: 7 nodes, RELU\n",
    "model.add(Dense(7, kernel_initializer='uniform', activation='relu'))\n",
    "# 7nd layer: 5 nodes, RELU\n",
    "model.add(Dense(5, kernel_initializer='uniform', activation='relu'))\n",
    "# 8nd layer: 2 nodes, RELU\n",
    "model.add(Dense(2, kernel_initializer='uniform', activation='relu'))\n",
    "# output layer: dim=1, activation sigmoid\n",
    "model.add(Dense(1, kernel_initializer='uniform', activation='sigmoid' ))\n",
    "# Compile the model\n",
    "model.compile(loss='binary_crossentropy', optimizer='adam', metrics=['accuracy'])\n",
    "\n",
    "NB_EPOCHS = 100\n",
    "BATCH_SIZE = 23\n",
    "\n",
    "# checkpoint: store the best model\n",
    "ckpt_model = 'pima-weights.best.hdf5'\n",
    "checkpoint = ModelCheckpoint(ckpt_model, monitor='val_acc', verbose=1, save_best_only=True, mode='max')\n",
    "callbacks_list = [checkpoint]\n",
    "\n",
    "print('Starting training...')\n",
    "# train the model, store the results for plotting\n",
    "history = model.fit(X_train,\n",
    "                    y_train,\n",
    "                    validation_data=(X_test, y_test),\n",
    "                    epochs=NB_EPOCHS,\n",
    "                    batch_size=BATCH_SIZE,\n",
    "                    callbacks=callbacks_list,\n",
    "                    verbose=0)\n"
   ]
  },
  {
   "cell_type": "markdown",
   "metadata": {
    "_uuid": "dee2ff5fbda5e32f2ebb0e664c659f7d25058adf",
    "colab_type": "text",
    "id": "Gq9vlTnDZHUZ"
   },
   "source": [
    "# *Bagging Boosting and Stacking*"
   ]
  },
  {
   "cell_type": "code",
   "execution_count": 58,
   "metadata": {
    "_uuid": "8194c3e6b004809d11e5549c2eef2416f8db1352",
    "colab": {
     "base_uri": "https://localhost:8080/",
     "height": 204
    },
    "colab_type": "code",
    "id": "mR7YulAlZHUa",
    "inputHidden": false,
    "outputHidden": false,
    "outputId": "ad1c16a5-68aa-4e83-e827-5995cf19496a"
   },
   "outputs": [
    {
     "data": {
      "text/html": [
       "<div>\n",
       "<style scoped>\n",
       "    .dataframe tbody tr th:only-of-type {\n",
       "        vertical-align: middle;\n",
       "    }\n",
       "\n",
       "    .dataframe tbody tr th {\n",
       "        vertical-align: top;\n",
       "    }\n",
       "\n",
       "    .dataframe thead th {\n",
       "        text-align: right;\n",
       "    }\n",
       "</style>\n",
       "<table border=\"1\" class=\"dataframe\">\n",
       "  <thead>\n",
       "    <tr style=\"text-align: right;\">\n",
       "      <th></th>\n",
       "      <th>CreditScore</th>\n",
       "      <th>Geography</th>\n",
       "      <th>Age</th>\n",
       "      <th>Tenure</th>\n",
       "      <th>Balance</th>\n",
       "      <th>NumOfProducts</th>\n",
       "      <th>HasCrCard</th>\n",
       "      <th>IsActiveMember</th>\n",
       "      <th>EstimatedSalary</th>\n",
       "      <th>Gender_Female</th>\n",
       "      <th>Gender_Male</th>\n",
       "    </tr>\n",
       "  </thead>\n",
       "  <tbody>\n",
       "    <tr>\n",
       "      <th>0</th>\n",
       "      <td>619</td>\n",
       "      <td>0</td>\n",
       "      <td>42</td>\n",
       "      <td>2</td>\n",
       "      <td>0.0</td>\n",
       "      <td>1</td>\n",
       "      <td>1</td>\n",
       "      <td>1</td>\n",
       "      <td>101348.88</td>\n",
       "      <td>1</td>\n",
       "      <td>0</td>\n",
       "    </tr>\n",
       "    <tr>\n",
       "      <th>1</th>\n",
       "      <td>608</td>\n",
       "      <td>2</td>\n",
       "      <td>41</td>\n",
       "      <td>1</td>\n",
       "      <td>0.0</td>\n",
       "      <td>1</td>\n",
       "      <td>0</td>\n",
       "      <td>1</td>\n",
       "      <td>112542.58</td>\n",
       "      <td>1</td>\n",
       "      <td>0</td>\n",
       "    </tr>\n",
       "    <tr>\n",
       "      <th>2</th>\n",
       "      <td>699</td>\n",
       "      <td>0</td>\n",
       "      <td>39</td>\n",
       "      <td>1</td>\n",
       "      <td>0.0</td>\n",
       "      <td>2</td>\n",
       "      <td>0</td>\n",
       "      <td>0</td>\n",
       "      <td>93826.63</td>\n",
       "      <td>1</td>\n",
       "      <td>0</td>\n",
       "    </tr>\n",
       "    <tr>\n",
       "      <th>3</th>\n",
       "      <td>850</td>\n",
       "      <td>2</td>\n",
       "      <td>43</td>\n",
       "      <td>2</td>\n",
       "      <td>1.0</td>\n",
       "      <td>1</td>\n",
       "      <td>1</td>\n",
       "      <td>1</td>\n",
       "      <td>79084.10</td>\n",
       "      <td>1</td>\n",
       "      <td>0</td>\n",
       "    </tr>\n",
       "    <tr>\n",
       "      <th>4</th>\n",
       "      <td>645</td>\n",
       "      <td>2</td>\n",
       "      <td>44</td>\n",
       "      <td>8</td>\n",
       "      <td>0.0</td>\n",
       "      <td>2</td>\n",
       "      <td>1</td>\n",
       "      <td>0</td>\n",
       "      <td>149756.71</td>\n",
       "      <td>0</td>\n",
       "      <td>1</td>\n",
       "    </tr>\n",
       "  </tbody>\n",
       "</table>\n",
       "</div>"
      ],
      "text/plain": [
       "   CreditScore  Geography  Age  Tenure  Balance  NumOfProducts  HasCrCard  \\\n",
       "0          619          0   42       2      0.0              1          1   \n",
       "1          608          2   41       1      0.0              1          0   \n",
       "2          699          0   39       1      0.0              2          0   \n",
       "3          850          2   43       2      1.0              1          1   \n",
       "4          645          2   44       8      0.0              2          1   \n",
       "\n",
       "   IsActiveMember  EstimatedSalary  Gender_Female  Gender_Male  \n",
       "0               1        101348.88              1            0  \n",
       "1               1        112542.58              1            0  \n",
       "2               0         93826.63              1            0  \n",
       "3               1         79084.10              1            0  \n",
       "4               0        149756.71              0            1  "
      ]
     },
     "execution_count": 58,
     "metadata": {
      "tags": []
     },
     "output_type": "execute_result"
    }
   ],
   "source": [
    "X = data_encoder_mining.copy()\n",
    "X = X.drop('Exited', 1)\n",
    "y = data_encoder_mining[['Exited']]\n",
    "X.head()"
   ]
  },
  {
   "cell_type": "code",
   "execution_count": 0,
   "metadata": {
    "_uuid": "211fe8e75250951194cab8ac748a060625a4f4d4",
    "colab": {},
    "colab_type": "code",
    "id": "QAh3Ka9XZHUc"
   },
   "outputs": [],
   "source": [
    "X = PCAdata.copy()\n",
    "X = X.drop('Exited', 1)\n",
    "y = PCAdata[['Exited']]\n",
    "X.head()\n",
    "\n",
    "X_train = PCAdata_train_feReduction\n",
    "y_train = PCAtarget_train_feReduction\n",
    "X_test = PCAdata_test_feReduction\n",
    "y_test = PCAtarget_test_feReduction\n"
   ]
  },
  {
   "cell_type": "code",
   "execution_count": 0,
   "metadata": {
    "_uuid": "85078e253ba59ef68ab41afc86581dc7eab9223c",
    "colab": {},
    "colab_type": "code",
    "id": "al1QO_VqZHUe"
   },
   "outputs": [],
   "source": [
    "NBModel = NaiveBayesLearning(X_train, y_train)\n",
    "LRModel = LogisticRegressionLearning(X_train, y_train)\n",
    "RFModel = RandomForestLearning(X_train, y_train)\n",
    "LiSVMModel = SVMLearning(X_train, y_train)\n",
    "RBFSVMModel = SVMLearning(X_train, y_train, 'RBF')\n",
    "KNNModel = KNNLearning(X_train, y_train)\n",
    "ANNModel = ANNLearning(X_train, y_train)"
   ]
  },
  {
   "cell_type": "code",
   "execution_count": 61,
   "metadata": {
    "_uuid": "88950e631f039ce7a6c3342b9de6cfe8c0980de5",
    "colab": {
     "base_uri": "https://localhost:8080/",
     "height": 170
    },
    "colab_type": "code",
    "id": "bqPRDIlwZHUe",
    "inputHidden": false,
    "outputHidden": false,
    "outputId": "daf860d0-63f1-4f67-cf4d-4c7c0fa5e5ef"
   },
   "outputs": [
    {
     "name": "stdout",
     "output_type": "stream",
     "text": [
      "5-fold cross validation:\n",
      "\n",
      "Accuracy: 0.82 (+/- 0.00) [NaiveBayesLearning]\n",
      "Accuracy: 0.81 (+/- 0.00) [LogisticRegressionLearning]\n",
      "Accuracy: 0.84 (+/- 0.00) [RandomForestLearning]\n",
      "Accuracy: 0.86 (+/- 0.00) [SVMLearningLinear]\n",
      "Accuracy: 0.82 (+/- 0.00) [SVMLearningRBF]\n",
      "Accuracy: 0.83 (+/- 0.01) [KNNLearning]\n",
      "Accuracy: 0.85 (+/- 0.01) [ANNLearning]\n"
     ]
    }
   ],
   "source": [
    "from sklearn import model_selection\n",
    "print('5-fold cross validation:\\n')\n",
    "labels = ['NaiveBayesLearning', 'LogisticRegressionLearning', 'RandomForestLearning', \n",
    "          'SVMLearningLinear', 'SVMLearningRBF', 'KNNLearning', 'ANNLearning']\n",
    "for clf, label in zip([NBModel, LRModel, RFModel, LiSVMModel, RBFSVMModel, KNNModel, ANNModel], labels):\n",
    "    scores = model_selection.cross_val_score(clf, X, y.values.ravel(), cv=5, scoring='accuracy')\n",
    "    print(\"Accuracy: %0.2f (+/- %0.2f) [%s]\" % (scores.mean(), scores.std(), label))\n"
   ]
  },
  {
   "cell_type": "code",
   "execution_count": 62,
   "metadata": {
    "_uuid": "19bd6d7d335e470e7c92e2d5a260c90f28ff2468",
    "colab": {
     "base_uri": "https://localhost:8080/",
     "height": 85
    },
    "colab_type": "code",
    "id": "I7vqjA60ZHUg",
    "inputHidden": false,
    "outputHidden": false,
    "outputId": "07ebd58b-b213-477b-b835-cc8345f901fa"
   },
   "outputs": [
    {
     "name": "stdout",
     "output_type": "stream",
     "text": [
      "Accuracy: 0.84 (+/- 0.01) [RandomForestLearning]\n",
      "Accuracy: 0.86 (+/- 0.00) [SVMLearningLinear]\n",
      "Accuracy: 0.84 (+/- 0.02) [ANNModel]\n",
      "Accuracy: 0.86 (+/- 0.01) [Ensemble]\n"
     ]
    }
   ],
   "source": [
    "from mlxtend.classifier import EnsembleVoteClassifier\n",
    "eclf = EnsembleVoteClassifier(clfs=[RFModel, \n",
    "                                    LiSVMModel, \n",
    "                                    ANNModel], weights=[1,1,1])\n",
    "\n",
    "labels = ['RandomForestLearning', 'SVMLearningLinear', 'ANNModel', 'Ensemble']\n",
    "for clf, label in zip([RFModel, LiSVMModel, ANNModel, eclf], labels):\n",
    "    scores = model_selection.cross_val_score(clf, X, y.values.ravel(), cv=5,scoring='accuracy')\n",
    "    print(\"Accuracy: %0.2f (+/- %0.2f) [%s]\" % (scores.mean(), scores.std(), label))"
   ]
  },
  {
   "cell_type": "code",
   "execution_count": 63,
   "metadata": {
    "_uuid": "7ede243f25f343ce3ce8edf552fadc0dd392e27b",
    "colab": {
     "base_uri": "https://localhost:8080/",
     "height": 85
    },
    "colab_type": "code",
    "id": "z28VAlKAZHUj",
    "inputHidden": false,
    "outputHidden": false,
    "outputId": "b908ca69-e1e6-4e3d-f790-e23288b62099"
   },
   "outputs": [
    {
     "name": "stdout",
     "output_type": "stream",
     "text": [
      "ROC AUC: 0.84 (+/- 0.01) [RandomForestLearning]\n",
      "ROC AUC: 0.86 (+/- 0.00) [SVMLearningLinear]\n",
      "ROC AUC: 0.84 (+/- 0.02) [ANN]\n",
      "ROC AUC: 0.85 (+/- 0.00) [Majority voting]\n"
     ]
    }
   ],
   "source": [
    "# Majority Rule (hard) Voting\n",
    "\n",
    "mv_clf = MajorityVoteClassifier(classifiers=[RFModel, LiSVMModel, ANNModel])\n",
    "\n",
    "labels = ['RandomForestLearning', 'SVMLearningLinear', 'ANN', 'Majority voting']\n",
    "all_clf = [RFModel, LiSVMModel, ANNModel, mv_clf]\n",
    "\n",
    "for clf, label in zip(all_clf, labels):\n",
    "    scores = cross_val_score(estimator=clf, X=X, y=y.values.ravel(), cv=5, scoring='accuracy')\n",
    "    print(\"ROC AUC: %0.2f (+/- %0.2f) [%s]\" % (scores.mean(), scores.std(), label))"
   ]
  },
  {
   "cell_type": "code",
   "execution_count": 64,
   "metadata": {
    "_uuid": "459c1d67908508c6e3ebcabfa7a7ccb0cdf2619c",
    "colab": {
     "base_uri": "https://localhost:8080/",
     "height": 51
    },
    "colab_type": "code",
    "id": "dPDMNm8hZHUk",
    "outputId": "f0be57a4-c6e2-495c-bcfc-853a67f5660b"
   },
   "outputs": [
    {
     "name": "stdout",
     "output_type": "stream",
     "text": [
      "Train rows and columns :  (4509, 11)\n",
      "Test rows and columns :  (3006, 11)\n"
     ]
    }
   ],
   "source": [
    "# Split Train and Test and check shape \n",
    "data_train_encoder_mining, target_train_encoder_mining, data_test_encoder_mining, target_test_encoder_mining = SplitDataFrameToTrainAndTest(data_encoder_mining, 0.6, 'Exited')\n",
    "PrintTrainTestInformation(data_train_encoder_mining, target_train_encoder_mining, data_test_encoder_mining, target_test_encoder_mining)\n",
    "\n",
    "# Retest all traditional classification approaches\n",
    "X_train = data_train_encoder_mining\n",
    "y_train = target_train_encoder_mining\n",
    "X_test = data_test_encoder_mining\n",
    "y_test = target_test_encoder_mining"
   ]
  },
  {
   "cell_type": "code",
   "execution_count": 65,
   "metadata": {
    "_uuid": "30e0d2bd432292ee00757e112921d00d877074ed",
    "colab": {
     "base_uri": "https://localhost:8080/",
     "height": 51
    },
    "colab_type": "code",
    "id": "YolADPx3ZHUo",
    "inputHidden": false,
    "outputHidden": false,
    "outputId": "03349f66-c1d4-48f1-b0b9-6646f00072ee"
   },
   "outputs": [
    {
     "name": "stdout",
     "output_type": "stream",
     "text": [
      "Decision tree train/test accuracies 1.000/0.788\n",
      "Bagging train/test accuracies 0.957/0.874\n"
     ]
    }
   ],
   "source": [
    "tree = DecisionTreeClassifier(criterion='entropy', max_depth=None, random_state=1)\n",
    "bag = BaggingClassifier(base_estimator=RFModel,\n",
    "                        n_estimators=1000, \n",
    "                        max_samples=1.0, \n",
    "                        max_features=1.0, \n",
    "                        bootstrap=True, \n",
    "                        bootstrap_features=False, \n",
    "                        n_jobs=1, \n",
    "                        random_state=1)\n",
    "\n",
    "tree = tree.fit(X_train, y_train.values.ravel())\n",
    "y_train_pred = tree.predict(X_train)\n",
    "y_test_pred = tree.predict(X_test)\n",
    "\n",
    "tree_train = accuracy_score(y_train, y_train_pred)\n",
    "tree_test = accuracy_score(y_test, y_test_pred)\n",
    "print('Decision tree train/test accuracies %.3f/%.3f'\n",
    "      % (tree_train, tree_test))\n",
    "\n",
    "bag = bag.fit(X_train, y_train.values.ravel())\n",
    "y_train_pred = bag.predict(X_train)\n",
    "y_test_pred = bag.predict(X_test)\n",
    "\n",
    "bag_train = accuracy_score(y_train, y_train_pred) \n",
    "bag_test = accuracy_score(y_test, y_test_pred) \n",
    "print('Bagging train/test accuracies %.3f/%.3f'\n",
    "      % (bag_train, bag_test))"
   ]
  },
  {
   "cell_type": "code",
   "execution_count": 66,
   "metadata": {
    "_uuid": "c442311bf38a1c58c4f97e08a6925bcebe886a04",
    "colab": {
     "base_uri": "https://localhost:8080/",
     "height": 51
    },
    "colab_type": "code",
    "id": "jZNezA2LZHUp",
    "inputHidden": false,
    "outputHidden": false,
    "outputId": "69d4449f-6457-44a1-cd28-dfd1a00ec064"
   },
   "outputs": [
    {
     "name": "stdout",
     "output_type": "stream",
     "text": [
      "Decision tree train/test accuracies 1.000/0.788\n",
      "AdaBoost train/test accuracies 1.000/0.789\n"
     ]
    }
   ],
   "source": [
    "from sklearn.ensemble import AdaBoostClassifier\n",
    "\n",
    "tree = DecisionTreeClassifier(criterion='entropy', max_depth=None, random_state=1)\n",
    "ada = AdaBoostClassifier(base_estimator=tree, n_estimators=500, learning_rate=0.1, random_state=1)\n",
    "tree = tree.fit(X_train, y_train.values.ravel())\n",
    "y_train_pred = tree.predict(X_train)\n",
    "y_test_pred = tree.predict(X_test)\n",
    "\n",
    "tree_train = accuracy_score(y_train, y_train_pred)\n",
    "tree_test = accuracy_score(y_test, y_test_pred)\n",
    "print('Decision tree train/test accuracies %.3f/%.3f'% (tree_train, tree_test))\n",
    "\n",
    "ada = ada.fit(X_train, y_train.values.ravel())\n",
    "y_train_pred = ada.predict(X_train)\n",
    "y_test_pred = ada.predict(X_test)\n",
    "\n",
    "ada_train = accuracy_score(y_train, y_train_pred) \n",
    "ada_test = accuracy_score(y_test, y_test_pred) \n",
    "print('AdaBoost train/test accuracies %.3f/%.3f'\n",
    "      % (ada_train, ada_test))"
   ]
  },
  {
   "cell_type": "code",
   "execution_count": 67,
   "metadata": {
    "_uuid": "9fa13b183402108069d7e86faaceab17579b737b",
    "colab": {
     "base_uri": "https://localhost:8080/",
     "height": 85
    },
    "colab_type": "code",
    "id": "g1cNSM0zZHUs",
    "inputHidden": false,
    "outputHidden": false,
    "outputId": "5ab21b6f-cb9b-4c7b-e7ce-dbb02333410a"
   },
   "outputs": [
    {
     "name": "stdout",
     "output_type": "stream",
     "text": [
      "Accuracy: 0.84 (+/- 0.01) [RandomForestLearning]\n",
      "Accuracy: 0.86 (+/- 0.00) [SVMLearningLinear]\n",
      "Accuracy: 0.84 (+/- 0.02) [ANN]\n",
      "Accuracy: 0.84 (+/- 0.01) [Stacking Classifier]\n"
     ]
    }
   ],
   "source": [
    "from mlxtend.classifier import StackingClassifier\n",
    "import matplotlib.gridspec as gridspec\n",
    "import itertools\n",
    "from mlxtend.plotting import plot_learning_curves\n",
    "from mlxtend.plotting import plot_decision_regions\n",
    "\n",
    "lr = LogisticRegression()\n",
    "sclf = StackingClassifier(classifiers=[RFModel, LiSVMModel, ANNModel], meta_classifier=lr)\n",
    "\n",
    "label = ['RandomForestLearning', 'SVMLearningLinear', 'ANN', 'Stacking Classifier']\n",
    "clf_list = [RFModel, LiSVMModel, ANNModel, sclf]\n",
    "\n",
    "\n",
    "clf_cv_mean = []\n",
    "clf_cv_std = []\n",
    "for clf, label in zip(clf_list, label):\n",
    "    scores = cross_val_score(clf, X, y.values.ravel(), cv=5, scoring='accuracy')\n",
    "    print(\"Accuracy: %.2f (+/- %.2f) [%s]\" %(scores.mean(), scores.std(), label))\n",
    "    clf_cv_mean.append(scores.mean())\n",
    "    clf_cv_std.append(scores.std())        \n",
    "    clf.fit(X, y.values.ravel())"
   ]
  },
  {
   "cell_type": "markdown",
   "metadata": {
    "colab_type": "text",
    "id": "6tYkQ5ng4bYI"
   },
   "source": [
    "# Summaries\n",
    "\n",
    "### Using Bagging on RandomForest can make up to 87.4%\n"
   ]
  }
 ],
 "metadata": {
  "colab": {
   "collapsed_sections": [
    "Z2_MjKv0ZHTD"
   ],
   "name": "bank-customer-churn-modeling.ipynb",
   "provenance": [],
   "version": "0.3.2"
  },
  "kernelspec": {
   "display_name": "Python 3",
   "language": "python",
   "name": "python3"
  },
  "language_info": {
   "codemirror_mode": {
    "name": "ipython",
    "version": 3
   },
   "file_extension": ".py",
   "mimetype": "text/x-python",
   "name": "python",
   "nbconvert_exporter": "python",
   "pygments_lexer": "ipython3",
   "version": "3.6.7"
  }
 },
 "nbformat": 4,
 "nbformat_minor": 1
}
