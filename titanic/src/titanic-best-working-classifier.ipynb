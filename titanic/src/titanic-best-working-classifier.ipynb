{
  "cells": [
    {
      "cell_type": "markdown",
      "source": [
        "## Introduction ##\n",
        "\nThis is my first work of machine learning."
      ],
      "metadata": {
        "_cell_guid": "25b1e1db-8bc5-7029-f719-91da523bd121"
      }
    },
    {
      "cell_type": "code",
      "source": [
        "\n",
        "import matplotlib.pyplot as plt\n",
        "import numpy as np\n",
        "import pandas as pd\n",
        "import re\n",
        "\n",
        "train = pd.read_csv('../input/train.csv', header = 0, dtype={'Age': np.float64})\n",
        "test  = pd.read_csv('../input/test.csv' , header = 0, dtype={'Age': np.float64})\n",
        "full_data = [train, test]\n",
        "\nprint (train.info())"
      ],
      "outputs": [
        {
          "output_type": "stream",
          "name": "stdout",
          "text": [
            "<class 'pandas.core.frame.DataFrame'>\n",
            "RangeIndex: 891 entries, 0 to 890\n",
            "Data columns (total 12 columns):\n",
            "PassengerId    891 non-null int64\n",
            "Survived       891 non-null int64\n",
            "Pclass         891 non-null int64\n",
            "Name           891 non-null object\n",
            "Sex            891 non-null object\n",
            "Age            714 non-null float64\n",
            "SibSp          891 non-null int64\n",
            "Parch          891 non-null int64\n",
            "Ticket         891 non-null object\n",
            "Fare           891 non-null float64\n",
            "Cabin          204 non-null object\n",
            "Embarked       889 non-null object\n",
            "dtypes: float64(2), int64(5), object(5)\n",
            "memory usage: 83.6+ KB\n",
            "None\n"
          ]
        }
      ],
      "execution_count": 1,
      "metadata": {
        "_cell_guid": "2ce68358-02ec-556d-ba88-e773a50bc18b"
      }
    },
    {
      "cell_type": "markdown",
      "source": [
        "# Feature Engineering #"
      ],
      "metadata": {
        "_cell_guid": "f9595646-65c9-6fc4-395f-0befc4d122ce"
      }
    },
    {
      "cell_type": "markdown",
      "source": [
        "## 1. Pclass ##\n",
        "there is no missing value on this feature and already a numerical value. so let's check it's impact on our train set."
      ],
      "metadata": {
        "_cell_guid": "9b4c278b-aaca-e92c-ba77-b9b48379d1f1"
      }
    },
    {
      "cell_type": "code",
      "source": [
        "print (train[['Pclass', 'Survived']].groupby(['Pclass'], as_index=False).mean())"
      ],
      "outputs": [
        {
          "output_type": "stream",
          "name": "stdout",
          "text": [
            "   Pclass  Survived\n",
            "0       1  0.629630\n",
            "1       2  0.472826\n",
            "2       3  0.242363\n"
          ]
        }
      ],
      "execution_count": 2,
      "metadata": {
        "_cell_guid": "4680d950-cf7d-a6ae-e813-535e2247d88e"
      }
    },
    {
      "cell_type": "markdown",
      "source": [
        "## 2. Sex ##"
      ],
      "metadata": {
        "_cell_guid": "5e70f81c-d4e2-1823-f0ba-a7c9b46984ff"
      }
    },
    {
      "cell_type": "code",
      "source": [
        "print (train[[\"Sex\", \"Survived\"]].groupby(['Sex'], as_index=False).mean())"
      ],
      "outputs": [
        {
          "output_type": "stream",
          "name": "stdout",
          "text": [
            "      Sex  Survived\n",
            "0  female  0.742038\n",
            "1    male  0.188908\n"
          ]
        }
      ],
      "execution_count": 3,
      "metadata": {
        "_cell_guid": "6729681d-7915-1631-78d2-ddf3c35a424c"
      }
    },
    {
      "cell_type": "markdown",
      "source": [
        "## 3. SibSp and Parch ##\n",
        "With the number of siblings/spouse and the number of children/parents we can create new feature called Family Size."
      ],
      "metadata": {
        "_cell_guid": "7c58b7ee-d6a1-0cc9-2346-81c47846a54a"
      }
    },
    {
      "cell_type": "code",
      "source": [
        "for dataset in full_data:\n",
        "    dataset['FamilySize'] = dataset['SibSp'] + dataset['Parch'] + 1\n",
        "print (train[['FamilySize', 'Survived']].groupby(['FamilySize'], as_index=False).mean())"
      ],
      "outputs": [
        {
          "output_type": "stream",
          "name": "stdout",
          "text": [
            "   FamilySize  Survived\n",
            "0           1  0.303538\n",
            "1           2  0.552795\n",
            "2           3  0.578431\n",
            "3           4  0.724138\n",
            "4           5  0.200000\n",
            "5           6  0.136364\n",
            "6           7  0.333333\n",
            "7           8  0.000000\n",
            "8          11  0.000000\n"
          ]
        }
      ],
      "execution_count": 4,
      "metadata": {
        "_cell_guid": "1a537f10-7cec-d0b7-8a34-fa9975655190"
      }
    },
    {
      "cell_type": "markdown",
      "source": [
        "it seems has a good effect on our prediction but let's go further and categorize people to check whether they are alone in this ship or not."
      ],
      "metadata": {
        "_cell_guid": "e4861d3e-10db-1a23-8728-44e4d5251844"
      }
    },
    {
      "cell_type": "code",
      "source": [
        "for dataset in full_data:\n",
        "    dataset['IsAlone'] = 0\n",
        "    dataset.loc[dataset['FamilySize'] == 1, 'IsAlone'] = 1\n",
        "print (train[['IsAlone', 'Survived']].groupby(['IsAlone'], as_index=False).mean())"
      ],
      "outputs": [
        {
          "output_type": "stream",
          "name": "stdout",
          "text": [
            "   IsAlone  Survived\n",
            "0        0  0.505650\n",
            "1        1  0.303538\n"
          ]
        }
      ],
      "execution_count": 5,
      "metadata": {
        "_cell_guid": "8c35e945-c928-e3bc-bd9c-d6ddb287e4c9"
      }
    },
    {
      "cell_type": "markdown",
      "source": [
        "good! the impact is considerable."
      ],
      "metadata": {
        "_cell_guid": "2780ca4e-7923-b845-0b6b-5f68a45f6b93"
      }
    },
    {
      "cell_type": "markdown",
      "source": [
        "## 4. Embarked ##\n",
        "the embarked feature has some missing value. and we try to fill those with the most occurred value ( 'S' )."
      ],
      "metadata": {
        "_cell_guid": "8aa419c0-6614-7efc-7797-97f4a5158b19"
      }
    },
    {
      "cell_type": "code",
      "source": [
        "for dataset in full_data:\n",
        "    dataset['Embarked'] = dataset['Embarked'].fillna('S')\n",
        "print (train[['Embarked', 'Survived']].groupby(['Embarked'], as_index=False).mean())"
      ],
      "outputs": [
        {
          "output_type": "stream",
          "name": "stdout",
          "text": [
            "  Embarked  Survived\n",
            "0        C  0.553571\n",
            "1        Q  0.389610\n",
            "2        S  0.339009\n"
          ]
        }
      ],
      "execution_count": 6,
      "metadata": {
        "_cell_guid": "0e70e9af-d7cc-8c40-b7d4-2643889c376d"
      }
    },
    {
      "cell_type": "markdown",
      "source": [
        "## 5. Fare ##\n",
        "Fare also has some missing value and we will replace it with the median. then we categorize it into 4 ranges."
      ],
      "metadata": {
        "_cell_guid": "e08c9ee8-d6d1-99b7-38bd-f0042c18a5d9"
      }
    },
    {
      "cell_type": "code",
      "source": [
        "for dataset in full_data:\n",
        "    dataset['Fare'] = dataset['Fare'].fillna(train['Fare'].median())\n",
        "train['CategoricalFare'] = pd.qcut(train['Fare'], 4)\n",
        "print (train[['CategoricalFare', 'Survived']].groupby(['CategoricalFare'], as_index=False).mean())"
      ],
      "outputs": [
        {
          "output_type": "stream",
          "name": "stdout",
          "text": [
            "   CategoricalFare  Survived\n",
            "0   (-0.001, 7.91]  0.197309\n",
            "1   (7.91, 14.454]  0.303571\n",
            "2   (14.454, 31.0]  0.454955\n",
            "3  (31.0, 512.329]  0.581081\n"
          ]
        }
      ],
      "execution_count": 7,
      "metadata": {
        "_cell_guid": "a21335bd-4e8d-66e8-e6a5-5d2173b72d3b"
      }
    },
    {
      "cell_type": "markdown",
      "source": [
        "## 6. Age ##\n",
        "we have plenty of missing values in this feature. # generate random numbers between (mean - std) and (mean + std).\n",
        "then we categorize age into 5 range."
      ],
      "metadata": {
        "_cell_guid": "ec8d1b22-a95f-9f16-77ab-7b60d2103852"
      }
    },
    {
      "cell_type": "code",
      "source": [
        "for dataset in full_data:\n",
        "    age_avg \t   = dataset['Age'].mean()\n",
        "    age_std \t   = dataset['Age'].std()\n",
        "    age_null_count = dataset['Age'].isnull().sum()\n",
        "    \n",
        "    age_null_random_list = np.random.randint(age_avg - age_std, age_avg + age_std, size=age_null_count)\n",
        "    dataset['Age'][np.isnan(dataset['Age'])] = age_null_random_list\n",
        "    dataset['Age'] = dataset['Age'].astype(int)\n",
        "    \n",
        "train['CategoricalAge'] = pd.cut(train['Age'], 5)\n",
        "\nprint (train[['CategoricalAge', 'Survived']].groupby(['CategoricalAge'], as_index=False).mean())"
      ],
      "outputs": [
        {
          "output_type": "stream",
          "name": "stdout",
          "text": [
            "  CategoricalAge  Survived\n",
            "0  (-0.08, 16.0]  0.513761\n",
            "1   (16.0, 32.0]  0.364653\n",
            "2   (32.0, 48.0]  0.360784\n",
            "3   (48.0, 64.0]  0.434783\n",
            "4   (64.0, 80.0]  0.090909\n"
          ]
        },
        {
          "output_type": "stream",
          "name": "stderr",
          "text": [
            "/usr/local/lib/python3.7/site-packages/ipykernel_launcher.py:7: SettingWithCopyWarning: \n",
            "A value is trying to be set on a copy of a slice from a DataFrame\n",
            "\n",
            "See the caveats in the documentation: http://pandas.pydata.org/pandas-docs/stable/indexing.html#indexing-view-versus-copy\n",
            "  import sys\n"
          ]
        }
      ],
      "execution_count": 8,
      "metadata": {
        "_cell_guid": "b90c2870-ce5d-ae0e-a33d-59e35445500e"
      }
    },
    {
      "cell_type": "markdown",
      "source": [
        "## 7. Name ##\n",
        "inside this feature we can find the title of people."
      ],
      "metadata": {
        "_cell_guid": "bd25ec3f-b601-c1cc-d701-991fac1621f9"
      }
    },
    {
      "cell_type": "code",
      "source": [
        "def get_title(name):\n",
        "\ttitle_search = re.search(' ([A-Za-z]+)\\.', name)\n",
        "\t# If the title exists, extract and return it.\n",
        "\tif title_search:\n",
        "\t\treturn title_search.group(1)\n",
        "\treturn \"\"\n",
        "\n",
        "for dataset in full_data:\n",
        "    dataset['Title'] = dataset['Name'].apply(get_title)\n",
        "\n",
        "print(pd.crosstab(train['Title'], train['Sex']))\n",
        "print(train.head())"
      ],
      "outputs": [
        {
          "output_type": "stream",
          "name": "stdout",
          "text": [
            "Sex       female  male\n",
            "Title                 \n",
            "Capt           0     1\n",
            "Col            0     2\n",
            "Countess       1     0\n",
            "Don            0     1\n",
            "Dr             1     6\n",
            "Jonkheer       0     1\n",
            "Lady           1     0\n",
            "Major          0     2\n",
            "Master         0    40\n",
            "Miss         182     0\n",
            "Mlle           2     0\n",
            "Mme            1     0\n",
            "Mr             0   517\n",
            "Mrs          125     0\n",
            "Ms             1     0\n",
            "Rev            0     6\n",
            "Sir            0     1\n",
            "   PassengerId  Survived  Pclass  \\\n",
            "0            1         0       3   \n",
            "1            2         1       1   \n",
            "2            3         1       3   \n",
            "3            4         1       1   \n",
            "4            5         0       3   \n",
            "\n",
            "                                                Name     Sex  Age  SibSp  \\\n",
            "0                            Braund, Mr. Owen Harris    male   22      1   \n",
            "1  Cumings, Mrs. John Bradley (Florence Briggs Th...  female   38      1   \n",
            "2                             Heikkinen, Miss. Laina  female   26      0   \n",
            "3       Futrelle, Mrs. Jacques Heath (Lily May Peel)  female   35      1   \n",
            "4                           Allen, Mr. William Henry    male   35      0   \n",
            "\n",
            "   Parch            Ticket     Fare Cabin Embarked  FamilySize  IsAlone  \\\n",
            "0      0         A/5 21171   7.2500   NaN        S           2        0   \n",
            "1      0          PC 17599  71.2833   C85        C           2        0   \n",
            "2      0  STON/O2. 3101282   7.9250   NaN        S           1        1   \n",
            "3      0            113803  53.1000  C123        S           2        0   \n",
            "4      0            373450   8.0500   NaN        S           1        1   \n",
            "\n",
            "   CategoricalFare CategoricalAge Title  \n",
            "0   (-0.001, 7.91]   (16.0, 32.0]    Mr  \n",
            "1  (31.0, 512.329]   (32.0, 48.0]   Mrs  \n",
            "2   (7.91, 14.454]   (16.0, 32.0]  Miss  \n",
            "3  (31.0, 512.329]   (32.0, 48.0]   Mrs  \n",
            "4   (7.91, 14.454]   (32.0, 48.0]    Mr  \n"
          ]
        }
      ],
      "execution_count": 9,
      "metadata": {
        "_cell_guid": "ad042f43-bfe0-ded0-4171-379d8caaa749"
      }
    },
    {
      "cell_type": "markdown",
      "source": [
        " so we have titles. let's categorize it and check the title impact on survival rate."
      ],
      "metadata": {
        "_cell_guid": "ca5fff8c-7a0d-6c18-2173-b8df6293c50a"
      }
    },
    {
      "cell_type": "code",
      "source": [
        "for dataset in full_data:\n",
        "    dataset['Title'] = dataset['Title'].replace(['Lady', 'Countess','Capt', 'Col',\\\n",
        " \t'Don', 'Dr', 'Major', 'Rev', 'Sir', 'Jonkheer', 'Dona'], 'Rare')\n",
        "\n",
        "    dataset['Title'] = dataset['Title'].replace('Mlle', 'Miss')\n",
        "    dataset['Title'] = dataset['Title'].replace('Ms', 'Miss')\n",
        "    dataset['Title'] = dataset['Title'].replace('Mme', 'Mrs')\n",
        "\nprint (train[['Title', 'Survived']].groupby(['Title'], as_index=False).mean())"
      ],
      "outputs": [
        {
          "output_type": "stream",
          "name": "stdout",
          "text": [
            "    Title  Survived\n",
            "0  Master  0.575000\n",
            "1    Miss  0.702703\n",
            "2      Mr  0.156673\n",
            "3     Mrs  0.793651\n",
            "4    Rare  0.347826\n"
          ]
        }
      ],
      "execution_count": 10,
      "metadata": {
        "_cell_guid": "8357238b-98fe-632a-acd5-33674a6132ce"
      }
    },
    {
      "cell_type": "markdown",
      "source": [
        "# Data Cleaning #\n",
        "great! now let's clean our data and map our features into numerical values."
      ],
      "metadata": {
        "_cell_guid": "68fa2057-e27a-e252-0d1b-869c00a303ba"
      }
    },
    {
      "cell_type": "code",
      "source": [
        "for dataset in full_data:\n",
        "    # Mapping Sex\n",
        "    dataset['Sex'] = dataset['Sex'].map( {'female': 0, 'male': 1} ).astype(int)\n",
        "    \n",
        "    # Mapping titles\n",
        "    title_mapping = {\"Mr\": 1, \"Miss\": 2, \"Mrs\": 3, \"Master\": 4, \"Rare\": 5}\n",
        "    dataset['Title'] = dataset['Title'].map(title_mapping)\n",
        "    dataset['Title'] = dataset['Title'].fillna(0)\n",
        "    \n",
        "    # Mapping Embarked\n",
        "    dataset['Embarked'] = dataset['Embarked'].map( {'S': 0, 'C': 1, 'Q': 2} ).astype(int)\n",
        "    \n",
        "    # Mapping Fare\n",
        "    dataset.loc[ dataset['Fare'] <= 7.91, 'Fare'] \t\t\t\t\t\t        = 0\n",
        "    dataset.loc[(dataset['Fare'] > 7.91) & (dataset['Fare'] <= 14.454), 'Fare'] = 1\n",
        "    dataset.loc[(dataset['Fare'] > 14.454) & (dataset['Fare'] <= 31), 'Fare']   = 2\n",
        "    dataset.loc[ dataset['Fare'] > 31, 'Fare'] \t\t\t\t\t\t\t        = 3\n",
        "    dataset['Fare'] = dataset['Fare'].astype(int)\n",
        "    \n",
        "    # Mapping Age\n",
        "    dataset.loc[ dataset['Age'] <= 16, 'Age'] \t\t\t\t\t       = 0\n",
        "    dataset.loc[(dataset['Age'] > 16) & (dataset['Age'] <= 32), 'Age'] = 1\n",
        "    dataset.loc[(dataset['Age'] > 32) & (dataset['Age'] <= 48), 'Age'] = 2\n",
        "    dataset.loc[(dataset['Age'] > 48) & (dataset['Age'] <= 64), 'Age'] = 3\n",
        "    dataset.loc[ dataset['Age'] > 64, 'Age']                           = 4\n",
        "\n",
        "# Feature Selection\n",
        "drop_elements = ['PassengerId', 'Name', 'Ticket', 'Cabin', 'SibSp',\\\n",
        "                 'Parch', 'FamilySize']\n",
        "train = train.drop(drop_elements, axis = 1)\n",
        "train = train.drop(['CategoricalAge', 'CategoricalFare'], axis = 1)\n",
        "\n",
        "test  = test.drop(drop_elements, axis = 1)\n",
        "\n",
        "print (train.head(10))\n",
        "\n",
        "train = train.values\n",
        "test  = test.values\n"
      ],
      "outputs": [
        {
          "output_type": "stream",
          "name": "stdout",
          "text": [
            "   Survived  Pclass  Sex  Age  Fare  Embarked  IsAlone  Title\n",
            "0         0       3    1    1     0         0        0      1\n",
            "1         1       1    0    2     3         1        0      3\n",
            "2         1       3    0    1     1         0        1      2\n",
            "3         1       1    0    2     3         0        0      3\n",
            "4         0       3    1    2     1         0        1      1\n",
            "5         0       3    1    2     1         2        1      1\n",
            "6         0       1    1    3     3         0        1      1\n",
            "7         0       3    1    0     2         0        0      4\n",
            "8         1       3    0    1     1         0        0      3\n",
            "9         1       2    0    0     2         1        0      3\n"
          ]
        }
      ],
      "execution_count": 11,
      "metadata": {
        "_cell_guid": "2502bb70-ce6f-2497-7331-7d1f80521470"
      }
    },
    {
      "cell_type": "markdown",
      "source": [
        "good! now we have a clean dataset and ready to predict. let's find which classifier works better on this dataset. "
      ],
      "metadata": {
        "_cell_guid": "8aaaf2bc-e282-79cc-008a-e2e801b51b07"
      }
    },
    {
      "cell_type": "markdown",
      "source": [
        "# Classifier Comparison #"
      ],
      "metadata": {
        "_cell_guid": "23b55b45-572b-7276-32e7-8f7a0dcfd25e"
      }
    },
    {
      "cell_type": "code",
      "source": [
        "import matplotlib.pyplot as plt\n",
        "import seaborn as sns\n",
        "\n",
        "from sklearn.model_selection import StratifiedShuffleSplit\n",
        "from sklearn.metrics import accuracy_score, log_loss\n",
        "from sklearn.neighbors import KNeighborsClassifier\n",
        "from sklearn.svm import SVC\n",
        "from sklearn.tree import DecisionTreeClassifier\n",
        "from sklearn.ensemble import RandomForestClassifier, AdaBoostClassifier, GradientBoostingClassifier\n",
        "from sklearn.naive_bayes import GaussianNB\n",
        "from sklearn.discriminant_analysis import LinearDiscriminantAnalysis, QuadraticDiscriminantAnalysis\n",
        "from sklearn.linear_model import LogisticRegression\n",
        "\n",
        "classifiers = [\n",
        "    KNeighborsClassifier(3),\n",
        "    SVC(probability=True, gamma='scale'),\n",
        "    DecisionTreeClassifier(),\n",
        "    RandomForestClassifier(n_estimators=100),\n",
        "\tAdaBoostClassifier(),\n",
        "    GradientBoostingClassifier(),\n",
        "    GaussianNB(),\n",
        "    LinearDiscriminantAnalysis(),\n",
        "    QuadraticDiscriminantAnalysis(),\n",
        "    LogisticRegression(solver='lbfgs')]\n",
        "\n",
        "log_cols = [\"Classifier\", \"Accuracy\"]\n",
        "log \t = pd.DataFrame(columns=log_cols)\n",
        "\n",
        "sss = StratifiedShuffleSplit(n_splits=10, test_size=0.1, random_state=0)\n",
        "\n",
        "X = train[0::, 1::]\n",
        "y = train[0::, 0]\n",
        "\n",
        "acc_dict = {}\n",
        "\n",
        "for train_index, test_index in sss.split(X, y):\n",
        "\tX_train, X_test = X[train_index], X[test_index]\n",
        "\ty_train, y_test = y[train_index], y[test_index]\n",
        "\t\n",
        "\tfor clf in classifiers:\n",
        "\t\tname = clf.__class__.__name__\n",
        "\t\tclf.fit(X_train, y_train)\n",
        "\t\ttrain_predictions = clf.predict(X_test)\n",
        "\t\tacc = accuracy_score(y_test, train_predictions)\n",
        "\t\tif name in acc_dict:\n",
        "\t\t\tacc_dict[name] += acc\n",
        "\t\telse:\n",
        "\t\t\tacc_dict[name] = acc\n",
        "\n",
        "for clf in acc_dict:\n",
        "\tacc_dict[clf] = acc_dict[clf] / 10.0\n",
        "\tlog_entry = pd.DataFrame([[clf, acc_dict[clf]]], columns=log_cols)\n",
        "\tlog = log.append(log_entry)\n",
        "\n",
        "plt.xlabel('Accuracy')\n",
        "plt.title('Classifier Accuracy')\n",
        "\n",
        "sns.set_color_codes(\"muted\")\n",
        "sns.barplot(x='Accuracy', y='Classifier', data=log, color=\"b\")"
      ],
      "outputs": [
        {
          "output_type": "execute_result",
          "execution_count": 12,
          "data": {
            "text/plain": [
              "<matplotlib.axes._subplots.AxesSubplot at 0x11e763128>"
            ]
          },
          "metadata": {}
        },
        {
          "output_type": "display_data",
          "data": {
            "text/plain": [
              "<Figure size 432x288 with 1 Axes>"
            ],
            "image/png": "[encoded data removed]"
          },
          "metadata": {
            "needs_background": "light"
          }
        }
      ],
      "execution_count": 12,
      "metadata": {
        "_cell_guid": "31ded30a-8de4-6507-e7f7-5805a0f1eaf1"
      }
    },
    {
      "cell_type": "code",
      "source": [
        "models = pd.DataFrame({\n",
        "    'Model': list(acc_dict.keys()),\n",
        "    'Score': list(acc_dict.values())}).sort_values(by='Score', ascending=False)\n",
        "print(models)"
      ],
      "outputs": [
        {
          "output_type": "stream",
          "name": "stdout",
          "text": [
            "                           Model     Score\n",
            "1                            SVC  0.824444\n",
            "5     GradientBoostingClassifier  0.817778\n",
            "3         RandomForestClassifier  0.817778\n",
            "2         DecisionTreeClassifier  0.816667\n",
            "4             AdaBoostClassifier  0.815556\n",
            "8  QuadraticDiscriminantAnalysis  0.806667\n",
            "9             LogisticRegression  0.801111\n",
            "7     LinearDiscriminantAnalysis  0.782222\n",
            "0           KNeighborsClassifier  0.777778\n",
            "6                     GaussianNB  0.775556\n"
          ]
        }
      ],
      "execution_count": 13,
      "metadata": {
        "collapsed": false,
        "outputHidden": false,
        "inputHidden": false
      }
    },
    {
      "cell_type": "markdown",
      "source": [
        "# Prediction #\n",
        "now we can use SVC classifier to predict our data."
      ],
      "metadata": {
        "_cell_guid": "438585cf-b7ad-73ba-49aa-87688ff21233"
      }
    },
    {
      "cell_type": "code",
      "source": [
        "candidate_classifier = SVC(gamma='scale')\n",
        "candidate_classifier.fit(train[0::, 1::], train[0::, 0])\n",
        "result = candidate_classifier.predict(test)\n",
        "\n",
        "submission = pd.DataFrame({\n",
        "        \"PassengerId\": full_data[1][\"PassengerId\"],\n",
        "        \"Survived\": result\n",
        "    })\n",
        "submission.to_csv('../output/sol2_submission.csv', index=False)\n"
      ],
      "outputs": [],
      "execution_count": 14,
      "metadata": {
        "_cell_guid": "24967b57-732b-7180-bfd5-005beff75974"
      }
    }
  ],
  "metadata": {
    "_change_revision": 0,
    "_is_fork": false,
    "kernelspec": {
      "name": "python3",
      "language": "python",
      "display_name": "Python 3"
    },
    "language_info": {
      "name": "python",
      "version": "3.7.1",
      "mimetype": "text/x-python",
      "codemirror_mode": {
        "name": "ipython",
        "version": 3
      },
      "pygments_lexer": "ipython3",
      "nbconvert_exporter": "python",
      "file_extension": ".py"
    },
    "kernel_info": {
      "name": "python3"
    },
    "nteract": {
      "version": "0.12.3"
    }
  },
  "nbformat": 4,
  "nbformat_minor": 0
}