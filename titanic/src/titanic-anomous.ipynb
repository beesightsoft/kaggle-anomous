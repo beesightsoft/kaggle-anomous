{
  "cells": [
    {
      "cell_type": "markdown",
      "source": [
        "# Introduction\n",
        "\n",
        "This is my first work of machine learning.\n",
        "\n",
        "- Origin data called: `train_df_org`, `test_df_org`\n",
        "- Processing data called: `train_df`, `test_df`, `full_df`\n",
        "- Data after clean called: `train_df_clean`, `test_df_clean`\n",
        "- Train data will be splitted 2 set called : `train_df_train`, `train_df_test` \n",
        "- Data value called: `train_df_val`, `test_df_val`\n"
      ],
      "metadata": {
        "_uuid": "0d96f2e13a4fa6bf7df4cefe98996170f2abcf7d"
      }
    },
    {
      "cell_type": "markdown",
      "source": [
        "# Preparing dataset"
      ],
      "metadata": {
        "_uuid": "2e99a04cf0794fafa9ad32a47de71b373ddd94ac"
      }
    },
    {
      "cell_type": "code",
      "source": [
        "# Basic Libraries\n",
        "import numpy as np\n",
        "import pandas as pd\n",
        "import re\n",
        "import warnings\n",
        "warnings.filterwarnings(\"ignore\")\n",
        "\n",
        "# Visaulization\n",
        "import matplotlib.pyplot as plt\n",
        "import seaborn as sns\n",
        "\n",
        "# Read data\n",
        "train_df_org = pd.read_csv('../input/train.csv', header = 0)\n",
        "test_df_org = pd.read_csv('../input/test.csv' , header = 0)\n",
        "# Tmp data\n",
        "train_df = train_df_org.copy()\n",
        "test_df  = test_df_org.copy()\n",
        "full_df = [train_df, test_df]\n",
        "\n",
        "# Function to calculate no. of null values with percentage in the dataframe\n",
        "def null_values(data):    \n",
        "    total = data.isnull().sum().sort_values(ascending = False)\n",
        "    percent = (data.isnull().sum()/data.isnull().count()*100).sort_values(ascending = False)\n",
        "    ms=pd.concat([total, percent], axis=1, keys=['Total', 'Percent'])\n",
        "    ms= ms[ms[\"Percent\"] > 0]\n",
        "    f,ax =plt.subplots(figsize=(8,6))\n",
        "    plt.xticks(rotation='90')\n",
        "    fig=sns.barplot(ms.index, ms[\"Percent\"],color=\"green\",alpha=0.8)\n",
        "    plt.xlabel('Features', fontsize=15)\n",
        "    plt.ylabel('Percent of missing values', fontsize=15)\n",
        "    plt.title('Percent missing data by feature', fontsize=15)\n",
        "    return ms\n",
        "\nnull_values(train_df)"
      ],
      "outputs": [
        {
          "output_type": "execute_result",
          "execution_count": 1,
          "data": {
            "text/plain": [
              "          Total    Percent\n",
              "Cabin       687  77.104377\n",
              "Age         177  19.865320\n",
              "Embarked      2   0.224467"
            ],
            "text/html": [
              "<div>\n",
              "<style scoped>\n",
              "    .dataframe tbody tr th:only-of-type {\n",
              "        vertical-align: middle;\n",
              "    }\n",
              "\n",
              "    .dataframe tbody tr th {\n",
              "        vertical-align: top;\n",
              "    }\n",
              "\n",
              "    .dataframe thead th {\n",
              "        text-align: right;\n",
              "    }\n",
              "</style>\n",
              "<table border=\"1\" class=\"dataframe\">\n",
              "  <thead>\n",
              "    <tr style=\"text-align: right;\">\n",
              "      <th></th>\n",
              "      <th>Total</th>\n",
              "      <th>Percent</th>\n",
              "    </tr>\n",
              "  </thead>\n",
              "  <tbody>\n",
              "    <tr>\n",
              "      <th>Cabin</th>\n",
              "      <td>687</td>\n",
              "      <td>77.104377</td>\n",
              "    </tr>\n",
              "    <tr>\n",
              "      <th>Age</th>\n",
              "      <td>177</td>\n",
              "      <td>19.865320</td>\n",
              "    </tr>\n",
              "    <tr>\n",
              "      <th>Embarked</th>\n",
              "      <td>2</td>\n",
              "      <td>0.224467</td>\n",
              "    </tr>\n",
              "  </tbody>\n",
              "</table>\n",
              "</div>"
            ]
          },
          "metadata": {}
        }
      ],
      "execution_count": 1,
      "metadata": {
        "outputHidden": false,
        "inputHidden": false,
        "trusted": false,
        "_uuid": "b440b2ea342e70b7d241ce2bffd921248cb79905"
      }
    },
    {
      "cell_type": "markdown",
      "source": [
        "### Train dataset info"
      ],
      "metadata": {}
    },
    {
      "cell_type": "code",
      "source": [
        "print('Len: ', len(train_df))\n",
        "train_df.head()"
      ],
      "outputs": [
        {
          "output_type": "stream",
          "name": "stdout",
          "text": [
            "Len:  891\n"
          ]
        },
        {
          "output_type": "execute_result",
          "execution_count": 2,
          "data": {
            "text/plain": [
              "   PassengerId  Survived  Pclass  \\\n",
              "0            1         0       3   \n",
              "1            2         1       1   \n",
              "2            3         1       3   \n",
              "3            4         1       1   \n",
              "4            5         0       3   \n",
              "\n",
              "                                                Name     Sex   Age  SibSp  \\\n",
              "0                            Braund, Mr. Owen Harris    male  22.0      1   \n",
              "1  Cumings, Mrs. John Bradley (Florence Briggs Th...  female  38.0      1   \n",
              "2                             Heikkinen, Miss. Laina  female  26.0      0   \n",
              "3       Futrelle, Mrs. Jacques Heath (Lily May Peel)  female  35.0      1   \n",
              "4                           Allen, Mr. William Henry    male  35.0      0   \n",
              "\n",
              "   Parch            Ticket     Fare Cabin Embarked  \n",
              "0      0         A/5 21171   7.2500   NaN        S  \n",
              "1      0          PC 17599  71.2833   C85        C  \n",
              "2      0  STON/O2. 3101282   7.9250   NaN        S  \n",
              "3      0            113803  53.1000  C123        S  \n",
              "4      0            373450   8.0500   NaN        S  "
            ],
            "text/html": [
              "<div>\n",
              "<style scoped>\n",
              "    .dataframe tbody tr th:only-of-type {\n",
              "        vertical-align: middle;\n",
              "    }\n",
              "\n",
              "    .dataframe tbody tr th {\n",
              "        vertical-align: top;\n",
              "    }\n",
              "\n",
              "    .dataframe thead th {\n",
              "        text-align: right;\n",
              "    }\n",
              "</style>\n",
              "<table border=\"1\" class=\"dataframe\">\n",
              "  <thead>\n",
              "    <tr style=\"text-align: right;\">\n",
              "      <th></th>\n",
              "      <th>PassengerId</th>\n",
              "      <th>Survived</th>\n",
              "      <th>Pclass</th>\n",
              "      <th>Name</th>\n",
              "      <th>Sex</th>\n",
              "      <th>Age</th>\n",
              "      <th>SibSp</th>\n",
              "      <th>Parch</th>\n",
              "      <th>Ticket</th>\n",
              "      <th>Fare</th>\n",
              "      <th>Cabin</th>\n",
              "      <th>Embarked</th>\n",
              "    </tr>\n",
              "  </thead>\n",
              "  <tbody>\n",
              "    <tr>\n",
              "      <th>0</th>\n",
              "      <td>1</td>\n",
              "      <td>0</td>\n",
              "      <td>3</td>\n",
              "      <td>Braund, Mr. Owen Harris</td>\n",
              "      <td>male</td>\n",
              "      <td>22.0</td>\n",
              "      <td>1</td>\n",
              "      <td>0</td>\n",
              "      <td>A/5 21171</td>\n",
              "      <td>7.2500</td>\n",
              "      <td>NaN</td>\n",
              "      <td>S</td>\n",
              "    </tr>\n",
              "    <tr>\n",
              "      <th>1</th>\n",
              "      <td>2</td>\n",
              "      <td>1</td>\n",
              "      <td>1</td>\n",
              "      <td>Cumings, Mrs. John Bradley (Florence Briggs Th...</td>\n",
              "      <td>female</td>\n",
              "      <td>38.0</td>\n",
              "      <td>1</td>\n",
              "      <td>0</td>\n",
              "      <td>PC 17599</td>\n",
              "      <td>71.2833</td>\n",
              "      <td>C85</td>\n",
              "      <td>C</td>\n",
              "    </tr>\n",
              "    <tr>\n",
              "      <th>2</th>\n",
              "      <td>3</td>\n",
              "      <td>1</td>\n",
              "      <td>3</td>\n",
              "      <td>Heikkinen, Miss. Laina</td>\n",
              "      <td>female</td>\n",
              "      <td>26.0</td>\n",
              "      <td>0</td>\n",
              "      <td>0</td>\n",
              "      <td>STON/O2. 3101282</td>\n",
              "      <td>7.9250</td>\n",
              "      <td>NaN</td>\n",
              "      <td>S</td>\n",
              "    </tr>\n",
              "    <tr>\n",
              "      <th>3</th>\n",
              "      <td>4</td>\n",
              "      <td>1</td>\n",
              "      <td>1</td>\n",
              "      <td>Futrelle, Mrs. Jacques Heath (Lily May Peel)</td>\n",
              "      <td>female</td>\n",
              "      <td>35.0</td>\n",
              "      <td>1</td>\n",
              "      <td>0</td>\n",
              "      <td>113803</td>\n",
              "      <td>53.1000</td>\n",
              "      <td>C123</td>\n",
              "      <td>S</td>\n",
              "    </tr>\n",
              "    <tr>\n",
              "      <th>4</th>\n",
              "      <td>5</td>\n",
              "      <td>0</td>\n",
              "      <td>3</td>\n",
              "      <td>Allen, Mr. William Henry</td>\n",
              "      <td>male</td>\n",
              "      <td>35.0</td>\n",
              "      <td>0</td>\n",
              "      <td>0</td>\n",
              "      <td>373450</td>\n",
              "      <td>8.0500</td>\n",
              "      <td>NaN</td>\n",
              "      <td>S</td>\n",
              "    </tr>\n",
              "  </tbody>\n",
              "</table>\n",
              "</div>"
            ]
          },
          "metadata": {}
        }
      ],
      "execution_count": 2,
      "metadata": {
        "collapsed": false,
        "outputHidden": false,
        "inputHidden": false
      }
    },
    {
      "cell_type": "code",
      "source": [
        "train_df.describe()"
      ],
      "outputs": [
        {
          "output_type": "execute_result",
          "execution_count": 3,
          "data": {
            "text/plain": [
              "       PassengerId    Survived      Pclass         Age       SibSp  \\\n",
              "count   891.000000  891.000000  891.000000  714.000000  891.000000   \n",
              "mean    446.000000    0.383838    2.308642   29.699118    0.523008   \n",
              "std     257.353842    0.486592    0.836071   14.526497    1.102743   \n",
              "min       1.000000    0.000000    1.000000    0.420000    0.000000   \n",
              "25%     223.500000    0.000000    2.000000   20.125000    0.000000   \n",
              "50%     446.000000    0.000000    3.000000   28.000000    0.000000   \n",
              "75%     668.500000    1.000000    3.000000   38.000000    1.000000   \n",
              "max     891.000000    1.000000    3.000000   80.000000    8.000000   \n",
              "\n",
              "            Parch        Fare  \n",
              "count  891.000000  891.000000  \n",
              "mean     0.381594   32.204208  \n",
              "std      0.806057   49.693429  \n",
              "min      0.000000    0.000000  \n",
              "25%      0.000000    7.910400  \n",
              "50%      0.000000   14.454200  \n",
              "75%      0.000000   31.000000  \n",
              "max      6.000000  512.329200  "
            ],
            "text/html": [
              "<div>\n",
              "<style scoped>\n",
              "    .dataframe tbody tr th:only-of-type {\n",
              "        vertical-align: middle;\n",
              "    }\n",
              "\n",
              "    .dataframe tbody tr th {\n",
              "        vertical-align: top;\n",
              "    }\n",
              "\n",
              "    .dataframe thead th {\n",
              "        text-align: right;\n",
              "    }\n",
              "</style>\n",
              "<table border=\"1\" class=\"dataframe\">\n",
              "  <thead>\n",
              "    <tr style=\"text-align: right;\">\n",
              "      <th></th>\n",
              "      <th>PassengerId</th>\n",
              "      <th>Survived</th>\n",
              "      <th>Pclass</th>\n",
              "      <th>Age</th>\n",
              "      <th>SibSp</th>\n",
              "      <th>Parch</th>\n",
              "      <th>Fare</th>\n",
              "    </tr>\n",
              "  </thead>\n",
              "  <tbody>\n",
              "    <tr>\n",
              "      <th>count</th>\n",
              "      <td>891.000000</td>\n",
              "      <td>891.000000</td>\n",
              "      <td>891.000000</td>\n",
              "      <td>714.000000</td>\n",
              "      <td>891.000000</td>\n",
              "      <td>891.000000</td>\n",
              "      <td>891.000000</td>\n",
              "    </tr>\n",
              "    <tr>\n",
              "      <th>mean</th>\n",
              "      <td>446.000000</td>\n",
              "      <td>0.383838</td>\n",
              "      <td>2.308642</td>\n",
              "      <td>29.699118</td>\n",
              "      <td>0.523008</td>\n",
              "      <td>0.381594</td>\n",
              "      <td>32.204208</td>\n",
              "    </tr>\n",
              "    <tr>\n",
              "      <th>std</th>\n",
              "      <td>257.353842</td>\n",
              "      <td>0.486592</td>\n",
              "      <td>0.836071</td>\n",
              "      <td>14.526497</td>\n",
              "      <td>1.102743</td>\n",
              "      <td>0.806057</td>\n",
              "      <td>49.693429</td>\n",
              "    </tr>\n",
              "    <tr>\n",
              "      <th>min</th>\n",
              "      <td>1.000000</td>\n",
              "      <td>0.000000</td>\n",
              "      <td>1.000000</td>\n",
              "      <td>0.420000</td>\n",
              "      <td>0.000000</td>\n",
              "      <td>0.000000</td>\n",
              "      <td>0.000000</td>\n",
              "    </tr>\n",
              "    <tr>\n",
              "      <th>25%</th>\n",
              "      <td>223.500000</td>\n",
              "      <td>0.000000</td>\n",
              "      <td>2.000000</td>\n",
              "      <td>20.125000</td>\n",
              "      <td>0.000000</td>\n",
              "      <td>0.000000</td>\n",
              "      <td>7.910400</td>\n",
              "    </tr>\n",
              "    <tr>\n",
              "      <th>50%</th>\n",
              "      <td>446.000000</td>\n",
              "      <td>0.000000</td>\n",
              "      <td>3.000000</td>\n",
              "      <td>28.000000</td>\n",
              "      <td>0.000000</td>\n",
              "      <td>0.000000</td>\n",
              "      <td>14.454200</td>\n",
              "    </tr>\n",
              "    <tr>\n",
              "      <th>75%</th>\n",
              "      <td>668.500000</td>\n",
              "      <td>1.000000</td>\n",
              "      <td>3.000000</td>\n",
              "      <td>38.000000</td>\n",
              "      <td>1.000000</td>\n",
              "      <td>0.000000</td>\n",
              "      <td>31.000000</td>\n",
              "    </tr>\n",
              "    <tr>\n",
              "      <th>max</th>\n",
              "      <td>891.000000</td>\n",
              "      <td>1.000000</td>\n",
              "      <td>3.000000</td>\n",
              "      <td>80.000000</td>\n",
              "      <td>8.000000</td>\n",
              "      <td>6.000000</td>\n",
              "      <td>512.329200</td>\n",
              "    </tr>\n",
              "  </tbody>\n",
              "</table>\n",
              "</div>"
            ]
          },
          "metadata": {}
        }
      ],
      "execution_count": 3,
      "metadata": {
        "collapsed": false,
        "outputHidden": false,
        "inputHidden": false
      }
    },
    {
      "cell_type": "markdown",
      "source": [
        "### Test dataset info"
      ],
      "metadata": {}
    },
    {
      "cell_type": "code",
      "source": [
        "print('Len: ', len(test_df))\n",
        "test_df.head()"
      ],
      "outputs": [
        {
          "output_type": "stream",
          "name": "stdout",
          "text": [
            "Len:  418\n"
          ]
        },
        {
          "output_type": "execute_result",
          "execution_count": 4,
          "data": {
            "text/plain": [
              "   PassengerId  Pclass                                          Name     Sex  \\\n",
              "0          892       3                              Kelly, Mr. James    male   \n",
              "1          893       3              Wilkes, Mrs. James (Ellen Needs)  female   \n",
              "2          894       2                     Myles, Mr. Thomas Francis    male   \n",
              "3          895       3                              Wirz, Mr. Albert    male   \n",
              "4          896       3  Hirvonen, Mrs. Alexander (Helga E Lindqvist)  female   \n",
              "\n",
              "    Age  SibSp  Parch   Ticket     Fare Cabin Embarked  \n",
              "0  34.5      0      0   330911   7.8292   NaN        Q  \n",
              "1  47.0      1      0   363272   7.0000   NaN        S  \n",
              "2  62.0      0      0   240276   9.6875   NaN        Q  \n",
              "3  27.0      0      0   315154   8.6625   NaN        S  \n",
              "4  22.0      1      1  3101298  12.2875   NaN        S  "
            ],
            "text/html": [
              "<div>\n",
              "<style scoped>\n",
              "    .dataframe tbody tr th:only-of-type {\n",
              "        vertical-align: middle;\n",
              "    }\n",
              "\n",
              "    .dataframe tbody tr th {\n",
              "        vertical-align: top;\n",
              "    }\n",
              "\n",
              "    .dataframe thead th {\n",
              "        text-align: right;\n",
              "    }\n",
              "</style>\n",
              "<table border=\"1\" class=\"dataframe\">\n",
              "  <thead>\n",
              "    <tr style=\"text-align: right;\">\n",
              "      <th></th>\n",
              "      <th>PassengerId</th>\n",
              "      <th>Pclass</th>\n",
              "      <th>Name</th>\n",
              "      <th>Sex</th>\n",
              "      <th>Age</th>\n",
              "      <th>SibSp</th>\n",
              "      <th>Parch</th>\n",
              "      <th>Ticket</th>\n",
              "      <th>Fare</th>\n",
              "      <th>Cabin</th>\n",
              "      <th>Embarked</th>\n",
              "    </tr>\n",
              "  </thead>\n",
              "  <tbody>\n",
              "    <tr>\n",
              "      <th>0</th>\n",
              "      <td>892</td>\n",
              "      <td>3</td>\n",
              "      <td>Kelly, Mr. James</td>\n",
              "      <td>male</td>\n",
              "      <td>34.5</td>\n",
              "      <td>0</td>\n",
              "      <td>0</td>\n",
              "      <td>330911</td>\n",
              "      <td>7.8292</td>\n",
              "      <td>NaN</td>\n",
              "      <td>Q</td>\n",
              "    </tr>\n",
              "    <tr>\n",
              "      <th>1</th>\n",
              "      <td>893</td>\n",
              "      <td>3</td>\n",
              "      <td>Wilkes, Mrs. James (Ellen Needs)</td>\n",
              "      <td>female</td>\n",
              "      <td>47.0</td>\n",
              "      <td>1</td>\n",
              "      <td>0</td>\n",
              "      <td>363272</td>\n",
              "      <td>7.0000</td>\n",
              "      <td>NaN</td>\n",
              "      <td>S</td>\n",
              "    </tr>\n",
              "    <tr>\n",
              "      <th>2</th>\n",
              "      <td>894</td>\n",
              "      <td>2</td>\n",
              "      <td>Myles, Mr. Thomas Francis</td>\n",
              "      <td>male</td>\n",
              "      <td>62.0</td>\n",
              "      <td>0</td>\n",
              "      <td>0</td>\n",
              "      <td>240276</td>\n",
              "      <td>9.6875</td>\n",
              "      <td>NaN</td>\n",
              "      <td>Q</td>\n",
              "    </tr>\n",
              "    <tr>\n",
              "      <th>3</th>\n",
              "      <td>895</td>\n",
              "      <td>3</td>\n",
              "      <td>Wirz, Mr. Albert</td>\n",
              "      <td>male</td>\n",
              "      <td>27.0</td>\n",
              "      <td>0</td>\n",
              "      <td>0</td>\n",
              "      <td>315154</td>\n",
              "      <td>8.6625</td>\n",
              "      <td>NaN</td>\n",
              "      <td>S</td>\n",
              "    </tr>\n",
              "    <tr>\n",
              "      <th>4</th>\n",
              "      <td>896</td>\n",
              "      <td>3</td>\n",
              "      <td>Hirvonen, Mrs. Alexander (Helga E Lindqvist)</td>\n",
              "      <td>female</td>\n",
              "      <td>22.0</td>\n",
              "      <td>1</td>\n",
              "      <td>1</td>\n",
              "      <td>3101298</td>\n",
              "      <td>12.2875</td>\n",
              "      <td>NaN</td>\n",
              "      <td>S</td>\n",
              "    </tr>\n",
              "  </tbody>\n",
              "</table>\n",
              "</div>"
            ]
          },
          "metadata": {}
        }
      ],
      "execution_count": 4,
      "metadata": {
        "collapsed": false,
        "outputHidden": false,
        "inputHidden": false
      }
    },
    {
      "cell_type": "code",
      "source": [
        "test_df.describe()"
      ],
      "outputs": [
        {
          "output_type": "execute_result",
          "execution_count": 5,
          "data": {
            "text/plain": [
              "       PassengerId      Pclass         Age       SibSp       Parch        Fare\n",
              "count   418.000000  418.000000  332.000000  418.000000  418.000000  417.000000\n",
              "mean   1100.500000    2.265550   30.272590    0.447368    0.392344   35.627188\n",
              "std     120.810458    0.841838   14.181209    0.896760    0.981429   55.907576\n",
              "min     892.000000    1.000000    0.170000    0.000000    0.000000    0.000000\n",
              "25%     996.250000    1.000000   21.000000    0.000000    0.000000    7.895800\n",
              "50%    1100.500000    3.000000   27.000000    0.000000    0.000000   14.454200\n",
              "75%    1204.750000    3.000000   39.000000    1.000000    0.000000   31.500000\n",
              "max    1309.000000    3.000000   76.000000    8.000000    9.000000  512.329200"
            ],
            "text/html": [
              "<div>\n",
              "<style scoped>\n",
              "    .dataframe tbody tr th:only-of-type {\n",
              "        vertical-align: middle;\n",
              "    }\n",
              "\n",
              "    .dataframe tbody tr th {\n",
              "        vertical-align: top;\n",
              "    }\n",
              "\n",
              "    .dataframe thead th {\n",
              "        text-align: right;\n",
              "    }\n",
              "</style>\n",
              "<table border=\"1\" class=\"dataframe\">\n",
              "  <thead>\n",
              "    <tr style=\"text-align: right;\">\n",
              "      <th></th>\n",
              "      <th>PassengerId</th>\n",
              "      <th>Pclass</th>\n",
              "      <th>Age</th>\n",
              "      <th>SibSp</th>\n",
              "      <th>Parch</th>\n",
              "      <th>Fare</th>\n",
              "    </tr>\n",
              "  </thead>\n",
              "  <tbody>\n",
              "    <tr>\n",
              "      <th>count</th>\n",
              "      <td>418.000000</td>\n",
              "      <td>418.000000</td>\n",
              "      <td>332.000000</td>\n",
              "      <td>418.000000</td>\n",
              "      <td>418.000000</td>\n",
              "      <td>417.000000</td>\n",
              "    </tr>\n",
              "    <tr>\n",
              "      <th>mean</th>\n",
              "      <td>1100.500000</td>\n",
              "      <td>2.265550</td>\n",
              "      <td>30.272590</td>\n",
              "      <td>0.447368</td>\n",
              "      <td>0.392344</td>\n",
              "      <td>35.627188</td>\n",
              "    </tr>\n",
              "    <tr>\n",
              "      <th>std</th>\n",
              "      <td>120.810458</td>\n",
              "      <td>0.841838</td>\n",
              "      <td>14.181209</td>\n",
              "      <td>0.896760</td>\n",
              "      <td>0.981429</td>\n",
              "      <td>55.907576</td>\n",
              "    </tr>\n",
              "    <tr>\n",
              "      <th>min</th>\n",
              "      <td>892.000000</td>\n",
              "      <td>1.000000</td>\n",
              "      <td>0.170000</td>\n",
              "      <td>0.000000</td>\n",
              "      <td>0.000000</td>\n",
              "      <td>0.000000</td>\n",
              "    </tr>\n",
              "    <tr>\n",
              "      <th>25%</th>\n",
              "      <td>996.250000</td>\n",
              "      <td>1.000000</td>\n",
              "      <td>21.000000</td>\n",
              "      <td>0.000000</td>\n",
              "      <td>0.000000</td>\n",
              "      <td>7.895800</td>\n",
              "    </tr>\n",
              "    <tr>\n",
              "      <th>50%</th>\n",
              "      <td>1100.500000</td>\n",
              "      <td>3.000000</td>\n",
              "      <td>27.000000</td>\n",
              "      <td>0.000000</td>\n",
              "      <td>0.000000</td>\n",
              "      <td>14.454200</td>\n",
              "    </tr>\n",
              "    <tr>\n",
              "      <th>75%</th>\n",
              "      <td>1204.750000</td>\n",
              "      <td>3.000000</td>\n",
              "      <td>39.000000</td>\n",
              "      <td>1.000000</td>\n",
              "      <td>0.000000</td>\n",
              "      <td>31.500000</td>\n",
              "    </tr>\n",
              "    <tr>\n",
              "      <th>max</th>\n",
              "      <td>1309.000000</td>\n",
              "      <td>3.000000</td>\n",
              "      <td>76.000000</td>\n",
              "      <td>8.000000</td>\n",
              "      <td>9.000000</td>\n",
              "      <td>512.329200</td>\n",
              "    </tr>\n",
              "  </tbody>\n",
              "</table>\n",
              "</div>"
            ]
          },
          "metadata": {}
        }
      ],
      "execution_count": 5,
      "metadata": {
        "collapsed": false,
        "outputHidden": false,
        "inputHidden": false
      }
    },
    {
      "cell_type": "markdown",
      "source": [
        "# Correlation"
      ],
      "metadata": {}
    },
    {
      "cell_type": "code",
      "source": [
        "## get the most important variables. \n",
        "corr = train_df.corr()**2\n",
        "corr.Survived.sort_values(ascending=False)"
      ],
      "outputs": [
        {
          "output_type": "execute_result",
          "execution_count": 6,
          "data": {
            "text/plain": [
              "Survived       1.000000\n",
              "Pclass         0.114569\n",
              "Fare           0.066207\n",
              "Parch          0.006663\n",
              "Age            0.005963\n",
              "SibSp          0.001248\n",
              "PassengerId    0.000025\n",
              "Name: Survived, dtype: float64"
            ]
          },
          "metadata": {}
        }
      ],
      "execution_count": 6,
      "metadata": {
        "collapsed": false,
        "outputHidden": false,
        "inputHidden": false
      }
    },
    {
      "cell_type": "code",
      "source": [
        "## heatmeap to see the correlation between features. \n",
        "# Generate a mask for the upper triangle (taken from seaborn example gallery)\n",
        "mask = np.zeros_like(train_df.corr(), dtype=np.bool)\n",
        "mask[np.triu_indices_from(mask)] = True\n",
        "# plot\n",
        "plt.subplots(figsize = (15,12))\n",
        "sns.heatmap(train_df.corr(), \n",
        "            annot=True,\n",
        "            mask = mask,\n",
        "            cmap = 'RdBu_r',\n",
        "            linewidths=0.1, \n",
        "            linecolor='white',\n",
        "            vmax = .9,\n",
        "            square=True)\n",
        "plt.title(\"Correlations Among Features\", y = 1.03,fontsize = 20);"
      ],
      "outputs": [
        {
          "output_type": "display_data",
          "data": {
            "text/plain": [
              "<Figure size 1080x864 with 2 Axes>"
            ],
            "image/png": "[encoded data removed]"
          },
          "metadata": {
            "needs_background": "light"
          }
        }
      ],
      "execution_count": 7,
      "metadata": {
        "collapsed": false,
        "outputHidden": false,
        "inputHidden": false
      }
    },
    {
      "cell_type": "markdown",
      "source": [
        "# Feature statistics"
      ],
      "metadata": {
        "_uuid": "40da3cb9c3bce8a99a7355387656c4675afca7b3"
      }
    },
    {
      "cell_type": "code",
      "source": [
        "# Continuous Data Plot\n",
        "def cont_plot(df, feature_name, target_name, palettemap, hue_order, feature_scale): \n",
        "    df['Counts'] = \"\" # A trick to skip using an axis (either x or y) on splitting violinplot\n",
        "    fig, [axis0,axis1] = plt.subplots(1,2,figsize=(10,5))\n",
        "    sns.distplot(df[feature_name], ax=axis0);\n",
        "    sns.violinplot(x=feature_name, y=\"Counts\", hue=target_name, hue_order=hue_order, data=df,\n",
        "                   palette=palettemap, split=True, orient='h', ax=axis1)\n",
        "    axis1.set_xticks(feature_scale)\n",
        "    plt.show()\n",
        "    # WARNING: This will leave Counts column in dataset if you continues to use this dataset\n",
        "\n",
        "# Categorical/Ordinal Data Plot\n",
        "def cat_plot(df, feature_name, target_name, palettemap): \n",
        "    fig, [axis0,axis1] = plt.subplots(1,2,figsize=(10,5))\n",
        "    df[feature_name].value_counts().plot.pie(autopct='%1.1f%%',ax=axis0)\n",
        "    sns.countplot(x=feature_name, hue=target_name, data=df,\n",
        "                  palette=palettemap,ax=axis1)\n",
        "    plt.show()\n",
        "\n",
        "# Color map for visualization\n",
        "survival_palette = {0: \"black\", 1: \"orange\"} "
      ],
      "outputs": [],
      "execution_count": 8,
      "metadata": {
        "collapsed": false,
        "outputHidden": false,
        "inputHidden": false
      }
    },
    {
      "cell_type": "code",
      "source": [
        "print(train_df[['Pclass', 'Survived']].groupby(['Pclass'], as_index=False).mean().sort_values(by='Survived', ascending=False))\n",
        "cat_plot(train_df, 'Pclass','Survived', survival_palette)"
      ],
      "outputs": [
        {
          "output_type": "stream",
          "name": "stdout",
          "text": [
            "   Pclass  Survived\n",
            "0       1  0.629630\n",
            "1       2  0.472826\n",
            "2       3  0.242363\n"
          ]
        },
        {
          "output_type": "display_data",
          "data": {
            "text/plain": [
              "<Figure size 720x360 with 2 Axes>"
            ],
            "image/png": "[encoded data removed]"
          },
          "metadata": {
            "needs_background": "light"
          }
        }
      ],
      "execution_count": 9,
      "metadata": {
        "outputHidden": false,
        "inputHidden": false,
        "trusted": false,
        "_uuid": "9ecfd06bbce8eabb8d88077863e98960c3f7fcd6"
      }
    },
    {
      "cell_type": "code",
      "source": [
        "# Kernel Density Plot\n",
        "fig = plt.figure(figsize=(15,8),)\n",
        "## I have included to different ways to code a plot below, choose the one that suites you. \n",
        "ax=sns.kdeplot(train_df.Pclass[train_df.Survived == 0] , \n",
        "               color='gray',\n",
        "               shade=True,\n",
        "               label='not survived')\n",
        "ax=sns.kdeplot(train_df.loc[(train_df['Survived'] == 1),'Pclass'] , \n",
        "               color='g',\n",
        "               shade=True, \n",
        "               label='survived')\n",
        "plt.title('Passenger Class Distribution - Survived vs Non-Survived', fontsize = 25)\n",
        "plt.ylabel(\"Frequency of Passenger Survived\", fontsize = 15)\n",
        "plt.xlabel(\"Passenger Class\", fontsize = 15)\n",
        "## Converting xticks into words for better understanding\n",
        "labels = ['Upper', 'Middle', 'Lower']\n",
        "plt.xticks(sorted(train_df.Pclass.unique()), labels);"
      ],
      "outputs": [
        {
          "output_type": "display_data",
          "data": {
            "text/plain": [
              "<Figure size 1080x576 with 1 Axes>"
            ],
            "image/png": "[encoded data removed]"
          },
          "metadata": {
            "needs_background": "light"
          }
        }
      ],
      "execution_count": 10,
      "metadata": {
        "collapsed": false,
        "outputHidden": false,
        "inputHidden": false
      }
    },
    {
      "cell_type": "code",
      "source": [
        "print(train_df[[\"Sex\", \"Survived\"]].groupby(['Sex'], as_index=False).mean().sort_values(by='Survived', ascending=False))\n",
        "cat_plot(train_df, 'Sex','Survived', survival_palette)"
      ],
      "outputs": [
        {
          "output_type": "stream",
          "name": "stdout",
          "text": [
            "      Sex  Survived\n",
            "0  female  0.742038\n",
            "1    male  0.188908\n"
          ]
        },
        {
          "output_type": "display_data",
          "data": {
            "text/plain": [
              "<Figure size 720x360 with 2 Axes>"
            ],
            "image/png": "[encoded data removed]"
          },
          "metadata": {
            "needs_background": "light"
          }
        }
      ],
      "execution_count": 11,
      "metadata": {
        "outputHidden": false,
        "inputHidden": false,
        "trusted": false,
        "_uuid": "b99f11fdb8ac911341cde71048615e68be1a66c0"
      }
    },
    {
      "cell_type": "code",
      "source": [
        "age_set_nonan = train_df[['Age','Survived']].copy().dropna(axis=0)\n",
        "cont_plot(age_set_nonan, 'Age', 'Survived', survival_palette, [1, 0], range(0,100,10))"
      ],
      "outputs": [
        {
          "output_type": "display_data",
          "data": {
            "text/plain": [
              "<Figure size 720x360 with 2 Axes>"
            ],
            "image/png": "[encoded data removed]"
          },
          "metadata": {
            "needs_background": "light"
          }
        }
      ],
      "execution_count": 12,
      "metadata": {
        "collapsed": false,
        "outputHidden": false,
        "inputHidden": false
      }
    },
    {
      "cell_type": "code",
      "source": [
        "print(train_df[[\"SibSp\", \"Survived\"]].groupby(['SibSp'], as_index=False).mean().sort_values(by='Survived', ascending=False))\n",
        "cat_plot(train_df, 'SibSp','Survived', survival_palette)"
      ],
      "outputs": [
        {
          "output_type": "stream",
          "name": "stdout",
          "text": [
            "   SibSp  Survived\n",
            "1      1  0.535885\n",
            "2      2  0.464286\n",
            "0      0  0.345395\n",
            "3      3  0.250000\n",
            "4      4  0.166667\n",
            "5      5  0.000000\n",
            "6      8  0.000000\n"
          ]
        },
        {
          "output_type": "display_data",
          "data": {
            "text/plain": [
              "<Figure size 720x360 with 2 Axes>"
            ],
            "image/png": "[encoded data removed]"
          },
          "metadata": {
            "needs_background": "light"
          }
        }
      ],
      "execution_count": 13,
      "metadata": {
        "outputHidden": false,
        "inputHidden": false,
        "trusted": false,
        "_uuid": "998496fa2e6536b38230ea3e42e62f81dc2c5305"
      }
    },
    {
      "cell_type": "code",
      "source": [
        "print(train_df[[\"Parch\", \"Survived\"]].groupby(['Parch'], as_index=False).mean().sort_values(by='Survived', ascending=False))\n",
        "cat_plot(train_df, 'Parch','Survived', survival_palette)"
      ],
      "outputs": [
        {
          "output_type": "stream",
          "name": "stdout",
          "text": [
            "   Parch  Survived\n",
            "3      3  0.600000\n",
            "1      1  0.550847\n",
            "2      2  0.500000\n",
            "0      0  0.343658\n",
            "5      5  0.200000\n",
            "4      4  0.000000\n",
            "6      6  0.000000\n"
          ]
        },
        {
          "output_type": "display_data",
          "data": {
            "text/plain": [
              "<Figure size 720x360 with 2 Axes>"
            ],
            "image/png": "[encoded data removed]"
          },
          "metadata": {
            "needs_background": "light"
          }
        }
      ],
      "execution_count": 14,
      "metadata": {
        "outputHidden": false,
        "inputHidden": false,
        "trusted": false,
        "_uuid": "931ee99209eced90b9090cb24b75d9a1830da909"
      }
    },
    {
      "cell_type": "code",
      "source": [
        "# Copy dataframe so method won't leave Counts column in train_df\n",
        "fare_set = train_df[['Fare','Survived']].copy()\n",
        "cont_plot(fare_set, 'Fare', 'Survived', survival_palette, [1, 0], range(0,550,50))"
      ],
      "outputs": [
        {
          "output_type": "display_data",
          "data": {
            "text/plain": [
              "<Figure size 720x360 with 2 Axes>"
            ],
            "image/png": "[encoded data removed]"
          },
          "metadata": {
            "needs_background": "light"
          }
        }
      ],
      "execution_count": 15,
      "metadata": {
        "collapsed": false,
        "outputHidden": false,
        "inputHidden": false
      }
    },
    {
      "cell_type": "code",
      "source": [
        "# Fare zoom-in to check\n",
        "fare_set_mod = train_df[['Fare','Survived']].copy()\n",
        "fare_set_mod['Counts'] = \"\" \n",
        "fig, axis = plt.subplots(1,1,figsize=(10,5))\n",
        "sns.violinplot(x='Fare', y=\"Counts\", hue='Survived', hue_order=[1, 0], data=fare_set_mod,\n",
        "               palette=survival_palette, split=True, orient='h', ax=axis)\n",
        "axis.set_xticks(range(0,100,10))\n",
        "axis.set_xlim(-20,100)\n",
        "plt.show()"
      ],
      "outputs": [
        {
          "output_type": "display_data",
          "data": {
            "text/plain": [
              "<Figure size 720x360 with 1 Axes>"
            ],
            "image/png": "[encoded data removed]"
          },
          "metadata": {
            "needs_background": "light"
          }
        }
      ],
      "execution_count": 16,
      "metadata": {
        "collapsed": false,
        "outputHidden": false,
        "inputHidden": false
      }
    },
    {
      "cell_type": "code",
      "source": [
        "emb_set_nonan = train_df[['Embarked','Survived']].copy().dropna(axis=0)\n",
        "cat_plot(train_df, 'Embarked','Survived', survival_palette)"
      ],
      "outputs": [
        {
          "output_type": "display_data",
          "data": {
            "text/plain": [
              "<Figure size 720x360 with 2 Axes>"
            ],
            "image/png": "[encoded data removed]"
          },
          "metadata": {
            "needs_background": "light"
          }
        }
      ],
      "execution_count": 17,
      "metadata": {
        "collapsed": false,
        "outputHidden": false,
        "inputHidden": false
      }
    },
    {
      "cell_type": "markdown",
      "source": [
        "# Preprocess data"
      ],
      "metadata": {
        "_uuid": "b6f56b8614446958e9c0835eb06c3bbbbb79b386"
      }
    },
    {
      "cell_type": "code",
      "source": [
        "from sklearn.preprocessing import LabelEncoder\n",
        "from sklearn.preprocessing import StandardScaler"
      ],
      "outputs": [],
      "execution_count": 18,
      "metadata": {
        "collapsed": false,
        "outputHidden": false,
        "inputHidden": false
      }
    },
    {
      "cell_type": "markdown",
      "source": [
        "## Data cleaning"
      ],
      "metadata": {
        "_uuid": "089bc4c26d77e220d9b423d2292aa36b8336f1bf"
      }
    },
    {
      "cell_type": "code",
      "source": [
        "# SibSp and Parch\n",
        "\"\"\"\n",
        "With the number of siblings/spouse and the number of children/parents we can create new feature called Family Size.\n",
        "\"\"\"\n",
        "for dataset in full_df:\n",
        "    dataset['FamilySize'] = dataset['SibSp'] + dataset['Parch'] + 1\n",
        "print (train_df[['FamilySize', 'Survived']].groupby(['FamilySize'], as_index=False).mean().sort_values(by='Survived', ascending=False))"
      ],
      "outputs": [
        {
          "output_type": "stream",
          "name": "stdout",
          "text": [
            "   FamilySize  Survived\n",
            "3           4  0.724138\n",
            "2           3  0.578431\n",
            "1           2  0.552795\n",
            "6           7  0.333333\n",
            "0           1  0.303538\n",
            "4           5  0.200000\n",
            "5           6  0.136364\n",
            "7           8  0.000000\n",
            "8          11  0.000000\n"
          ]
        }
      ],
      "execution_count": 19,
      "metadata": {
        "outputHidden": false,
        "inputHidden": false,
        "trusted": false,
        "_uuid": "a8eaed0a9d64d57c154c3ade7ead44932f38931c"
      }
    },
    {
      "cell_type": "code",
      "source": [
        "\"\"\"\n",
        "It seems has a good effect on our prediction but let's go further and categorize people to check whether they are alone in this ship or not.\n",
        "\"\"\"\n",
        "for dataset in full_df:\n",
        "    dataset['IsAlone'] = 0\n",
        "    dataset.loc[dataset['FamilySize'] == 1, 'IsAlone'] = 1\n",
        "print (train_df[['IsAlone', 'Survived']].groupby(['IsAlone'], as_index=False).mean().sort_values(by='Survived', ascending=False))"
      ],
      "outputs": [
        {
          "output_type": "stream",
          "name": "stdout",
          "text": [
            "   IsAlone  Survived\n",
            "0        0  0.505650\n",
            "1        1  0.303538\n"
          ]
        }
      ],
      "execution_count": 20,
      "metadata": {
        "collapsed": false,
        "outputHidden": false,
        "inputHidden": false
      }
    },
    {
      "cell_type": "code",
      "source": [
        "# Embarked\n",
        "\"\"\"\n",
        "The embarked feature has some missing value. and we try to fill those with the most occurred value ( 'S' ).\n",
        "\"\"\"\n",
        "for dataset in full_df:\n",
        "    dataset['Embarked'] = dataset['Embarked'].fillna('S')\n",
        "print (train_df[['Embarked', 'Survived']].groupby(['Embarked'], as_index=False).mean())"
      ],
      "outputs": [
        {
          "output_type": "stream",
          "name": "stdout",
          "text": [
            "  Embarked  Survived\n",
            "0        C  0.553571\n",
            "1        Q  0.389610\n",
            "2        S  0.339009\n"
          ]
        }
      ],
      "execution_count": 21,
      "metadata": {
        "outputHidden": false,
        "inputHidden": false,
        "trusted": false,
        "_uuid": "dd9f626cec221ead13799ca4b80cef84504a4d3c"
      }
    },
    {
      "cell_type": "code",
      "source": [
        "# Cabin\n",
        "\"\"\"\n",
        "Separate cabin to 0 for NaN, otherwise to 1\n",
        "\"\"\"\n",
        "for dataset in full_df:\n",
        "#     dataset['Cabin'][pd.notna(dataset['Cabin'])] = 1\n",
        "#     dataset['Cabin'] = dataset['Cabin'].fillna(0)\n",
        "#     or\n",
        "    dataset['Cabin'] = dataset['Cabin'].notnull().astype(int)\n",
        "print (train_df[['Cabin', 'Survived']].groupby(['Cabin'], as_index=False).mean())"
      ],
      "outputs": [
        {
          "output_type": "stream",
          "name": "stdout",
          "text": [
            "   Cabin  Survived\n",
            "0      0  0.299854\n",
            "1      1  0.666667\n"
          ]
        }
      ],
      "execution_count": 22,
      "metadata": {
        "collapsed": false,
        "outputHidden": false,
        "inputHidden": false
      }
    },
    {
      "cell_type": "code",
      "source": [
        "# Fare\n",
        "\"\"\"\n",
        "Fare also has some missing value and we will replace it with the median. then we categorize it into 4 ranges.\n",
        "\"\"\"\n",
        "for dataset in full_df:\n",
        "    dataset['Fare'] = dataset['Fare'].fillna(train_df['Fare'].median())\n",
        "train_df['CategoricalFare'] = pd.qcut(train_df['Fare'], 4)\n",
        "print (train_df[['CategoricalFare', 'Survived']].groupby(['CategoricalFare'], as_index=False).mean())"
      ],
      "outputs": [
        {
          "output_type": "stream",
          "name": "stdout",
          "text": [
            "   CategoricalFare  Survived\n",
            "0   (-0.001, 7.91]  0.197309\n",
            "1   (7.91, 14.454]  0.303571\n",
            "2   (14.454, 31.0]  0.454955\n",
            "3  (31.0, 512.329]  0.581081\n"
          ]
        }
      ],
      "execution_count": 23,
      "metadata": {
        "outputHidden": false,
        "inputHidden": false,
        "trusted": false,
        "_uuid": "50f54fe91d3d1aa88e42210200b01dfa432af851"
      }
    },
    {
      "cell_type": "code",
      "source": [
        "# Title\n",
        "def get_title(name):\n",
        "    title_search = re.search(' ([A-Za-z]+)\\.', name)\n",
        "    # If the title exists, extract and return it.\n",
        "    if title_search:\n",
        "        return title_search.group(1)\n",
        "    return \"\"\n",
        "\n",
        "for dataset in full_df:\n",
        "    dataset['Title'] = dataset['Name'].apply(get_title)\n",
        "\n",
        "pd.crosstab(train_df['Title'], train_df['Sex'])\n",
        "\n",
        "for dataset in full_df:\n",
        "    dataset['Title'] = dataset['Title'].replace(['Lady', 'Countess','Capt', 'Col', 'Don', 'Dr', 'Major', 'Rev', 'Sir', 'Jonkheer', 'Dona'], 'Rare')\n",
        "    dataset['Title'] = dataset['Title'].replace('Mlle', 'Miss')\n",
        "    dataset['Title'] = dataset['Title'].replace('Ms', 'Miss')\n",
        "    dataset['Title'] = dataset['Title'].replace('Mme', 'Mrs')\n",
        "\nprint (train_df[['Title', 'Survived']].groupby(['Title'], as_index=False).mean())"
      ],
      "outputs": [
        {
          "output_type": "stream",
          "name": "stdout",
          "text": [
            "    Title  Survived\n",
            "0  Master  0.575000\n",
            "1    Miss  0.702703\n",
            "2      Mr  0.156673\n",
            "3     Mrs  0.793651\n",
            "4    Rare  0.347826\n"
          ]
        }
      ],
      "execution_count": 24,
      "metadata": {
        "outputHidden": false,
        "inputHidden": false,
        "trusted": false,
        "_uuid": "a659fbfb78b45f98783d9e8891611d13f5531d7d"
      }
    },
    {
      "cell_type": "code",
      "source": [
        "Mean_Age = train_df[['Title','Age']].groupby(['Title'],as_index = False).mean().sort_values(by='Age')\n",
        "sns.barplot(x='Title', y='Age', data=Mean_Age)\n",
        "print(Mean_Age)"
      ],
      "outputs": [
        {
          "output_type": "stream",
          "name": "stdout",
          "text": [
            "    Title        Age\n",
            "0  Master   4.574167\n",
            "1    Miss  21.845638\n",
            "2      Mr  32.368090\n",
            "3     Mrs  35.788991\n",
            "4    Rare  45.545455\n"
          ]
        },
        {
          "output_type": "display_data",
          "data": {
            "text/plain": [
              "<Figure size 432x288 with 1 Axes>"
            ],
            "image/png": "[encoded data removed]"
          },
          "metadata": {
            "needs_background": "light"
          }
        }
      ],
      "execution_count": 25,
      "metadata": {
        "collapsed": false,
        "outputHidden": false,
        "inputHidden": false
      }
    },
    {
      "cell_type": "code",
      "source": [
        "# Age\n",
        "# for dataset in full_df:\n",
        "#     age_avg \t   = dataset['Age'].mean()\n",
        "#     age_std \t   = dataset['Age'].std()\n",
        "#     age_null_count = dataset['Age'].isnull().sum()\n",
        "    \n",
        "#     age_null_random_list = np.random.randint(age_avg - age_std, age_avg + age_std, size=age_null_count)\n",
        "#     dataset['Age'][np.isnan(dataset['Age'])] = age_null_random_list\n",
        "#     dataset['Age'] = dataset['Age'].astype(int)\n",
        "\n",
        "for dataset in full_df:\n",
        "    dataset['Age'] = dataset['Age'].fillna(-1)\n",
        "    \n",
        "for dataset in full_df:\n",
        "    dataset.loc[(dataset['Age'] == -1) &(dataset['Title'] == 'Master'), 'Age'] = 4.57\n",
        "    dataset.loc[(dataset['Age'] == -1) &(dataset['Title'] == 'Miss'), 'Age'] = 21.84\n",
        "    dataset.loc[(dataset['Age'] == -1) &(dataset['Title'] == 'Mr'), 'Age'] = 32.36\n",
        "    dataset.loc[(dataset['Age'] == -1) &(dataset['Title'] == 'Mrs'), 'Age'] = 35.78\n",
        "    dataset.loc[(dataset['Age'] == -1) &(dataset['Title'] == 'Rare'), 'Age'] = 45.54\n",
        "    dataset['Age'] = dataset['Age'].astype(int)   \n",
        "\n",
        "train_df['CategoricalAge'] = pd.cut(train_df['Age'], 5)\n",
        "\nprint (train_df[['CategoricalAge', 'Survived']].groupby(['CategoricalAge'], as_index=False).mean())"
      ],
      "outputs": [
        {
          "output_type": "stream",
          "name": "stdout",
          "text": [
            "  CategoricalAge  Survived\n",
            "0  (-0.08, 16.0]  0.548077\n",
            "1   (16.0, 32.0]  0.328032\n",
            "2   (32.0, 48.0]  0.436275\n",
            "3   (48.0, 64.0]  0.434783\n",
            "4   (64.0, 80.0]  0.090909\n"
          ]
        }
      ],
      "execution_count": 26,
      "metadata": {
        "trusted": false,
        "_uuid": "614d81bb47de9bfaaa08f610a70e38cb2bd3eb02"
      }
    },
    {
      "cell_type": "code",
      "source": [
        "for dataset in full_df:\n",
        "    # Mapping Sex\n",
        "    dataset['Sex'] = dataset['Sex'].map( {'female': 0, 'male': 1} ).astype(int)\n",
        "    \n",
        "    # Mapping titles\n",
        "    title_mapping = {\"Mr\": 1, \"Miss\": 2, \"Mrs\": 3, \"Master\": 4, \"Rare\": 5}\n",
        "    dataset['Title'] = dataset['Title'].map(title_mapping)\n",
        "    dataset['Title'] = dataset['Title'].fillna(0)\n",
        "    \n",
        "    # Mapping Embarked\n",
        "    dataset['Embarked'] = dataset['Embarked'].map( {'S': 0, 'C': 1, 'Q': 2} ).astype(int)\n",
        "    \n",
        "    # Mapping Fare\n",
        "    dataset.loc[ dataset['Fare'] <= 7.91, 'Fare'] \t\t\t\t\t\t        = 0\n",
        "    dataset.loc[(dataset['Fare'] > 7.91) & (dataset['Fare'] <= 14.454), 'Fare'] = 1\n",
        "    dataset.loc[(dataset['Fare'] > 14.454) & (dataset['Fare'] <= 31), 'Fare']   = 2\n",
        "    dataset.loc[ dataset['Fare'] > 31, 'Fare'] \t\t\t\t\t\t\t        = 3\n",
        "    dataset['Fare'] = dataset['Fare'].astype(int)\n",
        "    \n",
        "    # Mapping Age\n",
        "    dataset.loc[ dataset['Age'] <= 16, 'Age'] \t\t\t\t\t       = 0\n",
        "    dataset.loc[(dataset['Age'] > 16) & (dataset['Age'] <= 32), 'Age'] = 1\n",
        "    dataset.loc[(dataset['Age'] > 32) & (dataset['Age'] <= 48), 'Age'] = 2\n",
        "    dataset.loc[(dataset['Age'] > 48) & (dataset['Age'] <= 64), 'Age'] = 3\n",
        "    dataset.loc[ dataset['Age'] > 64, 'Age']                           = 2\n",
        "\n",
        "    \n",
        "# # Normalized\n",
        "# for dataset in full_df:\n",
        "#     for col in ['Pclass', 'Age', 'Fare', 'Cabin', 'Embarked', 'FamilySize', 'Title', 'Sex']:\n",
        "#         dataset[col] = StandardScaler().fit_transform(dataset[col].astype(float).values.reshape(-1, 1))\n",
        "        \n",
        "train_df.head()"
      ],
      "outputs": [
        {
          "output_type": "execute_result",
          "execution_count": 27,
          "data": {
            "text/plain": [
              "   PassengerId  Survived  Pclass  \\\n",
              "0            1         0       3   \n",
              "1            2         1       1   \n",
              "2            3         1       3   \n",
              "3            4         1       1   \n",
              "4            5         0       3   \n",
              "\n",
              "                                                Name  Sex  Age  SibSp  Parch  \\\n",
              "0                            Braund, Mr. Owen Harris    1    1      1      0   \n",
              "1  Cumings, Mrs. John Bradley (Florence Briggs Th...    0    2      1      0   \n",
              "2                             Heikkinen, Miss. Laina    0    1      0      0   \n",
              "3       Futrelle, Mrs. Jacques Heath (Lily May Peel)    0    2      1      0   \n",
              "4                           Allen, Mr. William Henry    1    2      0      0   \n",
              "\n",
              "             Ticket  Fare  Cabin  Embarked  FamilySize  IsAlone  \\\n",
              "0         A/5 21171     0      0         0           2        0   \n",
              "1          PC 17599     3      1         1           2        0   \n",
              "2  STON/O2. 3101282     1      0         0           1        1   \n",
              "3            113803     3      1         0           2        0   \n",
              "4            373450     1      0         0           1        1   \n",
              "\n",
              "   CategoricalFare  Title CategoricalAge  \n",
              "0   (-0.001, 7.91]      1   (16.0, 32.0]  \n",
              "1  (31.0, 512.329]      3   (32.0, 48.0]  \n",
              "2   (7.91, 14.454]      2   (16.0, 32.0]  \n",
              "3  (31.0, 512.329]      3   (32.0, 48.0]  \n",
              "4   (7.91, 14.454]      1   (32.0, 48.0]  "
            ],
            "text/html": [
              "<div>\n",
              "<style scoped>\n",
              "    .dataframe tbody tr th:only-of-type {\n",
              "        vertical-align: middle;\n",
              "    }\n",
              "\n",
              "    .dataframe tbody tr th {\n",
              "        vertical-align: top;\n",
              "    }\n",
              "\n",
              "    .dataframe thead th {\n",
              "        text-align: right;\n",
              "    }\n",
              "</style>\n",
              "<table border=\"1\" class=\"dataframe\">\n",
              "  <thead>\n",
              "    <tr style=\"text-align: right;\">\n",
              "      <th></th>\n",
              "      <th>PassengerId</th>\n",
              "      <th>Survived</th>\n",
              "      <th>Pclass</th>\n",
              "      <th>Name</th>\n",
              "      <th>Sex</th>\n",
              "      <th>Age</th>\n",
              "      <th>SibSp</th>\n",
              "      <th>Parch</th>\n",
              "      <th>Ticket</th>\n",
              "      <th>Fare</th>\n",
              "      <th>Cabin</th>\n",
              "      <th>Embarked</th>\n",
              "      <th>FamilySize</th>\n",
              "      <th>IsAlone</th>\n",
              "      <th>CategoricalFare</th>\n",
              "      <th>Title</th>\n",
              "      <th>CategoricalAge</th>\n",
              "    </tr>\n",
              "  </thead>\n",
              "  <tbody>\n",
              "    <tr>\n",
              "      <th>0</th>\n",
              "      <td>1</td>\n",
              "      <td>0</td>\n",
              "      <td>3</td>\n",
              "      <td>Braund, Mr. Owen Harris</td>\n",
              "      <td>1</td>\n",
              "      <td>1</td>\n",
              "      <td>1</td>\n",
              "      <td>0</td>\n",
              "      <td>A/5 21171</td>\n",
              "      <td>0</td>\n",
              "      <td>0</td>\n",
              "      <td>0</td>\n",
              "      <td>2</td>\n",
              "      <td>0</td>\n",
              "      <td>(-0.001, 7.91]</td>\n",
              "      <td>1</td>\n",
              "      <td>(16.0, 32.0]</td>\n",
              "    </tr>\n",
              "    <tr>\n",
              "      <th>1</th>\n",
              "      <td>2</td>\n",
              "      <td>1</td>\n",
              "      <td>1</td>\n",
              "      <td>Cumings, Mrs. John Bradley (Florence Briggs Th...</td>\n",
              "      <td>0</td>\n",
              "      <td>2</td>\n",
              "      <td>1</td>\n",
              "      <td>0</td>\n",
              "      <td>PC 17599</td>\n",
              "      <td>3</td>\n",
              "      <td>1</td>\n",
              "      <td>1</td>\n",
              "      <td>2</td>\n",
              "      <td>0</td>\n",
              "      <td>(31.0, 512.329]</td>\n",
              "      <td>3</td>\n",
              "      <td>(32.0, 48.0]</td>\n",
              "    </tr>\n",
              "    <tr>\n",
              "      <th>2</th>\n",
              "      <td>3</td>\n",
              "      <td>1</td>\n",
              "      <td>3</td>\n",
              "      <td>Heikkinen, Miss. Laina</td>\n",
              "      <td>0</td>\n",
              "      <td>1</td>\n",
              "      <td>0</td>\n",
              "      <td>0</td>\n",
              "      <td>STON/O2. 3101282</td>\n",
              "      <td>1</td>\n",
              "      <td>0</td>\n",
              "      <td>0</td>\n",
              "      <td>1</td>\n",
              "      <td>1</td>\n",
              "      <td>(7.91, 14.454]</td>\n",
              "      <td>2</td>\n",
              "      <td>(16.0, 32.0]</td>\n",
              "    </tr>\n",
              "    <tr>\n",
              "      <th>3</th>\n",
              "      <td>4</td>\n",
              "      <td>1</td>\n",
              "      <td>1</td>\n",
              "      <td>Futrelle, Mrs. Jacques Heath (Lily May Peel)</td>\n",
              "      <td>0</td>\n",
              "      <td>2</td>\n",
              "      <td>1</td>\n",
              "      <td>0</td>\n",
              "      <td>113803</td>\n",
              "      <td>3</td>\n",
              "      <td>1</td>\n",
              "      <td>0</td>\n",
              "      <td>2</td>\n",
              "      <td>0</td>\n",
              "      <td>(31.0, 512.329]</td>\n",
              "      <td>3</td>\n",
              "      <td>(32.0, 48.0]</td>\n",
              "    </tr>\n",
              "    <tr>\n",
              "      <th>4</th>\n",
              "      <td>5</td>\n",
              "      <td>0</td>\n",
              "      <td>3</td>\n",
              "      <td>Allen, Mr. William Henry</td>\n",
              "      <td>1</td>\n",
              "      <td>2</td>\n",
              "      <td>0</td>\n",
              "      <td>0</td>\n",
              "      <td>373450</td>\n",
              "      <td>1</td>\n",
              "      <td>0</td>\n",
              "      <td>0</td>\n",
              "      <td>1</td>\n",
              "      <td>1</td>\n",
              "      <td>(7.91, 14.454]</td>\n",
              "      <td>1</td>\n",
              "      <td>(32.0, 48.0]</td>\n",
              "    </tr>\n",
              "  </tbody>\n",
              "</table>\n",
              "</div>"
            ]
          },
          "metadata": {}
        }
      ],
      "execution_count": 27,
      "metadata": {
        "outputHidden": false,
        "inputHidden": false,
        "trusted": false,
        "_uuid": "e8c65cb21f773844066ee3b816328b099b6550e7"
      }
    },
    {
      "cell_type": "markdown",
      "source": [
        "# Outlier detection"
      ],
      "metadata": {}
    },
    {
      "cell_type": "code",
      "source": [
        "from sklearn.metrics import roc_auc_score\n",
        "from lightgbm import LGBMClassifier\n",
        "import lightgbm as lgb\n",
        "\n",
        "def get_feature_importances(data):\n",
        "    data = data.copy()\n",
        "    target_col_name = 'Survived'\n",
        "    not_features = [target_col_name, 'PassengerId']\n",
        "    # Gather real features\n",
        "    valid_data_feature = data.select_dtypes(exclude=['object', 'category'])\n",
        "    train_features = [f for f in valid_data_feature if f not in not_features]\n",
        "    # Go over fold and keep track of CV score (train and valid) and feature importances\n",
        "    y = data[target_col_name].copy()\n",
        "    # Fit LightGBM in RF mode, yes it's quicker than sklearn RandomForest\n",
        "    dtrain = lgb.Dataset(data[train_features], y, free_raw_data=False, silent=True)\n",
        "    lgb_params = {\n",
        "        'max_depth': 10,\n",
        "        'n_jobs': 5\n",
        "    }\n",
        "    \n",
        "    # Fit the model\n",
        "    clf = lgb.train(\n",
        "        params=lgb_params, \n",
        "        train_set=dtrain, \n",
        "        num_boost_round=500)\n",
        "\n",
        "    # Get feature importances\n",
        "    imp_df = pd.DataFrame()\n",
        "    imp_df[\"feature\"] = list(train_features)\n",
        "    imp_df[\"importance_gain\"] = clf.feature_importance(importance_type='gain')\n",
        "    imp_df[\"importance_split\"] = clf.feature_importance(importance_type='split')\n",
        "    imp_df['trn_score'] = roc_auc_score(y, clf.predict(data[train_features]))\n",
        "    \n",
        "    return imp_df\n",
        "\n",
        "# Get the actual importance\n",
        "actual_imp_df2 = get_feature_importances(data=train_df).sort_values(by='importance_gain', ascending=False)\n",
        "actual_imp_df2.head(20)"
      ],
      "outputs": [
        {
          "output_type": "stream",
          "name": "stderr",
          "text": [
            "/usr/local/lib/python3.7/site-packages/lightgbm/__init__.py:46: UserWarning: Starting from version 2.2.1, the library file in distribution wheels for macOS is built by the Apple Clang (Xcode_8.3.1) compiler.\n",
            "This means that in case of installing LightGBM from PyPI via the ``pip install lightgbm`` command, you don't need to install the gcc compiler anymore.\n",
            "Instead of that, you need to install the OpenMP library, which is required for running LightGBM on the system with the Apple Clang compiler.\n",
            "You can install the OpenMP library by the following command: ``brew install libomp``.\n",
            "  \"You can install the OpenMP library by the following command: ``brew install libomp``.\", UserWarning)\n"
          ]
        },
        {
          "output_type": "execute_result",
          "execution_count": 28,
          "data": {
            "text/plain": [
              "       feature  importance_gain  importance_split  trn_score\n",
              "10       Title       389.600217              1213   0.950812\n",
              "0       Pclass        93.894535              1305   0.950812\n",
              "8   FamilySize        72.849885              1052   0.950812\n",
              "5         Fare        46.300006              2155   0.950812\n",
              "2          Age        40.331674              2110   0.950812\n",
              "6        Cabin        32.506196               648   0.950812\n",
              "7     Embarked        21.907364              1560   0.950812\n",
              "1          Sex        16.859242              1090   0.950812\n",
              "3        SibSp        16.575063               966   0.950812\n",
              "4        Parch         8.240017               527   0.950812\n",
              "9      IsAlone         0.000000                 0   0.950812"
            ],
            "text/html": [
              "<div>\n",
              "<style scoped>\n",
              "    .dataframe tbody tr th:only-of-type {\n",
              "        vertical-align: middle;\n",
              "    }\n",
              "\n",
              "    .dataframe tbody tr th {\n",
              "        vertical-align: top;\n",
              "    }\n",
              "\n",
              "    .dataframe thead th {\n",
              "        text-align: right;\n",
              "    }\n",
              "</style>\n",
              "<table border=\"1\" class=\"dataframe\">\n",
              "  <thead>\n",
              "    <tr style=\"text-align: right;\">\n",
              "      <th></th>\n",
              "      <th>feature</th>\n",
              "      <th>importance_gain</th>\n",
              "      <th>importance_split</th>\n",
              "      <th>trn_score</th>\n",
              "    </tr>\n",
              "  </thead>\n",
              "  <tbody>\n",
              "    <tr>\n",
              "      <th>10</th>\n",
              "      <td>Title</td>\n",
              "      <td>389.600217</td>\n",
              "      <td>1213</td>\n",
              "      <td>0.950812</td>\n",
              "    </tr>\n",
              "    <tr>\n",
              "      <th>0</th>\n",
              "      <td>Pclass</td>\n",
              "      <td>93.894535</td>\n",
              "      <td>1305</td>\n",
              "      <td>0.950812</td>\n",
              "    </tr>\n",
              "    <tr>\n",
              "      <th>8</th>\n",
              "      <td>FamilySize</td>\n",
              "      <td>72.849885</td>\n",
              "      <td>1052</td>\n",
              "      <td>0.950812</td>\n",
              "    </tr>\n",
              "    <tr>\n",
              "      <th>5</th>\n",
              "      <td>Fare</td>\n",
              "      <td>46.300006</td>\n",
              "      <td>2155</td>\n",
              "      <td>0.950812</td>\n",
              "    </tr>\n",
              "    <tr>\n",
              "      <th>2</th>\n",
              "      <td>Age</td>\n",
              "      <td>40.331674</td>\n",
              "      <td>2110</td>\n",
              "      <td>0.950812</td>\n",
              "    </tr>\n",
              "    <tr>\n",
              "      <th>6</th>\n",
              "      <td>Cabin</td>\n",
              "      <td>32.506196</td>\n",
              "      <td>648</td>\n",
              "      <td>0.950812</td>\n",
              "    </tr>\n",
              "    <tr>\n",
              "      <th>7</th>\n",
              "      <td>Embarked</td>\n",
              "      <td>21.907364</td>\n",
              "      <td>1560</td>\n",
              "      <td>0.950812</td>\n",
              "    </tr>\n",
              "    <tr>\n",
              "      <th>1</th>\n",
              "      <td>Sex</td>\n",
              "      <td>16.859242</td>\n",
              "      <td>1090</td>\n",
              "      <td>0.950812</td>\n",
              "    </tr>\n",
              "    <tr>\n",
              "      <th>3</th>\n",
              "      <td>SibSp</td>\n",
              "      <td>16.575063</td>\n",
              "      <td>966</td>\n",
              "      <td>0.950812</td>\n",
              "    </tr>\n",
              "    <tr>\n",
              "      <th>4</th>\n",
              "      <td>Parch</td>\n",
              "      <td>8.240017</td>\n",
              "      <td>527</td>\n",
              "      <td>0.950812</td>\n",
              "    </tr>\n",
              "    <tr>\n",
              "      <th>9</th>\n",
              "      <td>IsAlone</td>\n",
              "      <td>0.000000</td>\n",
              "      <td>0</td>\n",
              "      <td>0.950812</td>\n",
              "    </tr>\n",
              "  </tbody>\n",
              "</table>\n",
              "</div>"
            ]
          },
          "metadata": {}
        }
      ],
      "execution_count": 28,
      "metadata": {
        "collapsed": false,
        "outputHidden": false,
        "inputHidden": false
      }
    },
    {
      "cell_type": "markdown",
      "source": [
        "## Feature selection"
      ],
      "metadata": {
        "_uuid": "2d9fc91e701078a851f08b626ac0e37b37c52882"
      }
    },
    {
      "cell_type": "code",
      "source": [
        "\"Before\", train_df.shape, test_df.shape, full_df[0].shape, full_df[1].shape"
      ],
      "outputs": [
        {
          "output_type": "execute_result",
          "execution_count": 29,
          "data": {
            "text/plain": [
              "('Before', (891, 17), (418, 14), (891, 17), (418, 14))"
            ]
          },
          "metadata": {}
        }
      ],
      "execution_count": 29,
      "metadata": {
        "trusted": false,
        "_uuid": "49b65bcda510cac525cac4d4b383c9f814cd9ef6"
      }
    },
    {
      "cell_type": "code",
      "source": [
        "# Feature Selection\n",
        "drop_elements = ['PassengerId', 'Name', 'Ticket', 'IsAlone', 'Parch', 'SibSp', 'Embarked']\n",
        "train_df_clean = train_df.drop(drop_elements, axis = 1)\n",
        "train_df_clean = train_df_clean.drop(['CategoricalAge', 'CategoricalFare'], axis = 1)\n",
        "\n",
        "test_df_clean  = test_df.drop(drop_elements, axis = 1)\n",
        "\n",
        "train_df_val = train_df_clean.values\n",
        "test_df_val  = test_df_clean.values\n",
        "\n",
        "# output\n",
        "train_df_clean.head()\n"
      ],
      "outputs": [
        {
          "output_type": "execute_result",
          "execution_count": 30,
          "data": {
            "text/plain": [
              "   Survived  Pclass  Sex  Age  Fare  Cabin  FamilySize  Title\n",
              "0         0       3    1    1     0      0           2      1\n",
              "1         1       1    0    2     3      1           2      3\n",
              "2         1       3    0    1     1      0           1      2\n",
              "3         1       1    0    2     3      1           2      3\n",
              "4         0       3    1    2     1      0           1      1"
            ],
            "text/html": [
              "<div>\n",
              "<style scoped>\n",
              "    .dataframe tbody tr th:only-of-type {\n",
              "        vertical-align: middle;\n",
              "    }\n",
              "\n",
              "    .dataframe tbody tr th {\n",
              "        vertical-align: top;\n",
              "    }\n",
              "\n",
              "    .dataframe thead th {\n",
              "        text-align: right;\n",
              "    }\n",
              "</style>\n",
              "<table border=\"1\" class=\"dataframe\">\n",
              "  <thead>\n",
              "    <tr style=\"text-align: right;\">\n",
              "      <th></th>\n",
              "      <th>Survived</th>\n",
              "      <th>Pclass</th>\n",
              "      <th>Sex</th>\n",
              "      <th>Age</th>\n",
              "      <th>Fare</th>\n",
              "      <th>Cabin</th>\n",
              "      <th>FamilySize</th>\n",
              "      <th>Title</th>\n",
              "    </tr>\n",
              "  </thead>\n",
              "  <tbody>\n",
              "    <tr>\n",
              "      <th>0</th>\n",
              "      <td>0</td>\n",
              "      <td>3</td>\n",
              "      <td>1</td>\n",
              "      <td>1</td>\n",
              "      <td>0</td>\n",
              "      <td>0</td>\n",
              "      <td>2</td>\n",
              "      <td>1</td>\n",
              "    </tr>\n",
              "    <tr>\n",
              "      <th>1</th>\n",
              "      <td>1</td>\n",
              "      <td>1</td>\n",
              "      <td>0</td>\n",
              "      <td>2</td>\n",
              "      <td>3</td>\n",
              "      <td>1</td>\n",
              "      <td>2</td>\n",
              "      <td>3</td>\n",
              "    </tr>\n",
              "    <tr>\n",
              "      <th>2</th>\n",
              "      <td>1</td>\n",
              "      <td>3</td>\n",
              "      <td>0</td>\n",
              "      <td>1</td>\n",
              "      <td>1</td>\n",
              "      <td>0</td>\n",
              "      <td>1</td>\n",
              "      <td>2</td>\n",
              "    </tr>\n",
              "    <tr>\n",
              "      <th>3</th>\n",
              "      <td>1</td>\n",
              "      <td>1</td>\n",
              "      <td>0</td>\n",
              "      <td>2</td>\n",
              "      <td>3</td>\n",
              "      <td>1</td>\n",
              "      <td>2</td>\n",
              "      <td>3</td>\n",
              "    </tr>\n",
              "    <tr>\n",
              "      <th>4</th>\n",
              "      <td>0</td>\n",
              "      <td>3</td>\n",
              "      <td>1</td>\n",
              "      <td>2</td>\n",
              "      <td>1</td>\n",
              "      <td>0</td>\n",
              "      <td>1</td>\n",
              "      <td>1</td>\n",
              "    </tr>\n",
              "  </tbody>\n",
              "</table>\n",
              "</div>"
            ]
          },
          "metadata": {}
        }
      ],
      "execution_count": 30,
      "metadata": {
        "outputHidden": false,
        "inputHidden": false,
        "trusted": false,
        "_uuid": "bed81127e8d20184b9ad201b9d77b77c0f69c665"
      }
    },
    {
      "cell_type": "code",
      "source": [
        "\"After\", train_df_clean.shape, test_df_clean.shape, full_df[0].shape, full_df[1].shape"
      ],
      "outputs": [
        {
          "output_type": "execute_result",
          "execution_count": 31,
          "data": {
            "text/plain": [
              "('After', (891, 8), (418, 7), (891, 17), (418, 14))"
            ]
          },
          "metadata": {}
        }
      ],
      "execution_count": 31,
      "metadata": {
        "outputHidden": false,
        "inputHidden": false,
        "trusted": false,
        "_uuid": "b99556e15fa79b766fd2fa5590373c75ccc7473f"
      }
    },
    {
      "cell_type": "code",
      "source": [
        "# Get the actual importance, i.e. without shuffling\n",
        "actual_imp_df = get_feature_importances(data=train_df_clean).sort_values(by='importance_gain', ascending=False)\n",
        "actual_imp_df.head(20)"
      ],
      "outputs": [
        {
          "output_type": "execute_result",
          "execution_count": 32,
          "data": {
            "text/plain": [
              "      feature  importance_gain  importance_split  trn_score\n",
              "6       Title       386.670923              1223   0.936418\n",
              "0      Pclass        90.480847              1511   0.936418\n",
              "5  FamilySize        86.762885              2268   0.936418\n",
              "3        Fare        43.444381              2490   0.936418\n",
              "2         Age        36.757185              2339   0.936418\n",
              "4       Cabin        30.318964               729   0.936418\n",
              "1         Sex        12.117599              1061   0.936418"
            ],
            "text/html": [
              "<div>\n",
              "<style scoped>\n",
              "    .dataframe tbody tr th:only-of-type {\n",
              "        vertical-align: middle;\n",
              "    }\n",
              "\n",
              "    .dataframe tbody tr th {\n",
              "        vertical-align: top;\n",
              "    }\n",
              "\n",
              "    .dataframe thead th {\n",
              "        text-align: right;\n",
              "    }\n",
              "</style>\n",
              "<table border=\"1\" class=\"dataframe\">\n",
              "  <thead>\n",
              "    <tr style=\"text-align: right;\">\n",
              "      <th></th>\n",
              "      <th>feature</th>\n",
              "      <th>importance_gain</th>\n",
              "      <th>importance_split</th>\n",
              "      <th>trn_score</th>\n",
              "    </tr>\n",
              "  </thead>\n",
              "  <tbody>\n",
              "    <tr>\n",
              "      <th>6</th>\n",
              "      <td>Title</td>\n",
              "      <td>386.670923</td>\n",
              "      <td>1223</td>\n",
              "      <td>0.936418</td>\n",
              "    </tr>\n",
              "    <tr>\n",
              "      <th>0</th>\n",
              "      <td>Pclass</td>\n",
              "      <td>90.480847</td>\n",
              "      <td>1511</td>\n",
              "      <td>0.936418</td>\n",
              "    </tr>\n",
              "    <tr>\n",
              "      <th>5</th>\n",
              "      <td>FamilySize</td>\n",
              "      <td>86.762885</td>\n",
              "      <td>2268</td>\n",
              "      <td>0.936418</td>\n",
              "    </tr>\n",
              "    <tr>\n",
              "      <th>3</th>\n",
              "      <td>Fare</td>\n",
              "      <td>43.444381</td>\n",
              "      <td>2490</td>\n",
              "      <td>0.936418</td>\n",
              "    </tr>\n",
              "    <tr>\n",
              "      <th>2</th>\n",
              "      <td>Age</td>\n",
              "      <td>36.757185</td>\n",
              "      <td>2339</td>\n",
              "      <td>0.936418</td>\n",
              "    </tr>\n",
              "    <tr>\n",
              "      <th>4</th>\n",
              "      <td>Cabin</td>\n",
              "      <td>30.318964</td>\n",
              "      <td>729</td>\n",
              "      <td>0.936418</td>\n",
              "    </tr>\n",
              "    <tr>\n",
              "      <th>1</th>\n",
              "      <td>Sex</td>\n",
              "      <td>12.117599</td>\n",
              "      <td>1061</td>\n",
              "      <td>0.936418</td>\n",
              "    </tr>\n",
              "  </tbody>\n",
              "</table>\n",
              "</div>"
            ]
          },
          "metadata": {}
        }
      ],
      "execution_count": 32,
      "metadata": {
        "collapsed": false,
        "outputHidden": false,
        "inputHidden": false
      }
    },
    {
      "cell_type": "markdown",
      "source": [
        "# Machine learning\n",
        "\n",
        "Now we are ready to train a model and predict the required solution.\n",
        "\n",
        "- KNN or k-Nearest Neighbors\n",
        "- Support Vector Machines\n",
        "- Decision Tree Classifier\n",
        "- Random Forest Classifier\n",
        "- Ada Boost Classifier\n",
        "- Gradient Boosting Classifier\n",
        "- Naive Bayes Classifier\n",
        "- Linear Discriminant Analysis\n",
        "- Quadratic Discriminant Analysis\n",
        "- Logistic Regession\n",
        "- Perceptron\n",
        "- Stochastic Gradient Descent"
      ],
      "metadata": {
        "_uuid": "c4927bfa48cdbf505f5c1d9a866a2c7eab44fdf0"
      }
    },
    {
      "cell_type": "code",
      "source": [
        "# Evaluation\n",
        "from sklearn.model_selection import StratifiedShuffleSplit\n",
        "from sklearn.metrics import accuracy_score, log_loss\n",
        "# Classifier (machine learning algorithm) \n",
        "from sklearn.neighbors import KNeighborsClassifier\n",
        "from sklearn.svm import SVC, LinearSVC\n",
        "from sklearn.tree import DecisionTreeClassifier\n",
        "from sklearn.ensemble import RandomForestClassifier, AdaBoostClassifier, GradientBoostingClassifier\n",
        "from sklearn.naive_bayes import GaussianNB\n",
        "from sklearn.discriminant_analysis import LinearDiscriminantAnalysis, QuadraticDiscriminantAnalysis\n",
        "from sklearn.linear_model import LogisticRegression\n",
        "from sklearn.linear_model import Perceptron\n",
        "from sklearn.linear_model import SGDClassifier\n",
        "from lightgbm import LGBMClassifier\n",
        "\n",
        "classifiers = [\n",
        "    KNeighborsClassifier(n_neighbors=3),\n",
        "    SVC(max_iter=10000, kernel='rbf', gamma=0.7, C=1.0),\n",
        "    LinearSVC(max_iter=10000),\n",
        "    DecisionTreeClassifier(),\n",
        "    RandomForestClassifier(),\n",
        "    AdaBoostClassifier(),\n",
        "    GradientBoostingClassifier(),\n",
        "    GaussianNB(),\n",
        "    LinearDiscriminantAnalysis(),\n",
        "    QuadraticDiscriminantAnalysis(),\n",
        "    LogisticRegression(),\n",
        "    Perceptron(max_iter=100),\n",
        "    SGDClassifier(),\n",
        "    LGBMClassifier()\n",
        "]\n",
        "\n",
        "log_cols = [\"Classifier\", \"Accuracy\"]\n",
        "log      = pd.DataFrame(columns=log_cols)\n",
        "\n",
        "# Config data for classifiers\n",
        "sss = StratifiedShuffleSplit(n_splits=10, test_size=0.1, random_state=0)\n",
        "\n",
        "X = train_df_val[0::, 1::]\n",
        "Y = train_df_val[0::, 0]\n",
        "\n",
        "acc_dict = {}\n",
        "\n",
        "for train_index, test_index in sss.split(X, Y):\n",
        "    X_train, X_test = X[train_index], X[test_index]\n",
        "    Y_train, Y_test = Y[train_index], Y[test_index]\n",
        "    \n",
        "    for clf in classifiers:\n",
        "        name = clf.__class__.__name__\n",
        "        clf.fit(X_train, Y_train)\n",
        "        train_predictions = clf.predict(X_test)\n",
        "        acc = accuracy_score(Y_test, train_predictions)\n",
        "        if name in acc_dict:\n",
        "            acc_dict[name] += acc\n",
        "        else:\n",
        "            acc_dict[name] = acc\n",
        "\n",
        "for clf in acc_dict:\n",
        "    acc_dict[clf] = acc_dict[clf] / 10.0\n",
        "    log_entry = pd.DataFrame([[clf, acc_dict[clf]]], columns=log_cols)\n",
        "    log = log.append(log_entry)\n",
        "\n",
        "# Show plot\n",
        "plt.xlabel('Accuracy')\n",
        "plt.title('Classifier Accuracy')\n",
        "\n",
        "sns.set_color_codes(\"muted\")\n",
        "sns.barplot(x='Accuracy', y='Classifier', data=log, color=\"b\")\n",
        "\n",
        "# Print score\n",
        "models_score = pd.DataFrame({\n",
        "    'Model': list(acc_dict.keys()),\n",
        "    'Score': list(acc_dict.values())}).sort_values(by='Score', ascending=False)\n",
        "print(models_score)\n"
      ],
      "outputs": [
        {
          "output_type": "stream",
          "name": "stdout",
          "text": [
            "                            Model     Score\n",
            "6      GradientBoostingClassifier  0.837778\n",
            "1                             SVC  0.836667\n",
            "13                 LGBMClassifier  0.831111\n",
            "4          RandomForestClassifier  0.824444\n",
            "3          DecisionTreeClassifier  0.823333\n",
            "5              AdaBoostClassifier  0.822222\n",
            "10             LogisticRegression  0.812222\n",
            "9   QuadraticDiscriminantAnalysis  0.801111\n",
            "2                       LinearSVC  0.800000\n",
            "8      LinearDiscriminantAnalysis  0.800000\n",
            "7                      GaussianNB  0.778889\n",
            "12                  SGDClassifier  0.766667\n",
            "0            KNeighborsClassifier  0.761111\n",
            "11                     Perceptron  0.753333\n"
          ]
        },
        {
          "output_type": "display_data",
          "data": {
            "text/plain": [
              "<Figure size 432x288 with 1 Axes>"
            ],
            "image/png": "[encoded data removed]"
          },
          "metadata": {
            "needs_background": "light"
          }
        }
      ],
      "execution_count": 33,
      "metadata": {
        "outputHidden": false,
        "inputHidden": false,
        "trusted": false,
        "_uuid": "ed411303ef3af4aba5f745ceb3c4a3ce394b9b4d"
      }
    },
    {
      "cell_type": "markdown",
      "source": [
        "**Select candidate model**"
      ],
      "metadata": {
        "_uuid": "2cd841703656ee4aa4e356a94f888bc35fd017d3"
      }
    },
    {
      "cell_type": "code",
      "source": [
        "candidate_classifier = classifiers[models_score.head(1).index[0]]\n",
        "print('Candidate classifier: ', candidate_classifier)"
      ],
      "outputs": [
        {
          "output_type": "stream",
          "name": "stdout",
          "text": [
            "Candidate classifier:  GradientBoostingClassifier(criterion='friedman_mse', init=None,\n",
            "              learning_rate=0.1, loss='deviance', max_depth=3,\n",
            "              max_features=None, max_leaf_nodes=None,\n",
            "              min_impurity_decrease=0.0, min_impurity_split=None,\n",
            "              min_samples_leaf=1, min_samples_split=2,\n",
            "              min_weight_fraction_leaf=0.0, n_estimators=100,\n",
            "              n_iter_no_change=None, presort='auto', random_state=None,\n",
            "              subsample=1.0, tol=0.0001, validation_fraction=0.1,\n",
            "              verbose=0, warm_start=False)\n"
          ]
        }
      ],
      "execution_count": 34,
      "metadata": {
        "collapsed": false,
        "outputHidden": false,
        "inputHidden": false
      }
    },
    {
      "cell_type": "markdown",
      "source": [
        "# Prediction"
      ],
      "metadata": {
        "_uuid": "930ca0fe7d9babf3ba90d1d1e3117c7ea168d9c7"
      }
    },
    {
      "cell_type": "code",
      "source": [
        "candidate_classifier.fit(X, Y)\n",
        "predict_res = candidate_classifier.predict(test_df_clean).astype(int)\n",
        "\nprint('Predic finish.', predict_res.shape)"
      ],
      "outputs": [
        {
          "output_type": "stream",
          "name": "stdout",
          "text": [
            "Predic finish. (418,)\n"
          ]
        }
      ],
      "execution_count": 36,
      "metadata": {
        "outputHidden": false,
        "inputHidden": false,
        "trusted": false,
        "_uuid": "fab01c88344a3a01604acf72b4b0595a85596000"
      }
    },
    {
      "cell_type": "markdown",
      "source": [
        "# Export submission"
      ],
      "metadata": {
        "_uuid": "40410bad28f728c7e95ba3901462b4c2f8670e11"
      }
    },
    {
      "cell_type": "code",
      "source": [
        "submission = pd.DataFrame({\n",
        "        \"PassengerId\": test_df[\"PassengerId\"],\n",
        "        \"Survived\": predict_res\n",
        "    })\n",
        "print(submission.head())\n",
        "submission.to_csv('../output/export_submission.csv', index=False)\n"
      ],
      "outputs": [
        {
          "output_type": "stream",
          "name": "stdout",
          "text": [
            "   PassengerId  Survived\n",
            "0          892         0\n",
            "1          893         1\n",
            "2          894         0\n",
            "3          895         0\n",
            "4          896         1\n"
          ]
        }
      ],
      "execution_count": 37,
      "metadata": {
        "outputHidden": false,
        "inputHidden": false,
        "trusted": false,
        "_uuid": "6242f683a4599d5f0951053e8bd7595f8a04f908"
      }
    }
  ],
  "metadata": {
    "kernel_info": {
      "name": "python3"
    },
    "language_info": {
      "name": "python",
      "version": "3.7.1",
      "mimetype": "text/x-python",
      "codemirror_mode": {
        "name": "ipython",
        "version": 3
      },
      "pygments_lexer": "ipython3",
      "nbconvert_exporter": "python",
      "file_extension": ".py"
    },
    "kernelspec": {
      "name": "python3",
      "language": "python",
      "display_name": "Python 3"
    },
    "nteract": {
      "version": "0.12.3"
    }
  },
  "nbformat": 4,
  "nbformat_minor": 1
}